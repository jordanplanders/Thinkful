{
 "cells": [
  {
   "cell_type": "markdown",
   "metadata": {},
   "source": [
    "## Unit 3- Statistics for Data Science"
   ]
  },
  {
   "cell_type": "markdown",
   "metadata": {},
   "source": [
    "### Lesson 3, Section 7- Drill and Practice"
   ]
  },
  {
   "cell_type": "code",
   "execution_count": 1,
   "metadata": {
    "collapsed": true
   },
   "outputs": [],
   "source": [
    "import pandas as pd\n",
    "import numpy as np\n",
    "import matplotlib.pyplot as plt\n",
    "import scipy\n",
    "\n",
    "%matplotlib inline"
   ]
  },
  {
   "cell_type": "code",
   "execution_count": 17,
   "metadata": {
    "collapsed": true
   },
   "outputs": [],
   "source": [
    "from scipy.stats import ttest_ind"
   ]
  },
  {
   "cell_type": "code",
   "execution_count": 88,
   "metadata": {
    "collapsed": false
   },
   "outputs": [],
   "source": [
    "def sampling(_pop1, _pop2, n, plot):\n",
    "    sample1 = np.random.choice(_pop1, n, replace = True)\n",
    "    sample2 = np.random.choice(_pop2, n, replace = True)\n",
    "    \n",
    "    if plot == 'y':\n",
    "        plt.hist(sample1, alpha=.4, label='sample1')\n",
    "        plt.hist(sample2, alpha=.4, label='sample2')\n",
    "        plt.title('random samples, n=100')\n",
    "        plt.legend(loc = 'upper right')\n",
    "\n",
    "        print('mu_1=', sample1.mean(), '\\t sigma_1=', sample1.std())\n",
    "        print('mu_2=', sample2.mean(), '\\t sigma_2=', sample2.std())\n",
    "\n",
    "        y_bar = sample2.mean()-sample1.mean()\n",
    "        se = (sample1.std()**2/n+sample2.std()**2/n)**(1/2)\n",
    "        t_stat = y_bar/se\n",
    "        print('calculated t statistic: ', t_stat)\n",
    "        print(ttest_ind(sample2, sample1, equal_var = False))\n",
    "\n",
    "    p_value = ttest_ind(sample2, sample1, equal_var = False)[1]\n",
    "    return [sample1.mean(), sample1.std(), sample2.mean(), sample2.std(), p_value]"
   ]
  },
  {
   "cell_type": "code",
   "execution_count": 89,
   "metadata": {
    "collapsed": false
   },
   "outputs": [
    {
     "data": {
      "text/plain": [
       "<matplotlib.legend.Legend at 0x10e50fef0>"
      ]
     },
     "execution_count": 89,
     "metadata": {},
     "output_type": "execute_result"
    },
    {
     "data": {
      "image/png": "[encoded data removed]",
      "text/plain": [
       "<matplotlib.figure.Figure at 0x10e58c358>"
      ]
     },
     "metadata": {},
     "output_type": "display_data"
    }
   ],
   "source": [
    "pop1 = np.random.binomial(10, .2, 10000)\n",
    "pop2 = np.random.binomial(10, .5, 10000)\n",
    "\n",
    "plt.hist(pop1, alpha = .4, label ='Pop1, p = .2')\n",
    "plt.hist(pop2, alpha = .4, label ='Pop2, p = .5')\n",
    "plt.legend(loc = 'upper right')"
   ]
  },
  {
   "cell_type": "code",
   "execution_count": 90,
   "metadata": {
    "collapsed": false
   },
   "outputs": [
    {
     "name": "stdout",
     "output_type": "stream",
     "text": [
      "mu_1= 2.092 \t sigma_1= 1.27182388718\n",
      "mu_2= 4.959 \t sigma_2= 1.65508881937\n",
      "calculated t statistic:  43.4351314032\n",
      "Ttest_indResult(statistic=43.413408405403956, pvalue=1.5727744076110539e-285)\n"
     ]
    },
    {
     "data": {
      "image/png": "[encoded data removed]",
      "text/plain": [
       "<matplotlib.figure.Figure at 0x10e35d550>"
      ]
     },
     "metadata": {},
     "output_type": "display_data"
    }
   ],
   "source": [
    "stats = sampling(pop1, pop2, 1000, 'y')"
   ]
  },
  {
   "cell_type": "code",
   "execution_count": 91,
   "metadata": {
    "collapsed": false
   },
   "outputs": [
    {
     "name": "stdout",
     "output_type": "stream",
     "text": [
      "mu_1= 2.03 \t sigma_1= 1.29193653095\n",
      "mu_2= 5.1 \t sigma_2= 1.62172747402\n",
      "calculated t statistic:  14.8064042291\n",
      "Ttest_indResult(statistic=14.732186196714975, pvalue=3.4251350554869045e-33)\n"
     ]
    },
    {
     "data": {
      "image/png": "[encoded data removed]",
      "text/plain": [
       "<matplotlib.figure.Figure at 0x10f09a710>"
      ]
     },
     "metadata": {},
     "output_type": "display_data"
    }
   ],
   "source": [
    "stats = sampling(pop1, pop2, 100, 'y')"
   ]
  },
  {
   "cell_type": "code",
   "execution_count": 92,
   "metadata": {
    "collapsed": false
   },
   "outputs": [
    {
     "name": "stdout",
     "output_type": "stream",
     "text": [
      "mu_1= 1.7 \t sigma_1= 0.953939201417\n",
      "mu_2= 5.45 \t sigma_2= 1.32193040664\n",
      "calculated t statistic:  10.2874948062\n",
      "Ttest_indResult(statistic=10.027009619976281, pvalue=9.0675353562395378e-12)\n"
     ]
    },
    {
     "data": {
      "image/png": "[encoded data removed]",
      "text/plain": [
       "<matplotlib.figure.Figure at 0x10f12f1d0>"
      ]
     },
     "metadata": {},
     "output_type": "display_data"
    }
   ],
   "source": [
    "stats = sampling(pop1, pop2, 20, 'y')"
   ]
  },
  {
   "cell_type": "markdown",
   "metadata": {},
   "source": [
    "The mean and standard deviation vary more as n decreases (which makes sense given an outlier has proportionally more clout in a smaller sample), and the t-statistic and p-value decrease (though in theory, an anomolous sampling could cause the n=20 run to have large t and p values)."
   ]
  },
  {
   "cell_type": "code",
   "execution_count": 93,
   "metadata": {
    "collapsed": false
   },
   "outputs": [],
   "source": [
    "def stats_on_stats(m,n):\n",
    "    rows = []\n",
    "    for ik in range(m):\n",
    "        rows.append(sampling(pop1, pop2, n, 'n'))\n",
    "\n",
    "    df = pd.DataFrame(rows)\n",
    "    df = df.rename(index = str,columns= {0:'mean1', 1:'std1', 2:'mean2', 3:'std2', 4:'pvalue'})\n",
    "    print(df.aggregate(np.mean))\n",
    "    print(df.aggregate(np.std))\n",
    "    return df"
   ]
  },
  {
   "cell_type": "code",
   "execution_count": 95,
   "metadata": {
    "collapsed": false
   },
   "outputs": [
    {
     "name": "stdout",
     "output_type": "stream",
     "text": [
      "mean1      1.988530e+00\n",
      "std1       1.248353e+00\n",
      "mean2      5.021710e+00\n",
      "std2       1.614674e+00\n",
      "pvalue    9.835771e-291\n",
      "dtype: float64\n",
      "mean1     0.038365\n",
      "std1      0.027598\n",
      "mean2     0.051399\n",
      "std2      0.032943\n",
      "pvalue    0.000000\n",
      "dtype: float64\n"
     ]
    }
   ],
   "source": [
    "df_1000 = stats_on_stats(100,1000)"
   ]
  },
  {
   "cell_type": "code",
   "execution_count": 96,
   "metadata": {
    "collapsed": false
   },
   "outputs": [
    {
     "name": "stdout",
     "output_type": "stream",
     "text": [
      "mean1     1.974600e+00\n",
      "std1      1.227212e+00\n",
      "mean2     5.047100e+00\n",
      "std2      1.594228e+00\n",
      "pvalue    4.960188e-27\n",
      "dtype: float64\n",
      "mean1     1.163909e-01\n",
      "std1      8.098688e-02\n",
      "mean2     1.488979e-01\n",
      "std2      1.083910e-01\n",
      "pvalue    4.301444e-26\n",
      "dtype: float64\n"
     ]
    }
   ],
   "source": [
    "df_100 = stats_on_stats(100,100)"
   ]
  },
  {
   "cell_type": "code",
   "execution_count": 97,
   "metadata": {
    "collapsed": false
   },
   "outputs": [
    {
     "name": "stdout",
     "output_type": "stream",
     "text": [
      "mean1     2.031500\n",
      "std1      1.230207\n",
      "mean2     5.020000\n",
      "std2      1.533985\n",
      "pvalue    0.000046\n",
      "dtype: float64\n",
      "mean1     0.258907\n",
      "std1      0.189907\n",
      "mean2     0.406633\n",
      "std2      0.232683\n",
      "pvalue    0.000329\n",
      "dtype: float64\n"
     ]
    }
   ],
   "source": [
    "df_20 = stats_on_stats(100,20)"
   ]
  },
  {
   "cell_type": "code",
   "execution_count": 101,
   "metadata": {
    "collapsed": false
   },
   "outputs": [
    {
     "data": {
      "text/plain": [
       "<matplotlib.legend.Legend at 0x10e49d588>"
      ]
     },
     "execution_count": 101,
     "metadata": {},
     "output_type": "execute_result"
    },
    {
     "data": {
      "image/png": "[encoded data removed]",
      "text/plain": [
       "<matplotlib.figure.Figure at 0x10e49d630>"
      ]
     },
     "metadata": {},
     "output_type": "display_data"
    }
   ],
   "source": [
    "plt.hist(df_1000['mean1'], alpha= .3, label='n=1000')\n",
    "plt.hist(df_100['mean1'], alpha= .3, label='n=100')\n",
    "plt.hist(df_20['mean1'], alpha = .3, label='n=20')\n",
    "plt.legend(loc = 'upper right')\n",
    "plt.title('mean1')"
   ]
  },
  {
   "cell_type": "code",
   "execution_count": 102,
   "metadata": {
    "collapsed": false
   },
   "outputs": [
    {
     "data": {
      "text/plain": [
       "<matplotlib.text.Text at 0x10f35d6d8>"
      ]
     },
     "execution_count": 102,
     "metadata": {},
     "output_type": "execute_result"
    },
    {
     "data": {
      "image/png": "[encoded data removed]",
      "text/plain": [
       "<matplotlib.figure.Figure at 0x10f2f7748>"
      ]
     },
     "metadata": {},
     "output_type": "display_data"
    }
   ],
   "source": [
    "plt.hist(df_1000['std1'], alpha= .3, label='n=1000')\n",
    "plt.hist(df_100['std1'], alpha= .3, label='n=100')\n",
    "plt.hist(df_20['std1'], alpha = .3, label='n=20')\n",
    "plt.legend(loc = 'upper right')\n",
    "plt.title('std1')"
   ]
  },
  {
   "cell_type": "code",
   "execution_count": 103,
   "metadata": {
    "collapsed": false
   },
   "outputs": [
    {
     "data": {
      "text/plain": [
       "<matplotlib.text.Text at 0x10e45b4e0>"
      ]
     },
     "execution_count": 103,
     "metadata": {},
     "output_type": "execute_result"
    },
    {
     "data": {
      "image/png": "[encoded data removed]",
      "text/plain": [
       "<matplotlib.figure.Figure at 0x10f3bb470>"
      ]
     },
     "metadata": {},
     "output_type": "display_data"
    }
   ],
   "source": [
    "plt.hist(df_1000['pvalue'], alpha= .3, label='n=1000')\n",
    "plt.hist(df_100['pvalue'], alpha= .3, label='n=100')\n",
    "plt.hist(df_20['pvalue'], alpha = .3, label='n=20')\n",
    "plt.legend(loc = 'upper right')\n",
    "plt.title('pvalue')"
   ]
  },
  {
   "cell_type": "markdown",
   "metadata": {},
   "source": [
    "There is more variation in the statistics as n decreases, which makes sense given that outliers have more clout in small sample sizes, and p values increase, which also makes sense because depending on the sampling at n=20 two populations could be randomly chosen to overlap more and thus have a p-value that reflects a higher probability that they were picked from the same parent population "
   ]
  },
  {
   "cell_type": "code",
   "execution_count": null,
   "metadata": {
    "collapsed": true
   },
   "outputs": [],
   "source": []
  },
  {
   "cell_type": "code",
   "execution_count": 11,
   "metadata": {
    "collapsed": false
   },
   "outputs": [
    {
     "name": "stdout",
     "output_type": "stream",
     "text": [
      "14.9641290838\n"
     ]
    }
   ],
   "source": [
    "means = np.array([sample2.mean(), sample1.mean()])\n",
    "sd = np.array([sample2.std(), sample1.std()])\n",
    "size = np.array([len(sample2), len(sample1)])\n",
    "\n",
    "se = (sum(sd **2 /size) )**(1/2)\n",
    "t_stat = (sample2.mean()-sample1.mean())/se\n",
    "print(t_stat)"
   ]
  }
 ],
 "metadata": {
  "kernelspec": {
   "display_name": "please_work3",
   "language": "python",
   "name": "please_work3"
  },
  "language_info": {
   "codemirror_mode": {
    "name": "ipython",
    "version": 3
   },
   "file_extension": ".py",
   "mimetype": "text/x-python",
   "name": "python",
   "nbconvert_exporter": "python",
   "pygments_lexer": "ipython3",
   "version": "3.6.2"
  }
 },
 "nbformat": 4,
 "nbformat_minor": 2
}
