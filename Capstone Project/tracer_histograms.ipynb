{
 "cells": [
  {
   "cell_type": "code",
   "execution_count": 1,
   "metadata": {},
   "outputs": [],
   "source": [
    "from chem_ocean.ocean_data import dataFetcher"
   ]
  },
  {
   "cell_type": "code",
   "execution_count": 9,
   "metadata": {},
   "outputs": [],
   "source": [
    "import matplotlib.pyplot as plt\n",
    "%matplotlib inline"
   ]
  },
  {
   "cell_type": "code",
   "execution_count": 13,
   "metadata": {},
   "outputs": [],
   "source": [
    "import numpy as np"
   ]
  },
  {
   "cell_type": "code",
   "execution_count": 19,
   "metadata": {},
   "outputs": [],
   "source": [
    "path = 'raw_demo_plots/histograms/'"
   ]
  },
  {
   "cell_type": "code",
   "execution_count": 20,
   "metadata": {},
   "outputs": [],
   "source": [
    "tracer = 'phosphate'\n",
    "_in_var_names = [tracer]\n",
    "sum_names = ['station', 'longitude', 'latitude', 'depth'] + _in_var_names\n",
    "cols = ', '.join(sum_names)\n",
    "_x_var = 'longitude'\n",
    "_y_var = 'latitude'\n",
    "\n",
    "query = 'SELECT '+ cols+' FROM woa13'\n",
    "\n",
    "dataset = dataFetcher()\n",
    "dataset.return_from_psql(query, sum_names, _in_var_names, _x_var, _y_var)"
   ]
  },
  {
   "cell_type": "code",
   "execution_count": 22,
   "metadata": {},
   "outputs": [
    {
     "data": {
      "image/png": "[encoded data removed]",
      "text/plain": [
       "<matplotlib.figure.Figure at 0x1072ea390>"
      ]
     },
     "metadata": {},
     "output_type": "display_data"
    }
   ],
   "source": [
    "n, bins, patches = plt.hist(dataset._feat_data, 100, color = 'green', alpha = .7)\n",
    "plt.xlim([-.5, 4.5])\n",
    "\n",
    "name1 = tracer+'_alldata'\n",
    "plt.savefig(path+name1+'.png', dpi=None, facecolor='w', edgecolor='w',\n",
    "        orientation='portrait', papertype=None, format=None,\n",
    "        transparent=False, bbox_inches=None, pad_inches=0.1,\n",
    "        frameon=None)"
   ]
  },
  {
   "cell_type": "code",
   "execution_count": 23,
   "metadata": {},
   "outputs": [
    {
     "data": {
      "text/plain": [
       "11.6205"
      ]
     },
     "execution_count": 23,
     "metadata": {},
     "output_type": "execute_result"
    }
   ],
   "source": [
    "np.max(dataset._feat_data)"
   ]
  },
  {
   "cell_type": "code",
   "execution_count": 32,
   "metadata": {},
   "outputs": [],
   "source": [
    "tracer = 'salinity'\n",
    "_in_var_names = [tracer]\n",
    "sum_names = ['station', 'longitude', 'latitude', 'depth'] + _in_var_names\n",
    "cols = ', '.join(sum_names)\n",
    "_x_var = 'longitude'\n",
    "_y_var = 'latitude'\n",
    "\n",
    "query = 'SELECT '+ cols+' FROM woa13'\n",
    "\n",
    "dataset = dataFetcher()\n",
    "dataset.return_from_psql(query, sum_names, _in_var_names, _x_var, _y_var)"
   ]
  },
  {
   "cell_type": "code",
   "execution_count": 33,
   "metadata": {},
   "outputs": [
    {
     "data": {
      "image/png": "[encoded data removed]",
      "text/plain": [
       "<matplotlib.figure.Figure at 0x12b48a160>"
      ]
     },
     "metadata": {},
     "output_type": "display_data"
    }
   ],
   "source": [
    "n, bins, patches = plt.hist(dataset._feat_data, 100, color = 'red', alpha = .7)\n",
    "plt.xlim([26, 41])\n",
    "name1 = tracer+'_alldata'\n",
    "plt.savefig(path+name1+'.png', dpi=None, facecolor='w', edgecolor='w',\n",
    "        orientation='portrait', papertype=None, format=None,\n",
    "        transparent=False, bbox_inches=None, pad_inches=0.1,\n",
    "        frameon=None)"
   ]
  },
  {
   "cell_type": "code",
   "execution_count": 18,
   "metadata": {},
   "outputs": [
    {
     "data": {
      "text/plain": [
       "40.591301000000001"
      ]
     },
     "execution_count": 18,
     "metadata": {},
     "output_type": "execute_result"
    }
   ],
   "source": [
    "np.max(dataset._feat_data)"
   ]
  },
  {
   "cell_type": "code",
   "execution_count": 28,
   "metadata": {},
   "outputs": [],
   "source": [
    "tracer = 'temperature'\n",
    "_in_var_names = [tracer]\n",
    "sum_names = ['station', 'longitude', 'latitude', 'depth'] + _in_var_names\n",
    "cols = ', '.join(sum_names)\n",
    "_x_var = 'longitude'\n",
    "_y_var = 'latitude'\n",
    "\n",
    "query = 'SELECT '+ cols+' FROM woa13'\n",
    "\n",
    "dataset = dataFetcher()\n",
    "dataset.return_from_psql(query, sum_names, _in_var_names, _x_var, _y_var)"
   ]
  },
  {
   "cell_type": "code",
   "execution_count": 31,
   "metadata": {},
   "outputs": [
    {
     "data": {
      "image/png": "[encoded data removed]",
      "text/plain": [
       "<matplotlib.figure.Figure at 0x1070bc8d0>"
      ]
     },
     "metadata": {},
     "output_type": "display_data"
    }
   ],
   "source": [
    "n, bins, patches = plt.hist(dataset._feat_data, 100, color = 'blue', alpha = .7)\n",
    "# plt.xlim([-8, 30])\n",
    "name1 = tracer+'_alldata'\n",
    "plt.savefig(path+name1+'.png', dpi=None, facecolor='w', edgecolor='w',\n",
    "        orientation='portrait', papertype=None, format=None,\n",
    "        transparent=False, bbox_inches=None, pad_inches=0.1,\n",
    "        frameon=None)"
   ]
  },
  {
   "cell_type": "code",
   "execution_count": 18,
   "metadata": {},
   "outputs": [
    {
     "data": {
      "text/plain": [
       "40.591301000000001"
      ]
     },
     "execution_count": 18,
     "metadata": {},
     "output_type": "execute_result"
    }
   ],
   "source": [
    "np.max(dataset._feat_data)"
   ]
  },
  {
   "cell_type": "code",
   "execution_count": 34,
   "metadata": {},
   "outputs": [],
   "source": [
    "tracer = 'oxygen'\n",
    "_in_var_names = [tracer]\n",
    "sum_names = ['station', 'longitude', 'latitude', 'depth'] + _in_var_names\n",
    "cols = ', '.join(sum_names)\n",
    "_x_var = 'longitude'\n",
    "_y_var = 'latitude'\n",
    "\n",
    "query = 'SELECT '+ cols+' FROM woa13'\n",
    "\n",
    "dataset = dataFetcher()\n",
    "dataset.return_from_psql(query, sum_names, _in_var_names, _x_var, _y_var)"
   ]
  },
  {
   "cell_type": "code",
   "execution_count": null,
   "metadata": {},
   "outputs": [],
   "source": [
    "lats = np.unique(dataset._y)\n",
    "lons = np.unique(dataset._x)\n",
    "\n",
    "for lat in lats:\n",
    "    for lon in lons:\n",
    "        depths = "
   ]
  },
  {
   "cell_type": "code",
   "execution_count": 35,
   "metadata": {},
   "outputs": [
    {
     "data": {
      "image/png": "[encoded data removed]",
      "text/plain": [
       "<matplotlib.figure.Figure at 0x102807710>"
      ]
     },
     "metadata": {},
     "output_type": "display_data"
    }
   ],
   "source": [
    "n, bins, patches = plt.hist(dataset._feat_data, 100, color = 'blue', alpha = .7)\n",
    "# plt.xlim([-8, 30])\n",
    "name1 = tracer+'_alldata'\n",
    "plt.savefig(path+name1+'.png', dpi=None, facecolor='w', edgecolor='w',\n",
    "        orientation='portrait', papertype=None, format=None,\n",
    "        transparent=False, bbox_inches=None, pad_inches=0.1,\n",
    "        frameon=None)"
   ]
  },
  {
   "cell_type": "code",
   "execution_count": 18,
   "metadata": {},
   "outputs": [
    {
     "data": {
      "text/plain": [
       "40.591301000000001"
      ]
     },
     "execution_count": 18,
     "metadata": {},
     "output_type": "execute_result"
    }
   ],
   "source": [
    "np.max(dataset._feat_data)"
   ]
  },
  {
   "cell_type": "code",
   "execution_count": null,
   "metadata": {},
   "outputs": [],
   "source": []
  }
 ],
 "metadata": {
  "kernelspec": {
   "display_name": "please_work3",
   "language": "python",
   "name": "please_work3"
  },
  "language_info": {
   "codemirror_mode": {
    "name": "ipython",
    "version": 3
   },
   "file_extension": ".py",
   "mimetype": "text/x-python",
   "name": "python",
   "nbconvert_exporter": "python",
   "pygments_lexer": "ipython3",
   "version": "3.6.5"
  }
 },
 "nbformat": 4,
 "nbformat_minor": 2
}
