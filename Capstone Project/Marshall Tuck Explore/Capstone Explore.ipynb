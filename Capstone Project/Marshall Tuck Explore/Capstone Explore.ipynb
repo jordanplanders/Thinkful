{
 "cells": [
  {
   "cell_type": "code",
   "execution_count": 39,
   "metadata": {
    "collapsed": true
   },
   "outputs": [],
   "source": [
    "import plotly.plotly as py\n",
    "import plotly.figure_factory as ff\n",
    "\n",
    "import numpy as np\n",
    "import pandas as pd"
   ]
  },
  {
   "cell_type": "code",
   "execution_count": 40,
   "metadata": {
    "collapsed": true
   },
   "outputs": [],
   "source": [
    "file = 'pubschls.csv'\n",
    "# from https://www.cde.ca.gov/ds/si/ds/pubschls.asp"
   ]
  },
  {
   "cell_type": "code",
   "execution_count": 41,
   "metadata": {
    "collapsed": false
   },
   "outputs": [],
   "source": [
    "df_schools = pd.read_csv(file, sep='\\t', lineterminator='\\n')"
   ]
  },
  {
   "cell_type": "code",
   "execution_count": 42,
   "metadata": {
    "collapsed": false
   },
   "outputs": [
    {
     "data": {
      "text/plain": [
       "Index(['CDSCode', 'NCESDist', 'NCESSchool', 'StatusType', 'County', 'District',\n",
       "       'School', 'Street', 'StreetAbr', 'City', 'Zip', 'State', 'MailStreet',\n",
       "       'MailStrAbr', 'MailCity', 'MailZip', 'MailState', 'Phone', 'Ext',\n",
       "       'WebSite', 'OpenDate', 'ClosedDate', 'Charter', 'CharterNum',\n",
       "       'FundingType', 'DOC', 'DOCType', 'SOC', 'SOCType', 'EdOpsCode',\n",
       "       'EdOpsName', 'EILCode', 'EILName', 'GSoffered', 'GSserved', 'Virtual',\n",
       "       'Magnet', 'Latitude', 'Longitude', 'AdmFName1', 'AdmLName1',\n",
       "       'AdmEmail1', 'AdmFName2', 'AdmLName2', 'AdmEmail2', 'AdmFName3',\n",
       "       'AdmLName3', 'AdmEmail3', 'LastUpDate\\r'],\n",
       "      dtype='object')"
      ]
     },
     "execution_count": 42,
     "metadata": {},
     "output_type": "execute_result"
    }
   ],
   "source": [
    "df_schools.columns"
   ]
  },
  {
   "cell_type": "code",
   "execution_count": 43,
   "metadata": {
    "collapsed": false
   },
   "outputs": [],
   "source": [
    "current_charters = df_schools[(df_schools['Charter']=='Y') \n",
    "                              & (df_schools['StatusType']=='Active')]\n",
    "current_charters.name = 'active charters'"
   ]
  },
  {
   "cell_type": "code",
   "execution_count": 44,
   "metadata": {
    "collapsed": false
   },
   "outputs": [],
   "source": [
    "current_schools = df_schools[df_schools['StatusType']=='Active']\n",
    "current_schools.name = 'active schools'"
   ]
  },
  {
   "cell_type": "code",
   "execution_count": 45,
   "metadata": {
    "collapsed": false
   },
   "outputs": [],
   "source": [
    "def by_zip_summary(df):\n",
    "    print(df.name, ' (total): ', len(df),  \n",
    "      '\\n \\t by zip:',len(df.groupby('Zip')), \n",
    "      '\\n \\t by county:', len(df.groupby('County')))"
   ]
  },
  {
   "cell_type": "code",
   "execution_count": 46,
   "metadata": {
    "collapsed": false
   },
   "outputs": [
    {
     "name": "stdout",
     "output_type": "stream",
     "text": [
      "active schools  (total):  11703 \n",
      " \t by zip: 9827 \n",
      " \t by county: 58\n",
      "active charters  (total):  1269 \n",
      " \t by zip: 1139 \n",
      " \t by county: 54\n"
     ]
    }
   ],
   "source": [
    "by_zip_summary(current_schools)  \n",
    "by_zip_summary(current_charters)      "
   ]
  },
  {
   "cell_type": "code",
   "execution_count": null,
   "metadata": {
    "collapsed": true
   },
   "outputs": [],
   "source": []
  },
  {
   "cell_type": "code",
   "execution_count": 48,
   "metadata": {
    "collapsed": false
   },
   "outputs": [],
   "source": [
    "fips_codes = pd.read_csv('national_county.txt')"
   ]
  },
  {
   "cell_type": "code",
   "execution_count": 49,
   "metadata": {
    "collapsed": false
   },
   "outputs": [],
   "source": [
    "fips_lst = []\n",
    "county_lst = []\n",
    "for row in fips_codes[fips_codes['AL']== 'CA'].iterrows():\n",
    "    fips_lst.append(row[1][2]+6000)\n",
    "    county_lst.append(row[1][3].split(' County')[:-1])\n",
    "\n",
    "fips_conv = {county_lst[ik][0]:fips_lst[ik] for ik in range(len(fips_lst)) }"
   ]
  },
  {
   "cell_type": "code",
   "execution_count": 66,
   "metadata": {
    "collapsed": false
   },
   "outputs": [],
   "source": [
    "school_cts = current_schools.groupby('County').count()['CDSCode']\n",
    "fips_cds = [fips_conv[current_schools.groupby('County').count().index[ik]] for ik in range(len(current_schools.groupby('County').count().index))]"
   ]
  },
  {
   "cell_type": "code",
   "execution_count": 74,
   "metadata": {
    "collapsed": false
   },
   "outputs": [
    {
     "data": {
      "text/html": [
       "<iframe id=\"igraph\" scrolling=\"no\" style=\"border:none;\" seamless=\"seamless\" src=\"https://plot.ly/~jordanplanders/2.embed\" height=\"450px\" width=\"900px\"></iframe>"
      ],
      "text/plain": [
       "<plotly.tools.PlotlyDisplay object>"
      ]
     },
     "execution_count": 74,
     "metadata": {},
     "output_type": "execute_result"
    }
   ],
   "source": [
    "school_cts = current_schools.groupby('County').count()['CDSCode']\n",
    "fips_cds = [fips_conv[current_schools.groupby('County').count().index[ik]] for ik in range(len(current_schools.groupby('County').count().index))]\n",
    "\n",
    "values = school_cts#df_sample_r['TOT_POP'].tolist()\n",
    "fips = fips_cds#df_sample_r['FIPS'].tolist()\n",
    "\n",
    "colorscale = [\n",
    "    'rgb(193, 193, 193)',\n",
    "    'rgb(239,239,239)',\n",
    "    'rgb(195, 196, 222)',\n",
    "    'rgb(144,148,194)',\n",
    "    'rgb(101,104,168)',\n",
    "    'rgb(65, 53, 132)'\n",
    "]\n",
    "\n",
    "fig = ff.create_choropleth(\n",
    "    fips=fips, values=values, scope=['CA'],\n",
    "    county_outline={'color': 'rgb(255,255,255)', 'width': 0.5}, round_legend_values=True,\n",
    "    legend_title='School Counts by County', title='School Counts by County'\n",
    ")\n",
    "\n",
    "fig['layout']['legend'].update({'x': 0})\n",
    "py.iplot(fig, filename='choropleth_california_school_counts_county')"
   ]
  },
  {
   "cell_type": "code",
   "execution_count": 76,
   "metadata": {
    "collapsed": false
   },
   "outputs": [
    {
     "data": {
      "text/html": [
       "<iframe id=\"igraph\" scrolling=\"no\" style=\"border:none;\" seamless=\"seamless\" src=\"https://plot.ly/~jordanplanders/4.embed\" height=\"450px\" width=\"900px\"></iframe>"
      ],
      "text/plain": [
       "<plotly.tools.PlotlyDisplay object>"
      ]
     },
     "execution_count": 76,
     "metadata": {},
     "output_type": "execute_result"
    }
   ],
   "source": [
    "school_cts = current_charters.groupby('County').count()['CDSCode']\n",
    "fips_cds = [fips_conv[current_charters.groupby('County').count().index[ik]] for ik in range(len(current_charters.groupby('County').count().index))]\n",
    "\n",
    "values = school_cts#df_sample_r['TOT_POP'].tolist()\n",
    "fips = fips_cds#df_sample_r['FIPS'].tolist()\n",
    "\n",
    "colorscale = [\n",
    "    'rgb(193, 193, 193)',\n",
    "    'rgb(239,239,239)',\n",
    "    'rgb(195, 196, 222)',\n",
    "    'rgb(144,148,194)',\n",
    "    'rgb(101,104,168)',\n",
    "    'rgb(65, 53, 132)'\n",
    "]\n",
    "\n",
    "fig = ff.create_choropleth(\n",
    "    fips=fips, values=values, scope=['CA'],\n",
    "    county_outline={'color': 'rgb(255,255,255)', 'width': 0.5}, round_legend_values=True,\n",
    "    legend_title='Charter School Counts by County', title='Charter School Counts by County'\n",
    ")\n",
    "\n",
    "fig['layout']['legend'].update({'x': 0})\n",
    "py.iplot(fig, filename='choropleth_california_charterschool_counts_county')"
   ]
  },
  {
   "cell_type": "code",
   "execution_count": null,
   "metadata": {
    "collapsed": true
   },
   "outputs": [],
   "source": []
  }
 ],
 "metadata": {
  "kernelspec": {
   "display_name": "please_work3",
   "language": "python",
   "name": "please_work3"
  },
  "language_info": {
   "codemirror_mode": {
    "name": "ipython",
    "version": 3
   },
   "file_extension": ".py",
   "mimetype": "text/x-python",
   "name": "python",
   "nbconvert_exporter": "python",
   "pygments_lexer": "ipython3",
   "version": "3.6.2"
  }
 },
 "nbformat": 4,
 "nbformat_minor": 2
}
