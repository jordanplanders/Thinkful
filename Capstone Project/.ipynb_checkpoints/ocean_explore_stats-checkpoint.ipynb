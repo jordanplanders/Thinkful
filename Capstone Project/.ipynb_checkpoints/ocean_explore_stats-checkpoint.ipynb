{
 "cells": [
  {
   "cell_type": "markdown",
   "metadata": {},
   "source": [
    "Compares tracer values from different areas to determine if they are statistically different"
   ]
  },
  {
   "cell_type": "code",
   "execution_count": 1,
   "metadata": {
    "collapsed": false
   },
   "outputs": [],
   "source": [
    "from matplotlib.mlab import griddata\n",
    "import matplotlib.pyplot as plt\n",
    "\n",
    "from numpy import linspace\n",
    "from numpy import meshgrid\n",
    "from numpy.random import uniform, seed\n",
    "\n",
    "from mpl_toolkits.basemap import Basemap, shiftgrid\n",
    "from mpl_toolkits.axes_grid1 import make_axes_locatable\n",
    "from mpl_toolkits.axes_grid1.inset_locator import inset_axes\n",
    "\n",
    "\n",
    "title_sz = 27\n",
    "axis_sz = 22\n",
    "tick_sz = 21\n",
    "\n",
    "from matplotlib.ticker import MaxNLocator\n",
    "from matplotlib import cm, rcParams\n",
    "rcParams.update({'font.size': tick_sz-4}) # Increase font-size\n",
    "from matplotlib.backends.backend_pdf import PdfPages\n",
    "import matplotlib.cm as cm\n",
    "from matplotlib import gridspec\n",
    "\n",
    "import pylab as pl\n",
    "\n",
    "from itertools import islice\n",
    "import sys, pickle, time, copy, re\n",
    "\n",
    "from collections import Counter\n",
    "\n",
    "from chem_ocean import Build_Map as bm\n",
    "# from chem_ocean import Plot_Raw2 as pr"
   ]
  },
  {
   "cell_type": "code",
   "execution_count": 2,
   "metadata": {
    "collapsed": false
   },
   "outputs": [],
   "source": [
    "from sklearn import cluster, metrics\n",
    "from sklearn.metrics import euclidean_distances, silhouette_samples, silhouette_score\n",
    "from sklearn.neighbors import kneighbors_graph\n",
    "from sklearn.preprocessing import StandardScaler\n",
    "\n",
    "import time"
   ]
  },
  {
   "cell_type": "code",
   "execution_count": 3,
   "metadata": {
    "collapsed": true
   },
   "outputs": [],
   "source": [
    "# load data from database for tracer combination\n",
    "# produce model output"
   ]
  },
  {
   "cell_type": "code",
   "execution_count": 4,
   "metadata": {
    "collapsed": true
   },
   "outputs": [],
   "source": [
    "import sqlalchemy\n",
    "import numpy as np\n",
    "from collections import defaultdict"
   ]
  },
  {
   "cell_type": "code",
   "execution_count": 5,
   "metadata": {
    "collapsed": true
   },
   "outputs": [],
   "source": [
    "def connect(user, password, db, host='localhost', port=5432):\n",
    "    '''Returns a connection and a metadata object'''\n",
    "    url  = 'postgresql://{}:{}@{}:{}/{}'\n",
    "    url = url.format(user, password, host, port, db)\n",
    "\n",
    "    # The return value of create_engine() is our connection object\n",
    "    con = sqlalchemy.create_engine(url, client_encoding='utf8')\n",
    "\n",
    "    # We then bind the connection to MetaData()\n",
    "    meta = sqlalchemy.MetaData(bind=con, reflect=True)\n",
    "\n",
    "    return con, meta, url"
   ]
  },
  {
   "cell_type": "code",
   "execution_count": 6,
   "metadata": {
    "collapsed": false
   },
   "outputs": [],
   "source": [
    "#This is a special version to accomodate a z_var\n",
    "def return_from_psql(query, cols, _in_var_names, _x_var, _y_var, **kwargs):\n",
    "    conn, meta, url = connect('jlanders', '', 'odv_app_dev', host='localhost', port=5432)\n",
    "    result = conn.execute(query)\n",
    "    print(query)\n",
    "    \n",
    "    cluster_d = defaultdict(list)\n",
    "    for row in result:\n",
    "        for ik, col in enumerate(cols):\n",
    "            cluster_d[col].append(row[ik])\n",
    "    _x = np.asarray(cluster_d[_x_var])\n",
    "    _y = np.asarray(cluster_d[_y_var])\n",
    "    _d = np.asarray(cluster_d['depth'])\n",
    "    \n",
    "    _feat_data = np.zeros((len(cluster_d['station']), len(_in_var_names))) \n",
    "    for ik, name in enumerate(_in_var_names):\n",
    "        _feat_data[:, ik] = np.asarray(cluster_d[name])\n",
    "\n",
    "    mask = np.all(np.isnan(_feat_data), axis=1)\n",
    "    _x = _x[~mask]\n",
    "    _y = _y[~mask]\n",
    "    _d = _d[~mask]\n",
    "    _feat_data = _feat_data[~mask]\n",
    "    \n",
    "#     if _z:\n",
    "#         _z = _z[~mask]\n",
    "#         return cluster_d, _feat_data, _x, _y, _z\n",
    "    \n",
    "#     else:\n",
    "    return cluster_d, _feat_data, _x, _y, _d\n"
   ]
  },
  {
   "cell_type": "code",
   "execution_count": 7,
   "metadata": {
    "collapsed": false
   },
   "outputs": [],
   "source": [
    "def get_plan(lat_bounds, lon_bounds, _var_names, depth):\n",
    "    sum_names = ['station', 'longitude', 'latitude', 'depth'] + _var_names\n",
    "    cols = ', '.join(sum_names)\n",
    "    query = \"select \"+ cols+ \" from woa13 where latitude> {} AND latitude< {} AND longitude>{} and longitude<{} and depth={};\".format(str(lat_bounds[0]), str(lat_bounds[1]), str(lon_bounds[0]), str(lon_bounds[1]), str(depth))\n",
    "    \n",
    "    _x_var = 'longitude'\n",
    "    _y_var = 'latitude'\n",
    "\n",
    "    cluster_d, _feat_data, _x, _y, _d = return_from_psql(query, sum_names, _var_names, _x_var, _y_var)\n",
    "    print(cluster_d.keys())\n",
    "    _basemap = True\n",
    "    _latLon_params = None\n",
    "    \n",
    "    return _x, _y, _d, _feat_data, _basemap, _x_var.title()+' (deg)', _y_var.title()+' (deg)', _latLon_params\n",
    "    \n",
    "def get_section(traj_type, line, limits, _var_names):\n",
    "    sum_names = ['station', 'longitude', 'latitude', 'depth'] + _var_names\n",
    "    cols = ', '.join(sum_names)\n",
    "    traj_bounds = (line-1.5, line+1.5)\n",
    "    \n",
    "    if traj_type == 'EW_section':\n",
    "        query = \"select \"+ cols+ \" from woa13 where latitude> {} AND latitude< {} AND longitude>{} and longitude<{};\".format(str(traj_bounds[0]), str(traj_bounds[1]), str(limits[0]), str(limits[1]))\n",
    "        \n",
    "        _x_var = 'longitude'\n",
    "        _y_var = 'depth'\n",
    "        \n",
    "        cluster_d, _feat_data, _x, _y, _d = return_from_psql(query, sum_names, _var_names, _x_var, _y_var)\n",
    "\n",
    "        _yLab = 'Depth (m))'  \n",
    "        _xLab = 'Longitude (deg) along '+ r'%s $^\\circ$' % abs(line)+ ['S' if lat<0 else 'N' for lat in [line]][0]\n",
    "        _basemap = False\n",
    "        _latLon_params = (limits, (line, line))\n",
    "        \n",
    "    if traj_type == 'NS_section':\n",
    "        query = \"select \"+ cols+ \" from woa13 where latitude> {} AND latitude< {} AND longitude>{} and longitude<{};\".format(str(limits[0]), str(limits[1]), str(traj_bounds[0]), str(traj_bounds[1]))\n",
    "        \n",
    "        _x_var = 'latitude'\n",
    "        _y_var = 'depth'\n",
    "        \n",
    "        cluster_d, _feat_data, _x, _y, _d = return_from_psql(query, sum_names, _var_names, _x_var, _y_var)\n",
    "\n",
    "        _yLab = 'Depth (m)'  \n",
    "        _xLab = 'Latitude (deg) along '+ r'%s $^\\circ$' % abs(line)+ ['W' if lon<0 else 'E' for lon in [line]][0]\n",
    "        _basemap = False\n",
    "        _latLon_params = ((line, line), limits)\n",
    "\n",
    "    return _x, _y, _d, _feat_data, _basemap, _xLab, _yLab, _latLon_params\n",
    "\n",
    "    \n",
    "def get_column(lat_bounds, lon_bounds, _var_names):\n",
    "    sum_names = ['station', 'longitude', 'latitude', 'depth'] + _var_names\n",
    "    cols = ', '.join(sum_names)\n",
    "    query = \"select \"+ cols+ \" from woa13 where latitude> {} AND latitude< {} AND longitude>{} and longitude<{};\".format(str(lat_bounds[0]), str(lat_bounds[1]), str(lon_bounds[0]), str(lon_bounds[1]))\n",
    "    \n",
    "    _x_var = 'longitude'\n",
    "    _y_var = 'latitude'\n",
    "\n",
    "    cluster_d, _feat_data, _x, _y, _d = return_from_psql(query, sum_names, _var_names, _x_var, _y_var)\n",
    "    print(cluster_d.keys())\n",
    "    _basemap = True\n",
    "    _latLon_params = None\n",
    "    \n",
    "    return _x, _y, _d, _feat_data, _basemap, _x_var.title()+' (deg)', _y_var.title()+' (deg)', _latLon_params\n",
    "    "
   ]
  },
  {
   "cell_type": "code",
   "execution_count": 8,
   "metadata": {
    "collapsed": true
   },
   "outputs": [],
   "source": [
    "def subplot_labels(_ax, _xLab, _yLab, xlabelpad, ylabelpad, tick_sz, axis_sz, _title, text_coord, text_note, text_note_sz, text_note_align):\n",
    "    _ax.set_ylabel(_yLab, fontsize=axis_sz-3, labelpad = ylabelpad)\n",
    "    _ax.set_xlabel(_xLab, fontsize=axis_sz-3, labelpad = xlabelpad)\n",
    "\n",
    "    # set tick size\n",
    "    xtickNames = _ax.get_xticklabels()\n",
    "    ytickNames = _ax.get_yticklabels()\n",
    "\n",
    "    plt.setp(ytickNames, rotation=0, fontsize=tick_sz-3)\n",
    "    plt.setp(xtickNames, rotation=0, fontsize=tick_sz-3)\n",
    "\n",
    "    _ax.set_title(_title, size=axis_sz)\n",
    "\n",
    "    _ax.text(text_coord[0], text_coord[1],text_note, transform=plt.gca().transAxes, size=text_note_sz, horizontalalignment=text_note_align)\n"
   ]
  },
  {
   "cell_type": "code",
   "execution_count": 9,
   "metadata": {
    "collapsed": true
   },
   "outputs": [],
   "source": [
    "def make_section(ax, _colors, _x, _y, _latLon_params, model_raw):\n",
    "    if model_raw == 'model':\n",
    "        for im in range(len(_x)):\n",
    "            ax.plot(_x[im], _y[im], c = _colors[im], marker = 'o', markersize=15, alpha = .1)\n",
    "\n",
    "    ax.invert_yaxis()\n",
    "\n",
    "    axin = inset_axes(ax, width=\"35%\", height=\"35%\", loc=4)\n",
    "    inmap = Basemap(projection='ortho', lon_0=np.mean(_latLon_params[0]), lat_0=0,\n",
    "        ax=axin, anchor='NE')\n",
    "    inmap.fillcontinents()\n",
    "    inmap.drawcoastlines(color='k')\n",
    "    inmap.plot(_latLon_params[0], _latLon_params[1], '-k', linewidth=2 , latlon=True)  \n",
    "    return ax"
   ]
  },
  {
   "cell_type": "code",
   "execution_count": 27,
   "metadata": {
    "collapsed": false
   },
   "outputs": [
    {
     "name": "stderr",
     "output_type": "stream",
     "text": [
      "/usr/local/lib/python3.6/site-packages/ipykernel_launcher.py:10: SADeprecationWarning: reflect=True is deprecate; please use the reflect() method.\n",
      "  # Remove the CWD from sys.path while we load stuff.\n"
     ]
    },
    {
     "name": "stdout",
     "output_type": "stream",
     "text": [
      "select station, longitude, latitude, depth, nitrate from woa13 where latitude> -40 AND latitude< -38 AND longitude>-30 and longitude<-28;\n",
      "dict_keys(['station', 'longitude', 'latitude', 'depth', 'nitrate'])\n"
     ]
    }
   ],
   "source": [
    "_x, _y, _d, _feat_data, _basemap, _xLab, _yLab, _latLon_params = get_column([-40, -38], [-30, -28], ['nitrate'])"
   ]
  },
  {
   "cell_type": "code",
   "execution_count": 30,
   "metadata": {
    "collapsed": false
   },
   "outputs": [
    {
     "name": "stdout",
     "output_type": "stream",
     "text": [
      "Variance score: 0.87\n",
      "Coefficients: \n",
      " [ 186.57599286]\n",
      "upper bound:  2890.0\n",
      "Variance score: 0.94\n",
      "Coefficients: \n",
      " [-134.55447489]\n",
      "upper bound:  1690.0\n",
      "Variance score: 0.94\n",
      "Coefficients: \n",
      " [ 138.19790917]\n",
      "upper bound:  945.0\n",
      "Variance score: 0.94\n",
      "Coefficients: \n",
      " [ 41.67007577]\n",
      "upper bound:  345.0\n",
      "Variance score: 0.94\n",
      "Coefficients: \n",
      " [ 23.27135872]\n",
      "upper bound:  70.0\n",
      "Variance score: 0.94\n",
      "Coefficients: \n",
      " [ 18.35244398]\n",
      "upper bound:  -5.0\n"
     ]
    },
    {
     "data": {
      "image/png": "[encoded data removed]",
      "text/plain": [
       "<matplotlib.figure.Figure at 0x117932400>"
      ]
     },
     "metadata": {},
     "output_type": "display_data"
    }
   ],
   "source": [
    "# Break water column into statistically different watermasses by regressing\n",
    "# sections of the slope. When the r**2 value is higher than .99 save the depth \n",
    "# and start a new section\n",
    "\n",
    "import matplotlib.pyplot as plt\n",
    "import numpy as np\n",
    "from sklearn import datasets, linear_model\n",
    "from sklearn.metrics import mean_squared_error, r2_score\n",
    "from sklearn.model_selection import train_test_split\n",
    "\n",
    "\n",
    "lower_bound = max(_d)\n",
    "lower_increment = 5\n",
    "n_1 = 0\n",
    "middle_bound = lower_bound - n_1*lower_increment\n",
    "X = []\n",
    "r2 = 0\n",
    "larger_interval= True\n",
    "intervals = [lower_bound]\n",
    "\n",
    "\n",
    "while middle_bound >0:\n",
    "    while len(X)< 60:\n",
    "        middle_bound = lower_bound - n_1*lower_increment\n",
    "        X = _feat_data[(_d<=lower_bound) & (_d > middle_bound)]\n",
    "        y = _d[(_d<=lower_bound) & (_d > middle_bound)]\n",
    "        n_1+=1\n",
    "\n",
    "    while larger_interval == True:\n",
    "        middle_bound = lower_bound - n_1*lower_increment\n",
    "        X = _feat_data[(_d<=lower_bound) & (_d > middle_bound)]\n",
    "        y = _d[(_d<=lower_bound) & (_d > middle_bound)]\n",
    "        n_1+=1\n",
    "\n",
    "        X_train, X_test, y_train, y_test = train_test_split(X, y, test_size=0.2, random_state=42)\n",
    "\n",
    "        # Create linear regression object\n",
    "        regr = linear_model.LinearRegression()\n",
    "\n",
    "        # Train the model using the training sets\n",
    "        regr.fit(X_train, y_train)\n",
    "\n",
    "        # Make predictions using the testing set\n",
    "        y_pred = regr.predict(X_test)\n",
    "\n",
    "        # The coefficients\n",
    "        \n",
    "        # The mean squared error\n",
    "#         print(\"Mean squared error: %.2f\"\n",
    "#               % mean_squared_error(y_test, y_pred))\n",
    "        # Explained variance score: 1 is perfect prediction\n",
    "        if (r2 -r2_score(y_test, y_pred))<0 and middle_bound >0:\n",
    "            r2 = r2_score(y_test, y_pred)\n",
    "            larger_interval = True\n",
    "        else:\n",
    "            larger_interval = False        \n",
    "    \n",
    "        # Plot outputs\n",
    "        plt.scatter(X_test, y_test,  color='black')\n",
    "        plt.plot(X_test, y_pred, color='blue', linewidth=3)\n",
    "        plt.scatter(X_train, y_train, color='black',alpha= .2)\n",
    "        \n",
    "    print('Variance score: %.2f' % r2)\n",
    "    print('Coefficients: \\n', regr.coef_)\n",
    "    print('upper bound: ', middle_bound + lower_increment)\n",
    "    intervals.append(middle_bound + lower_increment)\n",
    "    lower_bound = middle_bound+ lower_increment\n",
    "    X = []\n",
    "    larger_interval=True\n",
    "    n_1 = 0\n",
    "    \n",
    "for y_val in intervals:\n",
    "    plt.axhline(y=y_val, color='r', linestyle='-')    \n",
    "\n",
    "plt.gca().invert_yaxis()"
   ]
  },
  {
   "cell_type": "code",
   "execution_count": 23,
   "metadata": {
    "collapsed": false
   },
   "outputs": [
    {
     "data": {
      "text/plain": [
       "[4500.0, 2890.0, 1690.0, 945.0, 345.0, 70.0, -5.0]"
      ]
     },
     "execution_count": 23,
     "metadata": {},
     "output_type": "execute_result"
    }
   ],
   "source": [
    "intervals"
   ]
  },
  {
   "cell_type": "code",
   "execution_count": 16,
   "metadata": {
    "collapsed": false
   },
   "outputs": [
    {
     "name": "stderr",
     "output_type": "stream",
     "text": [
      "/usr/local/lib/python3.6/site-packages/ipykernel_launcher.py:10: SADeprecationWarning: reflect=True is deprecate; please use the reflect() method.\n",
      "  # Remove the CWD from sys.path while we load stuff.\n"
     ]
    },
    {
     "name": "stdout",
     "output_type": "stream",
     "text": [
      "select station, longitude, latitude, depth, nitrate from woa13 where latitude> -40 AND latitude< -35 AND longitude>-30 and longitude<-25;\n",
      "dict_keys(['station', 'longitude', 'latitude', 'depth', 'nitrate'])\n"
     ]
    }
   ],
   "source": [
    "_x, _y, _d, _feat_data, _basemap, _xLab, _yLab, _latLon_params = get_column([-40, -35], [-30, -25], ['nitrate'])"
   ]
  },
  {
   "cell_type": "code",
   "execution_count": 17,
   "metadata": {
    "collapsed": false
   },
   "outputs": [
    {
     "name": "stdout",
     "output_type": "stream",
     "text": [
      "[4600.0, 3550.0, 2650.0, 1900.0, 1500.0, 1100.0, 700.0, 400.0, 200.0, 50.0]\n"
     ]
    }
   ],
   "source": [
    "#Find depths of statistically different water masses by 1 tracer\n",
    "# Assumes miniumum sample size of 200 of both samples\n",
    "# starts from the bottom and if the samples between bottom bound and middle bound \n",
    "# are not statistically different from the sample between middle bound and upper bound,\n",
    "# push the middle bound and upper bound up and try again\n",
    "# once they are stastistically different drop the middle bound incrementally until reach the \n",
    "# depth where the p value is just less than .01\n",
    "# then set bottom bound = middle bound and repeat\n",
    "\n",
    "from scipy import stats\n",
    "\n",
    "sample_size = 200\n",
    "lower_bound = max(_d)\n",
    "lower_increment = 100\n",
    "n_1 = 0\n",
    "middle_bound = lower_bound - n_1*lower_increment\n",
    "upper_increment = 100\n",
    "n_2 = 0\n",
    "upper_bound = middle_bound - n_2*upper_increment\n",
    "\n",
    "section_depths = [lower_bound]\n",
    "while upper_bound >0:\n",
    "    n_1 = 0\n",
    "    middle_bound = lower_bound - n_1*lower_increment\n",
    "    n_2 = 0\n",
    "    upper_bound = middle_bound - n_2*upper_increment\n",
    "\n",
    "    nitrate_lower = _feat_data[(_d<=lower_bound) & (_d > middle_bound)]\n",
    "    nitrate_upper = _feat_data[(_d<=middle_bound) & (_d > upper_bound)]\n",
    "    p2 = 1\n",
    "#     print(len(nitrate_upper))\n",
    "    #split into upper and lower sections with at least 30 data points each\n",
    "    while p2>.01 or len(nitrate_lower)<sample_size or len(nitrate_upper)<sample_size:\n",
    "        if len(nitrate_lower) < sample_size or  p2>.01:\n",
    "            n_1+=.5\n",
    "            middle_bound = lower_bound - n_1*lower_increment\n",
    "            nitrate_lower = _feat_data[(_d<=lower_bound) & (_d > middle_bound)]\n",
    "\n",
    "            nitrate_lower = [nitrate_lower[ik][0] for ik in range(len(nitrate_lower))]\n",
    "\n",
    "            if middle_bound - n_2*upper_increment != upper_bound:\n",
    "                n_2 = .5\n",
    "                upper_bound = middle_bound - n_2*upper_increment\n",
    "                nitrate_upper = _feat_data[(_d<=middle_bound) & (_d > upper_bound)]\n",
    "                while len(nitrate_upper) < sample_size:\n",
    "                    n_2+=.5\n",
    "                    upper_bound = middle_bound - n_2*upper_increment\n",
    "                    nitrate_upper = _feat_data[(_d<=middle_bound) & (_d > upper_bound)]\n",
    "\n",
    "                    nitrate_upper = [nitrate_upper[ik][0] for ik in range(len(nitrate_upper))]\n",
    "\n",
    "        # test to see if they are significantly different\n",
    "        t2, p2 = stats.ttest_ind(nitrate_upper,nitrate_lower)\n",
    "\n",
    "#     print(t2,p2)\n",
    "#     print(lower_bound, middle_bound, upper_bound, len(nitrate_lower), len(nitrate_upper))\n",
    "    section_depths.append(middle_bound)\n",
    "    lower_bound = middle_bound\n",
    "print(section_depths)\n"
   ]
  },
  {
   "cell_type": "code",
   "execution_count": 18,
   "metadata": {
    "collapsed": false
   },
   "outputs": [
    {
     "data": {
      "image/png": "[encoded data removed]",
      "text/plain": [
       "<matplotlib.figure.Figure at 0x116e632b0>"
      ]
     },
     "metadata": {},
     "output_type": "display_data"
    }
   ],
   "source": [
    "fig = plt.figure(figsize=(7*1, 7*1), facecolor='w')\n",
    "plt.scatter(_feat_data, _d)\n",
    "for y_val in section_depths:\n",
    "    plt.axhline(y=y_val, color='r', linestyle='-')\n",
    "plt.gca().invert_yaxis()"
   ]
  },
  {
   "cell_type": "code",
   "execution_count": 221,
   "metadata": {
    "collapsed": false
   },
   "outputs": [
    {
     "data": {
      "text/plain": [
       "[4600.0, 3650.0, 700.0, 600.0, 500.0, 450.0, 400.0, 350.0, 300.0, 250.0, 50.0]"
      ]
     },
     "execution_count": 221,
     "metadata": {},
     "output_type": "execute_result"
    }
   ],
   "source": [
    "section_depths"
   ]
  },
  {
   "cell_type": "code",
   "execution_count": 223,
   "metadata": {
    "collapsed": false
   },
   "outputs": [
    {
     "name": "stderr",
     "output_type": "stream",
     "text": [
      "/usr/local/lib/python3.6/site-packages/ipykernel_launcher.py:10: SADeprecationWarning: reflect=True is deprecate; please use the reflect() method.\n",
      "  # Remove the CWD from sys.path while we load stuff.\n"
     ]
    },
    {
     "name": "stdout",
     "output_type": "stream",
     "text": [
      "select station, longitude, latitude, depth, nitrate from woa13 where latitude> -60 AND latitude< -45 AND longitude>-40 and longitude<0 and depth=4000;\n",
      "dict_keys(['station', 'longitude', 'latitude', 'depth', 'nitrate'])\n",
      "select station, longitude, latitude, depth, nitrate from woa13 where latitude> 45 AND latitude< 60 AND longitude>-40 and longitude<0 and depth=4000;\n",
      "dict_keys(['station', 'longitude', 'latitude', 'depth', 'nitrate'])\n",
      "59.3875789055\n",
      "[-84.7376987] [  8.67626438e-281]\n"
     ]
    },
    {
     "data": {
      "text/plain": [
       "'\\np-value is so small that there is only a miniscule chance that these \\ntwo samples could have been picked from the same population\\n'"
      ]
     },
     "execution_count": 223,
     "metadata": {},
     "output_type": "execute_result"
    },
    {
     "data": {
      "image/png": "[encoded data removed]",
      "text/plain": [
       "<matplotlib.figure.Figure at 0x116a88208>"
      ]
     },
     "metadata": {},
     "output_type": "display_data"
    }
   ],
   "source": [
    "# Considering nitrate values from the North Atlantic and the South Atlantic\n",
    "\n",
    "from scipy import stats\n",
    "_x, _y, _d, _feat_data, _basemap, _xLab, _yLab, _latLon_params = get_plan([-60,-45], [-40,0], ['nitrate'], 4000)\n",
    "data_s = _feat_data\n",
    "\n",
    "_x, _y, _d, _feat_data, _basemap, _xLab, _yLab, _latLon_params = get_plan([45,60], [-40,0], ['nitrate'], 4000)\n",
    "data_n = _feat_data\n",
    "\n",
    "y_mean = np.mean(data_s) -np.mean(data_n)\n",
    "std_error = (np.std(data_s)**2/(len(data_s)-1) + np.std(data_n)**2/(len(data_n)-1))**(.5)\n",
    "t_score = y_mean/std_error\n",
    "print(t_score) #why is this different from the scipy value?\n",
    "\n",
    "#p-value after comparison with the t \n",
    "t2, p2 = stats.ttest_ind(data_n,data_s)\n",
    "\n",
    "print(t2, p2)\n",
    "\n",
    "plt.hist(data_s)\n",
    "plt.hist(data_n)\n",
    "\n",
    "'''\n",
    "p-value is so small that there is only a miniscule chance that these \n",
    "two samples could have been picked from the same population\n",
    "'''"
   ]
  },
  {
   "cell_type": "code",
   "execution_count": null,
   "metadata": {
    "collapsed": true
   },
   "outputs": [],
   "source": []
  },
  {
   "cell_type": "code",
   "execution_count": null,
   "metadata": {
    "collapsed": true
   },
   "outputs": [],
   "source": []
  }
 ],
 "metadata": {
  "kernelspec": {
   "display_name": "please_work3",
   "language": "python",
   "name": "please_work3"
  },
  "language_info": {
   "codemirror_mode": {
    "name": "ipython",
    "version": 3
   },
   "file_extension": ".py",
   "mimetype": "text/x-python",
   "name": "python",
   "nbconvert_exporter": "python",
   "pygments_lexer": "ipython3",
   "version": "3.6.2"
  }
 },
 "nbformat": 4,
 "nbformat_minor": 2
}
