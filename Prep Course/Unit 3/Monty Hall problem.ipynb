{
 "cells": [
  {
   "cell_type": "markdown",
   "metadata": {},
   "source": [
    "### Lesson 2: Monty Hall simulation"
   ]
  },
  {
   "cell_type": "code",
   "execution_count": 1,
   "metadata": {
    "collapsed": true
   },
   "outputs": [],
   "source": [
    "from random import shuffle\n",
    "from random import choice"
   ]
  },
  {
   "cell_type": "code",
   "execution_count": 2,
   "metadata": {
    "collapsed": true
   },
   "outputs": [],
   "source": [
    "def new_exp():\n",
    "    car_door = choice(doors)\n",
    "    pick_door = choice(doors)\n",
    "    return car_door, pick_door"
   ]
  },
  {
   "cell_type": "code",
   "execution_count": 3,
   "metadata": {
    "collapsed": true
   },
   "outputs": [],
   "source": [
    "def open_first_door(pick_door, car_door, doors):\n",
    "    for door in doors:\n",
    "        if door != pick_door and door != car_door:\n",
    "            doors.remove(door)\n",
    "            return doors"
   ]
  },
  {
   "cell_type": "code",
   "execution_count": 4,
   "metadata": {
    "collapsed": false
   },
   "outputs": [
    {
     "name": "stdout",
     "output_type": "stream",
     "text": [
      "changed then won: 0.6952191235059761\n",
      "stayed then won: 0.3353413654618474\n"
     ]
    }
   ],
   "source": [
    "win_stay = 0\n",
    "win_change = 0\n",
    "\n",
    "total_stay = 0\n",
    "total_change = 0\n",
    "for ik in range(1000):\n",
    "    doors = [0,1,2]\n",
    "    car_door, pick_door = new_exp()\n",
    "    doors = open_first_door(pick_door, car_door, doors)\n",
    "    stay_go = choice(['go','stay'])\n",
    "\n",
    "    if stay_go == 'stay':\n",
    "        total_stay +=1\n",
    "        if car_door == pick_door:\n",
    "            win_stay += 1\n",
    "    if stay_go == 'go':\n",
    "        total_change +=1\n",
    "        if car_door != pick_door:\n",
    "            win_change += 1\n",
    "\n",
    "print('changed then won:', win_change/total_change)\n",
    "print('stayed then won:', win_stay/total_stay)"
   ]
  },
  {
   "cell_type": "code",
   "execution_count": null,
   "metadata": {
    "collapsed": true
   },
   "outputs": [],
   "source": []
  }
 ],
 "metadata": {
  "kernelspec": {
   "display_name": "please_work3",
   "language": "python",
   "name": "please_work3"
  },
  "language_info": {
   "codemirror_mode": {
    "name": "ipython",
    "version": 3
   },
   "file_extension": ".py",
   "mimetype": "text/x-python",
   "name": "python",
   "nbconvert_exporter": "python",
   "pygments_lexer": "ipython3",
   "version": "3.6.2"
  }
 },
 "nbformat": 4,
 "nbformat_minor": 2
}
