{
 "cells": [
  {
   "cell_type": "code",
   "execution_count": 2,
   "metadata": {},
   "outputs": [],
   "source": [
    "import numpy as np\n",
    "import matplotlib.pyplot as plt"
   ]
  },
  {
   "cell_type": "code",
   "execution_count": 3,
   "metadata": {},
   "outputs": [],
   "source": [
    "depths = [750, 1000, 1500, 2000, 2500, 3000, 3500, 4000, 4500, 5000, 5500]"
   ]
  },
  {
   "cell_type": "code",
   "execution_count": 4,
   "metadata": {},
   "outputs": [],
   "source": [
    "depthsRange = [[d, np.random.randint(0,14), np.random.randint(100,117)] for d in depths]"
   ]
  },
  {
   "cell_type": "code",
   "execution_count": 61,
   "metadata": {},
   "outputs": [
    {
     "name": "stdout",
     "output_type": "stream",
     "text": [
      "depthsRange\n",
      "f(d): [d, randInt, randInt]\n",
      "return f(v) for v in depths\n",
      "\n",
      "depth: 750, min: 1, max: 103\n",
      "depth: 1000, min: 13, max: 108\n",
      "depth: 1500, min: 6, max: 100\n",
      "depth: 2000, min: 0, max: 114\n",
      "depth: 2500, min: 8, max: 108\n",
      "depth: 3000, min: 13, max: 112\n",
      "depth: 3500, min: 10, max: 102\n",
      "depth: 4000, min: 13, max: 112\n",
      "depth: 4500, min: 8, max: 108\n",
      "depth: 5000, min: 3, max: 109\n",
      "depth: 5500, min: 4, max: 101\n"
     ]
    }
   ],
   "source": [
    "print(\"depthsRange\")\n",
    "print(\"f(d): [d, randInt, randInt]\")\n",
    "print(\"return f(v) for v in depths\\n\")\n",
    "\n",
    "for t in depthsRange:\n",
    "    print(f\"depth: {t[0]}, min: {t[1]}, max: {t[2]}\")"
   ]
  },
  {
   "cell_type": "code",
   "execution_count": 5,
   "metadata": {},
   "outputs": [],
   "source": [
    "depthsRangePairs = [[depthsRange[n-1], depthsRange[n]] for n in range(1,len(depthsRange))]"
   ]
  },
  {
   "cell_type": "code",
   "execution_count": 60,
   "metadata": {},
   "outputs": [
    {
     "name": "stdout",
     "output_type": "stream",
     "text": [
      "depthsRangePairs\n",
      "f(i): A_i\n",
      "g(i): A_{i-1}\n",
      "return [f(n), g(n)] for n in range(1, 11)\n",
      "\n",
      "[[750, 1, 103], [1000, 13, 108]]\n",
      "[[1000, 13, 108], [1500, 6, 100]]\n",
      "[[1500, 6, 100], [2000, 0, 114]]\n",
      "[[2000, 0, 114], [2500, 8, 108]]\n",
      "[[2500, 8, 108], [3000, 13, 112]]\n",
      "[[3000, 13, 112], [3500, 10, 102]]\n",
      "[[3500, 10, 102], [4000, 13, 112]]\n",
      "[[4000, 13, 112], [4500, 8, 108]]\n",
      "[[4500, 8, 108], [5000, 3, 109]]\n",
      "[[5000, 3, 109], [5500, 4, 101]]\n"
     ]
    }
   ],
   "source": [
    "print(\"depthsRangePairs\")\n",
    "print(\"f(i): A_i\")\n",
    "print(\"g(i): A_{i-1}\")\n",
    "print(\"return [f(n), g(n)] for n in range(1, 11)\\n\")\n",
    "for p in depthsRangePairs:\n",
    "    print(p)"
   ]
  },
  {
   "cell_type": "code",
   "execution_count": 6,
   "metadata": {},
   "outputs": [],
   "source": [
    "                    p1x0     p0x0    p0x1.   p1x1.     p1d.   p0d.      p0d.   p1d\n",
    "depthsRangeXY = [[[p[1][1],p[0][1],p[0][2],p[1][2]],[p[1][0],p[0][0],p[0][0],p[1][0]]] for p in depthsRangePairs]"
   ]
  },
  {
   "cell_type": "code",
   "execution_count": 59,
   "metadata": {
    "scrolled": true
   },
   "outputs": [
    {
     "name": "stdout",
     "output_type": "stream",
     "text": [
      "depthsRangeXY\n",
      "[A, B] -> ((A_0, B_0), (A_1, B_1), (A_2, B_2), (A_3, B_3))\n",
      "[A, B] -> ((Upper Left), (Lower Left), (Lower Right), (Upper Right))\n",
      "\n",
      "[[13, 1, 103, 108], [1000, 750, 750, 1000]]\t->\t((13,1000), (1,750), (103,750), (108,1000))\n",
      "[[6, 13, 108, 100], [1500, 1000, 1000, 1500]]\t->\t((6,1500), (13,1000), (108,1000), (100,1500))\n",
      "[[0, 6, 100, 114], [2000, 1500, 1500, 2000]]\t->\t((0,2000), (6,1500), (100,1500), (114,2000))\n",
      "[[8, 0, 114, 108], [2500, 2000, 2000, 2500]]\t->\t((8,2500), (0,2000), (114,2000), (108,2500))\n",
      "[[13, 8, 108, 112], [3000, 2500, 2500, 3000]]\t->\t((13,3000), (8,2500), (108,2500), (112,3000))\n",
      "[[10, 13, 112, 102], [3500, 3000, 3000, 3500]]\t->\t((10,3500), (13,3000), (112,3000), (102,3500))\n",
      "[[13, 10, 102, 112], [4000, 3500, 3500, 4000]]\t->\t((13,4000), (10,3500), (102,3500), (112,4000))\n",
      "[[8, 13, 112, 108], [4500, 4000, 4000, 4500]]\t->\t((8,4500), (13,4000), (112,4000), (108,4500))\n",
      "[[3, 8, 108, 109], [5000, 4500, 4500, 5000]]\t->\t((3,5000), (8,4500), (108,4500), (109,5000))\n",
      "[[4, 3, 109, 101], [5500, 5000, 5000, 5500]]\t->\t((4,5500), (3,5000), (109,5000), (101,5500))\n"
     ]
    }
   ],
   "source": [
    "print(\"depthsRangeXY\")\n",
    "print(\"[A, B] -> ((A_0, B_0), (A_1, B_1), (A_2, B_2), (A_3, B_3))\")\n",
    "print(\"[A, B] -> ((Upper Left), (Lower Left), (Lower Right), (Upper Right))\\n\")\n",
    "for p in depthsRangeXY:\n",
    "    print(f\"{p}\\t->\\t(({p[0][0]},{p[1][0]}), ({p[0][1]},{p[1][1]}), ({p[0][2]},{p[1][2]}), ({p[0][3]},{p[1][3]}))\")"
   ]
  },
  {
   "cell_type": "code",
   "execution_count": 8,
   "metadata": {},
   "outputs": [
    {
     "data": {
      "image/png": "[encoded data removed]",
      "text/plain": [
       "<Figure size 432x288 with 1 Axes>"
      ]
     },
     "metadata": {},
     "output_type": "display_data"
    }
   ],
   "source": [
    "fig, ax = plt.subplots()\n",
    "for d in depthsRangeXY:\n",
    "    ax.fill(d[0],d[1], c='r', alpha=.6)\n",
    "plt.show()"
   ]
  },
  {
   "cell_type": "code",
   "execution_count": null,
   "metadata": {},
   "outputs": [],
   "source": []
  }
 ],
 "metadata": {
  "kernelspec": {
   "display_name": "Python 3",
   "language": "python",
   "name": "python3"
  },
  "language_info": {
   "codemirror_mode": {
    "name": "ipython",
    "version": 3
   },
   "file_extension": ".py",
   "mimetype": "text/x-python",
   "name": "python",
   "nbconvert_exporter": "python",
   "pygments_lexer": "ipython3",
   "version": "3.6.5"
  }
 },
 "nbformat": 4,
 "nbformat_minor": 2
}
