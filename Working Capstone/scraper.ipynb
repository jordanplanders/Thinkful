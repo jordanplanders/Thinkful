{
 "cells": [
  {
   "cell_type": "code",
   "execution_count": null,
   "metadata": {},
   "outputs": [],
   "source": [
    "from bs4 import BeautifulSoup as bf\n",
    "import requests\n",
    "import re\n",
    "import time\n",
    "import pickle\n",
    "from collections import defaultdict\n",
    "import pandas as pd\n"
   ]
  },
  {
   "cell_type": "code",
   "execution_count": null,
   "metadata": {},
   "outputs": [],
   "source": [
    "#utility methods\n",
    "def load_soup(url):\n",
    "    html = requests.get(url).text\n",
    "    soup = bf(html, 'html5lib')\n",
    "    return soup\n",
    "\n",
    "# takes url list, scrapes, returns pages of soup for a particular drug\n",
    "def scrape_parse_reviews(url, drug, parser, tag):\n",
    "    page = load_soup(url)\n",
    "    rev_stew = page.find_all('div' ,{'class' : tag})\n",
    "    for ik, item in enumerate(rev_stew):\n",
    "        new_review = review(drug, item, parser, ik)\n",
    "        drug.reviews.append(new_review)\n",
    "    return drug "
   ]
  }
 ],
 "metadata": {
  "kernelspec": {
   "display_name": "please_work3",
   "language": "python",
   "name": "please_work3"
  },
  "language_info": {
   "codemirror_mode": {
    "name": "ipython",
    "version": 3
   },
   "file_extension": ".py",
   "mimetype": "text/x-python",
   "name": "python",
   "nbconvert_exporter": "python",
   "pygments_lexer": "ipython3",
   "version": "3.6.5"
  }
 },
 "nbformat": 4,
 "nbformat_minor": 2
}
