{
 "cells": [
  {
   "cell_type": "code",
   "execution_count": 36,
   "metadata": {},
   "outputs": [],
   "source": [
    "from chem_ocean.ocean_data import dataFetcher"
   ]
  },
  {
   "cell_type": "code",
   "execution_count": 37,
   "metadata": {},
   "outputs": [],
   "source": [
    "import matplotlib.pyplot as plt\n",
    "%matplotlib inline"
   ]
  },
  {
   "cell_type": "code",
   "execution_count": 38,
   "metadata": {},
   "outputs": [],
   "source": [
    "import numpy as np"
   ]
  },
  {
   "cell_type": "code",
   "execution_count": 110,
   "metadata": {},
   "outputs": [],
   "source": [
    "path = 'raw_demo_plots/histograms/'\n",
    "title_sz = 27\n",
    "axis_sz = 22\n",
    "tick_sz = 21"
   ]
  },
  {
   "cell_type": "code",
   "execution_count": 125,
   "metadata": {},
   "outputs": [],
   "source": [
    "tracer = 'phosphate'\n",
    "_in_var_names = [tracer]\n",
    "sum_names = ['station', 'longitude', 'latitude', 'depth'] + _in_var_names\n",
    "cols = ', '.join(sum_names)\n",
    "_x_var = 'longitude'\n",
    "_y_var = 'latitude'\n",
    "\n",
    "query = 'SELECT '+ cols+' FROM woa13 WHERE depth>2500 and longitude >-70 and longitude < 15'\n",
    "\n",
    "dataset = dataFetcher()\n",
    "dataset.return_from_psql(query, sum_names, _in_var_names, _x_var, _y_var)\n",
    "\n",
    "query = 'SELECT '+ cols+' FROM woa13 WHERE depth>2500'\n",
    "\n",
    "dataset2 = dataFetcher()\n",
    "dataset2.return_from_psql(query, sum_names, _in_var_names, _x_var, _y_var)"
   ]
  },
  {
   "cell_type": "code",
   "execution_count": 128,
   "metadata": {},
   "outputs": [
    {
     "data": {
      "image/png": "[encoded data removed]",
      "text/plain": [
       "<matplotlib.figure.Figure at 0x10e0ca160>"
      ]
     },
     "metadata": {},
     "output_type": "display_data"
    }
   ],
   "source": [
    "plt.figure(figsize = (8,6))\n",
    "\n",
    "\n",
    "n, bins, patches = plt.hist(dataset._feat_data, 100, color = 'green', alpha = .7)\n",
    "n, bins, patches = plt.hist(dataset2._feat_data, 100, color = 'green', alpha = .7)\n",
    "\n",
    "\n",
    "plt.xlim([-.5, 4.5])\n",
    "\n",
    "plt.ylabel('Counts', fontsize=axis_sz-4)\n",
    "plt.xlabel('Phosphate ($\\mu$mol/l)', fontsize=axis_sz-5)\n",
    "\n",
    "plt.xticks(size = tick_sz-8)\n",
    "plt.yticks(size = tick_sz-8)\n",
    "\n",
    "\n",
    "name1 = tracer+'_alldata_Atl'\n",
    "plt.savefig(path+name1+'.png', dpi=None, facecolor='w', edgecolor='w',\n",
    "        orientation='portrait', papertype=None, format=None,\n",
    "        transparent=False, bbox_inches=None, pad_inches=0.1,\n",
    "        frameon=None)"
   ]
  },
  {
   "cell_type": "code",
   "execution_count": 23,
   "metadata": {},
   "outputs": [
    {
     "data": {
      "text/plain": [
       "11.6205"
      ]
     },
     "execution_count": 23,
     "metadata": {},
     "output_type": "execute_result"
    }
   ],
   "source": [
    "np.max(dataset._feat_data)"
   ]
  },
  {
   "cell_type": "code",
   "execution_count": 129,
   "metadata": {},
   "outputs": [],
   "source": [
    "tracer = 'salinity'\n",
    "_in_var_names = [tracer]\n",
    "sum_names = ['station', 'longitude', 'latitude', 'depth'] + _in_var_names\n",
    "cols = ', '.join(sum_names)\n",
    "_x_var = 'longitude'\n",
    "_y_var = 'latitude'\n",
    "\n",
    "query = 'SELECT '+ cols+' FROM woa13 WHERE depth>2500 and longitude >-70 and longitude < 0'\n",
    "dataset2 = dataFetcher()\n",
    "dataset2.return_from_psql(query, sum_names, _in_var_names, _x_var, _y_var)\n",
    "\n",
    "query = 'SELECT '+ cols+' FROM woa13 WHERE depth>2500'\n",
    "dataset = dataFetcher()\n",
    "dataset.return_from_psql(query, sum_names, _in_var_names, _x_var, _y_var)\n",
    "\n",
    "query = 'SELECT '+ cols+' FROM woa13 WHERE latitude <70 and latitude > 50 and longitude < -15 and longitude >-50 and depth >2500'\n",
    "dataset_NA = dataFetcher()\n",
    "dataset_NA.return_from_psql(query, sum_names, _in_var_names, _x_var, _y_var)\n",
    "\n",
    "query = 'SELECT '+ cols+' FROM woa13 WHERE latitude <-50 and latitude > -70 and longitude < -25 and longitude >-60 and depth > 2500'\n",
    "dataset_SA = dataFetcher()\n",
    "dataset_SA.return_from_psql(query, sum_names, _in_var_names, _x_var, _y_var)\n"
   ]
  },
  {
   "cell_type": "code",
   "execution_count": 130,
   "metadata": {},
   "outputs": [
    {
     "name": "stdout",
     "output_type": "stream",
     "text": [
      "30.5 33.5 2700.0\n"
     ]
    }
   ],
   "source": [
    "max_f = np.argmax(dataset._feat_data)\n",
    "print(dataset._x[max_f], dataset._y[max_f], dataset._d[max_f])"
   ]
  },
  {
   "cell_type": "code",
   "execution_count": 131,
   "metadata": {},
   "outputs": [
    {
     "data": {
      "image/png": "[encoded data removed]",
      "text/plain": [
       "<matplotlib.figure.Figure at 0x112b93240>"
      ]
     },
     "metadata": {},
     "output_type": "display_data"
    }
   ],
   "source": [
    "plt.figure(figsize = (8,6))\n",
    "\n",
    "n, bins, patches = plt.hist(dataset._feat_data, 100, color = 'red', alpha = .2)\n",
    "n, bins, patches = plt.hist(dataset2._feat_data, 100, color = 'red', alpha = .4)#,log = True )\n",
    "# n, bins, patches = plt.hist(dataset_NA._feat_data, 100, color = 'blue', alpha = .4, log = True)\n",
    "# n, bins, patches = plt.hist(dataset_SA._feat_data, 100, color = 'purple', alpha = .4, log = True)\n",
    "\n",
    "\n",
    "plt.xlim([34, 36])\n",
    "\n",
    "plt.ylabel('Counts', fontsize=axis_sz-4)\n",
    "plt.xlabel('Salinity (psu)', fontsize=axis_sz-5)\n",
    "\n",
    "plt.xticks(size = tick_sz-8)\n",
    "plt.yticks(size = tick_sz-8)\n",
    "name1 = tracer+'_alldata_Atl'\n",
    "plt.savefig(path+name1+'.png', dpi=None, facecolor='w', edgecolor='w',\n",
    "        orientation='portrait', papertype=None, format=None,\n",
    "        transparent=False, bbox_inches=None, pad_inches=0.1,\n",
    "        frameon=None)"
   ]
  },
  {
   "cell_type": "code",
   "execution_count": 18,
   "metadata": {},
   "outputs": [
    {
     "data": {
      "text/plain": [
       "40.591301000000001"
      ]
     },
     "execution_count": 18,
     "metadata": {},
     "output_type": "execute_result"
    }
   ],
   "source": [
    "np.max(dataset._feat_data)"
   ]
  },
  {
   "cell_type": "code",
   "execution_count": 28,
   "metadata": {},
   "outputs": [],
   "source": [
    "tracer = 'temperature'\n",
    "_in_var_names = [tracer]\n",
    "sum_names = ['station', 'longitude', 'latitude', 'depth'] + _in_var_names\n",
    "cols = ', '.join(sum_names)\n",
    "_x_var = 'longitude'\n",
    "_y_var = 'latitude'\n",
    "\n",
    "query = 'SELECT '+ cols+' FROM woa13'\n",
    "\n",
    "dataset = dataFetcher()\n",
    "dataset.return_from_psql(query, sum_names, _in_var_names, _x_var, _y_var)"
   ]
  },
  {
   "cell_type": "code",
   "execution_count": 31,
   "metadata": {},
   "outputs": [
    {
     "data": {
      "image/png": "[encoded data removed]",
      "text/plain": [
       "<matplotlib.figure.Figure at 0x1070bc8d0>"
      ]
     },
     "metadata": {},
     "output_type": "display_data"
    }
   ],
   "source": [
    "n, bins, patches = plt.hist(dataset._feat_data, 100, color = 'blue', alpha = .7)\n",
    "# plt.xlim([-8, 30])\n",
    "name1 = tracer+'_alldata'\n",
    "plt.savefig(path+name1+'.png', dpi=None, facecolor='w', edgecolor='w',\n",
    "        orientation='portrait', papertype=None, format=None,\n",
    "        transparent=False, bbox_inches=None, pad_inches=0.1,\n",
    "        frameon=None)"
   ]
  },
  {
   "cell_type": "code",
   "execution_count": 18,
   "metadata": {},
   "outputs": [
    {
     "data": {
      "text/plain": [
       "40.591301000000001"
      ]
     },
     "execution_count": 18,
     "metadata": {},
     "output_type": "execute_result"
    }
   ],
   "source": [
    "np.max(dataset._feat_data)"
   ]
  },
  {
   "cell_type": "code",
   "execution_count": 60,
   "metadata": {},
   "outputs": [],
   "source": [
    "tracer = 'oxygen'\n",
    "_in_var_names = [tracer]\n",
    "sum_names = ['station', 'longitude', 'latitude', 'depth'] + _in_var_names\n",
    "cols = ', '.join(sum_names)\n",
    "_x_var = 'longitude'\n",
    "_y_var = 'latitude'\n",
    "\n",
    "query = 'SELECT '+ cols+' FROM woa13'\n",
    "\n",
    "dataset = dataFetcher()\n",
    "dataset.return_from_psql(query, sum_names, _in_var_names, _x_var, _y_var)"
   ]
  },
  {
   "cell_type": "code",
   "execution_count": 61,
   "metadata": {},
   "outputs": [
    {
     "data": {
      "image/png": "[encoded data removed]",
      "text/plain": [
       "<matplotlib.figure.Figure at 0x1086e2860>"
      ]
     },
     "metadata": {},
     "output_type": "display_data"
    }
   ],
   "source": [
    "n, bins, patches = plt.hist(dataset._feat_data, 100, color = 'purple', alpha = .7)\n",
    "# plt.xlim([-8, 30])\n",
    "name1 = tracer+'_alldata'\n",
    "plt.savefig(path+name1+'.png', dpi=None, facecolor='w', edgecolor='w',\n",
    "        orientation='portrait', papertype=None, format=None,\n",
    "        transparent=False, bbox_inches=None, pad_inches=0.1,\n",
    "        frameon=None)"
   ]
  },
  {
   "cell_type": "code",
   "execution_count": 18,
   "metadata": {},
   "outputs": [
    {
     "data": {
      "text/plain": [
       "40.591301000000001"
      ]
     },
     "execution_count": 18,
     "metadata": {},
     "output_type": "execute_result"
    }
   ],
   "source": [
    "np.max(dataset._feat_data)"
   ]
  },
  {
   "cell_type": "code",
   "execution_count": null,
   "metadata": {},
   "outputs": [],
   "source": []
  },
  {
   "cell_type": "code",
   "execution_count": 54,
   "metadata": {},
   "outputs": [],
   "source": [
    "# checked and there is only one observation per latitude-longitude-depth point so \n",
    "# counts reflect the number of locations, not number of data points collected\n",
    "\n",
    "import pandas as pd\n",
    "df = pd.DataFrame()\n",
    "df['feat_data'] = dataset._feat_data\n",
    "df['lon'] = dataset._x\n",
    "df['lat'] = dataset._y\n",
    "df['depth'] = dataset._d\n",
    "\n",
    "unique_lon = np.array((np.unique(dataset._x))\n",
    "unique_lat = np.array(np.unique(dataset._y))\n",
    "unique_depth = np.array(np.unique(dataset._d))\n",
    "                      \n",
    "                      averages = []\n",
    "counts = []\n",
    "lats = []\n",
    "lons = []\n",
    "depths = []\n",
    "\n",
    "for lon in unique_lon:\n",
    "    for lat in unique_lat:\n",
    "        for depth in unique_depth:\n",
    "            data = df.feat_data[(df.lon == lon) & (df.lat == lat) & (df.depth == depth)]\n",
    "            averages.append(data.mean())\n",
    "            counts.append(data.count())\n",
    "            if data.count()>1:\n",
    "                print(data.count())\n",
    "            lats.append(lat)\n",
    "            lons.append(lon)\n",
    "            depths.append(depth)"
   ]
  }
 ],
 "metadata": {
  "kernelspec": {
   "display_name": "please_work3",
   "language": "python",
   "name": "please_work3"
  },
  "language_info": {
   "codemirror_mode": {
    "name": "ipython",
    "version": 3
   },
   "file_extension": ".py",
   "mimetype": "text/x-python",
   "name": "python",
   "nbconvert_exporter": "python",
   "pygments_lexer": "ipython3",
   "version": "3.6.5"
  }
 },
 "nbformat": 4,
 "nbformat_minor": 2
}
