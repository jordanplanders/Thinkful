{
 "cells": [
  {
   "cell_type": "markdown",
   "metadata": {},
   "source": [
    "## Unit 1"
   ]
  },
  {
   "cell_type": "code",
   "execution_count": 15,
   "metadata": {
    "collapsed": false
   },
   "outputs": [
    {
     "name": "stdout",
     "output_type": "stream",
     "text": [
      "[0, 1, 1, 2, 3, 5, 8, 13, 21, 34, 55, 89]\n"
     ]
    }
   ],
   "source": [
    "n = 10\n",
    "fib_list = [0,1]\n",
    "\n",
    "for ik in range(2,n+2):\n",
    "    fib_list.append(fib_list[ik-2]+fib_list[ik-1])\n",
    "\n",
    "print(fib_list)"
   ]
  },
  {
   "cell_type": "markdown",
   "metadata": {},
   "source": [
    "## Unit 2 - Intro do Data Science Toolkit"
   ]
  },
  {
   "cell_type": "markdown",
   "metadata": {},
   "source": [
    "To demonstrate I understand how to work with files in Pandas and Numpy, I am reading in datasets from csv, xml, and json. I am selecting and grouping data from those sets and exporting subsequent dataframes as csv files. "
   ]
  },
  {
   "cell_type": "code",
   "execution_count": 5,
   "metadata": {
    "collapsed": false
   },
   "outputs": [],
   "source": [
    "import pandas as pd\n",
    "import numpy as np\n",
    "import matplotlib.pyplot as plt\n",
    "\n",
    "%matplotlib inline"
   ]
  },
  {
   "cell_type": "markdown",
   "metadata": {
    "collapsed": true
   },
   "source": [
    "## Unit 3- Statistics for Data Science"
   ]
  },
  {
   "cell_type": "markdown",
   "metadata": {},
   "source": [
    "### Lesson 4"
   ]
  },
  {
   "cell_type": "markdown",
   "metadata": {},
   "source": [
    "Good exercise to create two populations, one with high variance, one with low variance, plot them as histograms, then sample them ramdomply for n=100 and calculate mean, standard deviation, standard error"
   ]
  },
  {
   "cell_type": "code",
   "execution_count": 9,
   "metadata": {
    "collapsed": false
   },
   "outputs": [
    {
     "name": "stdout",
     "output_type": "stream",
     "text": [
      "low_var      95.025514\n",
      "high_var    397.838987\n",
      "dtype: float64\n",
      "low_var      21.188352\n",
      "high_var   -301.225341\n",
      "dtype: float64\n"
     ]
    },
    {
     "data": {
      "image/png": "[encoded data removed]",
      "text/plain": [
       "<matplotlib.figure.Figure at 0x106eb6c18>"
      ]
     },
     "metadata": {},
     "output_type": "display_data"
    }
   ],
   "source": [
    "pop = pd.DataFrame()\n",
    "\n",
    "pop['low_var'] = np.random.normal(60, 10, 10000)\n",
    "pop['high_var'] = np.random.normal(60, 100, 10000)\n",
    "\n",
    "pop.hist(layout=(2,1), sharex=True)\n",
    "\n",
    "print(pop.max())\n",
    "print(pop.min())"
   ]
  },
  {
   "cell_type": "code",
   "execution_count": 18,
   "metadata": {
    "collapsed": false
   },
   "outputs": [
    {
     "name": "stdout",
     "output_type": "stream",
     "text": [
      "mean \n",
      " low_var     61.320737\n",
      "high_var    62.608288\n",
      "dtype: float64\n",
      "std dev \n",
      " low_var      9.354100\n",
      "high_var    92.153259\n",
      "dtype: float64\n",
      "std error \n",
      " low_var     0.935410\n",
      "high_var    9.215326\n",
      "dtype: float64\n"
     ]
    },
    {
     "data": {
      "image/png": "[encoded data removed]",
      "text/plain": [
       "<matplotlib.figure.Figure at 0x10731e358>"
      ]
     },
     "metadata": {},
     "output_type": "display_data"
    }
   ],
   "source": [
    "sample = pd.DataFrame()\n",
    "\n",
    "sample['low_var'] = np.random.choice(pop['low_var'], 100)\n",
    "sample['high_var'] = np.random.choice(pop['high_var'], 100)\n",
    "\n",
    "sample.hist(layout=(2,1), sharex=True)\n",
    "\n",
    "print('mean', '\\n', sample.mean())\n",
    "print('std dev', '\\n', sample.std(ddof=1))\n",
    "print('std error', '\\n', np.std(sample, ddof=1)/len(sample['low_var'])**.5)"
   ]
  },
  {
   "cell_type": "code",
   "execution_count": 19,
   "metadata": {
    "collapsed": false
   },
   "outputs": [],
   "source": [
    "data = pd.DataFrame()\n",
    "\n",
    "data['gender'] = ['male']*100 + ['female']*100\n",
    "data['height'] = np.append(np.random.normal(69, 8, 100), np.random.normal(64,5, 100))\n",
    "data['weight'] = np.append(np.random.normal(195, 25, 100), np.random.normal(166, 15, 100))"
   ]
  },
  {
   "cell_type": "code",
   "execution_count": 20,
   "metadata": {
    "collapsed": false
   },
   "outputs": [
    {
     "data": {
      "text/html": [
       "<div>\n",
       "<style scoped>\n",
       "    .dataframe tbody tr th:only-of-type {\n",
       "        vertical-align: middle;\n",
       "    }\n",
       "\n",
       "    .dataframe tbody tr th {\n",
       "        vertical-align: top;\n",
       "    }\n",
       "\n",
       "    .dataframe thead th {\n",
       "        text-align: right;\n",
       "    }\n",
       "</style>\n",
       "<table border=\"1\" class=\"dataframe\">\n",
       "  <thead>\n",
       "    <tr style=\"text-align: right;\">\n",
       "      <th></th>\n",
       "      <th>gender</th>\n",
       "      <th>height</th>\n",
       "      <th>weight</th>\n",
       "    </tr>\n",
       "  </thead>\n",
       "  <tbody>\n",
       "    <tr>\n",
       "      <th>0</th>\n",
       "      <td>male</td>\n",
       "      <td>75.862554</td>\n",
       "      <td>214.275681</td>\n",
       "    </tr>\n",
       "    <tr>\n",
       "      <th>1</th>\n",
       "      <td>male</td>\n",
       "      <td>67.407992</td>\n",
       "      <td>191.437905</td>\n",
       "    </tr>\n",
       "    <tr>\n",
       "      <th>2</th>\n",
       "      <td>male</td>\n",
       "      <td>61.648056</td>\n",
       "      <td>179.240116</td>\n",
       "    </tr>\n",
       "    <tr>\n",
       "      <th>3</th>\n",
       "      <td>male</td>\n",
       "      <td>69.117301</td>\n",
       "      <td>194.139399</td>\n",
       "    </tr>\n",
       "    <tr>\n",
       "      <th>4</th>\n",
       "      <td>male</td>\n",
       "      <td>79.252664</td>\n",
       "      <td>182.210285</td>\n",
       "    </tr>\n",
       "  </tbody>\n",
       "</table>\n",
       "</div>"
      ],
      "text/plain": [
       "  gender     height      weight\n",
       "0   male  75.862554  214.275681\n",
       "1   male  67.407992  191.437905\n",
       "2   male  61.648056  179.240116\n",
       "3   male  69.117301  194.139399\n",
       "4   male  79.252664  182.210285"
      ]
     },
     "execution_count": 20,
     "metadata": {},
     "output_type": "execute_result"
    }
   ],
   "source": [
    "data.head()"
   ]
  },
  {
   "cell_type": "code",
   "execution_count": 21,
   "metadata": {
    "collapsed": false
   },
   "outputs": [
    {
     "data": {
      "text/html": [
       "<div>\n",
       "<style scoped>\n",
       "    .dataframe tbody tr th:only-of-type {\n",
       "        vertical-align: middle;\n",
       "    }\n",
       "\n",
       "    .dataframe tbody tr th {\n",
       "        vertical-align: top;\n",
       "    }\n",
       "\n",
       "    .dataframe thead th {\n",
       "        text-align: right;\n",
       "    }\n",
       "</style>\n",
       "<table border=\"1\" class=\"dataframe\">\n",
       "  <thead>\n",
       "    <tr style=\"text-align: right;\">\n",
       "      <th></th>\n",
       "      <th>height</th>\n",
       "      <th>weight</th>\n",
       "    </tr>\n",
       "  </thead>\n",
       "  <tbody>\n",
       "    <tr>\n",
       "      <th>count</th>\n",
       "      <td>200.000000</td>\n",
       "      <td>200.000000</td>\n",
       "    </tr>\n",
       "    <tr>\n",
       "      <th>mean</th>\n",
       "      <td>65.817282</td>\n",
       "      <td>181.775960</td>\n",
       "    </tr>\n",
       "    <tr>\n",
       "      <th>std</th>\n",
       "      <td>6.658189</td>\n",
       "      <td>26.455699</td>\n",
       "    </tr>\n",
       "    <tr>\n",
       "      <th>min</th>\n",
       "      <td>47.948366</td>\n",
       "      <td>126.643059</td>\n",
       "    </tr>\n",
       "    <tr>\n",
       "      <th>25%</th>\n",
       "      <td>61.220912</td>\n",
       "      <td>161.461366</td>\n",
       "    </tr>\n",
       "    <tr>\n",
       "      <th>50%</th>\n",
       "      <td>65.745570</td>\n",
       "      <td>178.774059</td>\n",
       "    </tr>\n",
       "    <tr>\n",
       "      <th>75%</th>\n",
       "      <td>69.604374</td>\n",
       "      <td>199.665212</td>\n",
       "    </tr>\n",
       "    <tr>\n",
       "      <th>max</th>\n",
       "      <td>86.316663</td>\n",
       "      <td>264.436576</td>\n",
       "    </tr>\n",
       "  </tbody>\n",
       "</table>\n",
       "</div>"
      ],
      "text/plain": [
       "           height      weight\n",
       "count  200.000000  200.000000\n",
       "mean    65.817282  181.775960\n",
       "std      6.658189   26.455699\n",
       "min     47.948366  126.643059\n",
       "25%     61.220912  161.461366\n",
       "50%     65.745570  178.774059\n",
       "75%     69.604374  199.665212\n",
       "max     86.316663  264.436576"
      ]
     },
     "execution_count": 21,
     "metadata": {},
     "output_type": "execute_result"
    }
   ],
   "source": [
    "data.describe()"
   ]
  },
  {
   "cell_type": "code",
   "execution_count": 22,
   "metadata": {
    "collapsed": false
   },
   "outputs": [
    {
     "data": {
      "text/html": [
       "<div>\n",
       "<style scoped>\n",
       "    .dataframe tbody tr th:only-of-type {\n",
       "        vertical-align: middle;\n",
       "    }\n",
       "\n",
       "    .dataframe tbody tr th {\n",
       "        vertical-align: top;\n",
       "    }\n",
       "\n",
       "    .dataframe thead tr th {\n",
       "        text-align: left;\n",
       "    }\n",
       "\n",
       "    .dataframe thead tr:last-of-type th {\n",
       "        text-align: right;\n",
       "    }\n",
       "</style>\n",
       "<table border=\"1\" class=\"dataframe\">\n",
       "  <thead>\n",
       "    <tr>\n",
       "      <th></th>\n",
       "      <th colspan=\"8\" halign=\"left\">height</th>\n",
       "      <th colspan=\"8\" halign=\"left\">weight</th>\n",
       "    </tr>\n",
       "    <tr>\n",
       "      <th></th>\n",
       "      <th>count</th>\n",
       "      <th>mean</th>\n",
       "      <th>std</th>\n",
       "      <th>min</th>\n",
       "      <th>25%</th>\n",
       "      <th>50%</th>\n",
       "      <th>75%</th>\n",
       "      <th>max</th>\n",
       "      <th>count</th>\n",
       "      <th>mean</th>\n",
       "      <th>std</th>\n",
       "      <th>min</th>\n",
       "      <th>25%</th>\n",
       "      <th>50%</th>\n",
       "      <th>75%</th>\n",
       "      <th>max</th>\n",
       "    </tr>\n",
       "    <tr>\n",
       "      <th>gender</th>\n",
       "      <th></th>\n",
       "      <th></th>\n",
       "      <th></th>\n",
       "      <th></th>\n",
       "      <th></th>\n",
       "      <th></th>\n",
       "      <th></th>\n",
       "      <th></th>\n",
       "      <th></th>\n",
       "      <th></th>\n",
       "      <th></th>\n",
       "      <th></th>\n",
       "      <th></th>\n",
       "      <th></th>\n",
       "      <th></th>\n",
       "      <th></th>\n",
       "    </tr>\n",
       "  </thead>\n",
       "  <tbody>\n",
       "    <tr>\n",
       "      <th>female</th>\n",
       "      <td>100.0</td>\n",
       "      <td>62.968820</td>\n",
       "      <td>4.972746</td>\n",
       "      <td>49.022485</td>\n",
       "      <td>59.550865</td>\n",
       "      <td>63.294021</td>\n",
       "      <td>66.820731</td>\n",
       "      <td>75.916415</td>\n",
       "      <td>100.0</td>\n",
       "      <td>165.438004</td>\n",
       "      <td>15.649807</td>\n",
       "      <td>133.876961</td>\n",
       "      <td>154.129165</td>\n",
       "      <td>164.214994</td>\n",
       "      <td>174.441541</td>\n",
       "      <td>202.961549</td>\n",
       "    </tr>\n",
       "    <tr>\n",
       "      <th>male</th>\n",
       "      <td>100.0</td>\n",
       "      <td>68.665744</td>\n",
       "      <td>6.927566</td>\n",
       "      <td>47.948366</td>\n",
       "      <td>64.763004</td>\n",
       "      <td>68.480130</td>\n",
       "      <td>72.869443</td>\n",
       "      <td>86.316663</td>\n",
       "      <td>100.0</td>\n",
       "      <td>198.113916</td>\n",
       "      <td>24.954182</td>\n",
       "      <td>126.643059</td>\n",
       "      <td>180.722162</td>\n",
       "      <td>197.883326</td>\n",
       "      <td>215.902651</td>\n",
       "      <td>264.436576</td>\n",
       "    </tr>\n",
       "  </tbody>\n",
       "</table>\n",
       "</div>"
      ],
      "text/plain": [
       "       height                                                        \\\n",
       "        count       mean       std        min        25%        50%   \n",
       "gender                                                                \n",
       "female  100.0  62.968820  4.972746  49.022485  59.550865  63.294021   \n",
       "male    100.0  68.665744  6.927566  47.948366  64.763004  68.480130   \n",
       "\n",
       "                             weight                                     \\\n",
       "              75%        max  count        mean        std         min   \n",
       "gender                                                                   \n",
       "female  66.820731  75.916415  100.0  165.438004  15.649807  133.876961   \n",
       "male    72.869443  86.316663  100.0  198.113916  24.954182  126.643059   \n",
       "\n",
       "                                                        \n",
       "               25%         50%         75%         max  \n",
       "gender                                                  \n",
       "female  154.129165  164.214994  174.441541  202.961549  \n",
       "male    180.722162  197.883326  215.902651  264.436576  "
      ]
     },
     "execution_count": 22,
     "metadata": {},
     "output_type": "execute_result"
    }
   ],
   "source": [
    "data.groupby('gender').describe()"
   ]
  },
  {
   "cell_type": "code",
   "execution_count": 23,
   "metadata": {
    "collapsed": false
   },
   "outputs": [
    {
     "data": {
      "text/plain": [
       "male      100\n",
       "female    100\n",
       "Name: gender, dtype: int64"
      ]
     },
     "execution_count": 23,
     "metadata": {},
     "output_type": "execute_result"
    }
   ],
   "source": [
    "data.gender.value_counts()"
   ]
  },
  {
   "cell_type": "code",
   "execution_count": null,
   "metadata": {
    "collapsed": true
   },
   "outputs": [],
   "source": []
  },
  {
   "cell_type": "markdown",
   "metadata": {},
   "source": [
    "### Lesson 5- Drill and Practice"
   ]
  },
  {
   "cell_type": "markdown",
   "metadata": {},
   "source": [
    "Greg was 14, Marcia was 12, Peter was 11, Jan was 10, Bobby was 8, and Cindy was 6 when they started playing the Brady kids on The Brady Bunch. Cousin Oliver was 8 years old when he joined the show. What are the mean, median, and mode of the kids' ages when they first appeared on the show? What are the variance, standard deviation, and standard error?"
   ]
  },
  {
   "cell_type": "code",
   "execution_count": 46,
   "metadata": {
    "collapsed": false
   },
   "outputs": [],
   "source": [
    "brady_df = pd.DataFrame()\n",
    "\n",
    "brady_df['name'] = ['Greg', 'Marcia', 'Peter', 'Jan', 'Bobby', 'Oliver', 'Cindy']\n",
    "brady_df['age'] = [14, 12, 11, 10, 8, 8, 6]\n",
    "\n",
    "def calc_brady_stats(brady_df, variable, median_by_inspection, mode_by_inspection):\n",
    "    mean = sum(brady_df[variable])/len(brady_df[variable])\n",
    "    print('mean', mean, brady_df[variable].mean())\n",
    "\n",
    "    median = median_by_inspection #by inspection\n",
    "    print('median', median, brady_df[variable].median())\n",
    "\n",
    "    mode = mode_by_inspection #by inspection\n",
    "    print('mode', mode, brady_df[variable].mode())\n",
    "\n",
    "    variance = sum((brady_df[variable]-mean)**2)/(len(brady_df[variable])-1)\n",
    "    print('variance', variance, brady_df[variable].var(ddof=1))\n",
    "\n",
    "    std= variance**.5\n",
    "    print('std deviation', std, brady_df[variable].std(ddof=1))\n",
    "\n",
    "    std_err = std/(len(brady_df[variable])**.5)\n",
    "    print('std error', std_err, brady_df[variable].sem(ddof=1))\n",
    "\n",
    "#question: this represents the whole Brady clan, so wouldn't n=0?"
   ]
  },
  {
   "cell_type": "code",
   "execution_count": 47,
   "metadata": {
    "collapsed": false
   },
   "outputs": [
    {
     "name": "stdout",
     "output_type": "stream",
     "text": [
      "mean 9.857142857142858 9.85714285714\n",
      "median 10 10.0\n",
      "mode 8 0    8\n",
      "dtype: int64\n",
      "variance 7.476190476190475 7.47619047619\n",
      "std deviation 2.734262327610589 2.73426232761\n",
      "std error 1.0334540197243192 1.03345401972\n"
     ]
    }
   ],
   "source": [
    "calc_brady_stats(brady_df, 'age', 10, 8)"
   ]
  },
  {
   "cell_type": "markdown",
   "metadata": {},
   "source": [
    "Using these estimates, if you had to choose only one estimate of central tendency and one estimate of variance to describe the data, which would you pick and why?\n",
    "Next, Cindy has a birthday. Update your estimates- what changed, and what didn't?"
   ]
  },
  {
   "cell_type": "code",
   "execution_count": 48,
   "metadata": {
    "collapsed": false
   },
   "outputs": [
    {
     "name": "stdout",
     "output_type": "stream",
     "text": [
      "mean 10.0 10.0\n",
      "median 10 10.0\n",
      "mode 8 0    8\n",
      "dtype: int64\n",
      "variance 6.333333333333333 6.33333333333\n",
      "std deviation 2.516611478423583 2.51661147842\n",
      "std error 0.9511897312113418 0.951189731211\n"
     ]
    }
   ],
   "source": [
    "brady_df['age'] = [14, 12, 11, 10, 8, 8, 7]\n",
    "calc_brady_stats(brady_df,'age', 10, 8)"
   ]
  },
  {
   "cell_type": "markdown",
   "metadata": {},
   "source": [
    "Under the circumstances, the median will not change, but average does reflect the older youngest childe (and likely change in functional family dynamics). With this in mind, I would report the mean and standard deviation to capture both the average age and a measure of the spread around that average.  "
   ]
  },
  {
   "cell_type": "code",
   "execution_count": null,
   "metadata": {
    "collapsed": true
   },
   "outputs": [],
   "source": []
  },
  {
   "cell_type": "markdown",
   "metadata": {},
   "source": [
    "Nobody likes Cousin Oliver. Maybe the network should have used an even younger actor. Replace Cousin Oliver with 1-year-old Jessica, then recalculate again. Does this change your choice of central tendency or variance estimation methods?\n"
   ]
  },
  {
   "cell_type": "code",
   "execution_count": 50,
   "metadata": {
    "collapsed": false
   },
   "outputs": [
    {
     "name": "stdout",
     "output_type": "stream",
     "text": [
      "mean 9.0 9.0\n",
      "median 10 10.0\n",
      "mode None 0     1\n",
      "1     7\n",
      "2     8\n",
      "3    10\n",
      "4    11\n",
      "5    12\n",
      "6    14\n",
      "dtype: int64\n",
      "variance 18.0 18.0\n",
      "std deviation 4.242640687119285 4.24264068712\n",
      "std error 1.6035674514745462 1.60356745147\n"
     ]
    }
   ],
   "source": [
    "brady_df['name'] = ['Greg', 'Marcia', 'Peter', 'Jan', 'Bobby', 'Cindy', 'Jessica']\n",
    "brady_df['age'] = [14, 12, 11, 10, 8, 7, 1]\n",
    "\n",
    "calc_brady_stats(brady_df,'age', 10, None)"
   ]
  },
  {
   "cell_type": "markdown",
   "metadata": {},
   "source": []
  },
  {
   "cell_type": "markdown",
   "metadata": {},
   "source": [
    "On the 50th anniversary of The Brady Bunch, four different magazines asked their readers whether they were fans of the show. The answers were: TV Guide 20% fans Entertainment Weekly 23% fans Pop Culture Today 17% fans SciPhi Phanatic 5% fans\n",
    "Based on these numbers, what percentage of adult Americans would you estimate were Brady Bunch fans on the 50th anniversary of the show?"
   ]
  },
  {
   "cell_type": "code",
   "execution_count": 43,
   "metadata": {
    "collapsed": false
   },
   "outputs": [
    {
     "data": {
      "text/html": [
       "<div>\n",
       "<style scoped>\n",
       "    .dataframe tbody tr th:only-of-type {\n",
       "        vertical-align: middle;\n",
       "    }\n",
       "\n",
       "    .dataframe tbody tr th {\n",
       "        vertical-align: top;\n",
       "    }\n",
       "\n",
       "    .dataframe thead th {\n",
       "        text-align: right;\n",
       "    }\n",
       "</style>\n",
       "<table border=\"1\" class=\"dataframe\">\n",
       "  <thead>\n",
       "    <tr style=\"text-align: right;\">\n",
       "      <th></th>\n",
       "      <th>fan_percent</th>\n",
       "    </tr>\n",
       "  </thead>\n",
       "  <tbody>\n",
       "    <tr>\n",
       "      <th>count</th>\n",
       "      <td>4.000000</td>\n",
       "    </tr>\n",
       "    <tr>\n",
       "      <th>mean</th>\n",
       "      <td>0.187500</td>\n",
       "    </tr>\n",
       "    <tr>\n",
       "      <th>std</th>\n",
       "      <td>0.096047</td>\n",
       "    </tr>\n",
       "    <tr>\n",
       "      <th>min</th>\n",
       "      <td>0.050000</td>\n",
       "    </tr>\n",
       "    <tr>\n",
       "      <th>25%</th>\n",
       "      <td>0.162500</td>\n",
       "    </tr>\n",
       "    <tr>\n",
       "      <th>50%</th>\n",
       "      <td>0.215000</td>\n",
       "    </tr>\n",
       "    <tr>\n",
       "      <th>75%</th>\n",
       "      <td>0.240000</td>\n",
       "    </tr>\n",
       "    <tr>\n",
       "      <th>max</th>\n",
       "      <td>0.270000</td>\n",
       "    </tr>\n",
       "  </tbody>\n",
       "</table>\n",
       "</div>"
      ],
      "text/plain": [
       "       fan_percent\n",
       "count     4.000000\n",
       "mean      0.187500\n",
       "std       0.096047\n",
       "min       0.050000\n",
       "25%       0.162500\n",
       "50%       0.215000\n",
       "75%       0.240000\n",
       "max       0.270000"
      ]
     },
     "execution_count": 43,
     "metadata": {},
     "output_type": "execute_result"
    }
   ],
   "source": [
    "brady50_df = pd.DataFrame()\n",
    "\n",
    "brady50_df['mag'] = ['TVGuide', 'Entertainment Weekly', 'Pop Culture Today', 'SciPhi Phanatic']\n",
    "brady50_df['fan_percent'] = [.2, .23, .27, .05]\n",
    "\n",
    "brady50_df.describe()"
   ]
  },
  {
   "cell_type": "code",
   "execution_count": 51,
   "metadata": {
    "collapsed": false
   },
   "outputs": [
    {
     "name": "stdout",
     "output_type": "stream",
     "text": [
      "mean 0.18750000000000003 0.1875\n",
      "median 0.215 0.21500000000000002\n",
      "mode None 0    0.05\n",
      "1    0.20\n",
      "2    0.23\n",
      "3    0.27\n",
      "dtype: float64\n",
      "variance 0.009224999999999999 0.009225\n",
      "std deviation 0.09604686356149272 0.0960468635615\n",
      "std error 0.04802343178074636 0.0480234317807\n"
     ]
    }
   ],
   "source": [
    "calc_brady_stats(brady50_df,'fan_percent', .215, None)"
   ]
  },
  {
   "cell_type": "markdown",
   "metadata": {},
   "source": [
    "A sample size of four magazines is VERY small, but I would report the median value given that the low value is a single value in the bottom quartile."
   ]
  },
  {
   "cell_type": "markdown",
   "metadata": {},
   "source": [
    "### Lesson 2: Monty Hall simulation"
   ]
  },
  {
   "cell_type": "code",
   "execution_count": 5,
   "metadata": {
    "collapsed": true
   },
   "outputs": [],
   "source": [
    "from random import shuffle\n",
    "from random import choice"
   ]
  },
  {
   "cell_type": "code",
   "execution_count": 9,
   "metadata": {
    "collapsed": false
   },
   "outputs": [],
   "source": [
    "def new_exp():\n",
    "    car_door = choice(doors)\n",
    "    pick_door = choice(doors)\n",
    "    return car_door, pick_door"
   ]
  },
  {
   "cell_type": "code",
   "execution_count": 10,
   "metadata": {
    "collapsed": false
   },
   "outputs": [],
   "source": [
    "def open_first_door(pick_door, car_door, doors):\n",
    "    for door in doors:\n",
    "        if door != pick_door and door != car_door:\n",
    "            doors.remove(door)\n",
    "            return doors"
   ]
  },
  {
   "cell_type": "code",
   "execution_count": 24,
   "metadata": {
    "collapsed": false
   },
   "outputs": [
    {
     "name": "stdout",
     "output_type": "stream",
     "text": [
      "changed then won: 0.6774847870182555\n",
      "stayed then won: 0.31952662721893493\n"
     ]
    }
   ],
   "source": [
    "win_stay = 0\n",
    "win_change = 0\n",
    "\n",
    "total_stay = 0\n",
    "total_change = 0\n",
    "for ik in range(1000):\n",
    "    doors = [0,1,2]\n",
    "    car_door, pick_door = new_exp()\n",
    "    doors = open_first_door(pick_door, car_door, doors)\n",
    "    stay_go = choice(['go','stay'])\n",
    "\n",
    "    if stay_go == 'stay':\n",
    "        total_stay +=1\n",
    "        if car_door == pick_door:\n",
    "            win_stay += 1\n",
    "    if stay_go == 'go':\n",
    "        total_change +=1\n",
    "        if car_door != pick_door:\n",
    "            win_change += 1\n",
    "\n",
    "print('changed then won:', win_change/total_change)\n",
    "print('stayed then won:', win_stay/total_stay)"
   ]
  }
 ],
 "metadata": {
  "kernelspec": {
   "display_name": "please_work3",
   "language": "python",
   "name": "please_work3"
  }
 },
 "nbformat": 4,
 "nbformat_minor": 2
}
