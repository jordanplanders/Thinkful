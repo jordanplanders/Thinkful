{
 "cells": [
  {
   "cell_type": "markdown",
   "metadata": {},
   "source": [
    "# Challenge: What test to use  \n",
    "Estimated Time: 2-3 hours  \n",
    "Using selected questions from the 2012 and 2014 editions of the European Social Survey, address the following questions. Keep track of your code and results in a Jupyter notebook or other source that you can share with your mentor. For each question, explain why you chose the approach you did.  \n",
    "\n",
    "In this dataset, the same participants answered questions in 2012 and again 2014."
   ]
  },
  {
   "cell_type": "code",
   "execution_count": 90,
   "metadata": {},
   "outputs": [],
   "source": [
    "import pandas as pd\n",
    "from scipy import stats\n",
    "import numpy as np\n",
    "import matplotlib.pylab as plt\n",
    "import itertools"
   ]
  },
  {
   "cell_type": "code",
   "execution_count": 2,
   "metadata": {},
   "outputs": [],
   "source": [
    "ESS_df = pd.read_csv('ESSdata_Thinkful.csv')"
   ]
  },
  {
   "cell_type": "code",
   "execution_count": 17,
   "metadata": {},
   "outputs": [
    {
     "name": "stdout",
     "output_type": "stream",
     "text": [
      "<class 'pandas.core.frame.DataFrame'>\n",
      "RangeIndex: 8594 entries, 0 to 8593\n",
      "Data columns (total 13 columns):\n",
      "cntry      8594 non-null object\n",
      "idno       8594 non-null float64\n",
      "year       8594 non-null int64\n",
      "tvtot      8586 non-null float64\n",
      "ppltrst    8580 non-null float64\n",
      "pplfair    8555 non-null float64\n",
      "pplhlp     8569 non-null float64\n",
      "happy      8563 non-null float64\n",
      "sclmeet    8579 non-null float64\n",
      "sclact     8500 non-null float64\n",
      "gndr       8584 non-null float64\n",
      "agea       8355 non-null float64\n",
      "partner    8577 non-null float64\n",
      "dtypes: float64(11), int64(1), object(1)\n",
      "memory usage: 872.9+ KB\n"
     ]
    }
   ],
   "source": [
    "ESS_df.info()"
   ]
  },
  {
   "cell_type": "code",
   "execution_count": 130,
   "metadata": {},
   "outputs": [],
   "source": [
    "def test_normalcy(grp_labels, grp_dfs, trait_label):\n",
    "    for ik in range(len(grp_labels)):\n",
    "        print(grp_labels[ik], ':', '(nans)', grp_dfs[ik][trait_label].isna().sum(), \n",
    "              '(total length)', len(grp_dfs[ik][trait_label]))\n",
    "    print('standard deviations:', [grp_dfs[ik][trait_label].dropna().std() for ik in range(len(grp_labels))])\n",
    "    print('Shapiro-Wilk Test:', [stats.shapiro(grp_dfs[ik][trait_label].dropna()) for ik in range(len(grp_labels))])\n"
   ]
  },
  {
   "cell_type": "code",
   "execution_count": 141,
   "metadata": {},
   "outputs": [],
   "source": [
    "# function to run and report test results\n",
    "def run_test(test, grp_labels, grp_dfs, trait_label, characteristic, **kwargs):\n",
    "    ij_vect = [ij for ij in range(len(grp_dfs)) if len(grp_dfs[ij][trait_label].dropna())>3]\n",
    "    if len(ij_vect)>1:\n",
    "        data = [grp_dfs[ij][trait_label] for ij in ij_vect]\n",
    "    \n",
    "    if test == 'paired_ttest':\n",
    "        t, p = stats.ttest_rel(*data, nan_policy = 'omit')\n",
    "    elif test == 'unpaired_ttest':\n",
    "        t, p = stats.ttest_ind(*data, nan_policy = 'omit')\n",
    "    elif test == 'oneway_anova':\n",
    "        try:\n",
    "            f, p = stats.f_oneway(*[data_set.dropna() for data_set in data])\n",
    "        except:\n",
    "            p = np.nan\n",
    "    \n",
    "    if p<.05:\n",
    "        if 'ttest' in test:\n",
    "            if (grp_dfs[1][trait_label].mean() > grp_dfs[0][trait_label].mean()):\n",
    "                    print('*population:', grp_labels[1], 'is greater in ', characteristic, 'than population:',grp_labels[0] )\n",
    "                    print('\\t',grp_labels[0],':', grp_dfs[0][trait_label].mean(),'\\n\\t', grp_labels[1],':', grp_dfs[1][trait_label].mean(), 'p:', p)\n",
    "            else:\n",
    "                    print('*population:', grp_labels[1], 'is less in ', characteristic, 'than population:',grp_labels[0] )\n",
    "                    print('\\t', grp_labels[0],':', grp_dfs[0][trait_label].mean(),'\\n\\t', grp_labels[1],':', grp_dfs[1][trait_label].mean(), 'p:', p)\n",
    "    else:\n",
    "        print([grp_labels[ij] for ij in ij_vect], 'There is no statistical difference between the populations.  p =',p )\n",
    "        ij_vect = []\n",
    "    return ij_vect"
   ]
  },
  {
   "cell_type": "markdown",
   "metadata": {},
   "source": [
    "1. Did people become less trusting from 2012 to 2014? Compute results for each country in the sample."
   ]
  },
  {
   "cell_type": "code",
   "execution_count": 133,
   "metadata": {},
   "outputs": [
    {
     "name": "stdout",
     "output_type": "stream",
     "text": [
      "\n",
      " CH\n",
      "['2012', '2014'] There is no statistical difference between the populations.  p = 0.5102943511301135\n",
      "\n",
      " CZ\n",
      "['2012', '2014'] There is no statistical difference between the populations.  p = 0.617129268240474\n",
      "\n",
      " DE\n",
      "['2012', '2014'] There is no statistical difference between the populations.  p = 0.8568563797095805\n",
      "\n",
      " ES\n",
      "*population: 2014 is less in  trustworthiness than population: 2012\n",
      "\t 2012 : 5.114591920857379 2014 : 4.895127993393889 p: 0.014181580725320284\n",
      "\n",
      " NO\n",
      "['2012', '2014'] There is no statistical difference between the populations.  p = 0.61209257015177\n",
      "\n",
      " SE\n",
      "*population: 2014 is greater in  trustworthiness than population: 2012\n",
      "\t 2012 : 6.058498896247241 2014 : 6.257709251101321 p: 0.03900781670958545\n"
     ]
    }
   ],
   "source": [
    "grp_labels = ['2012', '2014']\n",
    "grp_dfs = [grps_gender[0][1], grps_gender[1][1]]\n",
    "trait_label = 'ppltrst'\n",
    "characteristic = 'trustworthiness'\n",
    "\n",
    "grps_cntry = ESS_df.groupby('cntry')\n",
    "for cntry_grp in grps_cntry:\n",
    "    print('\\n', cntry_grp[0])\n",
    "    grp_dfs = [grp[1] for grp in cntry_grp[1].groupby('year')]\n",
    "    run_test('paired_ttest', grp_labels, grp_dfs, trait_label, characteristic)"
   ]
  },
  {
   "cell_type": "markdown",
   "metadata": {},
   "source": [
    "It appears that in Sweden and Spain, people viewed the population as different in its level of trustworthiness between 2014 and 2012 (based on a p= .05 threshold). In all other contries considered, there wasn't a statistical difference between attitudes in 2012 and 2014."
   ]
  },
  {
   "cell_type": "markdown",
   "metadata": {},
   "source": [
    "2. Did people become happier from 2012 to 2014? Compute results for each country in the sample."
   ]
  },
  {
   "cell_type": "code",
   "execution_count": 134,
   "metadata": {},
   "outputs": [
    {
     "name": "stdout",
     "output_type": "stream",
     "text": [
      "\n",
      " CH\n",
      "['2012', '2014'] There is no statistical difference between the populations.  p = 0.7495001355429063\n",
      "\n",
      " CZ\n",
      "['2012', '2014'] There is no statistical difference between the populations.  p = 0.1458454843389451\n",
      "\n",
      " DE\n",
      "['2012', '2014'] There is no statistical difference between the populations.  p = 0.4346138707734991\n",
      "\n",
      " ES\n",
      "['2012', '2014'] There is no statistical difference between the populations.  p = 0.10682451556479494\n",
      "\n",
      " NO\n",
      "*population: 2014 is less in  happiness than population: 2012\n",
      "\t 2012 : 8.25171939477304 2014 : 7.9151846785225715 p: 2.067453013405473e-05\n",
      "\n",
      " SE\n",
      "['2012', '2014'] There is no statistical difference between the populations.  p = 0.5768709591233714\n"
     ]
    }
   ],
   "source": [
    "grp_labels = ['2012', '2014']\n",
    "trait_label = 'happy'\n",
    "characteristic = 'happiness'\n",
    "\n",
    "grps_cntry = ESS_df.groupby('cntry')\n",
    "for cntry_grp in grps_cntry:\n",
    "    print('\\n', cntry_grp[0])\n",
    "    grp_dfs = [grp[1] for grp in cntry_grp[1].groupby('year')]\n",
    "    run_test('paired_ttest', grp_labels, grp_dfs, trait_label, characteristic)\n"
   ]
  },
  {
   "cell_type": "code",
   "execution_count": 142,
   "metadata": {},
   "outputs": [
    {
     "name": "stdout",
     "output_type": "stream",
     "text": [
      "\n",
      " CH\n",
      "['2012', '2014'] There is no statistical difference between the populations.  p = 0.7495001355429063\n",
      "\n",
      " CZ\n",
      "['2012', '2014'] There is no statistical difference between the populations.  p = 0.1458454843389451\n",
      "\n",
      " DE\n",
      "['2012', '2014'] There is no statistical difference between the populations.  p = 0.4346138707734991\n",
      "\n",
      " ES\n",
      "['2012', '2014'] There is no statistical difference between the populations.  p = 0.10682451556479494\n",
      "\n",
      " NO\n",
      "*population: 2014 is less in  happiness than population: 2012\n",
      "\t 2012 : 8.25171939477304 \n",
      "\t 2014 : 7.9151846785225715 p: 2.067453013405473e-05\n",
      "\n",
      " SE\n",
      "['2012', '2014'] There is no statistical difference between the populations.  p = 0.5768709591233714\n"
     ]
    }
   ],
   "source": [
    "grp_labels = ['2012', '2014']\n",
    "trait_label = 'happy'\n",
    "characteristic = 'happiness'\n",
    "\n",
    "grps_cntry = ESS_df.groupby('cntry')\n",
    "for cntry_grp in grps_cntry:\n",
    "    print('\\n', cntry_grp[0])\n",
    "    grp_dfs = [grp[1] for grp in cntry_grp[1].groupby('year')]\n",
    "    run_test('paired_ttest', grp_labels, grp_dfs, trait_label, characteristic)\n"
   ]
  },
  {
   "cell_type": "markdown",
   "metadata": {},
   "source": [
    "3. Who reported watching more TV in 2012, men or women?"
   ]
  },
  {
   "cell_type": "code",
   "execution_count": 136,
   "metadata": {},
   "outputs": [
    {
     "name": "stdout",
     "output_type": "stream",
     "text": [
      "['male', 'female'] There is no statistical difference between the populations.  p = 0.12438553359970589\n"
     ]
    },
    {
     "data": {
      "text/plain": [
       "[]"
      ]
     },
     "execution_count": 136,
     "metadata": {},
     "output_type": "execute_result"
    }
   ],
   "source": [
    "grp_labels = ['male', 'female']\n",
    "grp_dfs = [grp[1] for grp in ESS_df.groupby('gndr')]\n",
    "trait_label = 'tvtot'\n",
    "characteristic = 'tv watching'\n",
    "\n",
    "run_test('unpaired_ttest', grp_labels, grp_dfs, trait_label, characteristic)"
   ]
  },
  {
   "cell_type": "markdown",
   "metadata": {},
   "source": [
    "4. Who was more likely to believe people were fair in 2012, people living with a partner or people living alone?"
   ]
  },
  {
   "cell_type": "code",
   "execution_count": 143,
   "metadata": {},
   "outputs": [
    {
     "name": "stdout",
     "output_type": "stream",
     "text": [
      "*population: does not live with partner is less in  believing people were fair than population: living with a partner\n",
      "\t living with a partner : 6.080736012016523 \n",
      "\t does not live with partner : 5.856965174129353 p: 0.0009073952609876207\n"
     ]
    },
    {
     "data": {
      "text/plain": [
       "[0, 1]"
      ]
     },
     "execution_count": 143,
     "metadata": {},
     "output_type": "execute_result"
    }
   ],
   "source": [
    "grp_labels = ['living with a partner', 'does not live with partner']\n",
    "grp_dfs = [grp[1] for grp in ESS_df[ESS_df.year == 6].groupby('partner')]\n",
    "trait_label = 'pplfair'\n",
    "characteristic = 'believing people were fair'\n",
    "\n",
    "run_test('unpaired_ttest', grp_labels, grp_dfs, trait_label, characteristic)"
   ]
  },
  {
   "cell_type": "markdown",
   "metadata": {},
   "source": [
    "5. Pick three or four of the countries in the sample and compare how often people met socially in 2014. Are there differences, and if so, which countries stand out?"
   ]
  },
  {
   "cell_type": "code",
   "execution_count": 144,
   "metadata": {},
   "outputs": [
    {
     "name": "stdout",
     "output_type": "stream",
     "text": [
      "[0, 1, 2, 3, 4, 5]\n",
      "*population: CZ is less in  how often people met socially than population: CH\n",
      "\t CH : 5.160621761658031 \n",
      "\t CZ : 4.445801526717557 p: 1.7204743885389243e-21\n",
      "*population: DE is less in  how often people met socially than population: CH\n",
      "\t CH : 5.160621761658031 \n",
      "\t DE : 4.428571428571429 p: 0.03728960471414963\n",
      "['CH', 'ES'] There is no statistical difference between the populations.  p = 0.12510774525055496\n",
      "*population: NO is greater in  how often people met socially than population: CH\n",
      "\t CH : 5.160621761658031 \n",
      "\t NO : 5.3023255813953485 p: 0.0388144852886944\n",
      "*population: SE is greater in  how often people met socially than population: CH\n",
      "\t CH : 5.160621761658031 \n",
      "\t SE : 5.426211453744493 p: 5.6545986003136826e-05\n",
      "['CZ', 'DE'] There is no statistical difference between the populations.  p = 0.9654226437202417\n",
      "*population: ES is greater in  how often people met socially than population: CZ\n",
      "\t CZ : 4.445801526717557 \n",
      "\t ES : 5.2601156069364166 p: 3.767684440737638e-29\n",
      "*population: NO is greater in  how often people met socially than population: CZ\n",
      "\t CZ : 4.445801526717557 \n",
      "\t NO : 5.3023255813953485 p: 3.0334022155221065e-28\n",
      "*population: SE is greater in  how often people met socially than population: CZ\n",
      "\t CZ : 4.445801526717557 \n",
      "\t SE : 5.426211453744493 p: 3.252593934149828e-39\n",
      "*population: ES is greater in  how often people met socially than population: DE\n",
      "\t DE : 4.428571428571429 \n",
      "\t ES : 5.2601156069364166 p: 0.03456418756614022\n",
      "*population: NO is greater in  how often people met socially than population: DE\n",
      "\t DE : 4.428571428571429 \n",
      "\t NO : 5.3023255813953485 p: 0.0158801026958694\n",
      "*population: SE is greater in  how often people met socially than population: DE\n",
      "\t DE : 4.428571428571429 \n",
      "\t SE : 5.426211453744493 p: 0.006828774243218391\n",
      "['ES', 'NO'] There is no statistical difference between the populations.  p = 0.5268628350315259\n",
      "*population: SE is greater in  how often people met socially than population: ES\n",
      "\t ES : 5.2601156069364166 \n",
      "\t SE : 5.426211453744493 p: 0.0081199227965194\n",
      "['NO', 'SE'] There is no statistical difference between the populations.  p = 0.06734412432597783\n",
      "-------------------------\n"
     ]
    }
   ],
   "source": [
    "grp_labels = [grp[0] for grp in ESS_df[ESS_df.year == 7].groupby('cntry')]\n",
    "grp_dfs = [grp[1] for grp in ESS_df[ESS_df.year == 7].groupby('cntry')]\n",
    "trait_label = 'sclmeet'\n",
    "#['Never', 'Less than once a month', 'Once a month', 'Several times a month', 'Once a week','Several times a week', 'Every day']\n",
    "characteristic = 'how often people met socially'\n",
    "\n",
    "ij_vect = run_test('oneway_anova', grp_labels, grp_dfs, trait_label, characteristic)\n",
    "print(ij_vect)\n",
    "if len(ij_vect)>2:\n",
    "    # create every combination of country pairs\n",
    "    combs = itertools.combinations(ij_vect, 2)\n",
    "    # run unpaired ttests\n",
    "    for comb in combs:\n",
    "        grp_labels_sub = [grp_labels[ij] for ij in comb]\n",
    "        grp_dfs_sub = [grp_dfs[ij] for ij in comb]\n",
    "        ij_vect_temp = run_test('unpaired_ttest', grp_labels_sub, grp_dfs_sub, trait_label, characteristic)\n",
    "print('-------------------------')"
   ]
  },
  {
   "cell_type": "markdown",
   "metadata": {},
   "source": [
    "6. Pick three or four of the countries in the sample and compare how often people took part in social activities, relative to others their age, in 2014. Are there differences, and if so, which countries stand out?"
   ]
  },
  {
   "cell_type": "code",
   "execution_count": 145,
   "metadata": {},
   "outputs": [
    {
     "name": "stdout",
     "output_type": "stream",
     "text": [
      "age group: (15.0, 24.9]\n",
      "[0, 1, 2, 3, 4]\n",
      "['CH', 'CZ'] There is no statistical difference between the populations.  p = 0.4396899912904104\n",
      "['CH', 'ES'] There is no statistical difference between the populations.  p = 0.05018520185142043\n",
      "['CH', 'NO'] There is no statistical difference between the populations.  p = 0.3290939099229129\n",
      "['CH', 'SE'] There is no statistical difference between the populations.  p = 0.9831885309780699\n",
      "*population: ES is less in  how often people took part in social activities than population: CZ\n",
      "\t CZ : 2.9450549450549453 \n",
      "\t ES : 2.63265306122449 p: 0.003961432396426617\n",
      "['CZ', 'NO'] There is no statistical difference between the populations.  p = 0.8591190902523631\n",
      "['CZ', 'SE'] There is no statistical difference between the populations.  p = 0.415225829470543\n",
      "*population: NO is greater in  how often people took part in social activities than population: ES\n",
      "\t ES : 2.63265306122449 \n",
      "\t NO : 2.9655172413793105 p: 0.0014962260462601923\n",
      "*population: SE is greater in  how often people took part in social activities than population: ES\n",
      "\t ES : 2.63265306122449 \n",
      "\t SE : 2.8512396694214877 p: 0.03483713019017045\n",
      "['NO', 'SE'] There is no statistical difference between the populations.  p = 0.30667914279003905\n",
      "-------------------------\n",
      "age group: (24.9, 34.8]\n",
      "['CH', 'CZ', 'ES', 'NO', 'SE'] There is no statistical difference between the populations.  p = 0.14321883853945092\n",
      "[]\n",
      "-------------------------\n",
      "age group: (34.8, 44.7]\n",
      "[0, 1, 3, 4, 5]\n",
      "['CH', 'CZ'] There is no statistical difference between the populations.  p = 0.16671297323444897\n",
      "['CH', 'ES'] There is no statistical difference between the populations.  p = 0.1788516712875414\n",
      "['CH', 'NO'] There is no statistical difference between the populations.  p = 0.3204025527093427\n",
      "['CH', 'SE'] There is no statistical difference between the populations.  p = 0.28127249310787084\n",
      "['CZ', 'ES'] There is no statistical difference between the populations.  p = 0.8982739683000102\n",
      "*population: NO is greater in  how often people took part in social activities than population: CZ\n",
      "\t CZ : 2.633093525179856 \n",
      "\t NO : 2.8661417322834644 p: 0.016368962227771296\n",
      "*population: SE is greater in  how often people took part in social activities than population: CZ\n",
      "\t CZ : 2.633093525179856 \n",
      "\t SE : 2.8807339449541285 p: 0.015700691102315215\n",
      "*population: NO is greater in  how often people took part in social activities than population: ES\n",
      "\t ES : 2.6443298969072164 \n",
      "\t NO : 2.8661417322834644 p: 0.01594781121964663\n",
      "*population: SE is greater in  how often people took part in social activities than population: ES\n",
      "\t ES : 2.6443298969072164 \n",
      "\t SE : 2.8807339449541285 p: 0.015449013699099309\n",
      "['NO', 'SE'] There is no statistical difference between the populations.  p = 0.8906087620982337\n",
      "-------------------------\n",
      "age group: (44.7, 54.6]\n",
      "['CH', 'CZ', 'DE', 'ES', 'NO', 'SE'] There is no statistical difference between the populations.  p = 0.3794632063432992\n",
      "[]\n",
      "-------------------------\n",
      "age group: (54.6, 64.5]\n",
      "['CH', 'CZ', 'ES', 'NO', 'SE'] There is no statistical difference between the populations.  p = 0.19472270371010644\n",
      "[]\n",
      "-------------------------\n",
      "age group: (64.5, 74.4]\n",
      "[0, 1, 2, 3, 4, 5]\n",
      "['CH', 'CZ'] There is no statistical difference between the populations.  p = 0.23381580689099912\n",
      "['CH', 'DE'] There is no statistical difference between the populations.  p = 0.7962658099213256\n",
      "['CH', 'ES'] There is no statistical difference between the populations.  p = 0.1031449343099355\n",
      "['CH', 'NO'] There is no statistical difference between the populations.  p = 0.5152408678087591\n",
      "['CH', 'SE'] There is no statistical difference between the populations.  p = 0.28197972770742963\n",
      "['CZ', 'DE'] There is no statistical difference between the populations.  p = 0.8962411575902739\n",
      "['CZ', 'ES'] There is no statistical difference between the populations.  p = 0.710271490139427\n",
      "['CZ', 'NO'] There is no statistical difference between the populations.  p = 0.056067416098288005\n",
      "*population: SE is greater in  how often people took part in social activities than population: CZ\n",
      "\t CZ : 2.6865671641791047 \n",
      "\t SE : 3.0134228187919465 p: 0.015762712992907955\n",
      "['DE', 'ES'] There is no statistical difference between the populations.  p = 0.8251684570402287\n",
      "['DE', 'NO'] There is no statistical difference between the populations.  p = 0.6245666670748352\n",
      "['DE', 'SE'] There is no statistical difference between the populations.  p = 0.5585206840665877\n",
      "*population: NO is greater in  how often people took part in social activities than population: ES\n",
      "\t ES : 2.626086956521739 \n",
      "\t NO : 2.967741935483871 p: 0.016565558330705183\n",
      "*population: SE is greater in  how often people took part in social activities than population: ES\n",
      "\t ES : 2.626086956521739 \n",
      "\t SE : 3.0134228187919465 p: 0.0018880806744465304\n",
      "['NO', 'SE'] There is no statistical difference between the populations.  p = 0.6971385777973611\n",
      "-------------------------\n",
      "age group: (74.4, 84.3]\n",
      "[0, 1, 2, 3, 4]\n",
      "['CH', 'CZ'] There is no statistical difference between the populations.  p = 0.6818854433697739\n",
      "*population: ES is less in  how often people took part in social activities than population: CH\n",
      "\t CH : 2.6458333333333335 \n",
      "\t ES : 2.1627906976744184 p: 0.00844351403352571\n",
      "['CH', 'NO'] There is no statistical difference between the populations.  p = 0.34215355559962723\n",
      "['CH', 'SE'] There is no statistical difference between the populations.  p = 0.7251930839251587\n",
      "['CZ', 'ES'] There is no statistical difference between the populations.  p = 0.16381854624888736\n",
      "['CZ', 'NO'] There is no statistical difference between the populations.  p = 0.2621677548479842\n",
      "['CZ', 'SE'] There is no statistical difference between the populations.  p = 0.4508503210527679\n",
      "*population: NO is greater in  how often people took part in social activities than population: ES\n",
      "\t ES : 2.1627906976744184 \n",
      "\t NO : 2.870967741935484 p: 0.0009988963159892666\n",
      "*population: SE is greater in  how often people took part in social activities than population: ES\n",
      "\t ES : 2.1627906976744184 \n",
      "\t SE : 2.707692307692308 p: 0.0004966017318054462\n",
      "['NO', 'SE'] There is no statistical difference between the populations.  p = 0.4104031806040933\n",
      "-------------------------\n",
      "age group: (84.3, 94.2]\n",
      "[0, 3, 4, 5]\n",
      "*population: ES is less in  how often people took part in social activities than population: CH\n",
      "\t CH : 2.909090909090909 \n",
      "\t ES : 1.826086956521739 p: 0.005982555245244795\n",
      "['CH', 'NO'] There is no statistical difference between the populations.  p = 0.8206919385474297\n",
      "['CH', 'SE'] There is no statistical difference between the populations.  p = 0.8420525208267456\n",
      "*population: NO is greater in  how often people took part in social activities than population: ES\n",
      "\t ES : 1.826086956521739 \n",
      "\t NO : 3.0 p: 0.0013620352996172491\n",
      "*population: SE is greater in  how often people took part in social activities than population: ES\n",
      "\t ES : 1.826086956521739 \n",
      "\t SE : 2.823529411764706 p: 0.005080053024722758\n",
      "['NO', 'SE'] There is no statistical difference between the populations.  p = 0.6521803058386888\n",
      "-------------------------\n",
      "age group: (94.2, 104.1]\n",
      "[] There is no statistical difference between the populations.  p = nan\n",
      "[]\n",
      "-------------------------\n",
      "age group: (104.1, 114.0]\n",
      "[] There is no statistical difference between the populations.  p = nan\n",
      "[]\n",
      "-------------------------\n"
     ]
    },
    {
     "data": {
      "image/png": "[encoded data removed]",
      "text/plain": [
       "<matplotlib.figure.Figure at 0x11b163828>"
      ]
     },
     "metadata": {},
     "output_type": "display_data"
    }
   ],
   "source": [
    "n, bins, patches = plt.hist(ESS_df['agea'].dropna())\n",
    "ESS_df['age_bins'] = pd.cut(ESS_df['agea'], bins)\n",
    "\n",
    "trait_label = 'sclact'\n",
    "#['Never', 'Less than once a month', 'Once a month', 'Several times a month', 'Once a week','Several times a week', 'Every day']\n",
    "characteristic = 'how often people took part in social activities'\n",
    "\n",
    "# group by age\n",
    "age_grps = ESS_df.groupby('age_bins')\n",
    "for age_group in age_grps:\n",
    "    # country groups\n",
    "    grp_labels = [grp[0] for grp in age_group[1][age_group[1].year == 7].groupby('cntry')]\n",
    "    grp_dfs = [grp[1] for grp in age_group[1][age_group[1].year == 7].groupby('cntry')]\n",
    "    print('age group:', age_group[0])\n",
    "    ij_vect = run_test('oneway_anova', grp_labels, grp_dfs, trait_label, characteristic)\n",
    "    print(ij_vect)\n",
    "    if len(ij_vect)>2:\n",
    "        # create every combination of country pairs\n",
    "        combs = itertools.combinations(ij_vect, 2)\n",
    "        # run unpaired ttests\n",
    "        for comb in combs:\n",
    "            grp_labels_sub = [grp_labels[ij] for ij in comb]\n",
    "            grp_dfs_sub = [grp_dfs[ij] for ij in comb]\n",
    "            ij_vect_temp = run_test('unpaired_ttest', grp_labels_sub, grp_dfs_sub, trait_label, characteristic)\n",
    "    print('-------------------------')\n"
   ]
  },
  {
   "cell_type": "markdown",
   "metadata": {},
   "source": [
    "Age Group: 15-24.5  \n",
    "Spain was less socially active than CZ, NO, or SE (the three of which were not statistically different)  \n",
    "\n",
    "Age Group: 24.9-34.8  \n",
    "Countries weren’t statistically different  \n",
    "\n",
    "Age Group: 34.8-44.7  \n",
    "Norway and Sweden were each more socially active than Spain or CZ, neither pair were statistically different in and of themselves  \n",
    "\n",
    "Age group: (44.7, 54.6]  \n",
    "Countries weren’t statistically different  \n",
    "\n",
    "Age group: (54.6, 64.5]  \n",
    "Countries weren’t statistically different  \n",
    "\n",
    "Age group: (64.5, 74.4]  \n",
    "Spain was less socially active than NO, or SE (the two of which were not statistically different)  \n",
    "\n",
    "Age group: (74.4, 84.3]  \n",
    "Norway, Sweden, and CH were all more socially active than Spain (the three of which were not statistically different)  \n",
    "\n",
    "Age group: (84.3, 94.2]  \n",
    "Norway, Sweden, and CH were all more socially active than Spain (the three of which were not statistically different)  \n",
    "\n",
    "Sample sizes for groups above 94.2 were too small for statistics.    "
   ]
  },
  {
   "cell_type": "code",
   "execution_count": null,
   "metadata": {},
   "outputs": [],
   "source": []
  }
 ],
 "metadata": {
  "kernelspec": {
   "display_name": "Python 3",
   "language": "python",
   "name": "python3"
  },
  "language_info": {
   "codemirror_mode": {
    "name": "ipython",
    "version": 3
   },
   "file_extension": ".py",
   "mimetype": "text/x-python",
   "name": "python",
   "nbconvert_exporter": "python",
   "pygments_lexer": "ipython3",
   "version": "3.6.5"
  }
 },
 "nbformat": 4,
 "nbformat_minor": 2
}
