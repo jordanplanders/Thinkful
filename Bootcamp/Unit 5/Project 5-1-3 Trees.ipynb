{
 "cells": [
  {
   "cell_type": "markdown",
   "metadata": {},
   "source": [
    "Implement a binary tree, which is filled with 15 pieces of random data. Your job is to then write a program to traverse the tree using a breadth first traversal. "
   ]
  },
  {
   "cell_type": "code",
   "execution_count": 3,
   "metadata": {},
   "outputs": [],
   "source": [
    "from anytree import Node, RenderTree\n",
    "\n",
    "udo = Node(\"Udo\")\n",
    "marc = Node(\"Marc\", parent=udo)\n",
    "lian = Node(\"Lian\", parent=marc)\n",
    "jet = Node(\"Jet\", parent = marc)\n",
    "dan = Node(\"Dan\", parent=udo)\n",
    "jan = Node(\"Jan\", parent=dan)\n",
    "joe = Node(\"Joe\", parent=dan)\n",
    "allen = Node(\"Allen\", parent=joe)\n",
    "carter = Node('Carter', parent =joe)\n",
    "lindsay = Node('Lindsay', parent =jan)\n",
    "peter = Node('Peter', parent =jan)\n",
    "austen = Node('Austen', parent =jet)\n",
    "adam = Node('Adam', parent =jet)\n",
    "cheryl = Node('Cheryl', parent =lian)\n",
    "danielle = Node('Danielle', parent =lian)"
   ]
  },
  {
   "cell_type": "code",
   "execution_count": 4,
   "metadata": {},
   "outputs": [],
   "source": [
    "elements = [udo, marc, lian, dan, jet, jan, joe, allen, carter, lindsay, peter, austen, cheryl, danielle]"
   ]
  },
  {
   "cell_type": "code",
   "execution_count": 5,
   "metadata": {},
   "outputs": [],
   "source": [
    "to_go = [udo]\n",
    "tree = []\n",
    "while to_go:\n",
    "    in_question = to_go.pop()\n",
    "    for element in elements:\n",
    "        if element.parent == in_question:\n",
    "            to_go.append(element)\n",
    "            tree.append([in_question, element])\n"
   ]
  },
  {
   "cell_type": "code",
   "execution_count": 6,
   "metadata": {},
   "outputs": [
    {
     "data": {
      "text/plain": [
       "[[Node('/Udo'), Node('/Udo/Marc')],\n",
       " [Node('/Udo'), Node('/Udo/Dan')],\n",
       " [Node('/Udo/Dan'), Node('/Udo/Dan/Jan')],\n",
       " [Node('/Udo/Dan'), Node('/Udo/Dan/Joe')],\n",
       " [Node('/Udo/Dan/Joe'), Node('/Udo/Dan/Joe/Allen')],\n",
       " [Node('/Udo/Dan/Joe'), Node('/Udo/Dan/Joe/Carter')],\n",
       " [Node('/Udo/Dan/Jan'), Node('/Udo/Dan/Jan/Lindsay')],\n",
       " [Node('/Udo/Dan/Jan'), Node('/Udo/Dan/Jan/Peter')],\n",
       " [Node('/Udo/Marc'), Node('/Udo/Marc/Lian')],\n",
       " [Node('/Udo/Marc'), Node('/Udo/Marc/Jet')],\n",
       " [Node('/Udo/Marc/Jet'), Node('/Udo/Marc/Jet/Austen')],\n",
       " [Node('/Udo/Marc/Lian'), Node('/Udo/Marc/Lian/Cheryl')],\n",
       " [Node('/Udo/Marc/Lian'), Node('/Udo/Marc/Lian/Danielle')]]"
      ]
     },
     "execution_count": 6,
     "metadata": {},
     "output_type": "execute_result"
    }
   ],
   "source": [
    "tree"
   ]
  },
  {
   "cell_type": "code",
   "execution_count": 7,
   "metadata": {},
   "outputs": [],
   "source": [
    "from anytree.exporter import DotExporter\n",
    "DotExporter(udo).to_picture('udo.png')"
   ]
  },
  {
   "cell_type": "markdown",
   "metadata": {},
   "source": [
    "![](udo.png)"
   ]
  },
  {
   "cell_type": "code",
   "execution_count": null,
   "metadata": {},
   "outputs": [],
   "source": []
  }
 ],
 "metadata": {
  "kernelspec": {
   "display_name": "Python 3",
   "language": "python",
   "name": "python3"
  },
  "language_info": {
   "codemirror_mode": {
    "name": "ipython",
    "version": 3
   },
   "file_extension": ".py",
   "mimetype": "text/x-python",
   "name": "python",
   "nbconvert_exporter": "python",
   "pygments_lexer": "ipython3",
   "version": "3.6.5"
  }
 },
 "nbformat": 4,
 "nbformat_minor": 2
}
