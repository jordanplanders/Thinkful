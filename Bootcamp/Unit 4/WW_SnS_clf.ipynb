{
 "cells": [
  {
   "cell_type": "code",
   "execution_count": 549,
   "metadata": {},
   "outputs": [],
   "source": [
    "import pandas as pd\n",
    "import re"
   ]
  },
  {
   "cell_type": "code",
   "execution_count": 550,
   "metadata": {},
   "outputs": [],
   "source": [
    "def clean_script(script):\n",
    "    script = script.lstrip('<pre>').split('\\nTHE END')[0]\n",
    "    script = script.replace('McGARRY', 'MCGARRY')\n",
    "    script = script.replace('CUT TO:\\n\\n', 'CUT TO: ')\n",
    "    script_ = re.sub(r'([A-Z])(\\nCUT TO:)', r'\\1\\n\\2',  script)\n",
    "    script = script_.replace('FADE OUT.\\nEND', '')\n",
    "    script = script_.replace('FADE OUT.\\n\\nEND ', '')\n",
    "    script = script.rstrip('\\n')\n",
    "     \n",
    "    return script#' '.join([act.split('\\n\\n',1)[1] for act in script.split('ACT ')[1:]])\n"
   ]
  },
  {
   "cell_type": "code",
   "execution_count": 551,
   "metadata": {},
   "outputs": [],
   "source": [
    "def make_script_df(script, episode_num):\n",
    "    bits = script.split('\\n\\n')\n",
    "    return pd.DataFrame({'elements':bits, 'episode': [episode_num for ik in range(len(bits))]})"
   ]
  },
  {
   "cell_type": "code",
   "execution_count": 552,
   "metadata": {},
   "outputs": [],
   "source": [
    "def parse_stage_dir(script_df):\n",
    "    stage_dir = []\n",
    "    for ik, bit in enumerate(script_df.elements):\n",
    "        if (bit.split('\\n')[0].isupper() == False) and ('[' not in bit.split('\\n')[0]):\n",
    "            stage_dir.append(1)\n",
    "            script_df.loc[ik, 'elements'] = bit.replace('\\n', ' ')\n",
    "        else:\n",
    "            stage_dir.append(0)\n",
    "            \n",
    "    script_df['stage_dir'] = stage_dir\n",
    "    return script_df"
   ]
  },
  {
   "cell_type": "code",
   "execution_count": 553,
   "metadata": {},
   "outputs": [],
   "source": [
    "def parse_scene_set(script_df):\n",
    "    scene_set = []\n",
    "    for elem in script_df.elements:\n",
    "        lines = elem.split('\\n')\n",
    "        if ('-' in lines[0]) and (lines[0].isupper()):\n",
    "            scene_set.append(1)\n",
    "        else:\n",
    "            scene_set.append(0)\n",
    "\n",
    "    script_df['scene_set'] = scene_set\n",
    "    return script_df"
   ]
  },
  {
   "cell_type": "code",
   "execution_count": 554,
   "metadata": {},
   "outputs": [],
   "source": [
    "import numpy as np\n",
    "\n",
    "def parse_lines_characters(script_df):\n",
    "    line = []\n",
    "    character = []\n",
    "    deliv_dir = []\n",
    "    audio_dir = []\n",
    "\n",
    "    for ik in range(len(script_df.elements)):\n",
    "        if (script_df.iloc[ik]['scene_set'] == 0) and (script_df.iloc[ik]['stage_dir'] == 0):\n",
    "            tmp_elem  = script_df.iloc[ik]['elements'].split('\\n')\n",
    "            \n",
    "            if len(tmp_elem)>1:\n",
    "                # character name & audio delivery notes\n",
    "                tmp_audio_dir = tmp_elem[0].split(' [')\n",
    "                if len(tmp_audio_dir)>1:\n",
    "                    audio_dir.append(tmp_audio_dir[1].strip(']'))\n",
    "                    character.append(tmp_audio_dir[0])\n",
    "                else:\n",
    "                    if (tmp_audio_dir[0].isupper() == True):\n",
    "                        audio_dir.append(np.nan)\n",
    "                        character.append(tmp_audio_dir[0])\n",
    "                    else:\n",
    "                        character.append(' ')\n",
    "                        audio_dir.append(np.nan)\n",
    "\n",
    "                # line & acting delivery notes\n",
    "                tmp_deliv_dir = tmp_elem[1].split('] ')\n",
    "                if len(tmp_deliv_dir)>1:\n",
    "                    deliv_dir.append(tmp_deliv_dir[0].strip('['))\n",
    "                    line.append(tmp_deliv_dir[1])\n",
    "                else:\n",
    "                    line.append(tmp_deliv_dir[0])\n",
    "                    deliv_dir.append(np.nan)\n",
    "            else:\n",
    "                line.append(np.nan)\n",
    "                character.append('Drop')\n",
    "                deliv_dir.append(np.nan)\n",
    "                audio_dir.append(np.nan)\n",
    "\n",
    "        else:\n",
    "            line.append(np.nan)\n",
    "            character.append(' ')\n",
    "            deliv_dir.append(np.nan)\n",
    "            audio_dir.append(np.nan)\n",
    "\n",
    "    script_df['line'] = line\n",
    "    script_df['character'] = character\n",
    "    script_df['deliv_dir'] = deliv_dir\n",
    "    script_df['audio_dir'] = audio_dir\n",
    "    \n",
    "    return script_df"
   ]
  },
  {
   "cell_type": "code",
   "execution_count": 560,
   "metadata": {},
   "outputs": [],
   "source": [
    "# load scraped scripts\n",
    "ww_nonSorkin_df = pd.read_json('WW_nonSorkin.json')"
   ]
  },
  {
   "cell_type": "code",
   "execution_count": 561,
   "metadata": {},
   "outputs": [],
   "source": [
    "# pull apart scripts\n",
    "script_dfs= [parse_lines_characters(parse_scene_set(parse_stage_dir(make_script_df(clean_script(text),ik+1)))) for ik, text in enumerate(ww_nonSorkin_df.text)]\n",
    "\n",
    "# concatenate scripts\n",
    "ww_nonSorkin_dfs = pd.concat(script_dfs, axis=0, join='outer')"
   ]
  },
  {
   "cell_type": "code",
   "execution_count": 572,
   "metadata": {},
   "outputs": [],
   "source": [
    "# drop rows with character names that aren't characters\n",
    "for char in [' ', 'DISSOLVE TO', 'FADE OUT.', 'SMASH CUT TO: MAIN TITLES.', 'THE WEST WING', 'ACT ONE', 'ACT TWO', 'END TEASER', 'Drop']:\n",
    "    ww_nonSorkin_dfs = ww_nonSorkin_dfs[~ww_nonSorkin_dfs['character'].str.contains( char)]\n",
    "\n"
   ]
  },
  {
   "cell_type": "code",
   "execution_count": 573,
   "metadata": {},
   "outputs": [],
   "source": [
    "ww_nonSorkin_dfs['label'] = ['NOT!' for ik in range(len(ww_nonSorkin_dfs))]"
   ]
  },
  {
   "cell_type": "code",
   "execution_count": 555,
   "metadata": {},
   "outputs": [],
   "source": [
    "# load scraped scripts\n",
    "ww_df = pd.read_json('WW.json')"
   ]
  },
  {
   "cell_type": "code",
   "execution_count": 557,
   "metadata": {},
   "outputs": [],
   "source": [
    "# pull apart scripts\n",
    "script_dfs= [parse_lines_characters(parse_scene_set(parse_stage_dir(make_script_df(clean_script(text),ik+1)))) for ik, text in enumerate(ww_df.text)]\n",
    "\n",
    "# concatenate scripts\n",
    "ww_dfs = pd.concat(script_dfs, axis=0, join='outer')"
   ]
  },
  {
   "cell_type": "code",
   "execution_count": 558,
   "metadata": {},
   "outputs": [],
   "source": [
    "# drop rows with character names that aren't characters\n",
    "for char in [' ', 'DISSOLVE TO', 'FADE OUT.', 'SMASH CUT TO: MAIN TITLES.', 'THE WEST WING', 'ACT ONE', 'ACT TWO', 'END TEASER', 'Drop']:\n",
    "    ww_dfs = ww_dfs[~ww_dfs['character'].str.contains( char)]\n"
   ]
  },
  {
   "cell_type": "code",
   "execution_count": 559,
   "metadata": {},
   "outputs": [],
   "source": [
    "ww_dfs['label'] = ['SORKIN' for ik in range(len(ww_dfs))]"
   ]
  },
  {
   "cell_type": "code",
   "execution_count": 577,
   "metadata": {},
   "outputs": [],
   "source": [
    "ww_sub_dfs = ww_dfs.sample(n = len(ww_nonSorkin_dfs))"
   ]
  },
  {
   "cell_type": "code",
   "execution_count": 578,
   "metadata": {},
   "outputs": [],
   "source": [
    "ww_SnS_dfs = pd.concat([ww_nonSorkin_dfs,ww_sub_dfs], axis=0, join='outer')"
   ]
  },
  {
   "cell_type": "code",
   "execution_count": 565,
   "metadata": {},
   "outputs": [],
   "source": [
    "import spacy\n",
    "nlp = spacy.load('en')"
   ]
  },
  {
   "cell_type": "code",
   "execution_count": 602,
   "metadata": {},
   "outputs": [],
   "source": [
    "from collections import Counter\n",
    "# Utility function to create a list of the 2000 most common words.\n",
    "def bag_of_words(text):\n",
    "    \n",
    "    # Filter out punctuation and stop words.\n",
    "    allwords = [token.lemma_\n",
    "                for token in text\n",
    "                if not token.is_punct\n",
    "                and not token.is_stop]\n",
    "    \n",
    "    # Return the most common words.\n",
    "    return [item[0] for item in Counter(allwords).most_common(5000)]\n",
    "    "
   ]
  },
  {
   "cell_type": "code",
   "execution_count": 603,
   "metadata": {},
   "outputs": [],
   "source": [
    "commonwords = []\n",
    "\n",
    "for label in ['Sorkin','NOT!'] :\n",
    "    _text = ' '.join(ww_SnS_dfs['line'][ww_SnS_dfs.label == label])\n",
    "    _words = bag_of_words(nlp(_text))\n",
    "    commonwords = list(set(commonwords+_words))"
   ]
  },
  {
   "cell_type": "code",
   "execution_count": 604,
   "metadata": {},
   "outputs": [],
   "source": [
    "quotes = [[nlp(ww_SnS_dfs.iloc[ik]['line']), ww_SnS_dfs.iloc[ik]['label']] for ik in range(len(ww_SnS_dfs))]"
   ]
  },
  {
   "cell_type": "code",
   "execution_count": 605,
   "metadata": {},
   "outputs": [],
   "source": [
    "quotes_df = pd.DataFrame(quotes)"
   ]
  },
  {
   "cell_type": "code",
   "execution_count": 634,
   "metadata": {},
   "outputs": [],
   "source": [
    "# Creates a data frame with features for each word in our common word set.\n",
    "# Each value is the count of the times the word appears in each sentence.\n",
    "\n",
    "# POS dict\n",
    "pos_d = {'VERB':'verb_ct', 'NOUN':'noun_ct', 'ADV':'adv_ct', 'ADP':'adp_ct', \n",
    "         'PROPN':'propn_ct', 'ADJ':'adj_ct', 'DET':'det_ct', 'PUNCT':'punct_ct'}\n",
    "\n",
    "def bow_features(quotes, common_words, **kwargs):\n",
    "    print(len(quotes))\n",
    "#     df2 = {'line': [sentence[0] for sentence in sentences], 'character': [sentence[1] for sentence in sentences]}\n",
    "    \n",
    "    # sentence stats\n",
    "    sent_stats = ['comma_ct', 'word_ct', 'adv_ct', 'adp_ct', 'propn_ct', 'adj_ct', 'punct_ct'] #'verb_ct', 'noun_ct','det_ct',\n",
    "    if 'sent_stats' in kwargs:\n",
    "        df = pd.DataFrame(columns=list(common_words) + sent_stats)\n",
    "        cols = list(common_words)+sent_stats\n",
    "#         df.loc[:, sent_stats] = 0\n",
    "    else:\n",
    "        df = pd.DataFrame(columns=common_words)\n",
    "        cols = list(common_words)\n",
    "    \n",
    "    df.loc[:, common_words] = 0\n",
    "    for col in df.columns:\n",
    "        df[col] = np.zeros(len(quotes[0]))\n",
    "    df['line'] = quotes[0] \n",
    "    df['character'] = quotes[1]\n",
    "    \n",
    "    print('made it to the loop')\n",
    "    # Process each row, counting the occurrence of words in each sentence.\n",
    "    for i, quote in enumerate(df['line']):\n",
    "        # Convert the sentence to lemmas, then filter out punctuation,\n",
    "        # stop words, and uncommon words.\n",
    "        words = [token.lemma_\n",
    "                 for token in quote\n",
    "                 if (\n",
    "                     not token.is_punct\n",
    "                     and not token.is_stop\n",
    "                     and token.lemma_ in common_words\n",
    "                 )]\n",
    "        \n",
    "        # Populate the row with word counts.\n",
    "        for word in words:\n",
    "            try:\n",
    "                df.loc[i, word] += 1\n",
    "            except:\n",
    "                print(words)\n",
    "        \n",
    "        # add sentence features\n",
    "        if 'sent_stats' in kwargs:\n",
    "            commas = 0\n",
    "            for token in quote:\n",
    "                if token.orth_ == ',':\n",
    "                    commas += 1\n",
    "            df.loc[i, 'comma_ct'] = commas\n",
    "                    \n",
    "            c = Counter([token.pos_ for token in quote])\n",
    "            for key in pos_d.keys():\n",
    "                if key in c.keys():\n",
    "                    df.loc[i, pos_d[key]] = c[key]\n",
    "                else:\n",
    "                    df.loc[i, pos_d[key]] = c[key]\n",
    "            \n",
    "            df.loc[i, 'word_ct'] = len([token for token in quote if (not token.is_punct)])\n",
    "\n",
    "        # This counter is just to make sure the kernel didn't hang.\n",
    "        if i % 1000 == 0:\n",
    "            print(\"Processing row {}\".format(i))\n",
    "            \n",
    "    return df"
   ]
  },
  {
   "cell_type": "code",
   "execution_count": 635,
   "metadata": {},
   "outputs": [
    {
     "name": "stdout",
     "output_type": "stream",
     "text": [
      "8128\n",
      "made it to the loop\n",
      "Processing row 0\n",
      "['the', 'line']\n",
      "['want', 'line', 'drink']\n",
      "Processing row 1000\n",
      "Processing row 2000\n",
      "['the', 'report', 'administration', 'view', 'that', 'be', 'line', 'what']\n",
      "['so', 'award', 'roll', 'that', 'will', 'line']\n",
      "['-PRON-', 'give', 'line', 'say']\n",
      "['-PRON-', 'when', '-PRON-', 'line', 'be']\n",
      "['-PRON-', 'wife', 'budget', '-PRON-', 'be', 'line', 'do', 'not', 'word']\n",
      "['-PRON-', 'take', 'russell', 'job', 'this', 'not', 'line', 'none']\n",
      "['and', 'hold', 'line', 'make', 'day', 'story']\n",
      "Processing row 3000\n",
      "Processing row 4000\n",
      "['in', 'red', 'line', 'sir']\n",
      "['-PRON-', 'read', 'line']\n",
      "Processing row 5000\n",
      "['-PRON-', 'be', 'residence', 'secure', 'phone', 'line']\n",
      "Processing row 6000\n",
      "['everybody', 'line', 'only', 'drink']\n",
      "['just', 'stuff', '-PRON-', 'panic', 'line']\n",
      "Processing row 7000\n",
      "['then', 'maybe', 'line']\n",
      "Processing row 8000\n"
     ]
    }
   ],
   "source": [
    "word_counts2 = bow_features(quotes_df, words, sent_stats=True)"
   ]
  },
  {
   "cell_type": "code",
   "execution_count": 636,
   "metadata": {},
   "outputs": [
    {
     "data": {
      "text/plain": [
       "(0, 400)"
      ]
     },
     "execution_count": 636,
     "metadata": {},
     "output_type": "execute_result"
    },
    {
     "data": {
      "image/png": "[encoded data removed]",
      "text/plain": [
       "<matplotlib.figure.Figure at 0x119ec05c0>"
      ]
     },
     "metadata": {},
     "output_type": "display_data"
    }
   ],
   "source": [
    "import matplotlib.pyplot as plt\n",
    "# cts, ints, patches = plt.hist(word_counts2.iloc[:, ~word_counts2.columns.isin(['character', 'line'])].sum(axis=0), bins = 500)\n",
    "cts, ints, patches = plt.hist(word_counts2['comma_ct'], bins = 500)\n",
    "\n",
    "\n",
    "plt.xlim([0, 400])"
   ]
  },
  {
   "cell_type": "code",
   "execution_count": 637,
   "metadata": {},
   "outputs": [],
   "source": [
    "from sklearn.model_selection import train_test_split\n",
    "\n",
    "Y = word_counts2['character']\n",
    "X = word_counts2.iloc[:, ~word_counts2.columns.isin(['character','line'])]\n",
    "\n",
    "X_train, X_test, y_train, y_test = train_test_split(X, \n",
    "                                                    Y,\n",
    "                                                    test_size=0.3,\n",
    "                                                    random_state=0)"
   ]
  },
  {
   "cell_type": "code",
   "execution_count": 638,
   "metadata": {},
   "outputs": [
    {
     "name": "stderr",
     "output_type": "stream",
     "text": [
      "/usr/local/lib/python3.6/site-packages/sklearn/linear_model/logistic.py:432: FutureWarning: Default solver will be changed to 'lbfgs' in 0.22. Specify a solver to silence this warning.\n",
      "  FutureWarning)\n"
     ]
    },
    {
     "name": "stdout",
     "output_type": "stream",
     "text": [
      "(5689, 1761) (5689,)\n",
      "Training set score: 0.7222710493935666\n",
      "\n",
      "Test set score: 0.6277162771627717\n"
     ]
    },
    {
     "data": {
      "text/html": [
       "<div>\n",
       "<style scoped>\n",
       "    .dataframe tbody tr th:only-of-type {\n",
       "        vertical-align: middle;\n",
       "    }\n",
       "\n",
       "    .dataframe tbody tr th {\n",
       "        vertical-align: top;\n",
       "    }\n",
       "\n",
       "    .dataframe thead th {\n",
       "        text-align: right;\n",
       "    }\n",
       "</style>\n",
       "<table border=\"1\" class=\"dataframe\">\n",
       "  <thead>\n",
       "    <tr style=\"text-align: right;\">\n",
       "      <th>character</th>\n",
       "      <th>NOT!</th>\n",
       "      <th>SORKIN</th>\n",
       "    </tr>\n",
       "    <tr>\n",
       "      <th>row_0</th>\n",
       "      <th></th>\n",
       "      <th></th>\n",
       "    </tr>\n",
       "  </thead>\n",
       "  <tbody>\n",
       "    <tr>\n",
       "      <th>NOT!</th>\n",
       "      <td>724</td>\n",
       "      <td>429</td>\n",
       "    </tr>\n",
       "    <tr>\n",
       "      <th>SORKIN</th>\n",
       "      <td>479</td>\n",
       "      <td>807</td>\n",
       "    </tr>\n",
       "  </tbody>\n",
       "</table>\n",
       "</div>"
      ],
      "text/plain": [
       "character  NOT!  SORKIN\n",
       "row_0                  \n",
       "NOT!        724     429\n",
       "SORKIN      479     807"
      ]
     },
     "execution_count": 638,
     "metadata": {},
     "output_type": "execute_result"
    }
   ],
   "source": [
    "from sklearn.linear_model import LogisticRegression\n",
    "\n",
    "lr = LogisticRegression()\n",
    "train = lr.fit(X_train, y_train)\n",
    "print(X_train.shape, y_train.shape)\n",
    "print('Training set score:', lr.score(X_train, y_train))\n",
    "print('\\nTest set score:', lr.score(X_test, y_test))\n",
    "\n",
    "y_pred = train.predict(X_test)\n",
    "pd.crosstab(y_pred, y_test, dropna=False)"
   ]
  },
  {
   "cell_type": "code",
   "execution_count": 639,
   "metadata": {},
   "outputs": [
    {
     "data": {
      "text/plain": [
       "0.5067650676506765"
      ]
     },
     "execution_count": 639,
     "metadata": {},
     "output_type": "execute_result"
    }
   ],
   "source": [
    "len(y_test[y_test == 'SORKIN'])/len(y_test)"
   ]
  },
  {
   "cell_type": "code",
   "execution_count": null,
   "metadata": {},
   "outputs": [],
   "source": []
  }
 ],
 "metadata": {
  "kernelspec": {
   "display_name": "Python 3",
   "language": "python",
   "name": "python3"
  },
  "language_info": {
   "codemirror_mode": {
    "name": "ipython",
    "version": 3
   },
   "file_extension": ".py",
   "mimetype": "text/x-python",
   "name": "python",
   "nbconvert_exporter": "python",
   "pygments_lexer": "ipython3",
   "version": "3.6.5"
  }
 },
 "nbformat": 4,
 "nbformat_minor": 2
}
