{
 "cells": [
  {
   "cell_type": "code",
   "execution_count": 65,
   "metadata": {
    "collapsed": true,
    "run_control": {
     "frozen": false,
     "read_only": false
    }
   },
   "outputs": [],
   "source": [
    "import numpy as np\n",
    "import pandas as pd\n",
    "import matplotlib.pyplot as plt\n",
    "import seaborn as sns\n",
    "%matplotlib inline\n",
    "\n",
    "from sklearn.model_selection import train_test_split, GridSearchCV, cross_val_score\n",
    "\n",
    "from sklearn.neural_network import MLPClassifier"
   ]
  },
  {
   "cell_type": "markdown",
   "metadata": {
    "run_control": {
     "frozen": false,
     "read_only": false
    }
   },
   "source": [
    "We're ready to build our first neural network. We will have multiple features we feed into our model, each of which will go through a set of perceptron models to arrive at a response which will be trained to our output.\n",
    "\n",
    "Like many models we've covered, this can be used as both a regression or classification model.\n",
    "\n",
    "First, we need to load our dataset. For this example we'll use The Museum of Modern Art in New York's [public dataset](https://media.githubusercontent.com/media/MuseumofModernArt/collection/master/Artworks.csv) on their collection."
   ]
  },
  {
   "cell_type": "code",
   "execution_count": 2,
   "metadata": {
    "collapsed": true,
    "run_control": {
     "frozen": false,
     "read_only": false
    }
   },
   "outputs": [],
   "source": [
    "artworks = pd.read_csv('https://media.githubusercontent.com/media/MuseumofModernArt/collection/master/Artworks.csv')"
   ]
  },
  {
   "cell_type": "code",
   "execution_count": 3,
   "metadata": {
    "run_control": {
     "frozen": false,
     "read_only": false
    },
    "scrolled": true
   },
   "outputs": [
    {
     "data": {
      "text/plain": [
       "Index(['Title', 'Artist', 'ConstituentID', 'ArtistBio', 'Nationality',\n",
       "       'BeginDate', 'EndDate', 'Gender', 'Date', 'Medium', 'Dimensions',\n",
       "       'CreditLine', 'AccessionNumber', 'Classification', 'Department',\n",
       "       'DateAcquired', 'Cataloged', 'ObjectID', 'URL', 'ThumbnailURL',\n",
       "       'Circumference (cm)', 'Depth (cm)', 'Diameter (cm)', 'Height (cm)',\n",
       "       'Length (cm)', 'Weight (kg)', 'Width (cm)', 'Seat Height (cm)',\n",
       "       'Duration (sec.)'],\n",
       "      dtype='object')"
      ]
     },
     "execution_count": 3,
     "metadata": {},
     "output_type": "execute_result"
    }
   ],
   "source": [
    "artworks.columns"
   ]
  },
  {
   "cell_type": "markdown",
   "metadata": {
    "run_control": {
     "frozen": false,
     "read_only": false
    }
   },
   "source": [
    "We'll also do a bit of data processing and cleaning, selecting columns of interest and converting URL's to booleans indicating whether they are present."
   ]
  },
  {
   "cell_type": "code",
   "execution_count": 4,
   "metadata": {
    "collapsed": true,
    "run_control": {
     "frozen": false,
     "read_only": false
    }
   },
   "outputs": [],
   "source": [
    "# Select Columns.\n",
    "artworks = artworks[['Artist', 'Nationality', 'Gender', 'Date', 'Department',\n",
    "                    'DateAcquired', 'URL', 'ThumbnailURL', 'Height (cm)', 'Width (cm)']]\n",
    "\n",
    "# Convert URL's to booleans.\n",
    "artworks['URL'] = artworks['URL'].notnull()\n",
    "artworks['ThumbnailURL'] = artworks['ThumbnailURL'].notnull()\n",
    "\n",
    "# Drop films and some other tricky rows.\n",
    "artworks = artworks[artworks['Department']!='Film']\n",
    "artworks = artworks[artworks['Department']!='Media and Performance Art']\n",
    "artworks = artworks[artworks['Department']!='Fluxus Collection']\n",
    "\n",
    "# Drop missing data.\n",
    "artworks = artworks.dropna()"
   ]
  },
  {
   "cell_type": "code",
   "execution_count": 5,
   "metadata": {
    "run_control": {
     "frozen": false,
     "read_only": false
    }
   },
   "outputs": [
    {
     "data": {
      "text/html": [
       "<div>\n",
       "<style scoped>\n",
       "    .dataframe tbody tr th:only-of-type {\n",
       "        vertical-align: middle;\n",
       "    }\n",
       "\n",
       "    .dataframe tbody tr th {\n",
       "        vertical-align: top;\n",
       "    }\n",
       "\n",
       "    .dataframe thead th {\n",
       "        text-align: right;\n",
       "    }\n",
       "</style>\n",
       "<table border=\"1\" class=\"dataframe\">\n",
       "  <thead>\n",
       "    <tr style=\"text-align: right;\">\n",
       "      <th></th>\n",
       "      <th>Artist</th>\n",
       "      <th>Nationality</th>\n",
       "      <th>Gender</th>\n",
       "      <th>Date</th>\n",
       "      <th>Department</th>\n",
       "      <th>DateAcquired</th>\n",
       "      <th>URL</th>\n",
       "      <th>ThumbnailURL</th>\n",
       "      <th>Height (cm)</th>\n",
       "      <th>Width (cm)</th>\n",
       "    </tr>\n",
       "  </thead>\n",
       "  <tbody>\n",
       "    <tr>\n",
       "      <th>0</th>\n",
       "      <td>Otto Wagner</td>\n",
       "      <td>(Austrian)</td>\n",
       "      <td>(Male)</td>\n",
       "      <td>1896</td>\n",
       "      <td>Architecture &amp; Design</td>\n",
       "      <td>1996-04-09</td>\n",
       "      <td>True</td>\n",
       "      <td>True</td>\n",
       "      <td>48.6000</td>\n",
       "      <td>168.9000</td>\n",
       "    </tr>\n",
       "    <tr>\n",
       "      <th>1</th>\n",
       "      <td>Christian de Portzamparc</td>\n",
       "      <td>(French)</td>\n",
       "      <td>(Male)</td>\n",
       "      <td>1987</td>\n",
       "      <td>Architecture &amp; Design</td>\n",
       "      <td>1995-01-17</td>\n",
       "      <td>True</td>\n",
       "      <td>True</td>\n",
       "      <td>40.6401</td>\n",
       "      <td>29.8451</td>\n",
       "    </tr>\n",
       "    <tr>\n",
       "      <th>2</th>\n",
       "      <td>Emil Hoppe</td>\n",
       "      <td>(Austrian)</td>\n",
       "      <td>(Male)</td>\n",
       "      <td>1903</td>\n",
       "      <td>Architecture &amp; Design</td>\n",
       "      <td>1997-01-15</td>\n",
       "      <td>True</td>\n",
       "      <td>True</td>\n",
       "      <td>34.3000</td>\n",
       "      <td>31.8000</td>\n",
       "    </tr>\n",
       "    <tr>\n",
       "      <th>3</th>\n",
       "      <td>Bernard Tschumi</td>\n",
       "      <td>()</td>\n",
       "      <td>(Male)</td>\n",
       "      <td>1980</td>\n",
       "      <td>Architecture &amp; Design</td>\n",
       "      <td>1995-01-17</td>\n",
       "      <td>True</td>\n",
       "      <td>True</td>\n",
       "      <td>50.8000</td>\n",
       "      <td>50.8000</td>\n",
       "    </tr>\n",
       "    <tr>\n",
       "      <th>4</th>\n",
       "      <td>Emil Hoppe</td>\n",
       "      <td>(Austrian)</td>\n",
       "      <td>(Male)</td>\n",
       "      <td>1903</td>\n",
       "      <td>Architecture &amp; Design</td>\n",
       "      <td>1997-01-15</td>\n",
       "      <td>True</td>\n",
       "      <td>True</td>\n",
       "      <td>38.4000</td>\n",
       "      <td>19.1000</td>\n",
       "    </tr>\n",
       "  </tbody>\n",
       "</table>\n",
       "</div>"
      ],
      "text/plain": [
       "                     Artist Nationality  Gender  Date             Department  \\\n",
       "0               Otto Wagner  (Austrian)  (Male)  1896  Architecture & Design   \n",
       "1  Christian de Portzamparc    (French)  (Male)  1987  Architecture & Design   \n",
       "2                Emil Hoppe  (Austrian)  (Male)  1903  Architecture & Design   \n",
       "3           Bernard Tschumi          ()  (Male)  1980  Architecture & Design   \n",
       "4                Emil Hoppe  (Austrian)  (Male)  1903  Architecture & Design   \n",
       "\n",
       "  DateAcquired   URL  ThumbnailURL  Height (cm)  Width (cm)  \n",
       "0   1996-04-09  True          True      48.6000    168.9000  \n",
       "1   1995-01-17  True          True      40.6401     29.8451  \n",
       "2   1997-01-15  True          True      34.3000     31.8000  \n",
       "3   1995-01-17  True          True      50.8000     50.8000  \n",
       "4   1997-01-15  True          True      38.4000     19.1000  "
      ]
     },
     "execution_count": 5,
     "metadata": {},
     "output_type": "execute_result"
    }
   ],
   "source": [
    "artworks.head()"
   ]
  },
  {
   "cell_type": "markdown",
   "metadata": {
    "run_control": {
     "frozen": false,
     "read_only": false
    }
   },
   "source": [
    "## Building a Model\n",
    "\n",
    "Now, let's see if we can use multi-layer perceptron modeling (or \"MLP\") to see if we can classify the department a piece should go into using everything but the department name.\n",
    "\n",
    "Before we import MLP from SKLearn and establish the model we first have to ensure correct typing for our data and do some other cleaning."
   ]
  },
  {
   "cell_type": "code",
   "execution_count": 6,
   "metadata": {
    "run_control": {
     "frozen": false,
     "read_only": false
    }
   },
   "outputs": [
    {
     "data": {
      "text/plain": [
       "Artist           object\n",
       "Nationality      object\n",
       "Gender           object\n",
       "Date             object\n",
       "Department       object\n",
       "DateAcquired     object\n",
       "URL                bool\n",
       "ThumbnailURL       bool\n",
       "Height (cm)     float64\n",
       "Width (cm)      float64\n",
       "dtype: object"
      ]
     },
     "execution_count": 6,
     "metadata": {},
     "output_type": "execute_result"
    }
   ],
   "source": [
    "# Get data types.\n",
    "artworks.dtypes"
   ]
  },
  {
   "cell_type": "markdown",
   "metadata": {},
   "source": [
    "The `DateAcquired` column is an object. Let's transform that to a datetime object and add a feature for just the year the artwork was acquired."
   ]
  },
  {
   "cell_type": "code",
   "execution_count": 5,
   "metadata": {
    "run_control": {
     "frozen": false,
     "read_only": false
    }
   },
   "outputs": [
    {
     "data": {
      "text/plain": [
       "dtype('int64')"
      ]
     },
     "execution_count": 5,
     "metadata": {},
     "output_type": "execute_result"
    }
   ],
   "source": [
    "artworks['DateAcquired'] = pd.to_datetime(artworks.DateAcquired)\n",
    "artworks['YearAcquired'] = artworks.DateAcquired.dt.year\n",
    "artworks['YearAcquired'].dtype"
   ]
  },
  {
   "cell_type": "markdown",
   "metadata": {},
   "source": [
    "Great. Let's do some more miscellaneous cleaning."
   ]
  },
  {
   "cell_type": "code",
   "execution_count": 116,
   "metadata": {},
   "outputs": [
    {
     "data": {
      "text/plain": [
       "(9171, 106643)"
      ]
     },
     "execution_count": 116,
     "metadata": {},
     "output_type": "execute_result"
    }
   ],
   "source": [
    "len(set(artworks.Artist)), len(artworks)"
   ]
  },
  {
   "cell_type": "code",
   "execution_count": 36,
   "metadata": {
    "collapsed": true,
    "run_control": {
     "frozen": false,
     "read_only": false
    }
   },
   "outputs": [],
   "source": [
    "# Remove multiple nationalities, genders, and artists.\n",
    "artworks.loc[artworks['Gender'].str.contains('\\) \\('), 'Gender'] = '\\(multiple_persons\\)'\n",
    "artworks.loc[artworks['Nationality'].str.contains('\\) \\('), 'Nationality'] = '\\(multiple_nationalities\\)'\n",
    "artworks.loc[artworks['Artist'].str.contains(','), 'Artist'] = 'Multiple_Artists'\n",
    "\n",
    "# Convert dates to start date, cutting down number of distinct examples.\n",
    "artworks['Date'] = pd.Series(artworks.Date.str.extract(\n",
    "    '([0-9]{4})', expand=False))[:-1]\n",
    "\n",
    "# Final column drops and NA drop.\n",
    "X = artworks.drop(['Department', 'DateAcquired', 'Artist', 'Nationality', 'Date'], 1)\n",
    "\n",
    "# Create dummies separately.\n",
    "artists = pd.get_dummies(artworks.Artist)\n",
    "nationalities = pd.get_dummies(artworks.Nationality)\n",
    "dates = pd.get_dummies(artworks.Date)\n",
    "\n",
    "# Concat with other variables, but artists slows this wayyyyy down so we'll keep it out for now\n",
    "X = pd.get_dummies(X)\n",
    "X = pd.concat([X, nationalities, dates], axis=1)\n",
    "\n",
    "Y = artworks.Department"
   ]
  },
  {
   "cell_type": "code",
   "execution_count": 38,
   "metadata": {},
   "outputs": [],
   "source": [
    "X_train, X_test, y_train, y_test = train_test_split(X, Y)"
   ]
  },
  {
   "cell_type": "code",
   "execution_count": null,
   "metadata": {
    "run_control": {
     "frozen": false,
     "read_only": false
    }
   },
   "outputs": [],
   "source": [
    "# Alright! We've done our prep, let's build the model.\n",
    "# Neural networks are hugely computationally intensive.\n",
    "# This may take several minutes to run.\n",
    "\n",
    "# Import the model.\n",
    "from sklearn.neural_network import MLPClassifier\n",
    "\n",
    "# Establish and fit the model, with a single, 1000 perceptron layer.\n",
    "mlp = MLPClassifier(hidden_layer_sizes=(1000,))\n",
    "mlp.fit(X_train, y_train)"
   ]
  },
  {
   "cell_type": "code",
   "execution_count": null,
   "metadata": {
    "run_control": {
     "frozen": false,
     "read_only": false
    }
   },
   "outputs": [],
   "source": [
    "mlp.score(X_test, y_test)"
   ]
  },
  {
   "cell_type": "code",
   "execution_count": 11,
   "metadata": {
    "run_control": {
     "frozen": false,
     "read_only": false
    }
   },
   "outputs": [
    {
     "data": {
      "text/plain": [
       "Prints & Illustrated Books    0.521662\n",
       "Photography                   0.229354\n",
       "Architecture & Design         0.111225\n",
       "Drawings                      0.103381\n",
       "Painting & Sculpture          0.034377\n",
       "Name: Department, dtype: float64"
      ]
     },
     "execution_count": 11,
     "metadata": {},
     "output_type": "execute_result"
    }
   ],
   "source": [
    "y_test.value_counts()/len(y_test)"
   ]
  },
  {
   "cell_type": "code",
   "execution_count": 12,
   "metadata": {
    "run_control": {
     "frozen": false,
     "read_only": false
    }
   },
   "outputs": [
    {
     "data": {
      "text/plain": [
       "array([ 0.57519536,  0.52577072,  0.36922856,  0.48580744,  0.54039799])"
      ]
     },
     "execution_count": 12,
     "metadata": {},
     "output_type": "execute_result"
    }
   ],
   "source": [
    "from sklearn.model_selection import cross_val_score\n",
    "cross_val_score(mlp, X_train, y_train, cv=5)"
   ]
  },
  {
   "cell_type": "markdown",
   "metadata": {
    "run_control": {
     "frozen": false,
     "read_only": false
    }
   },
   "source": [
    "Now we got a lot of information from all of this. Firstly we can see that the model seems to overfit, though there is still so remaining performance when validated with cross validation. This is a feature of neural networks that aren't given enough data for the number of features present. _Neural networks, in general, like_ a lot _of data_. You may also have noticed something also about neural networks: _they can take a_ long _time to run_. Try increasing the layer size by adding a zero. Feel free to interrupt the kernel if you don't have time...\n",
    "\n",
    "Also note that we created bools for artist's name but left them out. Both of the above points are the reason for that. It would take much longer to run and it would be much more prone to overfitting."
   ]
  },
  {
   "cell_type": "markdown",
   "metadata": {
    "run_control": {
     "frozen": false,
     "read_only": false
    }
   },
   "source": [
    "## Model parameters\n",
    "\n",
    "Now, before we move on and let you loose with some tasks to work on the model, let's go over the parameters.\n",
    "\n",
    "We included one parameter: hidden layer size. Remember in the previous lesson, when we talked about layers in a neural network. This tells us how many and how big to make our layers. Pass in a tuple that specifies each layer's size. Our network is 1000 neurons wide and one layer. (100, 4, ) would create a network with two layers, one 100 wide and the other 4.\n",
    "\n",
    "How many layers to include is determined by two things: computational resources and cross validation searching for convergence. It's generally less than the number of input variables you have.\n",
    "\n",
    "You can also set an alpha. Neural networks like this use a regularization parameter that penalizes large coefficients just like we discussed in the advanced regression section. Alpha scales that penalty.\n",
    "\n",
    "Lastly, we'll discuss the activation function. The activation function determines whether the output from an individual perceptron is binary or continuous. By default this is a 'relu', or 'rectified linear unit function' function. In the exercise we went through earlier we used this binary function, but we discussed the _sigmoid_ as a reasonable alternative. The _sigmoid_ (called 'logistic' by SKLearn because it's a 'logistic sigmoid function') allows for continuous variables between 0 and 1, which allows for a more nuanced model. It does come at the cost of increased computational complexity.\n",
    "\n",
    "If you want to learn more about these, study [activation functions](https://en.wikipedia.org/wiki/Activation_function) and [multilayer perceptrons](https://en.wikipedia.org/wiki/Multilayer_perceptron). The [Deep Learning](http://www.deeplearningbook.org/) book referenced earlier goes into great detail on the linear algebra involved.\n",
    "\n",
    "You could also just test the models with cross validation. Unless neural networks are your specialty cross validation should be sufficient.\n",
    "\n",
    "For the other parameters and their defaults, check out the [MLPClassifier documentaiton](http://scikit-learn.org/stable/modules/generated/sklearn.neural_network.MLPClassifier.html#sklearn.neural_network.MLPClassifier)."
   ]
  },
  {
   "cell_type": "markdown",
   "metadata": {},
   "source": [
    "## Drill: Playing with layers\n",
    "\n",
    "Now it's your turn. Using the space below, experiment with different hidden layer structures. You can try this on a subset of the data to improve runtime. See how things vary. See what seems to matter the most. Feel free to manipulate other parameters as well. It may also be beneficial to do some real feature selection work..."
   ]
  },
  {
   "cell_type": "code",
   "execution_count": 47,
   "metadata": {
    "collapsed": true
   },
   "outputs": [],
   "source": [
    "# Your code here. Experiment with hidden layers to build your own model.\n",
    "\n",
    "df = X\n",
    "df['target'] = Y\n",
    "\n",
    "df_sub = df.sample(frac=0.5, replace=True, random_state=1)\n",
    "\n",
    "X_sub = df_sub.loc[:,~df_sub.columns.isin(['target'])]\n",
    "y_sub = df_sub['target']\n",
    "X_sub_train, X_sub_test, y_sub_train, y_sub_test = train_test_split(X_sub, y_sub)"
   ]
  },
  {
   "cell_type": "markdown",
   "metadata": {},
   "source": [
    "### Grid Search"
   ]
  },
  {
   "cell_type": "markdown",
   "metadata": {},
   "source": [
    "#### Grid Search 1, 2 and 3...  \n",
    "This first grid search will hopefully shed light on the effect of more/fewer layers larger/smaller layers as well as the effect of different alpha values.\n",
    "\n",
    "In the first parameter search I tried 3 and 4 layers of 50 or 100 layers with alpha values of .001 or .00005.  The output suggested that within these ranges, the best fits had to do with combinations of parameters, rather than a single dominant knob that could be turned to control the performance.  This was reinforced by a second parameter search with 3 and 5 layers of (100,50,100), (200,100,200), (100, 50, 50, 50, 100), (200, 100, 100, 100, 200) and alpha values of .001 and .00005.  \n",
    "\n",
    "After some reading (a cursory amount, in the scheme of things), I realize that 50 to 100 may not be a big enough range to really get at the effect of the number of nodes per layer, and 3 to 5 may not be a big enough range to get a sense of the effect of the number of layers.  Furthermore, the structure of the layers is also a variable.  With that in mind, I submit hopefully the last gridsearch.  "
   ]
  },
  {
   "cell_type": "code",
   "execution_count": 132,
   "metadata": {},
   "outputs": [
    {
     "name": "stdout",
     "output_type": "stream",
     "text": [
      "Iteration 1, loss = 2.04481111\n",
      "Iteration 2, loss = 0.92024281\n",
      "Iteration 3, loss = 0.90825546\n",
      "Iteration 4, loss = 0.88614926\n",
      "Iteration 5, loss = 0.86727845\n",
      "Iteration 6, loss = 0.84961238\n",
      "Iteration 7, loss = 0.81141417\n",
      "Iteration 8, loss = 0.78178530\n",
      "Iteration 9, loss = 0.77712043\n",
      "Iteration 10, loss = 0.74922075\n",
      "Iteration 11, loss = 0.73763684\n",
      "Iteration 12, loss = 0.72396491\n",
      "Iteration 13, loss = 0.72654602\n",
      "Iteration 14, loss = 0.70136901\n",
      "Iteration 15, loss = 0.70049060\n",
      "Iteration 16, loss = 0.68901334\n",
      "Iteration 17, loss = 0.68490407\n",
      "Iteration 18, loss = 0.68504722\n",
      "Iteration 19, loss = 0.67839638\n",
      "Iteration 20, loss = 0.66405449\n",
      "Iteration 21, loss = 0.66660440\n",
      "Iteration 22, loss = 0.65902948\n",
      "Iteration 23, loss = 0.66338883\n",
      "Iteration 24, loss = 0.65811806\n",
      "Iteration 25, loss = 0.65677381\n",
      "Iteration 26, loss = 0.65465894\n",
      "Iteration 27, loss = 0.64411341\n",
      "Iteration 28, loss = 0.64913820\n",
      "Iteration 29, loss = 0.64006205\n",
      "Iteration 30, loss = 0.63212332\n",
      "Iteration 31, loss = 0.63089610\n",
      "Iteration 32, loss = 0.63349253\n",
      "Iteration 33, loss = 0.63529559\n",
      "Iteration 34, loss = 0.63927365\n",
      "Iteration 35, loss = 0.62669070\n",
      "Iteration 36, loss = 0.62000435\n",
      "Iteration 37, loss = 0.61500187\n",
      "Iteration 38, loss = 0.60529039\n",
      "Iteration 39, loss = 0.61019292\n",
      "Iteration 40, loss = 0.59797677\n",
      "Iteration 41, loss = 0.60853178\n",
      "Iteration 42, loss = 0.59451616\n",
      "Iteration 43, loss = 0.58537427\n",
      "Iteration 44, loss = 0.58108500\n",
      "Iteration 45, loss = 0.58103181\n",
      "Iteration 46, loss = 0.58328876\n",
      "Iteration 47, loss = 0.56450452\n",
      "Iteration 48, loss = 0.57199854\n",
      "Iteration 49, loss = 0.56212569\n",
      "Iteration 50, loss = 0.55808395\n",
      "Iteration 51, loss = 0.56119823\n",
      "Iteration 52, loss = 0.54679027\n",
      "Iteration 53, loss = 0.53943139\n",
      "Iteration 54, loss = 0.53790744\n",
      "Iteration 55, loss = 0.54598824\n",
      "Iteration 56, loss = 0.55278288\n",
      "Iteration 57, loss = 0.54008913\n",
      "Iteration 58, loss = 0.51995353\n",
      "Iteration 59, loss = 0.52506826\n",
      "Iteration 60, loss = 0.52058347\n",
      "Iteration 61, loss = 0.50285875\n",
      "Iteration 62, loss = 0.51073857\n",
      "Iteration 63, loss = 0.50273147\n",
      "Iteration 64, loss = 0.50665789\n",
      "Iteration 65, loss = 0.49024147\n",
      "Iteration 66, loss = 0.48134575\n",
      "Iteration 67, loss = 0.48799435\n",
      "Iteration 68, loss = 0.46236299\n",
      "Iteration 69, loss = 0.48027390\n",
      "Iteration 70, loss = 0.45967662\n",
      "Iteration 71, loss = 0.47753587\n",
      "Iteration 72, loss = 0.45108734\n",
      "Iteration 73, loss = 0.45724040\n",
      "Iteration 74, loss = 0.44283811\n",
      "Iteration 75, loss = 0.44117394\n",
      "Iteration 76, loss = 0.45027279\n",
      "Iteration 77, loss = 0.44021766\n",
      "Iteration 78, loss = 0.44320398\n",
      "Iteration 79, loss = 0.41991868\n",
      "Iteration 80, loss = 0.43526491\n",
      "Iteration 81, loss = 0.43044355\n",
      "Iteration 82, loss = 0.41670532\n",
      "Iteration 83, loss = 0.40462092\n",
      "Iteration 84, loss = 0.42082444\n",
      "Iteration 85, loss = 0.39462696\n",
      "Iteration 86, loss = 0.38214106\n",
      "Iteration 87, loss = 0.38416464\n",
      "Iteration 88, loss = 0.38142685\n",
      "Iteration 89, loss = 0.37484835\n",
      "Iteration 90, loss = 0.36272973\n",
      "Iteration 91, loss = 0.35996336\n",
      "Iteration 92, loss = 0.35084948\n",
      "Iteration 93, loss = 0.33220900\n",
      "Iteration 94, loss = 0.36181000\n",
      "Iteration 95, loss = 0.33228961\n",
      "Iteration 96, loss = 0.32561973\n",
      "Iteration 97, loss = 0.32849278\n",
      "Iteration 98, loss = 0.32554839\n",
      "Iteration 99, loss = 0.31563432\n",
      "Iteration 100, loss = 0.33027123\n",
      "Iteration 101, loss = 0.30119699\n",
      "Iteration 102, loss = 0.28797386\n",
      "Iteration 103, loss = 0.30969878\n",
      "Iteration 104, loss = 0.28718936\n",
      "Iteration 105, loss = 0.30537398\n",
      "Iteration 106, loss = 0.30145017\n",
      "Iteration 107, loss = 0.27522051\n",
      "Iteration 108, loss = 0.28650999\n",
      "Iteration 109, loss = 0.27775951\n",
      "Iteration 110, loss = 0.26504497\n",
      "Iteration 111, loss = 0.26974456\n",
      "Iteration 112, loss = 0.26480651\n",
      "Iteration 113, loss = 0.24908007\n",
      "Iteration 114, loss = 0.25001008\n",
      "Iteration 115, loss = 0.26984403\n",
      "Iteration 116, loss = 0.24836964\n",
      "Iteration 117, loss = 0.26203015\n",
      "Iteration 118, loss = 0.26110481\n",
      "Iteration 119, loss = 0.24270179\n",
      "Iteration 120, loss = 0.24377500\n",
      "Iteration 121, loss = 0.24069121\n",
      "Iteration 122, loss = 0.23390218\n",
      "Iteration 123, loss = 0.26110096\n",
      "Iteration 124, loss = 0.20200717\n",
      "Iteration 125, loss = 0.26982634\n",
      "Iteration 126, loss = 0.21356462\n",
      "Iteration 127, loss = 0.21759246\n",
      "Iteration 128, loss = 0.22501449\n",
      "Iteration 129, loss = 0.21551370\n",
      "Iteration 130, loss = 0.20057428\n",
      "Iteration 131, loss = 0.23167195\n",
      "Iteration 132, loss = 0.18250372\n",
      "Iteration 133, loss = 0.20962639\n",
      "Iteration 134, loss = 0.22839141\n",
      "Iteration 135, loss = 0.19936809\n",
      "Iteration 136, loss = 0.19975763\n",
      "Iteration 137, loss = 0.20391367\n",
      "Iteration 138, loss = 0.21917914\n",
      "Iteration 139, loss = 0.19100524\n",
      "Iteration 140, loss = 0.20345637\n",
      "Iteration 141, loss = 0.18527652\n",
      "Iteration 142, loss = 0.18037279\n",
      "Iteration 143, loss = 0.21737302\n",
      "Iteration 144, loss = 0.17222573\n",
      "Iteration 145, loss = 0.15486037\n",
      "Iteration 146, loss = 0.20119488\n",
      "Iteration 147, loss = 0.16731801\n",
      "Iteration 148, loss = 0.17155643\n",
      "Iteration 149, loss = 0.17303455\n",
      "Iteration 150, loss = 0.20662761\n",
      "Iteration 151, loss = 0.17642261\n",
      "Iteration 152, loss = 0.18074264\n",
      "Iteration 153, loss = 0.17784486\n",
      "Iteration 154, loss = 0.20576915\n",
      "Iteration 155, loss = 0.19028137\n",
      "Iteration 156, loss = 0.17188002\n",
      "Training loss did not improve more than tol=0.000100 for 10 consecutive epochs. Stopping.\n"
     ]
    },
    {
     "data": {
      "text/plain": [
       "GridSearchCV(cv=4, error_score='raise-deprecating',\n",
       "       estimator=MLPClassifier(activation='relu', alpha=0.0001, batch_size='auto', beta_1=0.9,\n",
       "       beta_2=0.999, early_stopping=False, epsilon=1e-08,\n",
       "       hidden_layer_sizes=(100,), learning_rate='constant',\n",
       "       learning_rate_init=0.001, max_iter=200, momentum=0.9,\n",
       "       n_iter_no_change=10, nesterovs_momentum=True, power_t=0.5,\n",
       "       random_state=None, shuffle=True, solver='adam', tol=0.0001,\n",
       "       validation_fraction=0.1, verbose=False, warm_start=False),\n",
       "       fit_params=None, iid='warn', n_jobs=-1,\n",
       "       param_grid={'hidden_layer_sizes': [(1000, 1000), (1000, 1000, 1000, 1000, 1000), (50, 50), (50, 50, 50, 50, 50), (1000, 300, 300, 300, 1000), (100, 50, 50, 50, 100)], 'alpha': [0.001, 5e-05], 'verbose': [True]},\n",
       "       pre_dispatch='2*n_jobs', refit=True, return_train_score='warn',\n",
       "       scoring=None, verbose=0)"
      ]
     },
     "execution_count": 132,
     "metadata": {},
     "output_type": "execute_result"
    }
   ],
   "source": [
    "# Import the model.\n",
    "from sklearn.neural_network import MLPClassifier\n",
    "from sklearn.model_selection import GridSearchCV\n",
    "\n",
    "params = {'hidden_layer_sizes':[(1000,1000), (1000,1000,1000,1000,1000), (50,50), (50,50,50,50,50), \n",
    "                                (1000,300, 300, 300, 1000), (100, 50, 50, 50, 100)], 'alpha': [0.001, 0.00005], 'verbose': [True]}\n",
    "\n",
    "mlp = MLPClassifier()\n",
    "mpl_gscv2 = GridSearchCV(mlp, params, cv=4, n_jobs = -1)\n",
    "mpl_gscv2.fit(X_sub_train, y_sub_train)"
   ]
  },
  {
   "cell_type": "code",
   "execution_count": 144,
   "metadata": {},
   "outputs": [
    {
     "data": {
      "text/plain": [
       "0.85312429675193158"
      ]
     },
     "execution_count": 144,
     "metadata": {},
     "output_type": "execute_result"
    }
   ],
   "source": [
    "mpl_gscv2.score(X_sub_test, y_sub_test)"
   ]
  },
  {
   "cell_type": "code",
   "execution_count": 134,
   "metadata": {},
   "outputs": [
    {
     "data": {
      "text/plain": [
       "MLPClassifier(activation='relu', alpha=5e-05, batch_size='auto', beta_1=0.9,\n",
       "       beta_2=0.999, early_stopping=False, epsilon=1e-08,\n",
       "       hidden_layer_sizes=(1000, 1000, 1000, 1000, 1000),\n",
       "       learning_rate='constant', learning_rate_init=0.001, max_iter=200,\n",
       "       momentum=0.9, n_iter_no_change=10, nesterovs_momentum=True,\n",
       "       power_t=0.5, random_state=None, shuffle=True, solver='adam',\n",
       "       tol=0.0001, validation_fraction=0.1, verbose=True, warm_start=False)"
      ]
     },
     "execution_count": 134,
     "metadata": {},
     "output_type": "execute_result"
    }
   ],
   "source": [
    "mpl_gscv2.best_estimator_\n"
   ]
  },
  {
   "cell_type": "code",
   "execution_count": 143,
   "metadata": {},
   "outputs": [
    {
     "name": "stdout",
     "output_type": "stream",
     "text": [
      "0.795053887125\n",
      "0.001\n",
      "(1000, 1000)\n",
      "\n",
      "0.833337500938\n",
      "0.001\n",
      "(1000, 1000, 1000, 1000, 1000)\n",
      "\n",
      "0.736265659773\n",
      "0.001\n",
      "(50, 50)\n",
      "\n",
      "0.787427171114\n",
      "0.001\n",
      "(50, 50, 50, 50, 50)\n",
      "\n",
      "0.815033382511\n",
      "0.001\n",
      "(1000, 300, 300, 300, 1000)\n",
      "\n",
      "0.790027756245\n",
      "0.001\n",
      "(100, 50, 50, 50, 100)\n",
      "\n",
      "0.812257757996\n",
      "5e-05\n",
      "(1000, 1000)\n",
      "\n",
      "0.839363856868\n",
      "5e-05\n",
      "(1000, 1000, 1000, 1000, 1000)\n",
      "\n",
      "0.729564151934\n",
      "5e-05\n",
      "(50, 50)\n",
      "\n",
      "0.79307844265\n",
      "5e-05\n",
      "(50, 50, 50, 50, 50)\n",
      "\n",
      "0.838238603686\n",
      "5e-05\n",
      "(1000, 300, 300, 300, 1000)\n",
      "\n",
      "0.79120302068\n",
      "5e-05\n",
      "(100, 50, 50, 50, 100)\n",
      "\n"
     ]
    }
   ],
   "source": [
    "mpl_gscv2.cv_results_\n",
    "\n",
    "for ik, test_score in enumerate(mpl_gscv2.cv_results_['mean_test_score']):\n",
    "    print(test_score)\n",
    "    print(mpl_gscv2.cv_results_['param_alpha'][ik])\n",
    "    print(mpl_gscv2.cv_results_['param_hidden_layer_sizes'][ik])\n",
    "    print('')"
   ]
  },
  {
   "cell_type": "code",
   "execution_count": 138,
   "metadata": {},
   "outputs": [
    {
     "name": "stdout",
     "output_type": "stream",
     "text": [
      "Test scores: [ 0.79505389  0.8333375   0.73626566  0.78742717  0.81503338  0.79002776\n",
      "  0.81225776  0.83936386  0.72956415  0.79307844  0.8382386   0.79120302]\n",
      "Train scores: [ 0.82144367  0.91879018  0.74090058  0.81132445  0.87659056  0.81432457\n",
      "  0.84970792  0.93466877  0.73693254  0.81730035  0.92564202  0.81363402]\n"
     ]
    },
    {
     "name": "stderr",
     "output_type": "stream",
     "text": [
      "/usr/local/lib/python3.6/site-packages/sklearn/utils/deprecation.py:125: FutureWarning: You are accessing a training score ('mean_train_score'), which will not be available by default any more in 0.21. If you need training scores, please set return_train_score=True\n",
      "  warnings.warn(*warn_args, **warn_kwargs)\n"
     ]
    }
   ],
   "source": [
    "print('Test scores:', mpl_gscv2.cv_results_['mean_test_score'])\n",
    "print('Train scores:', mpl_gscv2.cv_results_['mean_train_score'])"
   ]
  },
  {
   "cell_type": "markdown",
   "metadata": {},
   "source": [
    "The final grid search didn't yield any results that were structurally different from Grid Search 1 and Grid Search 2.  The best estimator was a combination of the most layers with the most nodes at the lowest alpha value.  Trivially close were a combination of parameters with slightly fewer nodes in the interior layers, and one with max nodes in every layer but a lower alpha value.  \n",
    "\n",
    "However, it is worth noting that the highest scoring models had much higher train scores than test scores, which suggests overtraining. "
   ]
  },
  {
   "cell_type": "markdown",
   "metadata": {},
   "source": [
    "## Referenced Grid Searches"
   ]
  },
  {
   "cell_type": "markdown",
   "metadata": {},
   "source": [
    "### Grid Search 1"
   ]
  },
  {
   "cell_type": "code",
   "execution_count": 48,
   "metadata": {},
   "outputs": [
    {
     "name": "stdout",
     "output_type": "stream",
     "text": [
      "Iteration 1, loss = 1.91218737\n",
      "Iteration 2, loss = 1.06822426\n",
      "Iteration 3, loss = 0.96117339\n",
      "Iteration 4, loss = 0.92798335\n",
      "Iteration 5, loss = 0.90764195\n",
      "Iteration 6, loss = 0.86249203\n",
      "Iteration 7, loss = 0.82440518\n",
      "Iteration 8, loss = 0.82951918\n",
      "Iteration 9, loss = 0.79518464\n",
      "Iteration 10, loss = 0.78485612\n",
      "Iteration 11, loss = 0.77374229\n",
      "Iteration 12, loss = 0.75959906\n",
      "Iteration 13, loss = 0.73895925\n",
      "Iteration 14, loss = 0.72293335\n",
      "Iteration 15, loss = 0.73320975\n",
      "Iteration 16, loss = 0.72756573\n",
      "Iteration 17, loss = 0.73481698\n",
      "Iteration 18, loss = 0.71314450\n",
      "Iteration 19, loss = 0.70320489\n",
      "Iteration 20, loss = 0.70632217\n",
      "Iteration 21, loss = 0.70091009\n",
      "Iteration 22, loss = 0.69250055\n",
      "Iteration 23, loss = 0.70009058\n",
      "Iteration 24, loss = 0.68386637\n",
      "Iteration 25, loss = 0.68225014\n",
      "Iteration 26, loss = 0.69114657\n",
      "Iteration 27, loss = 0.67626126\n",
      "Iteration 28, loss = 0.68549293\n",
      "Iteration 29, loss = 0.67452615\n",
      "Iteration 30, loss = 0.68083184\n",
      "Iteration 31, loss = 0.66891306\n",
      "Iteration 32, loss = 0.66983793\n",
      "Iteration 33, loss = 0.66528465\n",
      "Iteration 34, loss = 0.66541845\n",
      "Iteration 35, loss = 0.64782488\n",
      "Iteration 36, loss = 0.66304856\n",
      "Iteration 37, loss = 0.65437694\n",
      "Iteration 38, loss = 0.64735326\n",
      "Iteration 39, loss = 0.65403558\n",
      "Iteration 40, loss = 0.64469820\n",
      "Iteration 41, loss = 0.64915323\n",
      "Iteration 42, loss = 0.64406950\n",
      "Iteration 43, loss = 0.64328906\n",
      "Iteration 44, loss = 0.64971431\n",
      "Iteration 45, loss = 0.63349769\n",
      "Iteration 46, loss = 0.63435634\n",
      "Iteration 47, loss = 0.62151994\n",
      "Iteration 48, loss = 0.62807637\n",
      "Iteration 49, loss = 0.62527387\n",
      "Iteration 50, loss = 0.62236033\n",
      "Iteration 51, loss = 0.62475792\n",
      "Iteration 52, loss = 0.61422618\n",
      "Iteration 53, loss = 0.61000574\n",
      "Iteration 54, loss = 0.60899454\n",
      "Iteration 55, loss = 0.61945709\n",
      "Iteration 56, loss = 0.59961403\n",
      "Iteration 57, loss = 0.59675679\n",
      "Iteration 58, loss = 0.60176966\n",
      "Iteration 59, loss = 0.59882826\n",
      "Iteration 60, loss = 0.59512617\n",
      "Iteration 61, loss = 0.59349305\n",
      "Iteration 62, loss = 0.59086968\n",
      "Iteration 63, loss = 0.58883476\n",
      "Iteration 64, loss = 0.58527814\n",
      "Iteration 65, loss = 0.59766589\n",
      "Iteration 66, loss = 0.57634720\n",
      "Iteration 67, loss = 0.58405627\n",
      "Iteration 68, loss = 0.57038315\n",
      "Iteration 69, loss = 0.56456461\n",
      "Iteration 70, loss = 0.55877112\n",
      "Iteration 71, loss = 0.56261583\n",
      "Iteration 72, loss = 0.56637461\n",
      "Iteration 73, loss = 0.55952345\n",
      "Iteration 74, loss = 0.55934344\n",
      "Iteration 75, loss = 0.56159835\n",
      "Iteration 76, loss = 0.54591494\n",
      "Iteration 77, loss = 0.55231124\n",
      "Iteration 78, loss = 0.54320026\n",
      "Iteration 79, loss = 0.55161480\n",
      "Iteration 80, loss = 0.54513811\n",
      "Iteration 81, loss = 0.54346441\n",
      "Iteration 82, loss = 0.54178688\n",
      "Iteration 83, loss = 0.53788735\n",
      "Iteration 84, loss = 0.53642715\n",
      "Iteration 85, loss = 0.52957771\n",
      "Iteration 86, loss = 0.52556068\n",
      "Iteration 87, loss = 0.52543880\n",
      "Iteration 88, loss = 0.53797739\n",
      "Iteration 89, loss = 0.51330597\n",
      "Iteration 90, loss = 0.51649607\n",
      "Iteration 91, loss = 0.51900388\n",
      "Iteration 92, loss = 0.51096107\n",
      "Iteration 93, loss = 0.51705402\n",
      "Iteration 94, loss = 0.51140006\n",
      "Iteration 95, loss = 0.51170142\n",
      "Iteration 96, loss = 0.51053771\n",
      "Iteration 97, loss = 0.50600432\n",
      "Iteration 98, loss = 0.50317551\n",
      "Iteration 99, loss = 0.50683066\n",
      "Iteration 100, loss = 0.51165453\n",
      "Iteration 101, loss = 0.49354936\n",
      "Iteration 102, loss = 0.49509103\n",
      "Iteration 103, loss = 0.49780207\n",
      "Iteration 104, loss = 0.50053003\n",
      "Iteration 105, loss = 0.49302517\n",
      "Iteration 106, loss = 0.49320053\n",
      "Iteration 107, loss = 0.49217723\n",
      "Iteration 108, loss = 0.48977380\n",
      "Iteration 109, loss = 0.48837313\n",
      "Iteration 110, loss = 0.48566434\n",
      "Iteration 111, loss = 0.48804346\n",
      "Iteration 112, loss = 0.48245826\n",
      "Iteration 113, loss = 0.47833230\n",
      "Iteration 114, loss = 0.48306936\n",
      "Iteration 115, loss = 0.47947923\n",
      "Iteration 116, loss = 0.47522552\n",
      "Iteration 117, loss = 0.47516056\n",
      "Iteration 118, loss = 0.46301866\n",
      "Iteration 119, loss = 0.46826617\n",
      "Iteration 120, loss = 0.47286183\n",
      "Iteration 121, loss = 0.46668031\n",
      "Iteration 122, loss = 0.47407801\n",
      "Iteration 123, loss = 0.47235584\n",
      "Iteration 124, loss = 0.46037261\n",
      "Iteration 125, loss = 0.47656437\n",
      "Iteration 126, loss = 0.46914734\n",
      "Iteration 127, loss = 0.46822881\n",
      "Iteration 128, loss = 0.45743873\n",
      "Iteration 129, loss = 0.46927376\n",
      "Iteration 130, loss = 0.45579526\n",
      "Iteration 131, loss = 0.45801216\n",
      "Iteration 132, loss = 0.46212248\n",
      "Iteration 133, loss = 0.46292903\n",
      "Iteration 134, loss = 0.45584945\n",
      "Iteration 135, loss = 0.45006014\n",
      "Iteration 136, loss = 0.45173041\n",
      "Iteration 137, loss = 0.45650281\n",
      "Iteration 138, loss = 0.45325966\n",
      "Iteration 139, loss = 0.44506535\n",
      "Iteration 140, loss = 0.44696279\n",
      "Iteration 141, loss = 0.45086587\n",
      "Iteration 142, loss = 0.44821978\n",
      "Iteration 143, loss = 0.43836211\n",
      "Iteration 144, loss = 0.43937038\n",
      "Iteration 145, loss = 0.44429475\n",
      "Iteration 146, loss = 0.44683163\n",
      "Iteration 147, loss = 0.43486686\n",
      "Iteration 148, loss = 0.44025160\n",
      "Iteration 149, loss = 0.43760488\n",
      "Iteration 150, loss = 0.44678283\n",
      "Iteration 151, loss = 0.43273506\n",
      "Iteration 152, loss = 0.43071078\n",
      "Iteration 153, loss = 0.43504736\n",
      "Iteration 154, loss = 0.42939411\n",
      "Iteration 155, loss = 0.43740964\n",
      "Iteration 156, loss = 0.42873371\n",
      "Iteration 157, loss = 0.42912720\n",
      "Iteration 158, loss = 0.42194017\n",
      "Iteration 159, loss = 0.42854087\n",
      "Iteration 160, loss = 0.41833856\n",
      "Iteration 161, loss = 0.42391656\n",
      "Iteration 162, loss = 0.42689750\n",
      "Iteration 163, loss = 0.41997990\n",
      "Iteration 164, loss = 0.41797982\n",
      "Iteration 165, loss = 0.41511925\n",
      "Iteration 166, loss = 0.42369891\n",
      "Iteration 167, loss = 0.42087283\n",
      "Iteration 168, loss = 0.41384460\n",
      "Iteration 169, loss = 0.41769589\n",
      "Iteration 170, loss = 0.41992790\n",
      "Iteration 171, loss = 0.41774255\n",
      "Iteration 172, loss = 0.40470174\n",
      "Iteration 173, loss = 0.41199360\n",
      "Iteration 174, loss = 0.40611260\n",
      "Iteration 175, loss = 0.42554812\n",
      "Iteration 176, loss = 0.42280459\n",
      "Iteration 177, loss = 0.41301458\n",
      "Iteration 178, loss = 0.41562237\n",
      "Iteration 179, loss = 0.40438893\n",
      "Iteration 180, loss = 0.40259098\n",
      "Iteration 181, loss = 0.39906974\n",
      "Iteration 182, loss = 0.40772981\n",
      "Iteration 183, loss = 0.41162747\n",
      "Iteration 184, loss = 0.40958409\n",
      "Iteration 185, loss = 0.40467845\n",
      "Iteration 186, loss = 0.39485069\n",
      "Iteration 187, loss = 0.41018416\n",
      "Iteration 188, loss = 0.40021520\n",
      "Iteration 189, loss = 0.41157028\n",
      "Iteration 190, loss = 0.40038535\n",
      "Iteration 191, loss = 0.40165818\n",
      "Iteration 192, loss = 0.39315707\n",
      "Iteration 193, loss = 0.39434040\n",
      "Iteration 194, loss = 0.38883932\n",
      "Iteration 195, loss = 0.39214797\n",
      "Iteration 196, loss = 0.39923433\n",
      "Iteration 197, loss = 0.39409183\n",
      "Iteration 198, loss = 0.40015605\n",
      "Iteration 199, loss = 0.38670234\n",
      "Iteration 200, loss = 0.38919726\n"
     ]
    },
    {
     "name": "stderr",
     "output_type": "stream",
     "text": [
      "/usr/local/lib/python3.6/site-packages/sklearn/neural_network/multilayer_perceptron.py:562: ConvergenceWarning: Stochastic Optimizer: Maximum iterations (200) reached and the optimization hasn't converged yet.\n",
      "  % self.max_iter, ConvergenceWarning)\n"
     ]
    },
    {
     "data": {
      "text/plain": [
       "GridSearchCV(cv=4, error_score='raise-deprecating',\n",
       "       estimator=MLPClassifier(activation='relu', alpha=0.0001, batch_size='auto', beta_1=0.9,\n",
       "       beta_2=0.999, early_stopping=False, epsilon=1e-08,\n",
       "       hidden_layer_sizes=(100,), learning_rate='constant',\n",
       "       learning_rate_init=0.001, max_iter=200, momentum=0.9,\n",
       "       n_iter_no_change=10, nesterovs_momentum=True, power_t=0.5,\n",
       "       random_state=None, shuffle=True, solver='adam', tol=0.0001,\n",
       "       validation_fraction=0.1, verbose=False, warm_start=False),\n",
       "       fit_params=None, iid='warn', n_jobs=-1,\n",
       "       param_grid={'hidden_layer_sizes': [(100, 100, 100), (100, 100, 100, 100), (50, 50, 50), (50, 50, 50, 50)], 'alpha': [0.001, 0.0001, 5e-05], 'verbose': [True]},\n",
       "       pre_dispatch='2*n_jobs', refit=True, return_train_score='warn',\n",
       "       scoring=None, verbose=0)"
      ]
     },
     "execution_count": 48,
     "metadata": {},
     "output_type": "execute_result"
    }
   ],
   "source": [
    "# Import the model.\n",
    "from sklearn.neural_network import MLPClassifier\n",
    "from sklearn.model_selection import GridSearchCV\n",
    "\n",
    "params = {'hidden_layer_sizes':[(100,100,100), (100,100,100,100), (50,50,50), (50,50,50,50)], 'alpha': [0.001, 0.0001, 0.00005], 'verbose': [True]}\n",
    "\n",
    "mlp = MLPClassifier()\n",
    "mpl_gscv = GridSearchCV(mlp, params, cv=4, n_jobs = -1)\n",
    "mpl_gscv.fit(X_sub_train, y_sub_train)"
   ]
  },
  {
   "cell_type": "code",
   "execution_count": 50,
   "metadata": {},
   "outputs": [
    {
     "data": {
      "text/plain": [
       "MLPClassifier(activation='relu', alpha=5e-05, batch_size='auto', beta_1=0.9,\n",
       "       beta_2=0.999, early_stopping=False, epsilon=1e-08,\n",
       "       hidden_layer_sizes=(100, 100, 100, 100), learning_rate='constant',\n",
       "       learning_rate_init=0.001, max_iter=200, momentum=0.9,\n",
       "       n_iter_no_change=10, nesterovs_momentum=True, power_t=0.5,\n",
       "       random_state=None, shuffle=True, solver='adam', tol=0.0001,\n",
       "       validation_fraction=0.1, verbose=True, warm_start=False)"
      ]
     },
     "execution_count": 50,
     "metadata": {},
     "output_type": "execute_result"
    }
   ],
   "source": [
    "mpl_gscv.best_estimator_"
   ]
  },
  {
   "cell_type": "markdown",
   "metadata": {},
   "source": [
    "Gridsearch suggests that models with more and larger layers smaller alpha values perform better. "
   ]
  },
  {
   "cell_type": "code",
   "execution_count": 61,
   "metadata": {},
   "outputs": [
    {
     "data": {
      "text/plain": [
       "[{'alpha': 0.001, 'hidden_layer_sizes': (100, 100, 100), 'verbose': True},\n",
       " {'alpha': 0.001, 'hidden_layer_sizes': (100, 100, 100, 100), 'verbose': True},\n",
       " {'alpha': 0.001, 'hidden_layer_sizes': (50, 50, 50), 'verbose': True},\n",
       " {'alpha': 0.001, 'hidden_layer_sizes': (50, 50, 50, 50), 'verbose': True},\n",
       " {'alpha': 0.0001, 'hidden_layer_sizes': (100, 100, 100), 'verbose': True},\n",
       " {'alpha': 0.0001,\n",
       "  'hidden_layer_sizes': (100, 100, 100, 100),\n",
       "  'verbose': True},\n",
       " {'alpha': 0.0001, 'hidden_layer_sizes': (50, 50, 50), 'verbose': True},\n",
       " {'alpha': 0.0001, 'hidden_layer_sizes': (50, 50, 50, 50), 'verbose': True},\n",
       " {'alpha': 5e-05, 'hidden_layer_sizes': (100, 100, 100), 'verbose': True},\n",
       " {'alpha': 5e-05, 'hidden_layer_sizes': (100, 100, 100, 100), 'verbose': True},\n",
       " {'alpha': 5e-05, 'hidden_layer_sizes': (50, 50, 50), 'verbose': True},\n",
       " {'alpha': 5e-05, 'hidden_layer_sizes': (50, 50, 50, 50), 'verbose': True}]"
      ]
     },
     "execution_count": 61,
     "metadata": {},
     "output_type": "execute_result"
    }
   ],
   "source": [
    "mpl_gscv.cv_results_['params']"
   ]
  },
  {
   "cell_type": "code",
   "execution_count": 78,
   "metadata": {},
   "outputs": [],
   "source": [
    "param_d2 = {}\n",
    "params = []\n",
    "df_d = {'alpha': [], 'num_layers': [],'num_nodes':[] , 'score':[]}\n",
    "\n",
    "for ik, entry in enumerate(mpl_gscv.cv_results_['params']):\n",
    "    df_d['alpha'].append(entry['alpha'])\n",
    "    df_d['num_layers'].append(len(entry['hidden_layer_sizes']))\n",
    "    df_d['num_nodes'].append(entry['hidden_layer_sizes'][0])\n",
    "    df_d['score'].append(mpl_gscv.cv_results_['mean_test_score'][ik])                      "
   ]
  },
  {
   "cell_type": "code",
   "execution_count": 79,
   "metadata": {},
   "outputs": [],
   "source": [
    "df_gs = pd.DataFrame(df_d)"
   ]
  },
  {
   "cell_type": "code",
   "execution_count": 96,
   "metadata": {},
   "outputs": [
    {
     "data": {
      "text/html": [
       "<div>\n",
       "<style scoped>\n",
       "    .dataframe tbody tr th:only-of-type {\n",
       "        vertical-align: middle;\n",
       "    }\n",
       "\n",
       "    .dataframe tbody tr th {\n",
       "        vertical-align: top;\n",
       "    }\n",
       "\n",
       "    .dataframe thead th {\n",
       "        text-align: right;\n",
       "    }\n",
       "</style>\n",
       "<table border=\"1\" class=\"dataframe\">\n",
       "  <thead>\n",
       "    <tr style=\"text-align: right;\">\n",
       "      <th></th>\n",
       "      <th>alpha</th>\n",
       "      <th>num_layers</th>\n",
       "      <th>num_nodes</th>\n",
       "      <th>score</th>\n",
       "    </tr>\n",
       "  </thead>\n",
       "  <tbody>\n",
       "    <tr>\n",
       "      <th>1</th>\n",
       "      <td>0.00100</td>\n",
       "      <td>4</td>\n",
       "      <td>100</td>\n",
       "      <td>0.799005</td>\n",
       "    </tr>\n",
       "    <tr>\n",
       "      <th>5</th>\n",
       "      <td>0.00010</td>\n",
       "      <td>4</td>\n",
       "      <td>100</td>\n",
       "      <td>0.789953</td>\n",
       "    </tr>\n",
       "    <tr>\n",
       "      <th>9</th>\n",
       "      <td>0.00005</td>\n",
       "      <td>4</td>\n",
       "      <td>100</td>\n",
       "      <td>0.809057</td>\n",
       "    </tr>\n",
       "  </tbody>\n",
       "</table>\n",
       "</div>"
      ],
      "text/plain": [
       "     alpha  num_layers  num_nodes     score\n",
       "1  0.00100           4        100  0.799005\n",
       "5  0.00010           4        100  0.789953\n",
       "9  0.00005           4        100  0.809057"
      ]
     },
     "execution_count": 96,
     "metadata": {},
     "output_type": "execute_result"
    }
   ],
   "source": [
    "df_gs[(df_gs['num_nodes'] == 100)& (df_gs['num_layers']==4)]['scores']"
   ]
  },
  {
   "cell_type": "code",
   "execution_count": 105,
   "metadata": {},
   "outputs": [
    {
     "data": {
      "text/plain": [
       "array([-0.01167763, -0.0151034 , -0.02080468])"
      ]
     },
     "execution_count": 105,
     "metadata": {},
     "output_type": "execute_result"
    }
   ],
   "source": [
    "# differences between scores with constant num_nodes\n",
    "# alpha values are the indices\n",
    "# num_nodes = 100\n",
    "df_gs[(df_gs['num_nodes'] == 100)& (df_gs['num_layers']==3)]['score'].values-df_gs[(df_gs['num_nodes'] == 100)& (df_gs['num_layers']==4)]['score'].values\n"
   ]
  },
  {
   "cell_type": "code",
   "execution_count": 106,
   "metadata": {},
   "outputs": [
    {
     "data": {
      "text/plain": [
       "array([-0.00720162, -0.01557851, -0.04105924])"
      ]
     },
     "execution_count": 106,
     "metadata": {},
     "output_type": "execute_result"
    }
   ],
   "source": [
    "# differences between scores with constant num_nodes\n",
    "# alpha values are the indices\n",
    "# num_nodes = 50\n",
    "df_gs[(df_gs['num_nodes'] == 50)& (df_gs['num_layers']==3)]['score'].values-df_gs[(df_gs['num_nodes'] == 50)& (df_gs['num_layers']==4)]['score'].values\n"
   ]
  },
  {
   "cell_type": "code",
   "execution_count": 107,
   "metadata": {},
   "outputs": [
    {
     "data": {
      "text/plain": [
       "array([ 0.02413043,  0.00237553,  0.03258233])"
      ]
     },
     "execution_count": 107,
     "metadata": {},
     "output_type": "execute_result"
    }
   ],
   "source": [
    "# differences between scores with constant num_layers\n",
    "# alpha values are the indices\n",
    "# num_layers = 3\n",
    "df_gs[(df_gs['num_nodes'] == 100)& (df_gs['num_layers']==3)]['score'].values-df_gs[(df_gs['num_nodes'] == 50)& (df_gs['num_layers']==3)]['score'].values\n"
   ]
  },
  {
   "cell_type": "code",
   "execution_count": 108,
   "metadata": {},
   "outputs": [
    {
     "data": {
      "text/plain": [
       "array([ 0.02860644,  0.00190043,  0.01232777])"
      ]
     },
     "execution_count": 108,
     "metadata": {},
     "output_type": "execute_result"
    }
   ],
   "source": [
    "# differences between scores with constant num_layers\n",
    "# alpha values are the indices\n",
    "# num_layers = 4\n",
    "df_gs[(df_gs['num_nodes'] == 100)& (df_gs['num_layers']==4)]['score'].values-df_gs[(df_gs['num_nodes'] == 50)& (df_gs['num_layers']==4)]['score'].values\n"
   ]
  },
  {
   "cell_type": "markdown",
   "metadata": {},
   "source": [
    "There appears to be a combination effect of parameters. \n",
    "\n",
    "There isn't a consistent pattern of increasing across values of alpha.\n",
    "Comparing pairs of rows, there isn't a consistent pattern of one row being larger greater than another. For example the difference between 3 layers and 4 layers when the alpha value = .00005 is greater when there are 50 nodes per layer rather than 100 nodes, but the difference is bigger with an alpha value = .001 when there are 100 nodes rather than 50 nodes.  \n",
    "\n",
    "Put another way, the effect of the number of layers or the number of nodes per layer is different for different alpha values."
   ]
  },
  {
   "cell_type": "code",
   "execution_count": 112,
   "metadata": {},
   "outputs": [
    {
     "data": {
      "image/png": "[encoded data removed]",
      "text/plain": [
       "<matplotlib.figure.Figure at 0x1136cfd30>"
      ]
     },
     "metadata": {},
     "output_type": "display_data"
    }
   ],
   "source": [
    "ik = 0\n",
    "for nodes in set(df_gs['num_nodes']):\n",
    "    for alpha in [.001, .00005]:\n",
    "        diff_layers = df_gs[(df_gs['num_nodes'] == nodes)& (df_gs['alpha']==alpha) & (df_gs['num_layers']==3)]['score'].values-df_gs[(df_gs['num_nodes'] == nodes)& (df_gs['alpha']==alpha) & (df_gs['num_layers']==4)]['score'].values\n",
    "        plt.scatter(ik, np.abs(diff_layers), color = 'r')\n",
    "        ik += 1\n",
    "\n",
    "for nodes in set(df_gs['num_nodes']):\n",
    "    for layer in set(df_gs['num_layers']):\n",
    "        diff_layers = df_gs[(df_gs['num_nodes'] == nodes)& (df_gs['alpha']==.001) & (df_gs['num_layers']==layer)]['score'].values-df_gs[(df_gs['num_nodes'] == nodes)& (df_gs['alpha']==.00005) & (df_gs['num_layers']==layer)]['score'].values\n",
    "        plt.scatter(ik, np.abs(diff_layers), color = 'b')\n",
    "        ik += 1\n",
    "        \n",
    "for alpha in [.001, .00005]:\n",
    "    for layer in set(df_gs['num_layers']):\n",
    "        diff_layers = df_gs[(df_gs['num_nodes'] == 100)& (df_gs['alpha']==alpha) & (df_gs['num_layers']==layer)]['score'].values-df_gs[(df_gs['num_nodes'] == 50)& (df_gs['alpha']==alpha) & (df_gs['num_layers']==layer)]['score'].values\n",
    "        plt.scatter(ik, np.abs(diff_layers), color = 'g')\n",
    "        ik += 1\n",
    "        \n",
    "# red is the difference between numlayers\n",
    "# blue is difference in alpha\n",
    "# green is difference in nodes"
   ]
  },
  {
   "cell_type": "markdown",
   "metadata": {},
   "source": [
    "I would read that high point as: The number of layers is most important given an alpha value of 'a1' and a number of nodes per layer of 'b1'.  The second highest point, however, indicates that the number of nodes is most important given a value of alpha 'a2' (where 'a2' may equal 'a1') and the number of layers equals 'l2'. \n",
    "\n",
    "My suspicion is that different parameters are more or less important in light of specific other parameter values.  "
   ]
  },
  {
   "cell_type": "markdown",
   "metadata": {},
   "source": [
    "### Grid Search 2....\n",
    "I repeated the grid search with more extreme parameter differences: 3 & 5 layers with hidden layers that were half of the input and output layers"
   ]
  },
  {
   "cell_type": "code",
   "execution_count": 117,
   "metadata": {},
   "outputs": [
    {
     "name": "stdout",
     "output_type": "stream",
     "text": [
      "Iteration 1, loss = 1.30939423\n",
      "Iteration 2, loss = 0.93240049\n",
      "Iteration 3, loss = 0.89857709\n",
      "Iteration 4, loss = 0.89101392\n",
      "Iteration 5, loss = 0.86307930\n",
      "Iteration 6, loss = 0.81374507\n",
      "Iteration 7, loss = 0.81027995\n",
      "Iteration 8, loss = 0.77851927\n",
      "Iteration 9, loss = 0.74943165\n",
      "Iteration 10, loss = 0.75588366\n",
      "Iteration 11, loss = 0.72636265\n",
      "Iteration 12, loss = 0.72272378\n",
      "Iteration 13, loss = 0.72101129\n",
      "Iteration 14, loss = 0.70780904\n",
      "Iteration 15, loss = 0.69929977\n",
      "Iteration 16, loss = 0.69541585\n",
      "Iteration 17, loss = 0.69426319\n",
      "Iteration 18, loss = 0.68040868\n",
      "Iteration 19, loss = 0.68708933\n",
      "Iteration 20, loss = 0.67536747\n",
      "Iteration 21, loss = 0.67141804\n",
      "Iteration 22, loss = 0.66847143\n",
      "Iteration 23, loss = 0.66299603\n",
      "Iteration 24, loss = 0.66946784\n",
      "Iteration 25, loss = 0.68397032\n",
      "Iteration 26, loss = 0.66359693\n",
      "Iteration 27, loss = 0.67109821\n",
      "Iteration 28, loss = 0.65195835\n",
      "Iteration 29, loss = 0.65057246\n",
      "Iteration 30, loss = 0.65335593\n",
      "Iteration 31, loss = 0.64768851\n",
      "Iteration 32, loss = 0.64781788\n",
      "Iteration 33, loss = 0.64223846\n",
      "Iteration 34, loss = 0.64578724\n",
      "Iteration 35, loss = 0.64209180\n",
      "Iteration 36, loss = 0.63391249\n",
      "Iteration 37, loss = 0.62781173\n",
      "Iteration 38, loss = 0.63234432\n",
      "Iteration 39, loss = 0.63546802\n",
      "Iteration 40, loss = 0.63304271\n",
      "Iteration 41, loss = 0.62431361\n",
      "Iteration 42, loss = 0.62677246\n",
      "Iteration 43, loss = 0.62656663\n",
      "Iteration 44, loss = 0.61758105\n",
      "Iteration 45, loss = 0.60850128\n",
      "Iteration 46, loss = 0.60552730\n",
      "Iteration 47, loss = 0.61574685\n",
      "Iteration 48, loss = 0.61616891\n",
      "Iteration 49, loss = 0.60432931\n",
      "Iteration 50, loss = 0.60217126\n",
      "Iteration 51, loss = 0.60017998\n",
      "Iteration 52, loss = 0.59215820\n",
      "Iteration 53, loss = 0.59747193\n",
      "Iteration 54, loss = 0.59630525\n",
      "Iteration 55, loss = 0.58415782\n",
      "Iteration 56, loss = 0.59925987\n",
      "Iteration 57, loss = 0.58318506\n",
      "Iteration 58, loss = 0.57806059\n",
      "Iteration 59, loss = 0.58203057\n",
      "Iteration 60, loss = 0.58496533\n",
      "Iteration 61, loss = 0.57381316\n",
      "Iteration 62, loss = 0.57783077\n",
      "Iteration 63, loss = 0.57041340\n",
      "Iteration 64, loss = 0.56680258\n",
      "Iteration 65, loss = 0.56399865\n",
      "Iteration 66, loss = 0.56330289\n",
      "Iteration 67, loss = 0.56523333\n",
      "Iteration 68, loss = 0.55916553\n",
      "Iteration 69, loss = 0.54498425\n",
      "Iteration 70, loss = 0.55232873\n",
      "Iteration 71, loss = 0.55437290\n",
      "Iteration 72, loss = 0.54678946\n",
      "Iteration 73, loss = 0.54324245\n",
      "Iteration 74, loss = 0.54038608\n",
      "Iteration 75, loss = 0.54476532\n",
      "Iteration 76, loss = 0.53009298\n",
      "Iteration 77, loss = 0.53088703\n",
      "Iteration 78, loss = 0.54087777\n",
      "Iteration 79, loss = 0.52585561\n",
      "Iteration 80, loss = 0.51932773\n",
      "Iteration 81, loss = 0.52632687\n",
      "Iteration 82, loss = 0.51701556\n",
      "Iteration 83, loss = 0.51501337\n",
      "Iteration 84, loss = 0.51927029\n",
      "Iteration 85, loss = 0.51159058\n",
      "Iteration 86, loss = 0.51777439\n",
      "Iteration 87, loss = 0.51654735\n",
      "Iteration 88, loss = 0.50859479\n",
      "Iteration 89, loss = 0.51450963\n",
      "Iteration 90, loss = 0.50213416\n",
      "Iteration 91, loss = 0.50177774\n",
      "Iteration 92, loss = 0.49848809\n",
      "Iteration 93, loss = 0.50980408\n",
      "Iteration 94, loss = 0.49298565\n",
      "Iteration 95, loss = 0.48995621\n",
      "Iteration 96, loss = 0.49225065\n",
      "Iteration 97, loss = 0.49269948\n",
      "Iteration 98, loss = 0.48435688\n",
      "Iteration 99, loss = 0.49253823\n",
      "Iteration 100, loss = 0.48689295\n",
      "Iteration 101, loss = 0.48516442\n",
      "Iteration 102, loss = 0.48461457\n",
      "Iteration 103, loss = 0.47371596\n",
      "Iteration 104, loss = 0.48253622\n",
      "Iteration 105, loss = 0.48260940\n",
      "Iteration 106, loss = 0.47453450\n",
      "Iteration 107, loss = 0.46792540\n",
      "Iteration 108, loss = 0.46821172\n",
      "Iteration 109, loss = 0.45565522\n",
      "Iteration 110, loss = 0.48018735\n",
      "Iteration 111, loss = 0.47511819\n",
      "Iteration 112, loss = 0.49316169\n",
      "Iteration 113, loss = 0.46607150\n",
      "Iteration 114, loss = 0.45972183\n",
      "Iteration 115, loss = 0.46069871\n",
      "Iteration 116, loss = 0.44780381\n",
      "Iteration 117, loss = 0.45455367\n",
      "Iteration 118, loss = 0.45165003\n",
      "Iteration 119, loss = 0.45104063\n",
      "Iteration 120, loss = 0.45420619\n",
      "Iteration 121, loss = 0.45643364\n",
      "Iteration 122, loss = 0.44824359\n",
      "Iteration 123, loss = 0.44698264\n",
      "Iteration 124, loss = 0.43723603\n",
      "Iteration 125, loss = 0.44901918\n",
      "Iteration 126, loss = 0.43182290\n",
      "Iteration 127, loss = 0.43829148\n",
      "Iteration 128, loss = 0.43012099\n",
      "Iteration 129, loss = 0.45466160\n",
      "Iteration 130, loss = 0.42672300\n",
      "Iteration 131, loss = 0.44327831\n",
      "Iteration 132, loss = 0.42200865\n",
      "Iteration 133, loss = 0.43459679\n",
      "Iteration 134, loss = 0.42629793\n",
      "Iteration 135, loss = 0.41979369\n",
      "Iteration 136, loss = 0.43496861\n",
      "Iteration 137, loss = 0.42210996\n",
      "Iteration 138, loss = 0.41900456\n",
      "Iteration 139, loss = 0.42584437\n",
      "Iteration 140, loss = 0.41691812\n",
      "Iteration 141, loss = 0.41265266\n",
      "Iteration 142, loss = 0.42108451\n",
      "Iteration 143, loss = 0.41899658\n",
      "Iteration 144, loss = 0.41197909\n",
      "Iteration 145, loss = 0.42083649\n",
      "Iteration 146, loss = 0.41830675\n",
      "Iteration 147, loss = 0.40356478\n",
      "Iteration 148, loss = 0.41697339\n",
      "Iteration 149, loss = 0.39763288\n",
      "Iteration 150, loss = 0.40405040\n",
      "Iteration 151, loss = 0.41348812\n",
      "Iteration 152, loss = 0.41158751\n",
      "Iteration 153, loss = 0.40327972\n",
      "Iteration 154, loss = 0.38821005\n",
      "Iteration 155, loss = 0.41076095\n",
      "Iteration 156, loss = 0.40142462\n",
      "Iteration 157, loss = 0.39512320\n",
      "Iteration 158, loss = 0.38733418\n",
      "Iteration 159, loss = 0.41183778\n",
      "Iteration 160, loss = 0.40678659\n",
      "Iteration 161, loss = 0.39494767\n",
      "Iteration 162, loss = 0.38152779\n",
      "Iteration 163, loss = 0.41307880\n",
      "Iteration 164, loss = 0.38270412\n",
      "Iteration 165, loss = 0.39807823\n",
      "Iteration 166, loss = 0.38200634\n",
      "Iteration 167, loss = 0.38227899\n",
      "Iteration 168, loss = 0.38091686\n",
      "Iteration 169, loss = 0.38478631\n",
      "Iteration 170, loss = 0.38343737\n",
      "Iteration 171, loss = 0.37802378\n",
      "Iteration 172, loss = 0.38993357\n",
      "Iteration 173, loss = 0.38358498\n",
      "Iteration 174, loss = 0.37663591\n",
      "Iteration 175, loss = 0.38074279\n",
      "Iteration 176, loss = 0.37102280\n",
      "Iteration 177, loss = 0.36366881\n",
      "Iteration 178, loss = 0.36932696\n",
      "Iteration 179, loss = 0.38068118\n",
      "Iteration 180, loss = 0.38109879\n",
      "Iteration 181, loss = 0.37500148\n",
      "Iteration 182, loss = 0.36497637\n",
      "Iteration 183, loss = 0.36808069\n",
      "Iteration 184, loss = 0.36244704\n",
      "Iteration 185, loss = 0.35487353\n",
      "Iteration 186, loss = 0.37735979\n",
      "Iteration 187, loss = 0.35208424\n",
      "Iteration 188, loss = 0.36413866\n",
      "Iteration 189, loss = 0.37262553\n",
      "Iteration 190, loss = 0.36261431\n",
      "Iteration 191, loss = 0.37011797\n",
      "Iteration 192, loss = 0.35974644\n",
      "Iteration 193, loss = 0.36470519\n",
      "Iteration 194, loss = 0.36910029\n",
      "Iteration 195, loss = 0.35719801\n",
      "Iteration 196, loss = 0.36748351\n",
      "Iteration 197, loss = 0.35443175\n",
      "Iteration 198, loss = 0.37899407\n",
      "Training loss did not improve more than tol=0.000100 for 10 consecutive epochs. Stopping.\n"
     ]
    },
    {
     "data": {
      "text/plain": [
       "GridSearchCV(cv=4, error_score='raise-deprecating',\n",
       "       estimator=MLPClassifier(activation='relu', alpha=0.0001, batch_size='auto', beta_1=0.9,\n",
       "       beta_2=0.999, early_stopping=False, epsilon=1e-08,\n",
       "       hidden_layer_sizes=(100,), learning_rate='constant',\n",
       "       learning_rate_init=0.001, max_iter=200, momentum=0.9,\n",
       "       n_iter_no_change=10, nesterovs_momentum=True, power_t=0.5,\n",
       "       random_state=None, shuffle=True, solver='adam', tol=0.0001,\n",
       "       validation_fraction=0.1, verbose=False, warm_start=False),\n",
       "       fit_params=None, iid='warn', n_jobs=-1,\n",
       "       param_grid={'hidden_layer_sizes': [(200, 100, 200), (200, 100, 100, 100, 200), (100, 50, 100), (100, 50, 50, 50, 100)], 'alpha': [0.001, 5e-05], 'verbose': [True]},\n",
       "       pre_dispatch='2*n_jobs', refit=True, return_train_score='warn',\n",
       "       scoring=None, verbose=0)"
      ]
     },
     "execution_count": 117,
     "metadata": {},
     "output_type": "execute_result"
    }
   ],
   "source": [
    "# Try one more with stronger differnces between parameters\n",
    "from sklearn.model_selection import GridSearchCV\n",
    "\n",
    "params = {'hidden_layer_sizes':[(200,100,200), (200,100,100,100,200), (100,50,100), (100,50,50,50,100)], 'alpha': [0.001, 0.00005], 'verbose': [True]}\n",
    "\n",
    "mlp = MLPClassifier()\n",
    "mpl_gscv = GridSearchCV(mlp, params, cv=4, n_jobs = -1)\n",
    "mpl_gscv.fit(X_sub_train, y_sub_train)"
   ]
  },
  {
   "cell_type": "code",
   "execution_count": 131,
   "metadata": {},
   "outputs": [
    {
     "data": {
      "text/plain": [
       "0.82364413772410172"
      ]
     },
     "execution_count": 131,
     "metadata": {},
     "output_type": "execute_result"
    }
   ],
   "source": [
    "mpl_gscv.best_estimator_.score(X_sub_test, y_sub_test)"
   ]
  },
  {
   "cell_type": "markdown",
   "metadata": {},
   "source": [
    "Not bad!  Performs better on the test set than the cross validation split.  "
   ]
  },
  {
   "cell_type": "code",
   "execution_count": 122,
   "metadata": {},
   "outputs": [],
   "source": [
    "param_d2 = {}\n",
    "params = []\n",
    "df_d = {'alpha': [], 'num_layers': [],'num_nodes':[] , 'score':[]}\n",
    "\n",
    "for ik, entry in enumerate(mpl_gscv.cv_results_['params']):\n",
    "    df_d['alpha'].append(entry['alpha'])\n",
    "    df_d['num_layers'].append(len(entry['hidden_layer_sizes']))\n",
    "    df_d['num_nodes'].append(entry['hidden_layer_sizes'][1])\n",
    "    df_d['score'].append(mpl_gscv.cv_results_['mean_test_score'][ik])                      "
   ]
  },
  {
   "cell_type": "code",
   "execution_count": 123,
   "metadata": {},
   "outputs": [],
   "source": [
    "df_gs = pd.DataFrame(df_d)"
   ]
  },
  {
   "cell_type": "code",
   "execution_count": 125,
   "metadata": {},
   "outputs": [
    {
     "data": {
      "text/plain": [
       "array([-0.04868595, -0.017779  ])"
      ]
     },
     "execution_count": 125,
     "metadata": {},
     "output_type": "execute_result"
    }
   ],
   "source": [
    "# differences between scores with constant num_nodes\n",
    "# alpha values are the indices\n",
    "# num_nodes = 100\n",
    "df_gs[(df_gs['num_nodes'] == 100)& (df_gs['num_layers']==3)]['score'].values-df_gs[(df_gs['num_nodes'] == 100)& (df_gs['num_layers']==5)]['score'].values\n"
   ]
  },
  {
   "cell_type": "code",
   "execution_count": 126,
   "metadata": {},
   "outputs": [
    {
     "data": {
      "text/plain": [
       "array([-0.01697882, -0.0235553 ])"
      ]
     },
     "execution_count": 126,
     "metadata": {},
     "output_type": "execute_result"
    }
   ],
   "source": [
    "# differences between scores with constant num_nodes\n",
    "# alpha values are the indices\n",
    "# num_nodes = 50\n",
    "df_gs[(df_gs['num_nodes'] == 50)& (df_gs['num_layers']==3)]['score'].values-df_gs[(df_gs['num_nodes'] == 50)& (df_gs['num_layers']==5)]['score'].values\n"
   ]
  },
  {
   "cell_type": "code",
   "execution_count": 127,
   "metadata": {},
   "outputs": [
    {
     "data": {
      "text/plain": [
       "array([-0.01590358,  0.01675377])"
      ]
     },
     "execution_count": 127,
     "metadata": {},
     "output_type": "execute_result"
    }
   ],
   "source": [
    "# differences between scores with constant num_layers\n",
    "# alpha values are the indices\n",
    "# num_layers = 3\n",
    "df_gs[(df_gs['num_nodes'] == 100)& (df_gs['num_layers']==3)]['score'].values-df_gs[(df_gs['num_nodes'] == 50)& (df_gs['num_layers']==3)]['score'].values\n"
   ]
  },
  {
   "cell_type": "code",
   "execution_count": 128,
   "metadata": {},
   "outputs": [
    {
     "data": {
      "text/plain": [
       "array([ 0.01580356,  0.01097747])"
      ]
     },
     "execution_count": 128,
     "metadata": {},
     "output_type": "execute_result"
    }
   ],
   "source": [
    "# differences between scores with constant num_layers\n",
    "# alpha values are the indices\n",
    "# num_layers = 4\n",
    "df_gs[(df_gs['num_nodes'] == 100)& (df_gs['num_layers']==5)]['score'].values-df_gs[(df_gs['num_nodes'] == 50)& (df_gs['num_layers']==5)]['score'].values\n"
   ]
  },
  {
   "cell_type": "code",
   "execution_count": 129,
   "metadata": {},
   "outputs": [
    {
     "data": {
      "image/png": "[encoded data removed]",
      "text/plain": [
       "<matplotlib.figure.Figure at 0x112a562b0>"
      ]
     },
     "metadata": {},
     "output_type": "display_data"
    }
   ],
   "source": [
    "ik = 0\n",
    "for nodes in set(df_gs['num_nodes']):\n",
    "    for alpha in [.001, .00005]:\n",
    "        diff_layers = df_gs[(df_gs['num_nodes'] == nodes)& (df_gs['alpha']==alpha) & (df_gs['num_layers']==3)]['score'].values-df_gs[(df_gs['num_nodes'] == nodes)& (df_gs['alpha']==alpha) & (df_gs['num_layers']==5)]['score'].values\n",
    "        plt.scatter(ik, np.abs(diff_layers), color = 'r')\n",
    "        ik += 1\n",
    "\n",
    "for nodes in set(df_gs['num_nodes']):\n",
    "    for layer in set(df_gs['num_layers']):\n",
    "        diff_layers = df_gs[(df_gs['num_nodes'] == nodes)& (df_gs['alpha']==.001) & (df_gs['num_layers']==layer)]['score'].values-df_gs[(df_gs['num_nodes'] == nodes)& (df_gs['alpha']==.00005) & (df_gs['num_layers']==layer)]['score'].values\n",
    "        plt.scatter(ik, np.abs(diff_layers), color = 'b')\n",
    "        ik += 1\n",
    "        \n",
    "for alpha in [.001, .00005]:\n",
    "    for layer in set(df_gs['num_layers']):\n",
    "        diff_layers = df_gs[(df_gs['num_nodes'] == 100)& (df_gs['alpha']==alpha) & (df_gs['num_layers']==layer)]['score'].values-df_gs[(df_gs['num_nodes'] == 50)& (df_gs['alpha']==alpha) & (df_gs['num_layers']==layer)]['score'].values\n",
    "        plt.scatter(ik, np.abs(diff_layers), color = 'g')\n",
    "        ik += 1\n",
    "        \n",
    "# red is the difference between numlayers\n",
    "# blue is difference in alpha\n",
    "# green is difference in nodes"
   ]
  },
  {
   "cell_type": "code",
   "execution_count": null,
   "metadata": {},
   "outputs": [],
   "source": []
  }
 ],
 "metadata": {
  "hide_input": false,
  "kernelspec": {
   "display_name": "Python 3",
   "language": "python",
   "name": "python3"
  },
  "language_info": {
   "codemirror_mode": {
    "name": "ipython",
    "version": 3
   },
   "file_extension": ".py",
   "mimetype": "text/x-python",
   "name": "python",
   "nbconvert_exporter": "python",
   "pygments_lexer": "ipython3",
   "version": "3.6.5"
  },
  "toc": {
   "colors": {
    "hover_highlight": "#DAA520",
    "running_highlight": "#FF0000",
    "selected_highlight": "#FFD700"
   },
   "moveMenuLeft": true,
   "nav_menu": {
    "height": "86px",
    "width": "252px"
   },
   "navigate_menu": true,
   "number_sections": true,
   "sideBar": true,
   "threshold": 4,
   "toc_cell": false,
   "toc_section_display": "block",
   "toc_window_display": false
  }
 },
 "nbformat": 4,
 "nbformat_minor": 2
}
