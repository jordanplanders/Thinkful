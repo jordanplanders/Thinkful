{
 "cells": [
  {
   "cell_type": "code",
   "execution_count": 1,
   "metadata": {
    "collapsed": true,
    "run_control": {
     "frozen": false,
     "read_only": false
    }
   },
   "outputs": [],
   "source": [
    "import numpy as np\n",
    "import pandas as pd\n",
    "import matplotlib.pyplot as plt\n",
    "%matplotlib inline\n",
    "\n",
    "from sklearn.model_selection import train_test_split, GridSearchCV, cross_val_score\n",
    "\n",
    "from sklearn.neural_network import MLPClassifier"
   ]
  },
  {
   "cell_type": "markdown",
   "metadata": {
    "run_control": {
     "frozen": false,
     "read_only": false
    }
   },
   "source": [
    "We're ready to build our first neural network. We will have multiple features we feed into our model, each of which will go through a set of perceptron models to arrive at a response which will be trained to our output.\n",
    "\n",
    "Like many models we've covered, this can be used as both a regression or classification model.\n",
    "\n",
    "First, we need to load our dataset. For this example we'll use The Museum of Modern Art in New York's [public dataset](https://media.githubusercontent.com/media/MuseumofModernArt/collection/master/Artworks.csv) on their collection."
   ]
  },
  {
   "cell_type": "code",
   "execution_count": 2,
   "metadata": {
    "collapsed": true,
    "run_control": {
     "frozen": false,
     "read_only": false
    }
   },
   "outputs": [],
   "source": [
    "artworks = pd.read_csv('https://media.githubusercontent.com/media/MuseumofModernArt/collection/master/Artworks.csv')"
   ]
  },
  {
   "cell_type": "code",
   "execution_count": 3,
   "metadata": {
    "run_control": {
     "frozen": false,
     "read_only": false
    },
    "scrolled": true
   },
   "outputs": [
    {
     "data": {
      "text/plain": [
       "Index(['Title', 'Artist', 'ConstituentID', 'ArtistBio', 'Nationality',\n",
       "       'BeginDate', 'EndDate', 'Gender', 'Date', 'Medium', 'Dimensions',\n",
       "       'CreditLine', 'AccessionNumber', 'Classification', 'Department',\n",
       "       'DateAcquired', 'Cataloged', 'ObjectID', 'URL', 'ThumbnailURL',\n",
       "       'Circumference (cm)', 'Depth (cm)', 'Diameter (cm)', 'Height (cm)',\n",
       "       'Length (cm)', 'Weight (kg)', 'Width (cm)', 'Seat Height (cm)',\n",
       "       'Duration (sec.)'],\n",
       "      dtype='object')"
      ]
     },
     "execution_count": 3,
     "metadata": {},
     "output_type": "execute_result"
    }
   ],
   "source": [
    "artworks.columns"
   ]
  },
  {
   "cell_type": "markdown",
   "metadata": {
    "run_control": {
     "frozen": false,
     "read_only": false
    }
   },
   "source": [
    "We'll also do a bit of data processing and cleaning, selecting columns of interest and converting URL's to booleans indicating whether they are present."
   ]
  },
  {
   "cell_type": "code",
   "execution_count": 4,
   "metadata": {
    "collapsed": true,
    "run_control": {
     "frozen": false,
     "read_only": false
    }
   },
   "outputs": [],
   "source": [
    "# Select Columns.\n",
    "artworks = artworks[['Artist', 'Nationality', 'Gender', 'Date', 'Department',\n",
    "                    'DateAcquired', 'URL', 'ThumbnailURL', 'Height (cm)', 'Width (cm)']]\n",
    "\n",
    "# Convert URL's to booleans.\n",
    "artworks['URL'] = artworks['URL'].notnull()\n",
    "artworks['ThumbnailURL'] = artworks['ThumbnailURL'].notnull()\n",
    "\n",
    "# Drop films and some other tricky rows.\n",
    "artworks = artworks[artworks['Department']!='Film']\n",
    "artworks = artworks[artworks['Department']!='Media and Performance Art']\n",
    "artworks = artworks[artworks['Department']!='Fluxus Collection']\n",
    "\n",
    "# Drop missing data.\n",
    "artworks = artworks.dropna()"
   ]
  },
  {
   "cell_type": "code",
   "execution_count": 5,
   "metadata": {
    "run_control": {
     "frozen": false,
     "read_only": false
    }
   },
   "outputs": [
    {
     "data": {
      "text/html": [
       "<div>\n",
       "<style scoped>\n",
       "    .dataframe tbody tr th:only-of-type {\n",
       "        vertical-align: middle;\n",
       "    }\n",
       "\n",
       "    .dataframe tbody tr th {\n",
       "        vertical-align: top;\n",
       "    }\n",
       "\n",
       "    .dataframe thead th {\n",
       "        text-align: right;\n",
       "    }\n",
       "</style>\n",
       "<table border=\"1\" class=\"dataframe\">\n",
       "  <thead>\n",
       "    <tr style=\"text-align: right;\">\n",
       "      <th></th>\n",
       "      <th>Artist</th>\n",
       "      <th>Nationality</th>\n",
       "      <th>Gender</th>\n",
       "      <th>Date</th>\n",
       "      <th>Department</th>\n",
       "      <th>DateAcquired</th>\n",
       "      <th>URL</th>\n",
       "      <th>ThumbnailURL</th>\n",
       "      <th>Height (cm)</th>\n",
       "      <th>Width (cm)</th>\n",
       "    </tr>\n",
       "  </thead>\n",
       "  <tbody>\n",
       "    <tr>\n",
       "      <th>0</th>\n",
       "      <td>Otto Wagner</td>\n",
       "      <td>(Austrian)</td>\n",
       "      <td>(Male)</td>\n",
       "      <td>1896</td>\n",
       "      <td>Architecture &amp; Design</td>\n",
       "      <td>1996-04-09</td>\n",
       "      <td>True</td>\n",
       "      <td>True</td>\n",
       "      <td>48.6000</td>\n",
       "      <td>168.9000</td>\n",
       "    </tr>\n",
       "    <tr>\n",
       "      <th>1</th>\n",
       "      <td>Christian de Portzamparc</td>\n",
       "      <td>(French)</td>\n",
       "      <td>(Male)</td>\n",
       "      <td>1987</td>\n",
       "      <td>Architecture &amp; Design</td>\n",
       "      <td>1995-01-17</td>\n",
       "      <td>True</td>\n",
       "      <td>True</td>\n",
       "      <td>40.6401</td>\n",
       "      <td>29.8451</td>\n",
       "    </tr>\n",
       "    <tr>\n",
       "      <th>2</th>\n",
       "      <td>Emil Hoppe</td>\n",
       "      <td>(Austrian)</td>\n",
       "      <td>(Male)</td>\n",
       "      <td>1903</td>\n",
       "      <td>Architecture &amp; Design</td>\n",
       "      <td>1997-01-15</td>\n",
       "      <td>True</td>\n",
       "      <td>True</td>\n",
       "      <td>34.3000</td>\n",
       "      <td>31.8000</td>\n",
       "    </tr>\n",
       "    <tr>\n",
       "      <th>3</th>\n",
       "      <td>Bernard Tschumi</td>\n",
       "      <td>()</td>\n",
       "      <td>(Male)</td>\n",
       "      <td>1980</td>\n",
       "      <td>Architecture &amp; Design</td>\n",
       "      <td>1995-01-17</td>\n",
       "      <td>True</td>\n",
       "      <td>True</td>\n",
       "      <td>50.8000</td>\n",
       "      <td>50.8000</td>\n",
       "    </tr>\n",
       "    <tr>\n",
       "      <th>4</th>\n",
       "      <td>Emil Hoppe</td>\n",
       "      <td>(Austrian)</td>\n",
       "      <td>(Male)</td>\n",
       "      <td>1903</td>\n",
       "      <td>Architecture &amp; Design</td>\n",
       "      <td>1997-01-15</td>\n",
       "      <td>True</td>\n",
       "      <td>True</td>\n",
       "      <td>38.4000</td>\n",
       "      <td>19.1000</td>\n",
       "    </tr>\n",
       "  </tbody>\n",
       "</table>\n",
       "</div>"
      ],
      "text/plain": [
       "                     Artist Nationality  Gender  Date             Department  \\\n",
       "0               Otto Wagner  (Austrian)  (Male)  1896  Architecture & Design   \n",
       "1  Christian de Portzamparc    (French)  (Male)  1987  Architecture & Design   \n",
       "2                Emil Hoppe  (Austrian)  (Male)  1903  Architecture & Design   \n",
       "3           Bernard Tschumi          ()  (Male)  1980  Architecture & Design   \n",
       "4                Emil Hoppe  (Austrian)  (Male)  1903  Architecture & Design   \n",
       "\n",
       "  DateAcquired   URL  ThumbnailURL  Height (cm)  Width (cm)  \n",
       "0   1996-04-09  True          True      48.6000    168.9000  \n",
       "1   1995-01-17  True          True      40.6401     29.8451  \n",
       "2   1997-01-15  True          True      34.3000     31.8000  \n",
       "3   1995-01-17  True          True      50.8000     50.8000  \n",
       "4   1997-01-15  True          True      38.4000     19.1000  "
      ]
     },
     "execution_count": 5,
     "metadata": {},
     "output_type": "execute_result"
    }
   ],
   "source": [
    "artworks.head()"
   ]
  },
  {
   "cell_type": "markdown",
   "metadata": {
    "run_control": {
     "frozen": false,
     "read_only": false
    }
   },
   "source": [
    "## Building a Model\n",
    "\n",
    "Now, let's see if we can use multi-layer perceptron modeling (or \"MLP\") to see if we can classify the department a piece should go into using everything but the department name.\n",
    "\n",
    "Before we import MLP from SKLearn and establish the model we first have to ensure correct typing for our data and do some other cleaning."
   ]
  },
  {
   "cell_type": "code",
   "execution_count": 6,
   "metadata": {
    "run_control": {
     "frozen": false,
     "read_only": false
    }
   },
   "outputs": [
    {
     "data": {
      "text/plain": [
       "Artist           object\n",
       "Nationality      object\n",
       "Gender           object\n",
       "Date             object\n",
       "Department       object\n",
       "DateAcquired     object\n",
       "URL                bool\n",
       "ThumbnailURL       bool\n",
       "Height (cm)     float64\n",
       "Width (cm)      float64\n",
       "dtype: object"
      ]
     },
     "execution_count": 6,
     "metadata": {},
     "output_type": "execute_result"
    }
   ],
   "source": [
    "# Get data types.\n",
    "artworks.dtypes"
   ]
  },
  {
   "cell_type": "markdown",
   "metadata": {},
   "source": [
    "The `DateAcquired` column is an object. Let's transform that to a datetime object and add a feature for just the year the artwork was acquired."
   ]
  },
  {
   "cell_type": "code",
   "execution_count": 5,
   "metadata": {
    "run_control": {
     "frozen": false,
     "read_only": false
    }
   },
   "outputs": [
    {
     "data": {
      "text/plain": [
       "dtype('int64')"
      ]
     },
     "execution_count": 5,
     "metadata": {},
     "output_type": "execute_result"
    }
   ],
   "source": [
    "artworks['DateAcquired'] = pd.to_datetime(artworks.DateAcquired)\n",
    "artworks['YearAcquired'] = artworks.DateAcquired.dt.year\n",
    "artworks['YearAcquired'].dtype"
   ]
  },
  {
   "cell_type": "markdown",
   "metadata": {},
   "source": [
    "Great. Let's do some more miscellaneous cleaning."
   ]
  },
  {
   "cell_type": "code",
   "execution_count": 36,
   "metadata": {
    "collapsed": true,
    "run_control": {
     "frozen": false,
     "read_only": false
    }
   },
   "outputs": [],
   "source": [
    "# Remove multiple nationalities, genders, and artists.\n",
    "artworks.loc[artworks['Gender'].str.contains('\\) \\('), 'Gender'] = '\\(multiple_persons\\)'\n",
    "artworks.loc[artworks['Nationality'].str.contains('\\) \\('), 'Nationality'] = '\\(multiple_nationalities\\)'\n",
    "artworks.loc[artworks['Artist'].str.contains(','), 'Artist'] = 'Multiple_Artists'\n",
    "\n",
    "# Convert dates to start date, cutting down number of distinct examples.\n",
    "artworks['Date'] = pd.Series(artworks.Date.str.extract(\n",
    "    '([0-9]{4})', expand=False))[:-1]\n",
    "\n",
    "# Final column drops and NA drop.\n",
    "X = artworks.drop(['Department', 'DateAcquired', 'Artist', 'Nationality', 'Date'], 1)\n",
    "\n",
    "# Create dummies separately.\n",
    "artists = pd.get_dummies(artworks.Artist)\n",
    "nationalities = pd.get_dummies(artworks.Nationality)\n",
    "dates = pd.get_dummies(artworks.Date)\n",
    "\n",
    "# Concat with other variables, but artists slows this wayyyyy down so we'll keep it out for now\n",
    "X = pd.get_dummies(X)\n",
    "X = pd.concat([X, nationalities, dates], axis=1)\n",
    "\n",
    "Y = artworks.Department"
   ]
  },
  {
   "cell_type": "code",
   "execution_count": 38,
   "metadata": {},
   "outputs": [],
   "source": [
    "X_train, X_test, y_train, y_test = train_test_split(X, Y)"
   ]
  },
  {
   "cell_type": "code",
   "execution_count": null,
   "metadata": {
    "run_control": {
     "frozen": false,
     "read_only": false
    }
   },
   "outputs": [],
   "source": [
    "# Alright! We've done our prep, let's build the model.\n",
    "# Neural networks are hugely computationally intensive.\n",
    "# This may take several minutes to run.\n",
    "\n",
    "# Import the model.\n",
    "from sklearn.neural_network import MLPClassifier\n",
    "\n",
    "# Establish and fit the model, with a single, 1000 perceptron layer.\n",
    "mlp = MLPClassifier(hidden_layer_sizes=(1000,))\n",
    "mlp.fit(X_train, y_train)"
   ]
  },
  {
   "cell_type": "code",
   "execution_count": null,
   "metadata": {
    "run_control": {
     "frozen": false,
     "read_only": false
    }
   },
   "outputs": [],
   "source": [
    "mlp.score(X_test, y_test)"
   ]
  },
  {
   "cell_type": "code",
   "execution_count": 11,
   "metadata": {
    "run_control": {
     "frozen": false,
     "read_only": false
    }
   },
   "outputs": [
    {
     "data": {
      "text/plain": [
       "Prints & Illustrated Books    0.521662\n",
       "Photography                   0.229354\n",
       "Architecture & Design         0.111225\n",
       "Drawings                      0.103381\n",
       "Painting & Sculpture          0.034377\n",
       "Name: Department, dtype: float64"
      ]
     },
     "execution_count": 11,
     "metadata": {},
     "output_type": "execute_result"
    }
   ],
   "source": [
    "y_test.value_counts()/len(y_test)"
   ]
  },
  {
   "cell_type": "code",
   "execution_count": 12,
   "metadata": {
    "run_control": {
     "frozen": false,
     "read_only": false
    }
   },
   "outputs": [
    {
     "data": {
      "text/plain": [
       "array([ 0.57519536,  0.52577072,  0.36922856,  0.48580744,  0.54039799])"
      ]
     },
     "execution_count": 12,
     "metadata": {},
     "output_type": "execute_result"
    }
   ],
   "source": [
    "from sklearn.model_selection import cross_val_score\n",
    "cross_val_score(mlp, X_train, y_train, cv=5)"
   ]
  },
  {
   "cell_type": "markdown",
   "metadata": {
    "run_control": {
     "frozen": false,
     "read_only": false
    }
   },
   "source": [
    "Now we got a lot of information from all of this. Firstly we can see that the model seems to overfit, though there is still so remaining performance when validated with cross validation. This is a feature of neural networks that aren't given enough data for the number of features present. _Neural networks, in general, like_ a lot _of data_. You may also have noticed something also about neural networks: _they can take a_ long _time to run_. Try increasing the layer size by adding a zero. Feel free to interrupt the kernel if you don't have time...\n",
    "\n",
    "Also note that we created bools for artist's name but left them out. Both of the above points are the reason for that. It would take much longer to run and it would be much more prone to overfitting."
   ]
  },
  {
   "cell_type": "markdown",
   "metadata": {
    "run_control": {
     "frozen": false,
     "read_only": false
    }
   },
   "source": [
    "## Model parameters\n",
    "\n",
    "Now, before we move on and let you loose with some tasks to work on the model, let's go over the parameters.\n",
    "\n",
    "We included one parameter: hidden layer size. Remember in the previous lesson, when we talked about layers in a neural network. This tells us how many and how big to make our layers. Pass in a tuple that specifies each layer's size. Our network is 1000 neurons wide and one layer. (100, 4, ) would create a network with two layers, one 100 wide and the other 4.\n",
    "\n",
    "How many layers to include is determined by two things: computational resources and cross validation searching for convergence. It's generally less than the number of input variables you have.\n",
    "\n",
    "You can also set an alpha. Neural networks like this use a regularization parameter that penalizes large coefficients just like we discussed in the advanced regression section. Alpha scales that penalty.\n",
    "\n",
    "Lastly, we'll discuss the activation function. The activation function determines whether the output from an individual perceptron is binary or continuous. By default this is a 'relu', or 'rectified linear unit function' function. In the exercise we went through earlier we used this binary function, but we discussed the _sigmoid_ as a reasonable alternative. The _sigmoid_ (called 'logistic' by SKLearn because it's a 'logistic sigmoid function') allows for continuous variables between 0 and 1, which allows for a more nuanced model. It does come at the cost of increased computational complexity.\n",
    "\n",
    "If you want to learn more about these, study [activation functions](https://en.wikipedia.org/wiki/Activation_function) and [multilayer perceptrons](https://en.wikipedia.org/wiki/Multilayer_perceptron). The [Deep Learning](http://www.deeplearningbook.org/) book referenced earlier goes into great detail on the linear algebra involved.\n",
    "\n",
    "You could also just test the models with cross validation. Unless neural networks are your specialty cross validation should be sufficient.\n",
    "\n",
    "For the other parameters and their defaults, check out the [MLPClassifier documentaiton](http://scikit-learn.org/stable/modules/generated/sklearn.neural_network.MLPClassifier.html#sklearn.neural_network.MLPClassifier)."
   ]
  },
  {
   "cell_type": "markdown",
   "metadata": {},
   "source": [
    "## Drill: Playing with layers\n",
    "\n",
    "Now it's your turn. Using the space below, experiment with different hidden layer structures. You can try this on a subset of the data to improve runtime. See how things vary. See what seems to matter the most. Feel free to manipulate other parameters as well. It may also be beneficial to do some real feature selection work..."
   ]
  },
  {
   "cell_type": "code",
   "execution_count": 47,
   "metadata": {
    "collapsed": true
   },
   "outputs": [],
   "source": [
    "# Your code here. Experiment with hidden layers to build your own model.\n",
    "\n",
    "df = X\n",
    "df['target'] = Y\n",
    "\n",
    "df_sub = df.sample(frac=0.5, replace=True, random_state=1)\n",
    "\n",
    "X_sub = df_sub.loc[:,~df_sub.columns.isin(['target'])]\n",
    "y_sub = df_sub['target']\n",
    "X_sub_train, X_sub_test, y_sub_train, y_sub_test = train_test_split(X_sub, y_sub)"
   ]
  },
  {
   "cell_type": "markdown",
   "metadata": {},
   "source": [
    "This first grid search will hopefully shed light on the effect of more/fewer layers larger/smaller layers as well as the effect of different alpha values."
   ]
  },
  {
   "cell_type": "code",
   "execution_count": 48,
   "metadata": {},
   "outputs": [
    {
     "name": "stdout",
     "output_type": "stream",
     "text": [
      "Iteration 1, loss = 1.91218737\n",
      "Iteration 2, loss = 1.06822426\n",
      "Iteration 3, loss = 0.96117339\n",
      "Iteration 4, loss = 0.92798335\n",
      "Iteration 5, loss = 0.90764195\n",
      "Iteration 6, loss = 0.86249203\n",
      "Iteration 7, loss = 0.82440518\n",
      "Iteration 8, loss = 0.82951918\n",
      "Iteration 9, loss = 0.79518464\n",
      "Iteration 10, loss = 0.78485612\n",
      "Iteration 11, loss = 0.77374229\n",
      "Iteration 12, loss = 0.75959906\n",
      "Iteration 13, loss = 0.73895925\n",
      "Iteration 14, loss = 0.72293335\n",
      "Iteration 15, loss = 0.73320975\n",
      "Iteration 16, loss = 0.72756573\n",
      "Iteration 17, loss = 0.73481698\n",
      "Iteration 18, loss = 0.71314450\n",
      "Iteration 19, loss = 0.70320489\n",
      "Iteration 20, loss = 0.70632217\n",
      "Iteration 21, loss = 0.70091009\n",
      "Iteration 22, loss = 0.69250055\n",
      "Iteration 23, loss = 0.70009058\n",
      "Iteration 24, loss = 0.68386637\n",
      "Iteration 25, loss = 0.68225014\n",
      "Iteration 26, loss = 0.69114657\n",
      "Iteration 27, loss = 0.67626126\n",
      "Iteration 28, loss = 0.68549293\n",
      "Iteration 29, loss = 0.67452615\n",
      "Iteration 30, loss = 0.68083184\n",
      "Iteration 31, loss = 0.66891306\n",
      "Iteration 32, loss = 0.66983793\n",
      "Iteration 33, loss = 0.66528465\n",
      "Iteration 34, loss = 0.66541845\n",
      "Iteration 35, loss = 0.64782488\n",
      "Iteration 36, loss = 0.66304856\n",
      "Iteration 37, loss = 0.65437694\n",
      "Iteration 38, loss = 0.64735326\n",
      "Iteration 39, loss = 0.65403558\n",
      "Iteration 40, loss = 0.64469820\n",
      "Iteration 41, loss = 0.64915323\n",
      "Iteration 42, loss = 0.64406950\n",
      "Iteration 43, loss = 0.64328906\n",
      "Iteration 44, loss = 0.64971431\n",
      "Iteration 45, loss = 0.63349769\n",
      "Iteration 46, loss = 0.63435634\n",
      "Iteration 47, loss = 0.62151994\n",
      "Iteration 48, loss = 0.62807637\n",
      "Iteration 49, loss = 0.62527387\n",
      "Iteration 50, loss = 0.62236033\n",
      "Iteration 51, loss = 0.62475792\n",
      "Iteration 52, loss = 0.61422618\n",
      "Iteration 53, loss = 0.61000574\n",
      "Iteration 54, loss = 0.60899454\n",
      "Iteration 55, loss = 0.61945709\n",
      "Iteration 56, loss = 0.59961403\n",
      "Iteration 57, loss = 0.59675679\n",
      "Iteration 58, loss = 0.60176966\n",
      "Iteration 59, loss = 0.59882826\n",
      "Iteration 60, loss = 0.59512617\n",
      "Iteration 61, loss = 0.59349305\n",
      "Iteration 62, loss = 0.59086968\n",
      "Iteration 63, loss = 0.58883476\n",
      "Iteration 64, loss = 0.58527814\n",
      "Iteration 65, loss = 0.59766589\n",
      "Iteration 66, loss = 0.57634720\n",
      "Iteration 67, loss = 0.58405627\n",
      "Iteration 68, loss = 0.57038315\n",
      "Iteration 69, loss = 0.56456461\n",
      "Iteration 70, loss = 0.55877112\n",
      "Iteration 71, loss = 0.56261583\n",
      "Iteration 72, loss = 0.56637461\n",
      "Iteration 73, loss = 0.55952345\n",
      "Iteration 74, loss = 0.55934344\n",
      "Iteration 75, loss = 0.56159835\n",
      "Iteration 76, loss = 0.54591494\n",
      "Iteration 77, loss = 0.55231124\n",
      "Iteration 78, loss = 0.54320026\n",
      "Iteration 79, loss = 0.55161480\n",
      "Iteration 80, loss = 0.54513811\n",
      "Iteration 81, loss = 0.54346441\n",
      "Iteration 82, loss = 0.54178688\n",
      "Iteration 83, loss = 0.53788735\n",
      "Iteration 84, loss = 0.53642715\n",
      "Iteration 85, loss = 0.52957771\n",
      "Iteration 86, loss = 0.52556068\n",
      "Iteration 87, loss = 0.52543880\n",
      "Iteration 88, loss = 0.53797739\n",
      "Iteration 89, loss = 0.51330597\n",
      "Iteration 90, loss = 0.51649607\n",
      "Iteration 91, loss = 0.51900388\n",
      "Iteration 92, loss = 0.51096107\n",
      "Iteration 93, loss = 0.51705402\n",
      "Iteration 94, loss = 0.51140006\n",
      "Iteration 95, loss = 0.51170142\n",
      "Iteration 96, loss = 0.51053771\n",
      "Iteration 97, loss = 0.50600432\n",
      "Iteration 98, loss = 0.50317551\n",
      "Iteration 99, loss = 0.50683066\n",
      "Iteration 100, loss = 0.51165453\n",
      "Iteration 101, loss = 0.49354936\n",
      "Iteration 102, loss = 0.49509103\n",
      "Iteration 103, loss = 0.49780207\n",
      "Iteration 104, loss = 0.50053003\n",
      "Iteration 105, loss = 0.49302517\n",
      "Iteration 106, loss = 0.49320053\n",
      "Iteration 107, loss = 0.49217723\n",
      "Iteration 108, loss = 0.48977380\n",
      "Iteration 109, loss = 0.48837313\n",
      "Iteration 110, loss = 0.48566434\n",
      "Iteration 111, loss = 0.48804346\n",
      "Iteration 112, loss = 0.48245826\n",
      "Iteration 113, loss = 0.47833230\n",
      "Iteration 114, loss = 0.48306936\n",
      "Iteration 115, loss = 0.47947923\n",
      "Iteration 116, loss = 0.47522552\n",
      "Iteration 117, loss = 0.47516056\n",
      "Iteration 118, loss = 0.46301866\n",
      "Iteration 119, loss = 0.46826617\n",
      "Iteration 120, loss = 0.47286183\n",
      "Iteration 121, loss = 0.46668031\n",
      "Iteration 122, loss = 0.47407801\n",
      "Iteration 123, loss = 0.47235584\n",
      "Iteration 124, loss = 0.46037261\n",
      "Iteration 125, loss = 0.47656437\n",
      "Iteration 126, loss = 0.46914734\n",
      "Iteration 127, loss = 0.46822881\n",
      "Iteration 128, loss = 0.45743873\n",
      "Iteration 129, loss = 0.46927376\n",
      "Iteration 130, loss = 0.45579526\n",
      "Iteration 131, loss = 0.45801216\n",
      "Iteration 132, loss = 0.46212248\n",
      "Iteration 133, loss = 0.46292903\n",
      "Iteration 134, loss = 0.45584945\n",
      "Iteration 135, loss = 0.45006014\n",
      "Iteration 136, loss = 0.45173041\n",
      "Iteration 137, loss = 0.45650281\n",
      "Iteration 138, loss = 0.45325966\n",
      "Iteration 139, loss = 0.44506535\n",
      "Iteration 140, loss = 0.44696279\n",
      "Iteration 141, loss = 0.45086587\n",
      "Iteration 142, loss = 0.44821978\n",
      "Iteration 143, loss = 0.43836211\n",
      "Iteration 144, loss = 0.43937038\n",
      "Iteration 145, loss = 0.44429475\n",
      "Iteration 146, loss = 0.44683163\n",
      "Iteration 147, loss = 0.43486686\n",
      "Iteration 148, loss = 0.44025160\n",
      "Iteration 149, loss = 0.43760488\n",
      "Iteration 150, loss = 0.44678283\n",
      "Iteration 151, loss = 0.43273506\n",
      "Iteration 152, loss = 0.43071078\n",
      "Iteration 153, loss = 0.43504736\n",
      "Iteration 154, loss = 0.42939411\n",
      "Iteration 155, loss = 0.43740964\n",
      "Iteration 156, loss = 0.42873371\n",
      "Iteration 157, loss = 0.42912720\n",
      "Iteration 158, loss = 0.42194017\n",
      "Iteration 159, loss = 0.42854087\n",
      "Iteration 160, loss = 0.41833856\n",
      "Iteration 161, loss = 0.42391656\n",
      "Iteration 162, loss = 0.42689750\n",
      "Iteration 163, loss = 0.41997990\n",
      "Iteration 164, loss = 0.41797982\n",
      "Iteration 165, loss = 0.41511925\n",
      "Iteration 166, loss = 0.42369891\n",
      "Iteration 167, loss = 0.42087283\n",
      "Iteration 168, loss = 0.41384460\n",
      "Iteration 169, loss = 0.41769589\n",
      "Iteration 170, loss = 0.41992790\n",
      "Iteration 171, loss = 0.41774255\n",
      "Iteration 172, loss = 0.40470174\n",
      "Iteration 173, loss = 0.41199360\n",
      "Iteration 174, loss = 0.40611260\n",
      "Iteration 175, loss = 0.42554812\n",
      "Iteration 176, loss = 0.42280459\n",
      "Iteration 177, loss = 0.41301458\n",
      "Iteration 178, loss = 0.41562237\n",
      "Iteration 179, loss = 0.40438893\n",
      "Iteration 180, loss = 0.40259098\n",
      "Iteration 181, loss = 0.39906974\n",
      "Iteration 182, loss = 0.40772981\n",
      "Iteration 183, loss = 0.41162747\n",
      "Iteration 184, loss = 0.40958409\n",
      "Iteration 185, loss = 0.40467845\n",
      "Iteration 186, loss = 0.39485069\n",
      "Iteration 187, loss = 0.41018416\n",
      "Iteration 188, loss = 0.40021520\n",
      "Iteration 189, loss = 0.41157028\n",
      "Iteration 190, loss = 0.40038535\n",
      "Iteration 191, loss = 0.40165818\n",
      "Iteration 192, loss = 0.39315707\n",
      "Iteration 193, loss = 0.39434040\n",
      "Iteration 194, loss = 0.38883932\n",
      "Iteration 195, loss = 0.39214797\n",
      "Iteration 196, loss = 0.39923433\n",
      "Iteration 197, loss = 0.39409183\n",
      "Iteration 198, loss = 0.40015605\n",
      "Iteration 199, loss = 0.38670234\n",
      "Iteration 200, loss = 0.38919726\n"
     ]
    },
    {
     "name": "stderr",
     "output_type": "stream",
     "text": [
      "/usr/local/lib/python3.6/site-packages/sklearn/neural_network/multilayer_perceptron.py:562: ConvergenceWarning: Stochastic Optimizer: Maximum iterations (200) reached and the optimization hasn't converged yet.\n",
      "  % self.max_iter, ConvergenceWarning)\n"
     ]
    },
    {
     "data": {
      "text/plain": [
       "GridSearchCV(cv=4, error_score='raise-deprecating',\n",
       "       estimator=MLPClassifier(activation='relu', alpha=0.0001, batch_size='auto', beta_1=0.9,\n",
       "       beta_2=0.999, early_stopping=False, epsilon=1e-08,\n",
       "       hidden_layer_sizes=(100,), learning_rate='constant',\n",
       "       learning_rate_init=0.001, max_iter=200, momentum=0.9,\n",
       "       n_iter_no_change=10, nesterovs_momentum=True, power_t=0.5,\n",
       "       random_state=None, shuffle=True, solver='adam', tol=0.0001,\n",
       "       validation_fraction=0.1, verbose=False, warm_start=False),\n",
       "       fit_params=None, iid='warn', n_jobs=-1,\n",
       "       param_grid={'hidden_layer_sizes': [(100, 100, 100), (100, 100, 100, 100), (50, 50, 50), (50, 50, 50, 50)], 'alpha': [0.001, 0.0001, 5e-05], 'verbose': [True]},\n",
       "       pre_dispatch='2*n_jobs', refit=True, return_train_score='warn',\n",
       "       scoring=None, verbose=0)"
      ]
     },
     "execution_count": 48,
     "metadata": {},
     "output_type": "execute_result"
    }
   ],
   "source": [
    "# Import the model.\n",
    "from sklearn.neural_network import MLPClassifier\n",
    "from sklearn.model_selection import GridSearchCV\n",
    "\n",
    "params = {'hidden_layer_sizes':[(100,100,100), (100,100,100,100), (50,50,50), (50,50,50,50)], 'alpha': [0.001, 0.0001, 0.00005], 'verbose': [True]}\n",
    "\n",
    "mlp = MLPClassifier()\n",
    "mpl_gscv = GridSearchCV(mlp, params, cv=4, n_jobs = -1)\n",
    "mpl_gscv.fit(X_sub_train, y_sub_train)"
   ]
  },
  {
   "cell_type": "code",
   "execution_count": 49,
   "metadata": {},
   "outputs": [
    {
     "name": "stderr",
     "output_type": "stream",
     "text": [
      "/usr/local/lib/python3.6/site-packages/sklearn/utils/deprecation.py:125: FutureWarning: You are accessing a training score ('mean_train_score'), which will not be available by default any more in 0.21. If you need training scores, please set return_train_score=True\n",
      "  warnings.warn(*warn_args, **warn_kwargs)\n",
      "/usr/local/lib/python3.6/site-packages/sklearn/utils/deprecation.py:125: FutureWarning: You are accessing a training score ('split0_train_score'), which will not be available by default any more in 0.21. If you need training scores, please set return_train_score=True\n",
      "  warnings.warn(*warn_args, **warn_kwargs)\n",
      "/usr/local/lib/python3.6/site-packages/sklearn/utils/deprecation.py:125: FutureWarning: You are accessing a training score ('split1_train_score'), which will not be available by default any more in 0.21. If you need training scores, please set return_train_score=True\n",
      "  warnings.warn(*warn_args, **warn_kwargs)\n",
      "/usr/local/lib/python3.6/site-packages/sklearn/utils/deprecation.py:125: FutureWarning: You are accessing a training score ('split2_train_score'), which will not be available by default any more in 0.21. If you need training scores, please set return_train_score=True\n",
      "  warnings.warn(*warn_args, **warn_kwargs)\n",
      "/usr/local/lib/python3.6/site-packages/sklearn/utils/deprecation.py:125: FutureWarning: You are accessing a training score ('split3_train_score'), which will not be available by default any more in 0.21. If you need training scores, please set return_train_score=True\n",
      "  warnings.warn(*warn_args, **warn_kwargs)\n",
      "/usr/local/lib/python3.6/site-packages/sklearn/utils/deprecation.py:125: FutureWarning: You are accessing a training score ('std_train_score'), which will not be available by default any more in 0.21. If you need training scores, please set return_train_score=True\n",
      "  warnings.warn(*warn_args, **warn_kwargs)\n"
     ]
    },
    {
     "data": {
      "text/plain": [
       "{'best_estimator_': MLPClassifier(activation='relu', alpha=5e-05, batch_size='auto', beta_1=0.9,\n",
       "        beta_2=0.999, early_stopping=False, epsilon=1e-08,\n",
       "        hidden_layer_sizes=(100, 100, 100, 100), learning_rate='constant',\n",
       "        learning_rate_init=0.001, max_iter=200, momentum=0.9,\n",
       "        n_iter_no_change=10, nesterovs_momentum=True, power_t=0.5,\n",
       "        random_state=None, shuffle=True, solver='adam', tol=0.0001,\n",
       "        validation_fraction=0.1, verbose=True, warm_start=False),\n",
       " 'best_index_': 9,\n",
       " 'best_params_': {'alpha': 5e-05,\n",
       "  'hidden_layer_sizes': (100, 100, 100, 100),\n",
       "  'verbose': True},\n",
       " 'best_score_': 0.80905703783351257,\n",
       " 'cv': 4,\n",
       " 'cv_results_': {'mean_fit_time': array([ 535.48037338,  533.08705974,   98.14492571,  195.76204622,\n",
       "          364.32288766,  553.47409505,  126.94964242,  194.27475333,\n",
       "          261.70130819,  437.62672162,   55.11099058,  178.30485296]),\n",
       "  'mean_score_time': array([ 0.77812165,  0.89862895,  0.4169172 ,  0.52585137,  0.75476432,\n",
       "          0.90225452,  0.42613482,  0.53590804,  0.58646625,  0.86974233,\n",
       "          0.32982641,  0.45150304]),\n",
       "  'mean_test_score': array([ 0.78732715,  0.79900478,  0.76319672,  0.77039834,  0.77484934,\n",
       "          0.78995274,  0.77247381,  0.78805231,  0.78825236,  0.80905704,\n",
       "          0.75567003,  0.79672926]),\n",
       "  'mean_train_score': array([ 0.8046651 ,  0.82738683,  0.77398237,  0.78679351,  0.79786337,\n",
       "          0.81950066,  0.78736923,  0.80643163,  0.80780642,  0.8417733 ,\n",
       "          0.7671469 ,  0.81713372]),\n",
       "  'param_alpha': masked_array(data = [0.001 0.001 0.001 0.001 0.0001 0.0001 0.0001 0.0001 5e-05 5e-05 5e-05\n",
       "   5e-05],\n",
       "               mask = [False False False False False False False False False False False False],\n",
       "         fill_value = ?),\n",
       "  'param_hidden_layer_sizes': masked_array(data = [(100, 100, 100) (100, 100, 100, 100) (50, 50, 50) (50, 50, 50, 50)\n",
       "   (100, 100, 100) (100, 100, 100, 100) (50, 50, 50) (50, 50, 50, 50)\n",
       "   (100, 100, 100) (100, 100, 100, 100) (50, 50, 50) (50, 50, 50, 50)],\n",
       "               mask = [False False False False False False False False False False False False],\n",
       "         fill_value = ?),\n",
       "  'param_verbose': masked_array(data = [True True True True True True True True True True True True],\n",
       "               mask = [False False False False False False False False False False False False],\n",
       "         fill_value = ?),\n",
       "  'params': [{'alpha': 0.001,\n",
       "    'hidden_layer_sizes': (100, 100, 100),\n",
       "    'verbose': True},\n",
       "   {'alpha': 0.001,\n",
       "    'hidden_layer_sizes': (100, 100, 100, 100),\n",
       "    'verbose': True},\n",
       "   {'alpha': 0.001, 'hidden_layer_sizes': (50, 50, 50), 'verbose': True},\n",
       "   {'alpha': 0.001, 'hidden_layer_sizes': (50, 50, 50, 50), 'verbose': True},\n",
       "   {'alpha': 0.0001, 'hidden_layer_sizes': (100, 100, 100), 'verbose': True},\n",
       "   {'alpha': 0.0001,\n",
       "    'hidden_layer_sizes': (100, 100, 100, 100),\n",
       "    'verbose': True},\n",
       "   {'alpha': 0.0001, 'hidden_layer_sizes': (50, 50, 50), 'verbose': True},\n",
       "   {'alpha': 0.0001, 'hidden_layer_sizes': (50, 50, 50, 50), 'verbose': True},\n",
       "   {'alpha': 5e-05, 'hidden_layer_sizes': (100, 100, 100), 'verbose': True},\n",
       "   {'alpha': 5e-05,\n",
       "    'hidden_layer_sizes': (100, 100, 100, 100),\n",
       "    'verbose': True},\n",
       "   {'alpha': 5e-05, 'hidden_layer_sizes': (50, 50, 50), 'verbose': True},\n",
       "   {'alpha': 5e-05, 'hidden_layer_sizes': (50, 50, 50, 50), 'verbose': True}],\n",
       "  'rank_test_score': array([ 7,  2, 11, 10,  8,  4,  9,  6,  5,  1, 12,  3], dtype=int32),\n",
       "  'split0_test_score': array([ 0.7995,  0.811 ,  0.776 ,  0.7546,  0.7571,  0.8087,  0.7988,\n",
       "          0.7903,  0.7733,  0.8183,  0.7243,  0.8018]),\n",
       "  'split0_train_score': array([ 0.81441099,  0.84055217,  0.79067053,  0.76519623,  0.78696942,\n",
       "          0.84505352,  0.81824547,  0.80424127,  0.78560235,  0.85769064,\n",
       "          0.72991898,  0.8203461 ]),\n",
       "  'split1_test_score': array([ 0.79647965,  0.79787979,  0.74107411,  0.78987899,  0.80518052,\n",
       "          0.74587459,  0.75077508,  0.78987899,  0.79617962,  0.81238124,\n",
       "          0.77737774,  0.78557856]),\n",
       "  'split1_train_score': array([ 0.82021872,  0.83645639,  0.74726594,  0.80804881,  0.83312217,\n",
       "          0.76947186,  0.76246999,  0.81668445,  0.8239864 ,  0.84319152,\n",
       "          0.78847693,  0.80731528]),\n",
       "  'split2_test_score': array([ 0.76490596,  0.79261705,  0.75190076,  0.77240896,  0.74939976,\n",
       "          0.78631453,  0.77290916,  0.78651461,  0.77641056,  0.79651861,\n",
       "          0.78431373,  0.79731893]),\n",
       "  'split2_train_score': array([ 0.7801967 ,  0.81650275,  0.76156026,  0.79183197,  0.7632272 ,\n",
       "          0.81403567,  0.78999833,  0.80580097,  0.79709952,  0.825971  ,\n",
       "          0.80156693,  0.82203701]),\n",
       "  'split3_test_score': array([ 0.78841537,  0.79451781,  0.78381353,  0.76470588,  0.78771509,\n",
       "          0.81892757,  0.76740696,  0.78551421,  0.80712285,  0.80902361,\n",
       "          0.73669468,  0.80222089]),\n",
       "  'split3_train_score': array([ 0.80383397,  0.81603601,  0.79643274,  0.78209702,  0.80813469,\n",
       "          0.84944157,  0.77876313,  0.79899983,  0.82453742,  0.84024004,\n",
       "          0.74862477,  0.81883647]),\n",
       "  'std_fit_time': array([  90.99238701,   94.23357681,   74.30168499,   42.69392719,\n",
       "          148.68437286,   64.85786254,   62.12840422,   37.92330561,\n",
       "          108.13208372,   30.22942039,   35.49583734,   12.3543476 ]),\n",
       "  'std_score_time': array([ 0.06038842,  0.07654334,  0.09746296,  0.05627951,  0.05890858,\n",
       "          0.01455214,  0.02311046,  0.01833577,  0.14575863,  0.04728148,\n",
       "          0.01732165,  0.03494868]),\n",
       "  'std_test_score': array([ 0.01356278,  0.00717825,  0.01736366,  0.01289988,  0.02262892,\n",
       "          0.02805037,  0.01724801,  0.00207337,  0.01398847,  0.00796381,\n",
       "          0.02567052,  0.00671886]),\n",
       "  'std_train_score': array([ 0.01529944,  0.01121257,  0.02031373,  0.01553765,  0.02582162,\n",
       "          0.03194587,  0.02033649,  0.00643326,  0.01695123,  0.01126318,\n",
       "          0.02902023,  0.00578063])},\n",
       " 'error_score': 'raise-deprecating',\n",
       " 'estimator': MLPClassifier(activation='relu', alpha=0.0001, batch_size='auto', beta_1=0.9,\n",
       "        beta_2=0.999, early_stopping=False, epsilon=1e-08,\n",
       "        hidden_layer_sizes=(100,), learning_rate='constant',\n",
       "        learning_rate_init=0.001, max_iter=200, momentum=0.9,\n",
       "        n_iter_no_change=10, nesterovs_momentum=True, power_t=0.5,\n",
       "        random_state=None, shuffle=True, solver='adam', tol=0.0001,\n",
       "        validation_fraction=0.1, verbose=False, warm_start=False),\n",
       " 'fit_params': None,\n",
       " 'iid': 'warn',\n",
       " 'multimetric_': False,\n",
       " 'n_jobs': -1,\n",
       " 'n_splits_': 4,\n",
       " 'param_grid': {'alpha': [0.001, 0.0001, 5e-05],\n",
       "  'hidden_layer_sizes': [(100, 100, 100),\n",
       "   (100, 100, 100, 100),\n",
       "   (50, 50, 50),\n",
       "   (50, 50, 50, 50)],\n",
       "  'verbose': [True]},\n",
       " 'pre_dispatch': '2*n_jobs',\n",
       " 'refit': True,\n",
       " 'refit_time_': 405.98443698883057,\n",
       " 'return_train_score': 'warn',\n",
       " 'scorer_': <function sklearn.metrics.scorer._passthrough_scorer>,\n",
       " 'scoring': None,\n",
       " 'verbose': 0}"
      ]
     },
     "execution_count": 49,
     "metadata": {},
     "output_type": "execute_result"
    }
   ],
   "source": [
    "mpl_gscv.__dict__"
   ]
  },
  {
   "cell_type": "code",
   "execution_count": null,
   "metadata": {},
   "outputs": [],
   "source": []
  }
 ],
 "metadata": {
  "hide_input": false,
  "kernelspec": {
   "display_name": "Python 3",
   "language": "python",
   "name": "python3"
  },
  "language_info": {
   "codemirror_mode": {
    "name": "ipython",
    "version": 3
   },
   "file_extension": ".py",
   "mimetype": "text/x-python",
   "name": "python",
   "nbconvert_exporter": "python",
   "pygments_lexer": "ipython3",
   "version": "3.6.5"
  },
  "toc": {
   "colors": {
    "hover_highlight": "#DAA520",
    "running_highlight": "#FF0000",
    "selected_highlight": "#FFD700"
   },
   "moveMenuLeft": true,
   "nav_menu": {
    "height": "86px",
    "width": "252px"
   },
   "navigate_menu": true,
   "number_sections": true,
   "sideBar": true,
   "threshold": 4,
   "toc_cell": false,
   "toc_section_display": "block",
   "toc_window_display": false
  }
 },
 "nbformat": 4,
 "nbformat_minor": 2
}
