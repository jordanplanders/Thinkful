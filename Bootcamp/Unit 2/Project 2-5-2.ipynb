{
 "cells": [
  {
   "cell_type": "code",
   "execution_count": 63,
   "metadata": {},
   "outputs": [],
   "source": [
    "import pandas as pd\n",
    "import matplotlib.pyplot as plt\n",
    "import seaborn as sns\n",
    "from sklearn import linear_model\n",
    "from sklearn import preprocessing\n",
    "from sklearn.model_selection import train_test_split, cross_val_score\n",
    "\n",
    "%matplotlib inline"
   ]
  },
  {
   "cell_type": "code",
   "execution_count": 64,
   "metadata": {},
   "outputs": [],
   "source": [
    "def load_csv(csv_file):\n",
    "    df = pd.read_csv(csv_file, header=4)\n",
    "\n",
    "    for col in df.columns:\n",
    "        if col != \"City\":\n",
    "            try:\n",
    "                df[col] = df[col].str.replace(',', '')\n",
    "            except:\n",
    "                pass\n",
    "\n",
    "    for col in df.columns:\n",
    "        try:\n",
    "            df[col] = pd.to_numeric(df[col])\n",
    "        except:\n",
    "            pass\n",
    "        \n",
    "    return df"
   ]
  },
  {
   "cell_type": "code",
   "execution_count": 39,
   "metadata": {},
   "outputs": [],
   "source": [
    "def prep_df(df):\n",
    "    df['murder_bin'] = [1 if ik>0 else 0 for ik in df['murder_etc']]\n",
    "    df['robbery_bin'] = [1 if ik>0 else 0 for ik in df['robbery']]\n",
    "    df['pop_sq'] = [ik**2 for ik in df['population']] \n",
    "    return df[df.population<120000]"
   ]
  },
  {
   "cell_type": "code",
   "execution_count": 68,
   "metadata": {},
   "outputs": [],
   "source": [
    "ny_file = 'NEW_YORK-Offenses_Known_to_Law_Enforcement_by_City_2013 - 13tbl8ny.csv'\n",
    "ny_df = load_csv(ny_file)\n",
    "\n",
    "ny_df.columns = ['city', 'population', 'violent_crime', 'murder_etc', 'rape', 'rape2', 'robbery', 'aggrevated_assault','property_crime', 'burglary', 'larceny_theft', 'vehicle_theft', 'arson3']\n",
    "\n",
    "ny_df2 = prep_df(ny_df)"
   ]
  },
  {
   "cell_type": "code",
   "execution_count": 69,
   "metadata": {},
   "outputs": [],
   "source": [
    "crime_cols2 = [ 'pop_sq', 'burglary','robbery_bin','murder_etc','murder_bin',\n",
    "        'aggrevated_assault', 'arson3', 'property_crime']"
   ]
  },
  {
   "cell_type": "code",
   "execution_count": 70,
   "metadata": {},
   "outputs": [
    {
     "name": "stderr",
     "output_type": "stream",
     "text": [
      "/usr/local/lib/python3.6/site-packages/sklearn/preprocessing/data.py:617: DataConversionWarning: Data with input dtype int64, float64 were all converted to float64 by StandardScaler.\n",
      "  return self.partial_fit(X, y)\n",
      "/usr/local/lib/python3.6/site-packages/sklearn/preprocessing/data.py:617: DataConversionWarning: Data with input dtype int64, float64 were all converted to float64 by StandardScaler.\n",
      "  return self.partial_fit(X, y)\n",
      "/usr/local/lib/python3.6/site-packages/sklearn/base.py:462: DataConversionWarning: Data with input dtype int64, float64 were all converted to float64 by StandardScaler.\n",
      "  return self.fit(X, **fit_params).transform(X)\n",
      "/usr/local/lib/python3.6/site-packages/ipykernel_launcher.py:4: SettingWithCopyWarning: \n",
      "A value is trying to be set on a copy of a slice from a DataFrame.\n",
      "Try using .loc[row_indexer,col_indexer] = value instead\n",
      "\n",
      "See the caveats in the documentation: http://pandas.pydata.org/pandas-docs/stable/indexing.html#indexing-view-versus-copy\n",
      "  after removing the cwd from sys.path.\n",
      "/usr/local/lib/python3.6/site-packages/pandas/core/indexing.py:537: SettingWithCopyWarning: \n",
      "A value is trying to be set on a copy of a slice from a DataFrame.\n",
      "Try using .loc[row_indexer,col_indexer] = value instead\n",
      "\n",
      "See the caveats in the documentation: http://pandas.pydata.org/pandas-docs/stable/indexing.html#indexing-view-versus-copy\n",
      "  self.obj[item] = s\n"
     ]
    }
   ],
   "source": [
    "scaler = preprocessing.StandardScaler().fit(ny_df2[crime_cols2])\n",
    "\n",
    "ny_df_scaled = ny_df2[crime_cols2]\n",
    "ny_df_scaled[crime_cols2] = scaler.fit_transform(ny_df_scaled)"
   ]
  },
  {
   "cell_type": "code",
   "execution_count": 71,
   "metadata": {},
   "outputs": [
    {
     "data": {
      "text/plain": [
       "<matplotlib.axes._subplots.AxesSubplot at 0x11405e390>"
      ]
     },
     "execution_count": 71,
     "metadata": {},
     "output_type": "execute_result"
    },
    {
     "data": {
      "image/png": "[encoded data removed]",
      "text/plain": [
       "<matplotlib.figure.Figure at 0x113e20898>"
      ]
     },
     "metadata": {},
     "output_type": "display_data"
    }
   ],
   "source": [
    "corrmat = ny_df2[crime_cols2].dropna().corr()\n",
    "fig, ax = plt.subplots(1,1, figsize = (12,9))\n",
    "sns.heatmap(corrmat, vmax = 1, square = True)"
   ]
  },
  {
   "cell_type": "code",
   "execution_count": 72,
   "metadata": {},
   "outputs": [],
   "source": [
    "target = 'property_crime'\n",
    "crime_cols2.remove(target)"
   ]
  },
  {
   "cell_type": "code",
   "execution_count": 73,
   "metadata": {},
   "outputs": [
    {
     "name": "stdout",
     "output_type": "stream",
     "text": [
      "scaled data\n",
      "score: 0.94203871937\n",
      "\n",
      "word:  pop_sq \n",
      "score: 0.818285661044\n",
      "\n",
      "word:  burglary \n",
      "score: 0.77609714768\n",
      "\n",
      "word:  robbery_bin \n",
      "score: 0.944632527718\n",
      "\n",
      "word:  murder_etc \n",
      "score: 0.939314002469\n",
      "\n",
      "word:  murder_bin \n",
      "score: 0.938563839685\n",
      "\n",
      "word:  aggrevated_assault \n",
      "score: 0.912405324264\n",
      "\n",
      "word:  arson3 \n",
      "score: 0.911029219064\n"
     ]
    }
   ],
   "source": [
    "print('scaled data')\n",
    "ny_df_sub = ny_df_scaled[crime_cols2+[target]].dropna()\n",
    "X_train, X_test, y_train, y_test = train_test_split(ny_df_sub[crime_cols2], ny_df_sub[target], test_size=0.20, random_state=42)\n",
    "regr = linear_model.LinearRegression()\n",
    "regr.fit(X_train, y_train)\n",
    "print('score:', regr.score(X_test, y_test))\n",
    "    \n",
    "for ik in range(len(crime_cols2)):\n",
    "    temp = crime_cols2.pop(0)\n",
    "    ny_df_sub = ny_df_scaled[crime_cols2+[target]].dropna()\n",
    "    X_train, X_test, y_train, y_test = train_test_split(ny_df_sub[crime_cols2], ny_df_sub[target], test_size=0.20, random_state=42)\n",
    "    regr = linear_model.LinearRegression()\n",
    "    regr.fit(X_train, y_train)\n",
    "    print('\\nword: ', temp, '\\nscore:', regr.score(X_test, y_test))\n",
    "    crime_cols2.append(temp)\n",
    "# print('coefficients: ', regr.coef_, '\\nintercept:', regr.intercept_ )"
   ]
  },
  {
   "cell_type": "code",
   "execution_count": 74,
   "metadata": {},
   "outputs": [
    {
     "name": "stdout",
     "output_type": "stream",
     "text": [
      "unscaled\n",
      "\n",
      "word:  pop_sq \n",
      "score: 0.818285661044\n",
      "\n",
      "word:  burglary \n",
      "score: 0.776097123612\n",
      "\n",
      "word:  robbery_bin \n",
      "score: 0.944632531028\n",
      "\n",
      "word:  murder_etc \n",
      "score: 0.939314000515\n",
      "\n",
      "word:  murder_bin \n",
      "score: 0.938563839774\n",
      "\n",
      "word:  aggrevated_assault \n",
      "score: 0.912405324264\n",
      "\n",
      "word:  arson3 \n",
      "score: 0.911029219064\n",
      "\n",
      "full feature set\n",
      "[ 0.98012343  0.74214661  0.82808003  0.76335264  0.96362644  0.79532382]\n",
      "score: 0.94203871937\n"
     ]
    }
   ],
   "source": [
    "print('unscaled')\n",
    "for ik in range(len(crime_cols2)):\n",
    "    temp = crime_cols2.pop(0)\n",
    "    ny_df_sub = ny_df2[crime_cols2+[target]].dropna()\n",
    "    X_train, X_test, y_train, y_test = train_test_split(ny_df_sub[crime_cols2], ny_df_sub[target], test_size=0.20, random_state=42)\n",
    "    regr = linear_model.LinearRegression()\n",
    "    regr.fit(X_train, y_train)\n",
    "    print('\\nword: ', temp, '\\nscore:', regr.score(X_test, y_test))\n",
    "    crime_cols2.append(temp)\n",
    "    \n",
    "print('\\nfull feature set')\n",
    "ny_df_sub = ny_df2[crime_cols2+[target]].dropna()\n",
    "X_train, X_test, y_train, y_test = train_test_split(ny_df_sub[crime_cols2], ny_df_sub[target], test_size=0.20, random_state=42)\n",
    "regr = linear_model.LinearRegression()\n",
    "regr.fit(X_train, y_train)\n",
    "print(cross_val_score(regr, X_train, y_train,  cv=6))\n",
    "print('score:', regr.score(X_test, y_test))"
   ]
  },
  {
   "cell_type": "code",
   "execution_count": 75,
   "metadata": {},
   "outputs": [
    {
     "data": {
      "text/plain": [
       "LinearRegression(copy_X=True, fit_intercept=True, n_jobs=None,\n",
       "         normalize=False)"
      ]
     },
     "execution_count": 75,
     "metadata": {},
     "output_type": "execute_result"
    }
   ],
   "source": [
    "regr = linear_model.LinearRegression()\n",
    "regr.fit(ny_df_sub[crime_cols2], ny_df_sub[target])"
   ]
  },
  {
   "cell_type": "code",
   "execution_count": 32,
   "metadata": {},
   "outputs": [],
   "source": [
    "ca_file = 'table_8_offenses_known_to_law_enforcement_california_by_city_2013.csv'"
   ]
  },
  {
   "cell_type": "code",
   "execution_count": 33,
   "metadata": {},
   "outputs": [],
   "source": [
    "ca_df = load_csv(ny_file)"
   ]
  },
  {
   "cell_type": "code",
   "execution_count": 37,
   "metadata": {},
   "outputs": [],
   "source": [
    "ca_df.columns = ['city', 'population', 'violent_crime', 'murder_etc', 'rape', 'rape2', 'robbery', 'aggrevated_assault','property_crime', 'burglary', 'larceny_theft', 'vehicle_theft', 'arson3']"
   ]
  },
  {
   "cell_type": "code",
   "execution_count": 40,
   "metadata": {},
   "outputs": [],
   "source": [
    "ca_df2 = prep_df(ca_df)\n",
    "ca_df_sub = ca_df2[crime_cols2+[target]].dropna()"
   ]
  },
  {
   "cell_type": "code",
   "execution_count": 62,
   "metadata": {},
   "outputs": [
    {
     "name": "stdout",
     "output_type": "stream",
     "text": [
      "0.942407926988\n",
      "[ 0.53476256  0.90284133  0.82371121  0.93905558  0.61021561  0.86798772\n",
      "  0.92618682  0.79586087  0.81313083  0.84861009]\n"
     ]
    }
   ],
   "source": [
    "print(regr.score(ca_df_sub[crime_cols2], ca_df_sub[target]))\n",
    "\n",
    "print(cross_val_score(regr, ca_df_sub[crime_cols2], ca_df_sub[target],  cv=10))"
   ]
  },
  {
   "cell_type": "markdown",
   "metadata": {},
   "source": [
    "In the previous exercise I used the holdout method to cull the feature set to optimize  r^2 score and I split the data into a training set and a testing set to get a better idea of how my model would perform on data it hadn't seen during training.  In this notebook, I addded cross validation and found that at this data set size, model performance varies some depending on what split is being being used for testing and training. \n",
    "\n",
    "That said, the model trained on the entire NY dataset performed similarly on the CA data, with a score of .942."
   ]
  },
  {
   "cell_type": "code",
   "execution_count": null,
   "metadata": {},
   "outputs": [],
   "source": []
  }
 ],
 "metadata": {
  "kernelspec": {
   "display_name": "please_work3",
   "language": "python",
   "name": "please_work3"
  },
  "language_info": {
   "codemirror_mode": {
    "name": "ipython",
    "version": 3
   },
   "file_extension": ".py",
   "mimetype": "text/x-python",
   "name": "python",
   "nbconvert_exporter": "python",
   "pygments_lexer": "ipython3",
   "version": "3.6.5"
  }
 },
 "nbformat": 4,
 "nbformat_minor": 2
}
