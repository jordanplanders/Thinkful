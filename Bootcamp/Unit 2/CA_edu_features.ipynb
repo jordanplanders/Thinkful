{
 "cells": [
  {
   "cell_type": "code",
   "execution_count": 4,
   "metadata": {},
   "outputs": [],
   "source": [
    "import pandas as pd\n",
    "import numpy as np"
   ]
  },
  {
   "cell_type": "code",
   "execution_count": 5,
   "metadata": {},
   "outputs": [],
   "source": [
    "def CDS_code_maker(CC, DC, SC):\n",
    "    if len(str(int(CC)))<2:\n",
    "        CC = '0'+ str(int(CC))\n",
    "    else:\n",
    "        CC = str(int(CC))\n",
    "    DC = str(int(DC))\n",
    "    if len(str(int(SC)))<7:\n",
    "        SC = '0'*(7-len(str(int(SC))))+ str(int(SC))\n",
    "    else:\n",
    "        SC = str(int(SC))\n",
    "    if len(CC+DC+SC) != 14:\n",
    "        print(CC+DC+SC)\n",
    "    return CC+DC+SC"
   ]
  },
  {
   "cell_type": "code",
   "execution_count": 6,
   "metadata": {},
   "outputs": [],
   "source": [
    "path = 'CA_edu_data/'"
   ]
  },
  {
   "cell_type": "code",
   "execution_count": 7,
   "metadata": {},
   "outputs": [],
   "source": [
    "numeric = ['CohortStudents', 'RegularHSGradCount',\n",
    "       'RegularHSGradRate', 'MetUCCSUCount', 'MetUCCSURate',\n",
    "       'SealOfBiliteracyCount', 'SealOfBiliteracyRate',\n",
    "       'GoldenStateSealMeritCount', 'GoldenStateSealMeritRate',\n",
    "       'CHSPECompleterCount', 'CHSPECompleterRate', 'AdultEdDiplomaCount',\n",
    "       'AdultEdDiplomaRate', 'SPEDCertificateCount', 'SPEDCertificateRate',\n",
    "       'GEDCompleterCount', 'GEDCompleterRate', 'OtherTransferCount',\n",
    "       'OtherTransferRate', 'DropoutCount', 'DropoutRate',\n",
    "       'StillEnrolledCount', 'StillEnrolledRate']"
   ]
  },
  {
   "cell_type": "code",
   "execution_count": 8,
   "metadata": {},
   "outputs": [],
   "source": [
    "grad_rates = pd.read_table(path+'grad_rates_cohort1617.txt', sep = '\\t')\n",
    "grad_rates = grad_rates[(grad_rates.AggLevel == 'S') & (grad_rates.DASSYN == 'No')& (grad_rates.CharterYN != 'All')]\n",
    "grad_rates['CDS'] = [CDS_code_maker(grad_rates.CountyCode.iloc[ik], grad_rates.DistrictCode.iloc[ik], grad_rates.SchoolCode.iloc[ik]) for ik in range(len(grad_rates))]\n",
    "grad_rates.reset_index()\n",
    "grad_rates.set_index('CDS')\n",
    "\n",
    "for col in numeric:\n",
    "    try: \n",
    "        grad_rates[col] = grad_rates[col].str.replace(\"*\", \"0\")\n",
    "    except:\n",
    "        print('no dice')\n",
    "    grad_rates[col] = pd.to_numeric(grad_rates[col])"
   ]
  },
  {
   "cell_type": "code",
   "execution_count": 9,
   "metadata": {},
   "outputs": [],
   "source": [
    "schools = grad_rates.groupby('CDS')\n",
    "repcats = grad_rates.groupby('ReportingCategory')"
   ]
  },
  {
   "cell_type": "code",
   "execution_count": 182,
   "metadata": {},
   "outputs": [
    {
     "data": {
      "text/plain": [
       "19"
      ]
     },
     "execution_count": 182,
     "metadata": {},
     "output_type": "execute_result"
    }
   ],
   "source": [
    "len(repcats)"
   ]
  },
  {
   "cell_type": "code",
   "execution_count": 10,
   "metadata": {},
   "outputs": [],
   "source": [
    "repcat_cols = ['CohortStudents', 'RegularHSGradCount','RegularHSGradRate', 'MetUCCSUCount', 'MetUCCSURate','DropoutCount', 'DropoutRate']\n",
    "# gradmeta_cols = ['CountyName', 'DistrictName', 'SchoolName','CDS', 'CharterYN']"
   ]
  },
  {
   "cell_type": "code",
   "execution_count": 11,
   "metadata": {},
   "outputs": [
    {
     "name": "stderr",
     "output_type": "stream",
     "text": [
      "/usr/local/lib/python3.6/site-packages/ipykernel_launcher.py:7: SettingWithCopyWarning: \n",
      "A value is trying to be set on a copy of a slice from a DataFrame.\n",
      "Try using .loc[row_indexer,col_indexer] = value instead\n",
      "\n",
      "See the caveats in the documentation: http://pandas.pydata.org/pandas-docs/stable/indexing.html#indexing-view-versus-copy\n",
      "  import sys\n"
     ]
    }
   ],
   "source": [
    "grad_rates2 = grad_rates[['CDS', 'CharterYN']].drop_duplicates()\n",
    "\n",
    "for repcat in repcats:\n",
    "    sub_df = repcat[1][['CDS']]\n",
    "    sub_df.set_index(['CDS'])\n",
    "    for col in repcat_cols:\n",
    "        sub_df[col+ '_' + repcat[0]] = repcat[1][col]\n",
    "    grad_rates2 = grad_rates2.join(sub_df.set_index(['CDS'], verify_integrity=True), on = ['CDS'], how = 'outer')\n",
    "\n",
    "grad_rates2.reset_index()\n",
    "grad_rates2 = grad_rates2.set_index(['CDS'])\n",
    "\n",
    "grad_rates2['CohortStudents_All'] = grad_rates2.CohortStudents_GF + grad_rates2.CohortStudents_GM"
   ]
  },
  {
   "cell_type": "code",
   "execution_count": 243,
   "metadata": {},
   "outputs": [],
   "source": [
    "grad_rates2['CohortStudents_All'] = grad_rates2.CohortStudents_GF + grad_rates2.CohortStudents_GM\n",
    "grad_rates2['RegularHSGradCount_All'] = grad_rates2.RegularHSGradCount_GF + grad_rates2.RegularHSGradCount_GM\n",
    "grad_rates2['MetUCCSUCount_All'] = grad_rates2.MetUCCSUCount_GF + grad_rates2.MetUCCSUCount_GM\n",
    "grad_rates2['RegularHSGradRate_All'] = grad_rates2.RegularHSGradCount_All / grad_rates2.CohortStudents_All\n",
    "grad_rates2['MetUCCSURate_All'] = grad_rates2.MetUCCSUCount_All + grad_rates2.CohortStudents_All"
   ]
  },
  {
   "cell_type": "code",
   "execution_count": null,
   "metadata": {},
   "outputs": [],
   "source": []
  },
  {
   "cell_type": "code",
   "execution_count": 156,
   "metadata": {},
   "outputs": [],
   "source": [
    "def split_GS(grades_vect):\n",
    "\n",
    "    def splitter(offered):\n",
    "        try:\n",
    "            [min_grade, max_grade] = offered.split('-')\n",
    "            if min_grade == 'K':\n",
    "                min_grade = 0\n",
    "            if float(max_grade)>12:\n",
    "                max_grade = 13\n",
    "        except:\n",
    "            [min_grade, max_grade] = [np.nan, np.nan]\n",
    "        return min_grade, max_grade\n",
    "\n",
    "    min_grdes = []\n",
    "    max_grdes = []\n",
    "    for ik in range(len(grades_vect)):\n",
    "        min_grade, max_grade = splitter(grades_vect[ik])\n",
    "        min_grdes.append(float(min_grade))\n",
    "        max_grdes.append(float(max_grade))\n",
    "        \n",
    "    return min_grdes, max_grdes"
   ]
  },
  {
   "cell_type": "code",
   "execution_count": 148,
   "metadata": {},
   "outputs": [],
   "source": [
    "meta_cols = ['CDS', 'NCESDist', 'NCESSchool', 'StatusType', 'County', 'District',\n",
    "       'School', 'City', 'Zip', 'OpenDate', 'ClosedDate', 'Charter', 'CharterNum',\n",
    "       'FundingType', 'DOC', 'DOCType', 'SOC', 'SOCType', 'EdOpsCode',\n",
    "       'EdOpsName', 'EILCode', 'EILName', 'GSoffered', 'GSserved', 'Virtual',\n",
    "       'Magnet', 'Latitude', 'Longitude']"
   ]
  },
  {
   "cell_type": "code",
   "execution_count": 195,
   "metadata": {},
   "outputs": [
    {
     "data": {
      "text/plain": [
       "N    10365\n",
       "Y      533\n",
       "Name: Magnet, dtype: int64"
      ]
     },
     "execution_count": 195,
     "metadata": {},
     "output_type": "execute_result"
    }
   ],
   "source": [
    "school_meta.Magnet.value_counts()"
   ]
  },
  {
   "cell_type": "code",
   "execution_count": 230,
   "metadata": {},
   "outputs": [],
   "source": [
    "school_meta = pd.read_table(path + 'pubschls.txt', sep = '\\t')\n",
    "school_meta = school_meta.rename(columns={'CDSCode':'CDS'})\n",
    "school_meta['CDS'] = school_meta['CDS'].astype(str)#.apply(str)"
   ]
  },
  {
   "cell_type": "code",
   "execution_count": 244,
   "metadata": {},
   "outputs": [],
   "source": [
    "HS = school_meta[(school_meta.EdOpsCode == 'TRAD') & \n",
    "                 (school_meta.EILCode == 'HS') & \n",
    "                 (school_meta.StatusType == 'Active')]"
   ]
  },
  {
   "cell_type": "code",
   "execution_count": 245,
   "metadata": {},
   "outputs": [
    {
     "name": "stderr",
     "output_type": "stream",
     "text": [
      "/usr/local/lib/python3.6/site-packages/ipykernel_launcher.py:4: SettingWithCopyWarning: \n",
      "A value is trying to be set on a copy of a slice from a DataFrame\n",
      "\n",
      "See the caveats in the documentation: http://pandas.pydata.org/pandas-docs/stable/indexing.html#indexing-view-versus-copy\n",
      "  after removing the cwd from sys.path.\n",
      "/usr/local/lib/python3.6/site-packages/IPython/core/interactiveshell.py:2910: SettingWithCopyWarning: \n",
      "A value is trying to be set on a copy of a slice from a DataFrame\n",
      "\n",
      "See the caveats in the documentation: http://pandas.pydata.org/pandas-docs/stable/indexing.html#indexing-view-versus-copy\n",
      "  exec(code_obj, self.user_global_ns, self.user_ns)\n"
     ]
    }
   ],
   "source": [
    "for ik in HS.index:\n",
    "    if len(HS['CDS'][ik])<14:\n",
    "        repl = '0'*(14-len(HS['CDS'][ik])) + HS['CDS'][ik]\n",
    "        HS['CDS'][ik] = repl"
   ]
  },
  {
   "cell_type": "code",
   "execution_count": 246,
   "metadata": {},
   "outputs": [
    {
     "name": "stderr",
     "output_type": "stream",
     "text": [
      "/usr/local/lib/python3.6/site-packages/ipykernel_launcher.py:1: SettingWithCopyWarning: \n",
      "A value is trying to be set on a copy of a slice from a DataFrame.\n",
      "Try using .loc[row_indexer,col_indexer] = value instead\n",
      "\n",
      "See the caveats in the documentation: http://pandas.pydata.org/pandas-docs/stable/indexing.html#indexing-view-versus-copy\n",
      "  \"\"\"Entry point for launching an IPython kernel.\n",
      "/usr/local/lib/python3.6/site-packages/ipykernel_launcher.py:2: SettingWithCopyWarning: \n",
      "A value is trying to be set on a copy of a slice from a DataFrame.\n",
      "Try using .loc[row_indexer,col_indexer] = value instead\n",
      "\n",
      "See the caveats in the documentation: http://pandas.pydata.org/pandas-docs/stable/indexing.html#indexing-view-versus-copy\n",
      "  \n"
     ]
    }
   ],
   "source": [
    "HS['CharterYN'] = [1 if school== 'Y' else 0 for school in HS.Charter]\n",
    "HS['MagnetYN'] = [1 if school== 'Y' else 0 for school in HS.Magnet]"
   ]
  },
  {
   "cell_type": "code",
   "execution_count": 247,
   "metadata": {},
   "outputs": [],
   "source": [
    "HS = HS[meta_cols]\n",
    "HS.reset_index()\n",
    "HS = HS.set_index('CDS')"
   ]
  },
  {
   "cell_type": "code",
   "execution_count": 248,
   "metadata": {},
   "outputs": [],
   "source": [
    "min_grades, max_grades = split_GS(HS.GSoffered)\n",
    "HS['GSoffered_min'] = min_grades\n",
    "HS['GSoffered_max'] = max_grades\n",
    "\n",
    "min_grades, max_grades = split_GS(HS.GSserved)\n",
    "HS['GSserved_min'] = min_grades\n",
    "HS['GSserved_max'] = max_grades"
   ]
  },
  {
   "cell_type": "code",
   "execution_count": 249,
   "metadata": {},
   "outputs": [],
   "source": [
    "HS = HS[(HS.GSserved_min==9) & (HS.GSserved_max==12)]"
   ]
  },
  {
   "cell_type": "code",
   "execution_count": 250,
   "metadata": {},
   "outputs": [],
   "source": [
    "HS = HS.join(grad_rates2, how= 'left')"
   ]
  },
  {
   "cell_type": "code",
   "execution_count": 32,
   "metadata": {},
   "outputs": [],
   "source": [
    "EL_numeric = ['KDGN', 'GR_1',\n",
    "       'GR_2', 'GR_3', 'GR_4', 'GR_5', 'GR_6', 'GR_7', 'GR_8', 'GR_9', 'GR_10',\n",
    "       'GR_11', 'GR_12', 'UNGR', 'TOTAL_EL']"
   ]
  },
  {
   "cell_type": "code",
   "execution_count": 38,
   "metadata": {},
   "outputs": [],
   "source": [
    "EL = pd.read_csv(path+ 'eng_learn1617_corr.csv')\n",
    "for col in EL_numeric:\n",
    "    EL[col] = pd.to_numeric(EL[col])\n",
    "    \n",
    "EL['CDS'] = EL['CDS'].apply(str)\n",
    "EL.reset_index()\n",
    "EL = EL.set_index(['CDS'])\n"
   ]
  },
  {
   "cell_type": "code",
   "execution_count": 197,
   "metadata": {},
   "outputs": [
    {
     "data": {
      "text/plain": [
       "66"
      ]
     },
     "execution_count": 197,
     "metadata": {},
     "output_type": "execute_result"
    }
   ],
   "source": [
    "# Number of languages with data\n",
    "len(langs)\n"
   ]
  },
  {
   "cell_type": "code",
   "execution_count": 43,
   "metadata": {},
   "outputs": [],
   "source": [
    "# EL.to_csv(path+'eng_learn1617_corr.csv')"
   ]
  },
  {
   "cell_type": "code",
   "execution_count": 251,
   "metadata": {},
   "outputs": [],
   "source": [
    "lang_cols = ['GR_9', 'GR_10', 'GR_11', 'GR_12']\n",
    "langs = EL.groupby('LANGUAGE')\n",
    "\n",
    "HS2 = HS\n",
    "langs_d =  {'lang' : [], 'total': []}\n",
    "for lang in langs:\n",
    "    sub_df = lang[1][lang_cols]\n",
    "    sub_df = sub_df.reindex(columns=lang_cols+ ['ALL'])\n",
    "    sub_df['ALL'] = lang[1]['GR_12']+lang[1]['GR_11']+ lang[1]['GR_10']+ lang[1]['GR_9']\n",
    "    langs_d['lang'].append(lang[0])\n",
    "    langs_d['total'].append(sum(sub_df['ALL']))\n",
    "    sub_df = sub_df.rename(columns={col:col+ '_' + lang[0] for col in sub_df.columns})\n",
    "    HS2 = HS2.join(sub_df)#.set_index(['CDS'], verify_integrity=True), on = ['CDS'], how = 'outer')\n",
    "    HS2[sub_df.columns] = HS2[sub_df.columns].fillna(0)"
   ]
  },
  {
   "cell_type": "code",
   "execution_count": 252,
   "metadata": {},
   "outputs": [],
   "source": [
    "HS2['Total_EL'] = [sum([HS2[HS2.index ==ind][col][0] if 'ALL_' in col else 0 for col in HS2.columns]) for ind in HS2.index]\n"
   ]
  },
  {
   "cell_type": "code",
   "execution_count": 175,
   "metadata": {},
   "outputs": [
    {
     "data": {
      "text/html": [
       "<div>\n",
       "<style scoped>\n",
       "    .dataframe tbody tr th:only-of-type {\n",
       "        vertical-align: middle;\n",
       "    }\n",
       "\n",
       "    .dataframe tbody tr th {\n",
       "        vertical-align: top;\n",
       "    }\n",
       "\n",
       "    .dataframe thead th {\n",
       "        text-align: right;\n",
       "    }\n",
       "</style>\n",
       "<table border=\"1\" class=\"dataframe\">\n",
       "  <thead>\n",
       "    <tr style=\"text-align: right;\">\n",
       "      <th></th>\n",
       "      <th>lang</th>\n",
       "      <th>total</th>\n",
       "    </tr>\n",
       "  </thead>\n",
       "  <tbody>\n",
       "    <tr>\n",
       "      <th>51</th>\n",
       "      <td>Spanish</td>\n",
       "      <td>186353</td>\n",
       "    </tr>\n",
       "    <tr>\n",
       "      <th>64</th>\n",
       "      <td>Vietnamese</td>\n",
       "      <td>4424</td>\n",
       "    </tr>\n",
       "    <tr>\n",
       "      <th>36</th>\n",
       "      <td>Mandarin (Putonghua)</td>\n",
       "      <td>4252</td>\n",
       "    </tr>\n",
       "    <tr>\n",
       "      <th>15</th>\n",
       "      <td>Filipino (Pilipino or Tagalog)</td>\n",
       "      <td>3806</td>\n",
       "    </tr>\n",
       "    <tr>\n",
       "      <th>2</th>\n",
       "      <td>Arabic</td>\n",
       "      <td>3619</td>\n",
       "    </tr>\n",
       "    <tr>\n",
       "      <th>8</th>\n",
       "      <td>Cantonese</td>\n",
       "      <td>2777</td>\n",
       "    </tr>\n",
       "  </tbody>\n",
       "</table>\n",
       "</div>"
      ],
      "text/plain": [
       "                              lang   total\n",
       "51                         Spanish  186353\n",
       "64                      Vietnamese    4424\n",
       "36            Mandarin (Putonghua)    4252\n",
       "15  Filipino (Pilipino or Tagalog)    3806\n",
       "2                           Arabic    3619\n",
       "8                        Cantonese    2777"
      ]
     },
     "execution_count": 175,
     "metadata": {},
     "output_type": "execute_result"
    }
   ],
   "source": [
    "langs_df = pd.DataFrame(langs_d)\n",
    "langs_df.sort_values('total', ascending = False).head(6)\n"
   ]
  },
  {
   "cell_type": "code",
   "execution_count": 253,
   "metadata": {},
   "outputs": [],
   "source": [
    "HS3 = HS2\n",
    "threshold = 0.2\n",
    "\n",
    "HS3 = HS3.drop(['NCESDist', 'NCESSchool', 'ClosedDate','DOC','SOC'], axis= 1)\n",
    "HS3 = HS3.drop(HS3.std()[HS3.std() < threshold].index.values, axis=1)"
   ]
  },
  {
   "cell_type": "code",
   "execution_count": 264,
   "metadata": {},
   "outputs": [
    {
     "name": "stderr",
     "output_type": "stream",
     "text": [
      "/usr/local/lib/python3.6/site-packages/numpy/lib/function_base.py:3159: RuntimeWarning: Degrees of freedom <= 0 for slice\n",
      "  c = cov(x, y, rowvar)\n",
      "/usr/local/lib/python3.6/site-packages/numpy/lib/function_base.py:3093: RuntimeWarning: divide by zero encountered in double_scalars\n",
      "  c *= 1. / np.float64(fact)\n"
     ]
    },
    {
     "data": {
      "text/plain": [
       "RegularHSGradCount_All    0.987252\n",
       "RegularHSGradCount_TA     0.987229\n",
       "CohortStudents_All        0.982502\n",
       "CohortStudents_TA         0.982501\n",
       "RegularHSGradCount_GM     0.981326\n",
       "RegularHSGradCount_GF     0.980975\n",
       "CohortStudents_GF         0.977653\n",
       "CohortStudents_GM         0.975116\n",
       "MetUCCSUCount_GF          0.959749\n",
       "MetUCCSUCount_All         0.950822\n",
       "MetUCCSUCount_TA          0.950669\n",
       "MetUCCSUCount_GM          0.917576\n",
       "RegularHSGradCount_SD     0.826437\n",
       "CohortStudents_SD         0.813244\n",
       "RegularHSGradCount_SS     0.670784\n",
       "MetUCCSUCount_SS          0.655582\n",
       "CohortStudents_SS         0.654064\n",
       "RegularHSGradCount_RH     0.609963\n",
       "CohortStudents_RH         0.597057\n",
       "MetUCCSUCount_RH          0.596523\n",
       "MetUCCSUCount_RW          0.574347\n",
       "CohortStudents_RW         0.554158\n",
       "RegularHSGradCount_RW     0.552128\n",
       "MetUCCSURate_RA           0.533576\n",
       "RegularHSGradRate_RA      0.521307\n",
       "RegularHSGradRate_SD      0.515007\n",
       "MetUCCSUCount_SD          0.508030\n",
       "RegularHSGradCount_RA     0.486765\n",
       "MetUCCSUCount_RA          0.486020\n",
       "CohortStudents_RA         0.484853\n",
       "                            ...   \n",
       "MetUCCSURate_RI           0.004673\n",
       "GR_9_Somali               0.004549\n",
       "ALL_Amharic               0.000802\n",
       "ALL_Lahu                 -0.000740\n",
       "RegularHSGradRate_SM     -0.005605\n",
       "GR_12_Somali             -0.007657\n",
       "GR_10_Mien (Yao)         -0.014640\n",
       "GR_9_Ukrainian           -0.016531\n",
       "GR_11_Ukrainian          -0.025593\n",
       "GR_10_Ukrainian          -0.025879\n",
       "ALL_Ukrainian            -0.026311\n",
       "RegularHSGradCount_RI    -0.027168\n",
       "ALL_Mien (Yao)           -0.027654\n",
       "CohortStudents_RI        -0.029994\n",
       "GR_12_Ukrainian          -0.031838\n",
       "GR_9_Mien (Yao)          -0.033354\n",
       "RegularHSGradRate_RI     -0.037476\n",
       "DropoutRate_RI           -0.046604\n",
       "DropoutRate_RH           -0.093209\n",
       "DropoutRate_GM           -0.159432\n",
       "DropoutRate_SS           -0.170006\n",
       "DropoutRate_GF           -0.173045\n",
       "DropoutRate_TA           -0.225215\n",
       "CohortStudents_GN              NaN\n",
       "RegularHSGradCount_GN          NaN\n",
       "RegularHSGradRate_GN           NaN\n",
       "MetUCCSUCount_GN               NaN\n",
       "MetUCCSURate_GN                NaN\n",
       "DropoutCount_GN                NaN\n",
       "DropoutRate_GN                 NaN\n",
       "Length: 329, dtype: float64"
      ]
     },
     "execution_count": 264,
     "metadata": {},
     "output_type": "execute_result"
    }
   ],
   "source": [
    "non_numeric = ['StatusType', 'County', 'District', 'School', 'City', 'Zip', 'OpenDate',\n",
    "       'Charter', 'CharterNum', 'FundingType', 'DOCType', 'SOCType',\n",
    "       'EdOpsCode', 'EdOpsName', 'EILCode', 'EILName', 'GSoffered', 'GSserved',\n",
    "       'Virtual', 'Magnet', 'Latitude', 'Longitude', 'CharterYN']\n",
    "\n",
    "HS3.drop(non_numeric + [\"MetUCCSURate_All\"], axis=1).apply(lambda x: x.corr(HS3.MetUCCSURate_All)).sort_values(ascending = False)\n"
   ]
  },
  {
   "cell_type": "code",
   "execution_count": 259,
   "metadata": {},
   "outputs": [
    {
     "data": {
      "text/plain": [
       "CDS\n",
       "01100170112607    Yes\n",
       "01611190130229     No\n",
       "01611190130625    Yes\n",
       "01611270130450     No\n",
       "01611430131177     No\n",
       "01611500132225     No\n",
       "01611680132746     No\n",
       "01611760130062     No\n",
       "01611760134270     No\n",
       "01611760134452     No\n",
       "01611760135244     No\n",
       "01611760138693     No\n",
       "01611920108670    Yes\n",
       "01611920127944    Yes\n",
       "01611920133629     No\n",
       "01611920135319     No\n",
       "01611920138339     No\n",
       "01612000133397     No\n",
       "01612000134536     No\n",
       "01612340130054     No\n",
       "01612420134668     No\n",
       "01612590100065    Yes\n",
       "01612590100701     No\n",
       "01612590108944    Yes\n",
       "01612590110189     No\n",
       "01612590111856    Yes\n",
       "01612590114868    Yes\n",
       "01612590115238    Yes\n",
       "01612590125161     No\n",
       "01612590125716     No\n",
       "                 ... \n",
       "56725205634076     No\n",
       "56725460120634    Yes\n",
       "56725460131698    NaN\n",
       "56725465630389     No\n",
       "56725465631619     No\n",
       "56725465631742     No\n",
       "56725465632849     No\n",
       "56725465634548     No\n",
       "56725465634761     No\n",
       "56726035630322     No\n",
       "56726035635008     No\n",
       "56726035636188     No\n",
       "56726525630348     No\n",
       "56726525630793     No\n",
       "56726525637822     No\n",
       "56737595630116     No\n",
       "56737595633748     No\n",
       "56737595637004     No\n",
       "56738745630132     No\n",
       "56739405633250     No\n",
       "56768285635776     No\n",
       "57726865732904     No\n",
       "57726940135939    NaN\n",
       "57726945735154     No\n",
       "57727025738505     No\n",
       "57727100101162     No\n",
       "57727105738802     No\n",
       "58727365830013     No\n",
       "58727365835202     No\n",
       "58727695838305     No\n",
       "Name: CharterYN, Length: 1156, dtype: object"
      ]
     },
     "execution_count": 259,
     "metadata": {},
     "output_type": "execute_result"
    }
   ],
   "source": [
    "HS3.CharterYN"
   ]
  },
  {
   "cell_type": "code",
   "execution_count": 257,
   "metadata": {},
   "outputs": [
    {
     "data": {
      "text/plain": [
       "Index(['StatusType', 'County', 'District', 'School', 'City', 'Zip', 'OpenDate',\n",
       "       'Charter', 'CharterNum', 'FundingType', 'DOCType', 'SOCType',\n",
       "       'EdOpsCode', 'EdOpsName', 'EILCode', 'EILName', 'GSoffered', 'GSserved',\n",
       "       'Virtual', 'Magnet', 'Latitude', 'Longitude', 'GSoffered_min',\n",
       "       'CharterYN', 'CohortStudents_GF', 'RegularHSGradCount_GF',\n",
       "       'RegularHSGradRate_GF', 'MetUCCSUCount_GF', 'MetUCCSURate_GF',\n",
       "       'DropoutCount_GF', 'DropoutRate_GF', 'CohortStudents_GM',\n",
       "       'RegularHSGradCount_GM', 'RegularHSGradRate_GM', 'MetUCCSUCount_GM',\n",
       "       'MetUCCSURate_GM', 'DropoutCount_GM', 'DropoutRate_GM',\n",
       "       'CohortStudents_GN', 'RegularHSGradCount_GN', 'RegularHSGradRate_GN',\n",
       "       'MetUCCSUCount_GN', 'MetUCCSURate_GN', 'DropoutCount_GN',\n",
       "       'DropoutRate_GN', 'CohortStudents_RA', 'RegularHSGradCount_RA',\n",
       "       'RegularHSGradRate_RA', 'MetUCCSUCount_RA', 'MetUCCSURate_RA'],\n",
       "      dtype='object')"
      ]
     },
     "execution_count": 257,
     "metadata": {},
     "output_type": "execute_result"
    }
   ],
   "source": [
    "HS3.columns[:50]"
   ]
  },
  {
   "cell_type": "code",
   "execution_count": null,
   "metadata": {},
   "outputs": [],
   "source": []
  }
 ],
 "metadata": {
  "kernelspec": {
   "display_name": "please_work3",
   "language": "python",
   "name": "please_work3"
  }
 },
 "nbformat": 4,
 "nbformat_minor": 2
}
