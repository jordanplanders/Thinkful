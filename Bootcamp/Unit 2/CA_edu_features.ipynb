{
 "cells": [
  {
   "cell_type": "code",
   "execution_count": 4,
   "metadata": {},
   "outputs": [],
   "source": [
    "import pandas as pd\n",
    "import numpy as np"
   ]
  },
  {
   "cell_type": "code",
   "execution_count": 5,
   "metadata": {},
   "outputs": [],
   "source": [
    "def CDS_code_maker(CC, DC, SC):\n",
    "    if len(str(int(CC)))<2:\n",
    "        CC = '0'+ str(int(CC))\n",
    "    else:\n",
    "        CC = str(int(CC))\n",
    "    DC = str(int(DC))\n",
    "    if len(str(int(SC)))<7:\n",
    "        SC = '0'*(7-len(str(int(SC))))+ str(int(SC))\n",
    "    else:\n",
    "        SC = str(int(SC))\n",
    "    if len(CC+DC+SC) != 14:\n",
    "        print(CC+DC+SC)\n",
    "    return CC+DC+SC"
   ]
  },
  {
   "cell_type": "code",
   "execution_count": 6,
   "metadata": {},
   "outputs": [],
   "source": [
    "path = 'CA_edu_data/'"
   ]
  },
  {
   "cell_type": "code",
   "execution_count": 7,
   "metadata": {},
   "outputs": [],
   "source": [
    "numeric = ['CohortStudents', 'RegularHSGradCount',\n",
    "       'RegularHSGradRate', 'MetUCCSUCount', 'MetUCCSURate',\n",
    "       'SealOfBiliteracyCount', 'SealOfBiliteracyRate',\n",
    "       'GoldenStateSealMeritCount', 'GoldenStateSealMeritRate',\n",
    "       'CHSPECompleterCount', 'CHSPECompleterRate', 'AdultEdDiplomaCount',\n",
    "       'AdultEdDiplomaRate', 'SPEDCertificateCount', 'SPEDCertificateRate',\n",
    "       'GEDCompleterCount', 'GEDCompleterRate', 'OtherTransferCount',\n",
    "       'OtherTransferRate', 'DropoutCount', 'DropoutRate',\n",
    "       'StillEnrolledCount', 'StillEnrolledRate']"
   ]
  },
  {
   "cell_type": "code",
   "execution_count": 8,
   "metadata": {},
   "outputs": [],
   "source": [
    "grad_rates = pd.read_table(path+'grad_rates_cohort1617.txt', sep = '\\t')\n",
    "grad_rates = grad_rates[(grad_rates.AggLevel == 'S') & (grad_rates.DASSYN == 'No')& (grad_rates.CharterYN != 'All')]\n",
    "grad_rates['CDS'] = [CDS_code_maker(grad_rates.CountyCode.iloc[ik], grad_rates.DistrictCode.iloc[ik], grad_rates.SchoolCode.iloc[ik]) for ik in range(len(grad_rates))]\n",
    "grad_rates.reset_index()\n",
    "grad_rates.set_index('CDS')\n",
    "\n",
    "for col in numeric:\n",
    "    try: \n",
    "        grad_rates[col] = grad_rates[col].str.replace(\"*\", \"0\")\n",
    "    except:\n",
    "        print('no dice')\n",
    "    grad_rates[col] = pd.to_numeric(grad_rates[col])"
   ]
  },
  {
   "cell_type": "code",
   "execution_count": 9,
   "metadata": {},
   "outputs": [],
   "source": [
    "schools = grad_rates.groupby('CDS')\n",
    "repcats = grad_rates.groupby('ReportingCategory')"
   ]
  },
  {
   "cell_type": "code",
   "execution_count": 182,
   "metadata": {},
   "outputs": [
    {
     "data": {
      "text/plain": [
       "19"
      ]
     },
     "execution_count": 182,
     "metadata": {},
     "output_type": "execute_result"
    }
   ],
   "source": [
    "len(repcats)"
   ]
  },
  {
   "cell_type": "code",
   "execution_count": 10,
   "metadata": {},
   "outputs": [],
   "source": [
    "repcat_cols = ['CohortStudents', 'RegularHSGradCount','RegularHSGradRate', 'MetUCCSUCount', 'MetUCCSURate','DropoutCount', 'DropoutRate']\n",
    "# gradmeta_cols = ['CountyName', 'DistrictName', 'SchoolName','CDS', 'CharterYN']"
   ]
  },
  {
   "cell_type": "code",
   "execution_count": 11,
   "metadata": {},
   "outputs": [
    {
     "name": "stderr",
     "output_type": "stream",
     "text": [
      "/usr/local/lib/python3.6/site-packages/ipykernel_launcher.py:7: SettingWithCopyWarning: \n",
      "A value is trying to be set on a copy of a slice from a DataFrame.\n",
      "Try using .loc[row_indexer,col_indexer] = value instead\n",
      "\n",
      "See the caveats in the documentation: http://pandas.pydata.org/pandas-docs/stable/indexing.html#indexing-view-versus-copy\n",
      "  import sys\n"
     ]
    }
   ],
   "source": [
    "grad_rates2 = grad_rates[['CDS', 'CharterYN']].drop_duplicates()\n",
    "\n",
    "for repcat in repcats:\n",
    "    sub_df = repcat[1][['CDS']]\n",
    "    sub_df.set_index(['CDS'])\n",
    "    for col in repcat_cols:\n",
    "        sub_df[col+ '_' + repcat[0]] = repcat[1][col]\n",
    "    grad_rates2 = grad_rates2.join(sub_df.set_index(['CDS'], verify_integrity=True), on = ['CDS'], how = 'outer')\n",
    "\n",
    "grad_rates2.reset_index()\n",
    "grad_rates2 = grad_rates2.set_index(['CDS'])\n",
    "\n",
    "grad_rates2['CohortStudents_All'] = grad_rates2.CohortStudents_GF + grad_rates2.CohortStudents_GM"
   ]
  },
  {
   "cell_type": "code",
   "execution_count": null,
   "metadata": {},
   "outputs": [],
   "source": [
    "grad_rates2['CohortStudents_All'] = grad_rates2.CohortStudents_GF + grad_rates2.CohortStudents_GM\n",
    "grad_rates2['RegularHSGradCount_All'] = grad_rates2.RegularHSGradCount_GF + grad_rates2.RegularHSGradCount_GM\n",
    "grad_rates2['MetUCCSUCount_All'] = grad_rates2.MetUCCSUCount_GF + grad_rates2.MetUCCSUCount_GM\n",
    "grad_rates2['RegularHSGradRate_All'] = grad_rates2.RegularHSGradCount_All / grad_rates2.CohortStudents_All\n",
    "grad_rates2['MetUCCSURate_All'] = grad_rates2.MetUCCSUCount_All + grad_rates2.CohortStudents_All"
   ]
  },
  {
   "cell_type": "code",
   "execution_count": null,
   "metadata": {},
   "outputs": [],
   "source": []
  },
  {
   "cell_type": "code",
   "execution_count": 156,
   "metadata": {},
   "outputs": [],
   "source": [
    "def split_GS(grades_vect):\n",
    "\n",
    "    def splitter(offered):\n",
    "        try:\n",
    "            [min_grade, max_grade] = offered.split('-')\n",
    "            if min_grade == 'K':\n",
    "                min_grade = 0\n",
    "            if float(max_grade)>12:\n",
    "                max_grade = 13\n",
    "        except:\n",
    "            [min_grade, max_grade] = [np.nan, np.nan]\n",
    "        return min_grade, max_grade\n",
    "\n",
    "    min_grdes = []\n",
    "    max_grdes = []\n",
    "    for ik in range(len(grades_vect)):\n",
    "        min_grade, max_grade = splitter(grades_vect[ik])\n",
    "        min_grdes.append(float(min_grade))\n",
    "        max_grdes.append(float(max_grade))\n",
    "        \n",
    "    return min_grdes, max_grdes"
   ]
  },
  {
   "cell_type": "code",
   "execution_count": 148,
   "metadata": {},
   "outputs": [],
   "source": [
    "meta_cols = ['CDS', 'NCESDist', 'NCESSchool', 'StatusType', 'County', 'District',\n",
    "       'School', 'City', 'Zip', 'OpenDate', 'ClosedDate', 'Charter', 'CharterNum',\n",
    "       'FundingType', 'DOC', 'DOCType', 'SOC', 'SOCType', 'EdOpsCode',\n",
    "       'EdOpsName', 'EILCode', 'EILName', 'GSoffered', 'GSserved', 'Virtual',\n",
    "       'Magnet', 'Latitude', 'Longitude']"
   ]
  },
  {
   "cell_type": "code",
   "execution_count": 195,
   "metadata": {},
   "outputs": [
    {
     "data": {
      "text/plain": [
       "N    10365\n",
       "Y      533\n",
       "Name: Magnet, dtype: int64"
      ]
     },
     "execution_count": 195,
     "metadata": {},
     "output_type": "execute_result"
    }
   ],
   "source": [
    "school_meta.Magnet.value_counts()"
   ]
  },
  {
   "cell_type": "code",
   "execution_count": 230,
   "metadata": {},
   "outputs": [],
   "source": [
    "school_meta = pd.read_table(path + 'pubschls.txt', sep = '\\t')\n",
    "school_meta = school_meta.rename(columns={'CDSCode':'CDS'})\n",
    "school_meta['CDS'] = school_meta['CDS'].astype(str)#.apply(str)"
   ]
  },
  {
   "cell_type": "code",
   "execution_count": 231,
   "metadata": {},
   "outputs": [],
   "source": [
    "HS = school_meta[(school_meta.EdOpsCode == 'TRAD') & \n",
    "                 (school_meta.EILCode == 'HS') & \n",
    "                 (school_meta.StatusType == 'Active')]"
   ]
  },
  {
   "cell_type": "code",
   "execution_count": 232,
   "metadata": {},
   "outputs": [
    {
     "name": "stderr",
     "output_type": "stream",
     "text": [
      "/usr/local/lib/python3.6/site-packages/ipykernel_launcher.py:4: SettingWithCopyWarning: \n",
      "A value is trying to be set on a copy of a slice from a DataFrame\n",
      "\n",
      "See the caveats in the documentation: http://pandas.pydata.org/pandas-docs/stable/indexing.html#indexing-view-versus-copy\n",
      "  after removing the cwd from sys.path.\n",
      "/usr/local/lib/python3.6/site-packages/IPython/core/interactiveshell.py:2910: SettingWithCopyWarning: \n",
      "A value is trying to be set on a copy of a slice from a DataFrame\n",
      "\n",
      "See the caveats in the documentation: http://pandas.pydata.org/pandas-docs/stable/indexing.html#indexing-view-versus-copy\n",
      "  exec(code_obj, self.user_global_ns, self.user_ns)\n"
     ]
    }
   ],
   "source": [
    "for ik in HS.index:\n",
    "    if len(HS['CDS'][ik])<14:\n",
    "        repl = '0'*(14-len(HS['CDS'][ik])) + HS['CDS'][ik]\n",
    "        HS['CDS'][ik] = repl"
   ]
  },
  {
   "cell_type": "code",
   "execution_count": 233,
   "metadata": {},
   "outputs": [
    {
     "name": "stderr",
     "output_type": "stream",
     "text": [
      "/usr/local/lib/python3.6/site-packages/ipykernel_launcher.py:1: SettingWithCopyWarning: \n",
      "A value is trying to be set on a copy of a slice from a DataFrame.\n",
      "Try using .loc[row_indexer,col_indexer] = value instead\n",
      "\n",
      "See the caveats in the documentation: http://pandas.pydata.org/pandas-docs/stable/indexing.html#indexing-view-versus-copy\n",
      "  \"\"\"Entry point for launching an IPython kernel.\n",
      "/usr/local/lib/python3.6/site-packages/ipykernel_launcher.py:2: SettingWithCopyWarning: \n",
      "A value is trying to be set on a copy of a slice from a DataFrame.\n",
      "Try using .loc[row_indexer,col_indexer] = value instead\n",
      "\n",
      "See the caveats in the documentation: http://pandas.pydata.org/pandas-docs/stable/indexing.html#indexing-view-versus-copy\n",
      "  \n"
     ]
    }
   ],
   "source": [
    "HS['CharterYN'] = [1 if school== 'Y' else 0 for school in HS.Charter]\n",
    "HS['MagnetYN'] = [1 if school== 'Y' else 0 for school in HS.Magnet]"
   ]
  },
  {
   "cell_type": "code",
   "execution_count": 234,
   "metadata": {},
   "outputs": [],
   "source": [
    "HS = HS[meta_cols]\n",
    "HS.reset_index()\n",
    "HS = HS.set_index('CDS')"
   ]
  },
  {
   "cell_type": "code",
   "execution_count": 235,
   "metadata": {},
   "outputs": [],
   "source": [
    "min_grades, max_grades = split_GS(HS.GSoffered)\n",
    "HS['GSoffered_min'] = min_grades\n",
    "HS['GSoffered_max'] = max_grades\n",
    "\n",
    "min_grades, max_grades = split_GS(HS.GSserved)\n",
    "HS['GSserved_min'] = min_grades\n",
    "HS['GSserved_max'] = max_grades"
   ]
  },
  {
   "cell_type": "code",
   "execution_count": 236,
   "metadata": {},
   "outputs": [],
   "source": [
    "HS = HS[(HS.GSserved_min==9) & (HS.GSserved_max==12)]"
   ]
  },
  {
   "cell_type": "code",
   "execution_count": 237,
   "metadata": {},
   "outputs": [],
   "source": [
    "HS = HS.join(grad_rates2, how= 'left')"
   ]
  },
  {
   "cell_type": "code",
   "execution_count": 32,
   "metadata": {},
   "outputs": [],
   "source": [
    "EL_numeric = ['KDGN', 'GR_1',\n",
    "       'GR_2', 'GR_3', 'GR_4', 'GR_5', 'GR_6', 'GR_7', 'GR_8', 'GR_9', 'GR_10',\n",
    "       'GR_11', 'GR_12', 'UNGR', 'TOTAL_EL']"
   ]
  },
  {
   "cell_type": "code",
   "execution_count": 38,
   "metadata": {},
   "outputs": [],
   "source": [
    "EL = pd.read_csv(path+ 'eng_learn1617_corr.csv')\n",
    "for col in EL_numeric:\n",
    "    EL[col] = pd.to_numeric(EL[col])\n",
    "    \n",
    "EL['CDS'] = EL['CDS'].apply(str)\n",
    "EL.reset_index()\n",
    "EL = EL.set_index(['CDS'])\n"
   ]
  },
  {
   "cell_type": "code",
   "execution_count": 197,
   "metadata": {},
   "outputs": [
    {
     "data": {
      "text/plain": [
       "66"
      ]
     },
     "execution_count": 197,
     "metadata": {},
     "output_type": "execute_result"
    }
   ],
   "source": [
    "# Number of languages with data\n",
    "len(langs)\n"
   ]
  },
  {
   "cell_type": "code",
   "execution_count": 43,
   "metadata": {},
   "outputs": [],
   "source": [
    "# EL.to_csv(path+'eng_learn1617_corr.csv')"
   ]
  },
  {
   "cell_type": "code",
   "execution_count": 238,
   "metadata": {},
   "outputs": [],
   "source": [
    "lang_cols = ['GR_9', 'GR_10', 'GR_11', 'GR_12']\n",
    "langs = EL.groupby('LANGUAGE')\n",
    "\n",
    "HS2 = HS\n",
    "langs_d =  {'lang' : [], 'total': []}\n",
    "for lang in langs:\n",
    "    sub_df = lang[1][lang_cols]\n",
    "    sub_df = sub_df.reindex(columns=lang_cols+ ['ALL'])\n",
    "    sub_df['ALL'] = lang[1]['GR_12']+lang[1]['GR_11']+ lang[1]['GR_10']+ lang[1]['GR_9']\n",
    "    langs_d['lang'].append(lang[0])\n",
    "    langs_d['total'].append(sum(sub_df['ALL']))\n",
    "    sub_df = sub_df.rename(columns={col:col+ '_' + lang[0] for col in sub_df.columns})\n",
    "    HS2 = HS2.join(sub_df)#.set_index(['CDS'], verify_integrity=True), on = ['CDS'], how = 'outer')\n",
    "    HS2[sub_df.columns] = HS2[sub_df.columns].fillna(0)"
   ]
  },
  {
   "cell_type": "code",
   "execution_count": 220,
   "metadata": {},
   "outputs": [],
   "source": [
    "HS2['Total_EL'] = [sum([HS2[HS2.index ==ind][col][0] if 'ALL_' in col else 0 for col in HS2.columns]) for ind in HS2.index]\n"
   ]
  },
  {
   "cell_type": "code",
   "execution_count": 175,
   "metadata": {},
   "outputs": [
    {
     "data": {
      "text/html": [
       "<div>\n",
       "<style scoped>\n",
       "    .dataframe tbody tr th:only-of-type {\n",
       "        vertical-align: middle;\n",
       "    }\n",
       "\n",
       "    .dataframe tbody tr th {\n",
       "        vertical-align: top;\n",
       "    }\n",
       "\n",
       "    .dataframe thead th {\n",
       "        text-align: right;\n",
       "    }\n",
       "</style>\n",
       "<table border=\"1\" class=\"dataframe\">\n",
       "  <thead>\n",
       "    <tr style=\"text-align: right;\">\n",
       "      <th></th>\n",
       "      <th>lang</th>\n",
       "      <th>total</th>\n",
       "    </tr>\n",
       "  </thead>\n",
       "  <tbody>\n",
       "    <tr>\n",
       "      <th>51</th>\n",
       "      <td>Spanish</td>\n",
       "      <td>186353</td>\n",
       "    </tr>\n",
       "    <tr>\n",
       "      <th>64</th>\n",
       "      <td>Vietnamese</td>\n",
       "      <td>4424</td>\n",
       "    </tr>\n",
       "    <tr>\n",
       "      <th>36</th>\n",
       "      <td>Mandarin (Putonghua)</td>\n",
       "      <td>4252</td>\n",
       "    </tr>\n",
       "    <tr>\n",
       "      <th>15</th>\n",
       "      <td>Filipino (Pilipino or Tagalog)</td>\n",
       "      <td>3806</td>\n",
       "    </tr>\n",
       "    <tr>\n",
       "      <th>2</th>\n",
       "      <td>Arabic</td>\n",
       "      <td>3619</td>\n",
       "    </tr>\n",
       "    <tr>\n",
       "      <th>8</th>\n",
       "      <td>Cantonese</td>\n",
       "      <td>2777</td>\n",
       "    </tr>\n",
       "  </tbody>\n",
       "</table>\n",
       "</div>"
      ],
      "text/plain": [
       "                              lang   total\n",
       "51                         Spanish  186353\n",
       "64                      Vietnamese    4424\n",
       "36            Mandarin (Putonghua)    4252\n",
       "15  Filipino (Pilipino or Tagalog)    3806\n",
       "2                           Arabic    3619\n",
       "8                        Cantonese    2777"
      ]
     },
     "execution_count": 175,
     "metadata": {},
     "output_type": "execute_result"
    }
   ],
   "source": [
    "langs_df = pd.DataFrame(langs_d)\n",
    "langs_df.sort_values('total', ascending = False).head(6)\n"
   ]
  },
  {
   "cell_type": "code",
   "execution_count": 221,
   "metadata": {},
   "outputs": [],
   "source": [
    "HS3 = HS2\n",
    "threshold = 0.2\n",
    "\n",
    "HS3 = HS3.drop(['NCESDist', 'NCESSchool', 'ClosedDate','DOC','SOC'], axis= 1)\n",
    "HS3 = HS3.drop(HS3.std()[HS3.std() < threshold].index.values, axis=1)"
   ]
  },
  {
   "cell_type": "code",
   "execution_count": 222,
   "metadata": {},
   "outputs": [
    {
     "data": {
      "text/plain": [
       "Latitude                   2.188443\n",
       "Longitude                  2.008570\n",
       "GSoffered_min              0.883622\n",
       "CharterYN                  0.371544\n",
       "CohortStudents_GF        106.120033\n",
       "RegularHSGradCount_GF    101.919162\n",
       "RegularHSGradRate_GF      16.162717\n",
       "MetUCCSUCount_GF          70.316664\n",
       "MetUCCSURate_GF           21.601212\n",
       "DropoutCount_GF            5.682254\n",
       "DropoutRate_GF             3.897073\n",
       "CohortStudents_GM        107.238051\n",
       "RegularHSGradCount_GM     99.697395\n",
       "RegularHSGradRate_GM      17.379929\n",
       "MetUCCSUCount_GM          58.475885\n",
       "MetUCCSURate_GM           23.200779\n",
       "DropoutCount_GM            9.474696\n",
       "DropoutRate_GM             5.553383\n",
       "CohortStudents_GN               NaN\n",
       "RegularHSGradCount_GN           NaN\n",
       "RegularHSGradRate_GN            NaN\n",
       "MetUCCSUCount_GN                NaN\n",
       "MetUCCSURate_GN                 NaN\n",
       "DropoutCount_GN                 NaN\n",
       "DropoutRate_GN                  NaN\n",
       "CohortStudents_RA         73.843409\n",
       "RegularHSGradCount_RA     71.155248\n",
       "RegularHSGradRate_RA      47.167722\n",
       "MetUCCSUCount_RA          57.909802\n",
       "MetUCCSURate_RA           39.135049\n",
       "                            ...    \n",
       "GR_10_Thai                 0.312028\n",
       "GR_11_Thai                 0.319092\n",
       "GR_12_Thai                 0.247736\n",
       "ALL_Thai                   0.722267\n",
       "ALL_Tigrinya               0.404563\n",
       "GR_9_Toishanese            0.209832\n",
       "GR_11_Toishanese           0.203499\n",
       "ALL_Toishanese             0.641857\n",
       "GR_9_Tongan                0.330274\n",
       "GR_10_Tongan               0.335476\n",
       "GR_11_Tongan               0.275494\n",
       "GR_12_Tongan               0.251784\n",
       "ALL_Tongan                 0.939466\n",
       "ALL_Turkish                0.417501\n",
       "GR_9_Ukrainian             0.385226\n",
       "GR_10_Ukrainian            0.518077\n",
       "GR_11_Ukrainian            0.480880\n",
       "GR_12_Ukrainian            0.307654\n",
       "ALL_Ukrainian              1.591689\n",
       "GR_9_Urdu                  0.385798\n",
       "GR_10_Urdu                 0.412619\n",
       "GR_11_Urdu                 0.422671\n",
       "GR_12_Urdu                 0.425057\n",
       "ALL_Urdu                   1.283939\n",
       "GR_9_Vietnamese            4.322700\n",
       "GR_10_Vietnamese           4.553038\n",
       "GR_11_Vietnamese           4.843695\n",
       "GR_12_Vietnamese           4.049103\n",
       "ALL_Vietnamese            17.362905\n",
       "Total_EL                 161.951986\n",
       "Length: 330, dtype: float64"
      ]
     },
     "execution_count": 222,
     "metadata": {},
     "output_type": "execute_result"
    }
   ],
   "source": [
    "HS3.std()"
   ]
  },
  {
   "cell_type": "code",
   "execution_count": 219,
   "metadata": {},
   "outputs": [],
   "source": []
  },
  {
   "cell_type": "code",
   "execution_count": null,
   "metadata": {},
   "outputs": [],
   "source": []
  }
 ],
 "metadata": {
  "kernelspec": {
   "display_name": "please_work3",
   "language": "python",
   "name": "please_work3"
  }
 },
 "nbformat": 4,
 "nbformat_minor": 2
}
