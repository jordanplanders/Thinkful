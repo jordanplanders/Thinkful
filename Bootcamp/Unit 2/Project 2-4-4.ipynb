{
 "cells": [
  {
   "cell_type": "code",
   "execution_count": 10,
   "metadata": {},
   "outputs": [],
   "source": [
    "import pandas as pd\n",
    "import matplotlib.pyplot as plt\n",
    "import seaborn as sns\n",
    "%matplotlib inline"
   ]
  },
  {
   "cell_type": "code",
   "execution_count": 14,
   "metadata": {},
   "outputs": [],
   "source": [
    "ny_df = pd.read_csv('NEW_YORK-Offenses_Known_to_Law_Enforcement_by_City_2013 - 13tbl8ny.csv', header=4)\n",
    "\n",
    "for col in ny_df.columns:\n",
    "    if col != \"City\":\n",
    "        try:\n",
    "            ny_df[col] = ny_df[col].str.replace(',', '')\n",
    "        except:\n",
    "            pass\n",
    "    \n",
    "for col in ny_df.columns:\n",
    "    try:\n",
    "        ny_df[col] = pd.to_numeric(ny_df[col])\n",
    "    except:\n",
    "        pass"
   ]
  },
  {
   "cell_type": "code",
   "execution_count": 16,
   "metadata": {},
   "outputs": [
    {
     "data": {
      "text/plain": [
       "Index(['City', 'Population', 'Violent\\ncrime',\n",
       "       'Murder and\\nnonnegligent\\nmanslaughter',\n",
       "       'Rape\\n(revised\\ndefinition)1', 'Rape\\n(legacy\\ndefinition)2',\n",
       "       'Robbery', 'Aggravated\\nassault', 'Property\\ncrime', 'Burglary',\n",
       "       'Larceny-\\ntheft', 'Motor\\nvehicle\\ntheft', 'Arson3'],\n",
       "      dtype='object')"
      ]
     },
     "execution_count": 16,
     "metadata": {},
     "output_type": "execute_result"
    }
   ],
   "source": [
    "ny_df.columns"
   ]
  },
  {
   "cell_type": "code",
   "execution_count": 17,
   "metadata": {},
   "outputs": [],
   "source": [
    "ny_df.columns = ['city', 'population', 'violent_crime', 'murder_etc', 'rape', 'rape2', 'robbery', 'aggrevated_assault','property_crime', 'burglary', 'larceny_theft', 'vehicle_theft', 'arson3']"
   ]
  },
  {
   "cell_type": "code",
   "execution_count": null,
   "metadata": {},
   "outputs": [],
   "source": []
  },
  {
   "cell_type": "code",
   "execution_count": 18,
   "metadata": {},
   "outputs": [],
   "source": [
    "ny_df['murder_bin'] = [1 if ik>0 else 0 for ik in ny_df['murder_etc']]\n",
    "ny_df['robbery_bin'] = [1 if ik>0 else 0 for ik in ny_df['robbery']]\n",
    "ny_df['pop_sq'] = [ik**2 for ik in ny_df['population']]"
   ]
  },
  {
   "cell_type": "code",
   "execution_count": 19,
   "metadata": {},
   "outputs": [
    {
     "data": {
      "text/plain": [
       "<matplotlib.axes._subplots.AxesSubplot at 0x111c39828>"
      ]
     },
     "execution_count": 19,
     "metadata": {},
     "output_type": "execute_result"
    },
    {
     "data": {
      "image/png": "[encoded data removed]",
      "text/plain": [
       "<matplotlib.figure.Figure at 0x117b4d518>"
      ]
     },
     "metadata": {},
     "output_type": "display_data"
    }
   ],
   "source": [
    "ny_df['murder_etc'].plot()"
   ]
  },
  {
   "cell_type": "code",
   "execution_count": 20,
   "metadata": {},
   "outputs": [
    {
     "data": {
      "text/plain": [
       "<matplotlib.axes._subplots.AxesSubplot at 0x11805df28>"
      ]
     },
     "execution_count": 20,
     "metadata": {},
     "output_type": "execute_result"
    },
    {
     "data": {
      "image/png": "[encoded data removed]",
      "text/plain": [
       "<matplotlib.figure.Figure at 0x11807b0b8>"
      ]
     },
     "metadata": {},
     "output_type": "display_data"
    }
   ],
   "source": [
    "ny_df['robbery'].plot()"
   ]
  },
  {
   "cell_type": "code",
   "execution_count": 21,
   "metadata": {},
   "outputs": [
    {
     "data": {
      "text/plain": [
       "<matplotlib.axes._subplots.AxesSubplot at 0x11810a400>"
      ]
     },
     "execution_count": 21,
     "metadata": {},
     "output_type": "execute_result"
    },
    {
     "data": {
      "image/png": "[encoded data removed]",
      "text/plain": [
       "<matplotlib.figure.Figure at 0x11817c048>"
      ]
     },
     "metadata": {},
     "output_type": "display_data"
    }
   ],
   "source": [
    "ny_df['population'].plot()"
   ]
  },
  {
   "cell_type": "code",
   "execution_count": 23,
   "metadata": {},
   "outputs": [
    {
     "name": "stdout",
     "output_type": "stream",
     "text": [
      "coefficients:  [  1.18417393e+03   3.00052399e+02   1.99252760e-09] \n",
      "intercept: 40.0770439392\n"
     ]
    }
   ],
   "source": [
    "from sklearn import linear_model\n",
    "\n",
    "regr = linear_model.LinearRegression()\n",
    "\n",
    "ny_df_sub = ny_df[['murder_bin', 'robbery_bin', 'pop_sq', 'property_crime']].dropna()\n",
    "\n",
    "regr.fit(ny_df_sub[['murder_bin', 'robbery_bin', 'pop_sq']], ny_df_sub['property_crime'])\n",
    "print('coefficients: ', regr.coef_, '\\nintercept:', regr.intercept_ )"
   ]
  },
  {
   "cell_type": "code",
   "execution_count": 28,
   "metadata": {},
   "outputs": [
    {
     "data": {
      "text/html": [
       "<div>\n",
       "<style scoped>\n",
       "    .dataframe tbody tr th:only-of-type {\n",
       "        vertical-align: middle;\n",
       "    }\n",
       "\n",
       "    .dataframe tbody tr th {\n",
       "        vertical-align: top;\n",
       "    }\n",
       "\n",
       "    .dataframe thead th {\n",
       "        text-align: right;\n",
       "    }\n",
       "</style>\n",
       "<table border=\"1\" class=\"dataframe\">\n",
       "  <thead>\n",
       "    <tr style=\"text-align: right;\">\n",
       "      <th></th>\n",
       "      <th>population</th>\n",
       "      <th>violent_crime</th>\n",
       "      <th>murder_etc</th>\n",
       "      <th>rape</th>\n",
       "      <th>rape2</th>\n",
       "      <th>robbery</th>\n",
       "      <th>aggrevated_assault</th>\n",
       "      <th>property_crime</th>\n",
       "      <th>burglary</th>\n",
       "      <th>larceny_theft</th>\n",
       "      <th>vehicle_theft</th>\n",
       "      <th>arson3</th>\n",
       "      <th>murder_bin</th>\n",
       "      <th>robbery_bin</th>\n",
       "      <th>pop_sq</th>\n",
       "    </tr>\n",
       "  </thead>\n",
       "  <tbody>\n",
       "    <tr>\n",
       "      <th>count</th>\n",
       "      <td>3.480000e+02</td>\n",
       "      <td>348.000000</td>\n",
       "      <td>348.000000</td>\n",
       "      <td>0.0</td>\n",
       "      <td>348.000000</td>\n",
       "      <td>348.000000</td>\n",
       "      <td>348.000000</td>\n",
       "      <td>348.000000</td>\n",
       "      <td>348.000000</td>\n",
       "      <td>348.000000</td>\n",
       "      <td>348.000000</td>\n",
       "      <td>187.000000</td>\n",
       "      <td>351.000000</td>\n",
       "      <td>351.000000</td>\n",
       "      <td>3.480000e+02</td>\n",
       "    </tr>\n",
       "    <tr>\n",
       "      <th>mean</th>\n",
       "      <td>4.003763e+04</td>\n",
       "      <td>201.594828</td>\n",
       "      <td>1.566092</td>\n",
       "      <td>NaN</td>\n",
       "      <td>5.864943</td>\n",
       "      <td>72.902299</td>\n",
       "      <td>121.261494</td>\n",
       "      <td>792.606322</td>\n",
       "      <td>119.683908</td>\n",
       "      <td>637.017241</td>\n",
       "      <td>35.905172</td>\n",
       "      <td>1.871658</td>\n",
       "      <td>0.139601</td>\n",
       "      <td>0.595442</td>\n",
       "      <td>2.035547e+11</td>\n",
       "    </tr>\n",
       "    <tr>\n",
       "      <th>std</th>\n",
       "      <td>4.500374e+05</td>\n",
       "      <td>2815.268504</td>\n",
       "      <td>18.303673</td>\n",
       "      <td>NaN</td>\n",
       "      <td>60.425452</td>\n",
       "      <td>1031.032873</td>\n",
       "      <td>1706.131730</td>\n",
       "      <td>7659.724746</td>\n",
       "      <td>924.948789</td>\n",
       "      <td>6346.054451</td>\n",
       "      <td>403.423826</td>\n",
       "      <td>10.693411</td>\n",
       "      <td>0.347067</td>\n",
       "      <td>0.491507</td>\n",
       "      <td>3.778876e+12</td>\n",
       "    </tr>\n",
       "    <tr>\n",
       "      <th>min</th>\n",
       "      <td>5.260000e+02</td>\n",
       "      <td>0.000000</td>\n",
       "      <td>0.000000</td>\n",
       "      <td>NaN</td>\n",
       "      <td>0.000000</td>\n",
       "      <td>0.000000</td>\n",
       "      <td>0.000000</td>\n",
       "      <td>0.000000</td>\n",
       "      <td>0.000000</td>\n",
       "      <td>0.000000</td>\n",
       "      <td>0.000000</td>\n",
       "      <td>0.000000</td>\n",
       "      <td>0.000000</td>\n",
       "      <td>0.000000</td>\n",
       "      <td>2.766760e+05</td>\n",
       "    </tr>\n",
       "    <tr>\n",
       "      <th>25%</th>\n",
       "      <td>3.003000e+03</td>\n",
       "      <td>2.000000</td>\n",
       "      <td>0.000000</td>\n",
       "      <td>NaN</td>\n",
       "      <td>0.000000</td>\n",
       "      <td>0.000000</td>\n",
       "      <td>1.000000</td>\n",
       "      <td>40.500000</td>\n",
       "      <td>6.000000</td>\n",
       "      <td>31.000000</td>\n",
       "      <td>0.000000</td>\n",
       "      <td>0.000000</td>\n",
       "      <td>0.000000</td>\n",
       "      <td>0.000000</td>\n",
       "      <td>9.018117e+06</td>\n",
       "    </tr>\n",
       "    <tr>\n",
       "      <th>50%</th>\n",
       "      <td>7.233500e+03</td>\n",
       "      <td>6.000000</td>\n",
       "      <td>0.000000</td>\n",
       "      <td>NaN</td>\n",
       "      <td>0.000000</td>\n",
       "      <td>1.000000</td>\n",
       "      <td>4.000000</td>\n",
       "      <td>112.500000</td>\n",
       "      <td>17.500000</td>\n",
       "      <td>94.000000</td>\n",
       "      <td>2.000000</td>\n",
       "      <td>0.000000</td>\n",
       "      <td>0.000000</td>\n",
       "      <td>1.000000</td>\n",
       "      <td>5.232568e+07</td>\n",
       "    </tr>\n",
       "    <tr>\n",
       "      <th>75%</th>\n",
       "      <td>1.842750e+04</td>\n",
       "      <td>22.000000</td>\n",
       "      <td>0.000000</td>\n",
       "      <td>NaN</td>\n",
       "      <td>2.000000</td>\n",
       "      <td>5.000000</td>\n",
       "      <td>14.000000</td>\n",
       "      <td>341.000000</td>\n",
       "      <td>51.250000</td>\n",
       "      <td>287.250000</td>\n",
       "      <td>7.000000</td>\n",
       "      <td>1.000000</td>\n",
       "      <td>0.000000</td>\n",
       "      <td>1.000000</td>\n",
       "      <td>3.397536e+08</td>\n",
       "    </tr>\n",
       "    <tr>\n",
       "      <th>max</th>\n",
       "      <td>8.396126e+06</td>\n",
       "      <td>52384.000000</td>\n",
       "      <td>335.000000</td>\n",
       "      <td>NaN</td>\n",
       "      <td>1112.000000</td>\n",
       "      <td>19170.000000</td>\n",
       "      <td>31767.000000</td>\n",
       "      <td>141971.000000</td>\n",
       "      <td>16606.000000</td>\n",
       "      <td>117931.000000</td>\n",
       "      <td>7434.000000</td>\n",
       "      <td>132.000000</td>\n",
       "      <td>1.000000</td>\n",
       "      <td>1.000000</td>\n",
       "      <td>7.049493e+13</td>\n",
       "    </tr>\n",
       "  </tbody>\n",
       "</table>\n",
       "</div>"
      ],
      "text/plain": [
       "         population  violent_crime  murder_etc  rape        rape2  \\\n",
       "count  3.480000e+02     348.000000  348.000000   0.0   348.000000   \n",
       "mean   4.003763e+04     201.594828    1.566092   NaN     5.864943   \n",
       "std    4.500374e+05    2815.268504   18.303673   NaN    60.425452   \n",
       "min    5.260000e+02       0.000000    0.000000   NaN     0.000000   \n",
       "25%    3.003000e+03       2.000000    0.000000   NaN     0.000000   \n",
       "50%    7.233500e+03       6.000000    0.000000   NaN     0.000000   \n",
       "75%    1.842750e+04      22.000000    0.000000   NaN     2.000000   \n",
       "max    8.396126e+06   52384.000000  335.000000   NaN  1112.000000   \n",
       "\n",
       "            robbery  aggrevated_assault  property_crime      burglary  \\\n",
       "count    348.000000          348.000000      348.000000    348.000000   \n",
       "mean      72.902299          121.261494      792.606322    119.683908   \n",
       "std     1031.032873         1706.131730     7659.724746    924.948789   \n",
       "min        0.000000            0.000000        0.000000      0.000000   \n",
       "25%        0.000000            1.000000       40.500000      6.000000   \n",
       "50%        1.000000            4.000000      112.500000     17.500000   \n",
       "75%        5.000000           14.000000      341.000000     51.250000   \n",
       "max    19170.000000        31767.000000   141971.000000  16606.000000   \n",
       "\n",
       "       larceny_theft  vehicle_theft      arson3  murder_bin  robbery_bin  \\\n",
       "count     348.000000     348.000000  187.000000  351.000000   351.000000   \n",
       "mean      637.017241      35.905172    1.871658    0.139601     0.595442   \n",
       "std      6346.054451     403.423826   10.693411    0.347067     0.491507   \n",
       "min         0.000000       0.000000    0.000000    0.000000     0.000000   \n",
       "25%        31.000000       0.000000    0.000000    0.000000     0.000000   \n",
       "50%        94.000000       2.000000    0.000000    0.000000     1.000000   \n",
       "75%       287.250000       7.000000    1.000000    0.000000     1.000000   \n",
       "max    117931.000000    7434.000000  132.000000    1.000000     1.000000   \n",
       "\n",
       "             pop_sq  \n",
       "count  3.480000e+02  \n",
       "mean   2.035547e+11  \n",
       "std    3.778876e+12  \n",
       "min    2.766760e+05  \n",
       "25%    9.018117e+06  \n",
       "50%    5.232568e+07  \n",
       "75%    3.397536e+08  \n",
       "max    7.049493e+13  "
      ]
     },
     "execution_count": 28,
     "metadata": {},
     "output_type": "execute_result"
    }
   ],
   "source": [
    "ny_df.describe()"
   ]
  },
  {
   "cell_type": "code",
   "execution_count": 89,
   "metadata": {},
   "outputs": [],
   "source": [
    "ny_df2 = ny_df[ny_df.population<120000]\n",
    "\n",
    "crime_cols2 = [ 'pop_sq', 'burglary','robbery_bin','murder_etc','murder_bin',\n",
    "        'aggrevated_assault','vehicle_theft','rape2', 'arson3', 'property_crime']"
   ]
  },
  {
   "cell_type": "code",
   "execution_count": 90,
   "metadata": {},
   "outputs": [
    {
     "data": {
      "text/plain": [
       "<matplotlib.axes._subplots.AxesSubplot at 0x11bd40e48>"
      ]
     },
     "execution_count": 90,
     "metadata": {},
     "output_type": "execute_result"
    },
    {
     "data": {
      "image/png": "[encoded data removed]",
      "text/plain": [
       "<matplotlib.figure.Figure at 0x11ae2e7b8>"
      ]
     },
     "metadata": {},
     "output_type": "display_data"
    }
   ],
   "source": [
    "corrmat = ny_df2[crime_cols2].dropna().corr()\n",
    "fig, ax = plt.subplots(1,1, figsize = (12,9))\n",
    "sns.heatmap(corrmat, vmax = 1, square = True)"
   ]
  },
  {
   "cell_type": "code",
   "execution_count": 91,
   "metadata": {},
   "outputs": [
    {
     "name": "stderr",
     "output_type": "stream",
     "text": [
      "/usr/local/lib/python3.6/site-packages/sklearn/preprocessing/data.py:617: DataConversionWarning: Data with input dtype int64, float64 were all converted to float64 by StandardScaler.\n",
      "  return self.partial_fit(X, y)\n",
      "/usr/local/lib/python3.6/site-packages/sklearn/preprocessing/data.py:617: DataConversionWarning: Data with input dtype int64, float64 were all converted to float64 by StandardScaler.\n",
      "  return self.partial_fit(X, y)\n",
      "/usr/local/lib/python3.6/site-packages/sklearn/base.py:462: DataConversionWarning: Data with input dtype int64, float64 were all converted to float64 by StandardScaler.\n",
      "  return self.fit(X, **fit_params).transform(X)\n",
      "/usr/local/lib/python3.6/site-packages/ipykernel_launcher.py:6: SettingWithCopyWarning: \n",
      "A value is trying to be set on a copy of a slice from a DataFrame.\n",
      "Try using .loc[row_indexer,col_indexer] = value instead\n",
      "\n",
      "See the caveats in the documentation: http://pandas.pydata.org/pandas-docs/stable/indexing.html#indexing-view-versus-copy\n",
      "  \n",
      "/usr/local/lib/python3.6/site-packages/pandas/core/indexing.py:537: SettingWithCopyWarning: \n",
      "A value is trying to be set on a copy of a slice from a DataFrame.\n",
      "Try using .loc[row_indexer,col_indexer] = value instead\n",
      "\n",
      "See the caveats in the documentation: http://pandas.pydata.org/pandas-docs/stable/indexing.html#indexing-view-versus-copy\n",
      "  self.obj[item] = s\n"
     ]
    }
   ],
   "source": [
    "from sklearn import preprocessing\n",
    "\n",
    "scaler = preprocessing.StandardScaler().fit(ny_df2[crime_cols2])\n",
    "\n",
    "ny_df_scaled = ny_df2[crime_cols2]\n",
    "ny_df_scaled[crime_cols2] = scaler.fit_transform(ny_df_scaled)"
   ]
  },
  {
   "cell_type": "code",
   "execution_count": 92,
   "metadata": {},
   "outputs": [
    {
     "data": {
      "text/plain": [
       "<matplotlib.axes._subplots.AxesSubplot at 0x11bfa5668>"
      ]
     },
     "execution_count": 92,
     "metadata": {},
     "output_type": "execute_result"
    },
    {
     "data": {
      "image/png": "[encoded data removed]",
      "text/plain": [
       "<matplotlib.figure.Figure at 0x11bcd8160>"
      ]
     },
     "metadata": {},
     "output_type": "display_data"
    }
   ],
   "source": [
    "corrmat = ny_df_scaled.dropna().corr()\n",
    "fig, ax = plt.subplots(1,1, figsize = (12,9))\n",
    "sns.heatmap(corrmat, vmax = 1, square = True)"
   ]
  },
  {
   "cell_type": "code",
   "execution_count": 93,
   "metadata": {},
   "outputs": [],
   "source": [
    "target = 'property_crime'\n",
    "crime_cols2.remove(target)\n",
    "\n",
    "from sklearn import linear_model\n",
    "from sklearn.model_selection import train_test_split\n",
    "regr = linear_model.LinearRegression()"
   ]
  },
  {
   "cell_type": "code",
   "execution_count": 98,
   "metadata": {},
   "outputs": [
    {
     "name": "stdout",
     "output_type": "stream",
     "text": [
      "scaled data\n",
      "score: 0.914950044025\n",
      "\n",
      "word:  pop_sq \n",
      "score: 0.780039002673\n",
      "\n",
      "word:  burglary \n",
      "score: 0.905472850611\n",
      "\n",
      "word:  robbery_bin \n",
      "score: 0.912985006067\n",
      "\n",
      "word:  murder_etc \n",
      "score: 0.903392727169\n",
      "\n",
      "word:  murder_bin \n",
      "score: 0.916813313562\n",
      "\n",
      "word:  vehicle_theft \n",
      "score: 0.905017546897\n",
      "\n",
      "word:  rape2 \n",
      "score: 0.919782008903\n",
      "\n",
      "word:  arson3 \n",
      "score: 0.912825809166\n"
     ]
    }
   ],
   "source": [
    "print('scaled data')\n",
    "ny_df_sub = ny_df_scaled[crime_cols2+[target]].dropna()\n",
    "X_train, X_test, y_train, y_test = train_test_split(ny_df_sub[crime_cols2], ny_df_sub[target], test_size=0.20, random_state=42)\n",
    "regr.fit(X_train, y_train)\n",
    "print('score:', regr.score(X_test, y_test))\n",
    "    \n",
    "for ik in range(len(crime_cols2)):\n",
    "    temp = crime_cols2.pop(0)\n",
    "    ny_df_sub = ny_df_scaled[crime_cols2+[target]].dropna()\n",
    "    X_train, X_test, y_train, y_test = train_test_split(ny_df_sub[crime_cols2], ny_df_sub[target], test_size=0.20, random_state=42)\n",
    "    regr.fit(X_train, y_train)\n",
    "    print('\\nword: ', temp, '\\nscore:', regr.score(X_test, y_test))\n",
    "    crime_cols2.append(temp)\n",
    "# print('coefficients: ', regr.coef_, '\\nintercept:', regr.intercept_ )"
   ]
  },
  {
   "cell_type": "code",
   "execution_count": 100,
   "metadata": {},
   "outputs": [
    {
     "name": "stdout",
     "output_type": "stream",
     "text": [
      "unscaled\n",
      "score: 0.914950044025\n",
      "\n",
      "word:  pop_sq \n",
      "score: 0.780039002673\n",
      "\n",
      "word:  burglary \n",
      "score: 0.905472850611\n",
      "\n",
      "word:  robbery_bin \n",
      "score: 0.912985006067\n",
      "\n",
      "word:  murder_etc \n",
      "score: 0.903392727169\n",
      "\n",
      "word:  murder_bin \n",
      "score: 0.916813313562\n",
      "\n",
      "word:  vehicle_theft \n",
      "score: 0.905017546897\n",
      "\n",
      "word:  rape2 \n",
      "score: 0.919782008903\n",
      "\n",
      "word:  arson3 \n",
      "score: 0.912825809166\n"
     ]
    }
   ],
   "source": [
    "print('unscaled')\n",
    "ny_df_sub = ny_df2[crime_cols2+[target]].dropna()\n",
    "X_train, X_test, y_train, y_test = train_test_split(ny_df_sub[crime_cols2], ny_df_sub[target], test_size=0.20, random_state=42)\n",
    "regr.fit(X_train, y_train)\n",
    "print('score:', regr.score(X_test, y_test))\n",
    "    \n",
    "for ik in range(len(crime_cols2)):\n",
    "    temp = crime_cols2.pop(0)\n",
    "    ny_df_sub = ny_df_scaled[crime_cols2+[target]].dropna()\n",
    "    X_train, X_test, y_train, y_test = train_test_split(ny_df_sub[crime_cols2], ny_df_sub[target], test_size=0.20, random_state=42)\n",
    "    regr.fit(X_train, y_train)\n",
    "    print('\\nword: ', temp, '\\nscore:', regr.score(X_test, y_test))\n",
    "    crime_cols2.append(temp)"
   ]
  },
  {
   "cell_type": "markdown",
   "metadata": {},
   "source": [
    "The model appears to perform the same with scaled and unscaled features.  I selected features based on the correlation heatmap and then testing the model against the set minus one feature for each feature in the set.  The resulting model returns r^2=.92 with the feature set:\n",
    "\n",
    "['pop_sq','burglary','robbery_bin','murder_etc','murder_bin','vehicle_theft','arson3']"
   ]
  },
  {
   "cell_type": "code",
   "execution_count": null,
   "metadata": {},
   "outputs": [],
   "source": []
  }
 ],
 "metadata": {
  "kernelspec": {
   "display_name": "please_work3",
   "language": "python",
   "name": "please_work3"
  },
  "language_info": {
   "codemirror_mode": {
    "name": "ipython",
    "version": 3
   },
   "file_extension": ".py",
   "mimetype": "text/x-python",
   "name": "python",
   "nbconvert_exporter": "python",
   "pygments_lexer": "ipython3",
   "version": "3.6.5"
  }
 },
 "nbformat": 4,
 "nbformat_minor": 2
}
