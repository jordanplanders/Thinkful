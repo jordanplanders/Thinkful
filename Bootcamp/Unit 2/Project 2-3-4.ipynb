{
 "cells": [
  {
   "cell_type": "code",
   "execution_count": 2,
   "metadata": {},
   "outputs": [],
   "source": [
    "import pandas as pd\n",
    "import numpy as np\n",
    "import sklearn\n",
    "import seaborn as sns\n",
    "import matplotlib.pyplot as plt\n",
    "%matplotlib inline\n",
    "from sklearn.model_selection import train_test_split\n",
    "from sklearn.feature_extraction.text import CountVectorizer, TfidfVectorizer\n",
    "from sklearn.naive_bayes import BernoulliNB"
   ]
  },
  {
   "cell_type": "code",
   "execution_count": 3,
   "metadata": {},
   "outputs": [],
   "source": [
    "path = 'sentiment labelled sentences/'"
   ]
  },
  {
   "cell_type": "code",
   "execution_count": 4,
   "metadata": {},
   "outputs": [],
   "source": [
    "def get_wordcounts(text, vectorizer=None):\n",
    "    \"\"\"\n",
    "    Takes a string or list of strings and returns term frequencies for each word in\n",
    "    a vectorizer's vocabulary. If no vectorizer is passed, the vocabulary will be generated\n",
    "    from the input text's unigrams and bigrams.\n",
    "    \"\"\"\n",
    "    if vectorizer is None:\n",
    "        vectorizer = CountVectorizer(stop_words='english', min_df = 2, lowercase=True, ngram_range=(1,2))\n",
    "        vectorizer.fit(text)\n",
    "    term_counts = zip(vectorizer.get_feature_names(),\n",
    "        np.asarray(vectorizer.transform(text).sum(axis=0)).ravel())\n",
    "    return sorted(term_counts, key=lambda x: x[1], reverse=True)\n",
    "\n",
    "def get_tfidf_weights(text, vectorizer=None):\n",
    "    if vectorizer is None:\n",
    "        vectorizer = TfidfVectorizer(stop_words='english', min_df = 2, lowercase=True, ngram_range=(1,2))\n",
    "        vectorizer.fit(text)\n",
    "    tfidf_weights = zip(vectorizer.get_feature_names(),\n",
    "        np.asarray(vectorizer.transform(text).sum(axis=0)).ravel())\n",
    "    return sorted(tfidf_weights, key=lambda x: x[1], reverse=True)"
   ]
  },
  {
   "cell_type": "code",
   "execution_count": 8,
   "metadata": {},
   "outputs": [],
   "source": [
    "def get_tfidf(text):\n",
    "    tfidf_vec = TfidfVectorizer(stop_words='english', min_df = 2, lowercase=True, ngram_range=(1,2))\n",
    "    tfidf_vec.fit(text)\n",
    "\n",
    "    train_tfidf = get_tfidf_weights(text, tfidf_vec)[:40]\n",
    "    return train_tfidf"
   ]
  },
  {
   "cell_type": "code",
   "execution_count": 11,
   "metadata": {},
   "outputs": [],
   "source": [
    "def get_counts(text):\n",
    "    count_vec = CountVectorizer(stop_words='english', min_df = 2, lowercase=True, ngram_range=(1,2))\n",
    "    \n",
    "    count_vec.fit(text)\n",
    "    train_counts = get_wordcounts(text, count_vec)[:40]\n",
    "    return train_counts"
   ]
  },
  {
   "cell_type": "code",
   "execution_count": 5,
   "metadata": {},
   "outputs": [],
   "source": [
    "amz_df = pd.read_csv(path+ 'amazon_cells_labelled.txt', delimiter= '\\t')\n",
    "amz_df.columns = ['text', 'target']\n",
    "\n",
    "amz_df['target'] = pd.to_numeric(amz_df['target'])\n",
    "amz_df = amz_df.dropna()"
   ]
  },
  {
   "cell_type": "code",
   "execution_count": 6,
   "metadata": {},
   "outputs": [],
   "source": [
    "X_train, X_test, y_train, y_test = train_test_split(amz_df.text, amz_df.target, test_size=0.25, random_state=42)"
   ]
  },
  {
   "cell_type": "code",
   "execution_count": 105,
   "metadata": {},
   "outputs": [],
   "source": [
    "def get_pos_words(X_train, y_train, lst, train_pos):\n",
    "    amz_df_train = pd.DataFrame({'text': X_train, 'target':y_train})\n",
    "\n",
    "    # seperating positive messages from negative messages\n",
    "    amz_df_pos = amz_df_train[(amz_df_train.target == 1)]\n",
    "    amz_df_neg = amz_df_train[(amz_df_train.target == 0)]\n",
    "    \n",
    "    neg_words = []\n",
    "    pos_words = []\n",
    "    \n",
    "    # compiling set of positive words\n",
    "    if lst[0]== 1: \n",
    "        pos_words = [word_score[0] for word_score in get_tfidf(amz_df_pos.text)]\n",
    "    if lst[1]== 1:\n",
    "        pos_words = pos_words+ [word_score[0] for word_score in get_tfidf(amz_df_pos.text)]\n",
    "    pos_words = list(set(pos_words))\n",
    "    \n",
    "    # compiling set of negative words\n",
    "    if lst[2]== 1:\n",
    "        neg_words = [word_score[0] for word_score in get_tfidf(amz_df_neg.text)]\n",
    "    if lst[3] == 1:\n",
    "        neg_words = neg_words + [word_score[0] for word_score in get_counts(amz_df_neg.text)]\n",
    "    neg_words = list(set(neg_words))\n",
    "    \n",
    "    # weeding out overlapping words\n",
    "    if train_pos == True:\n",
    "        pos_words = [word for word in pos_words if word not in neg_words] \n",
    "    else:\n",
    "        pos_words = [word for word in neg_words if word not in pos_words] \n",
    "        \n",
    "    try:\n",
    "        pos_words.remove('cell')\n",
    "    except:\n",
    "        pass\n",
    "    \n",
    "    return amz_df_train, pos_words"
   ]
  },
  {
   "cell_type": "code",
   "execution_count": 16,
   "metadata": {},
   "outputs": [],
   "source": [
    "# creating a dictionary of vectors, one vector per word with rows corresponding to messages\n",
    "def produce_word_df(pos_words, data):\n",
    "    d = {word:[] for word in pos_words}\n",
    "    for word in d.keys():\n",
    "        d[word]= [1 if word in comment.lower() else 0 for comment in data]\n",
    "\n",
    "    return pd.DataFrame(d)"
   ]
  },
  {
   "cell_type": "code",
   "execution_count": 87,
   "metadata": {},
   "outputs": [],
   "source": [
    "\n",
    "def run_model(pos_words, df_train, df_test, y_test, X_test):\n",
    "    bnb = BernoulliNB()\n",
    "    bnb.fit(df_train[pos_words], df_train.target)\n",
    "\n",
    "    y_pred = bnb.predict(df_test)\n",
    "\n",
    "    print(\"Number of mislabeled points out of a total {} points : {}; {}% success improvement over {}% blind\".format(\n",
    "        len(y_test),\n",
    "        (y_test != y_pred).sum(),\n",
    "        round(((y_test == y_pred).sum()/len(y_test))*100,4),\n",
    "        round((sum(y_test)/len(y_test))*100,4)\n",
    "    ))"
   ]
  },
  {
   "cell_type": "code",
   "execution_count": 7,
   "metadata": {},
   "outputs": [],
   "source": [
    "amz_df_train = pd.DataFrame({'text': X_train, 'target':y_train})\n",
    "\n",
    "amz_df_pos = amz_df_train[(amz_df_train.target == 1)]\n",
    "amz_df_neg = amz_df_train[(amz_df_train.target == 0)]"
   ]
  },
  {
   "cell_type": "code",
   "execution_count": 63,
   "metadata": {},
   "outputs": [
    {
     "data": {
      "text/plain": [
       "<matplotlib.axes._subplots.AxesSubplot at 0x10dff1550>"
      ]
     },
     "execution_count": 63,
     "metadata": {},
     "output_type": "execute_result"
    },
    {
     "data": {
      "image/png": "[encoded data removed]",
      "text/plain": [
       "<matplotlib.figure.Figure at 0x10e0e1710>"
      ]
     },
     "metadata": {},
     "output_type": "display_data"
    }
   ],
   "source": [
    "amz_df_train, pos_words = get_pos_words(X_train, y_train)\n",
    "\n",
    "# prepping the test set \n",
    "df_test = produce_word_df(pos_words, X_test)\n",
    "df_train = produce_word_df(pos_words, amz_df_train.text)\n",
    "df_train['target'] = amz_df_train.target\n",
    "df_train = df_train.dropna()\n",
    "sns.heatmap(df_train.corr())"
   ]
  },
  {
   "cell_type": "code",
   "execution_count": 64,
   "metadata": {},
   "outputs": [
    {
     "name": "stdout",
     "output_type": "stream",
     "text": [
      "Number of mislabeled points out of a total 250 points : 93; 62.8% success improvement over 54.400000000000006% blind\n"
     ]
    }
   ],
   "source": [
    "run_model(pos_words, df_train, df_test, y_test, X_test)"
   ]
  },
  {
   "cell_type": "code",
   "execution_count": 88,
   "metadata": {},
   "outputs": [
    {
     "name": "stdout",
     "output_type": "stream",
     "text": [
      "Number of mislabeled points out of a total 999 points : 255; 74.4745% success improvement over 50.0501% blind\n",
      "Number of mislabeled points out of a total 250 points : 87; 65.2% success improvement over 54.4% blind\n"
     ]
    }
   ],
   "source": [
    "# Investigating overfitting\n",
    "\n",
    "## Case 1: training the model on all of the data and then measuring accuracy\n",
    "amz_df_train, pos_words = get_pos_words(amz_df.text, amz_df.target, [1,1,1,1], train_pos=True)\n",
    "\n",
    "df_train = produce_word_df(pos_words, amz_df_train.text)\n",
    "df_train['target'] = amz_df_train.target\n",
    "\n",
    "run_model(pos_words, df_train, df_train[pos_words], df_train.target, amz_df.text)\n",
    "\n",
    "## Case 2: creating a list of positive words based on all data but training on a fraction and testing on remaining\n",
    "amz_df_train, pos_words = get_pos_words(amz_df.text, amz_df.target, [1,1,1,1], train_pos=True)\n",
    "amz_df_train, pos_words2 = get_pos_words(X_train, y_train, [1,1,1,1], train_pos=True)\n",
    "\n",
    "# prepping the test set \n",
    "df_test = produce_word_df(pos_words, X_test)\n",
    "df_train = produce_word_df(pos_words, amz_df_train.text)\n",
    "df_train['target'] = amz_df_train.target\n",
    "df_train = df_train.dropna()\n",
    "\n",
    "run_model(pos_words, df_train, df_test, y_test, X_test)"
   ]
  },
  {
   "cell_type": "markdown",
   "metadata": {},
   "source": [
    "Not surprisingly, the model performs best when it has been exposed to the largest set of possible words.  Of course it works particularly well when it has seen all the words that could come up in the test set, which is unrealistic because at some point the model has to run on unknown data."
   ]
  },
  {
   "cell_type": "code",
   "execution_count": 96,
   "metadata": {},
   "outputs": [
    {
     "name": "stdout",
     "output_type": "stream",
     "text": [
      "[1, 0, 0, 0]\n",
      "Number of mislabeled points out of a total 250 points : 88; 64.8% success improvement over 54.4% blind\n",
      "[0, 1, 0, 0]\n",
      "Number of mislabeled points out of a total 250 points : 88; 64.8% success improvement over 54.4% blind\n",
      "[1, 1, 1, 0]\n",
      "Number of mislabeled points out of a total 250 points : 86; 65.6% success improvement over 54.4% blind\n",
      "[1, 1, 0, 1]\n",
      "Number of mislabeled points out of a total 250 points : 96; 61.6% success improvement over 54.4% blind\n",
      "[1, 0, 1, 0]\n",
      "Number of mislabeled points out of a total 250 points : 86; 65.6% success improvement over 54.4% blind\n",
      "[1, 0, 0, 1]\n",
      "Number of mislabeled points out of a total 250 points : 96; 61.6% success improvement over 54.4% blind\n",
      "[0, 1, 1, 0]\n",
      "Number of mislabeled points out of a total 250 points : 86; 65.6% success improvement over 54.4% blind\n",
      "[0, 1, 0, 1]\n",
      "Number of mislabeled points out of a total 250 points : 96; 61.6% success improvement over 54.4% blind\n",
      "[1, 1, 1, 1]\n",
      "Number of mislabeled points out of a total 250 points : 99; 60.4% success improvement over 54.4% blind\n"
     ]
    }
   ],
   "source": [
    "# train the model with different versions of positive words\n",
    "for ik in [[1,0,0,0],[0,1,0,0],[1,1,1,0],[1,1,0,1],[1,0,1,0],[1,0,0,1],[0,1,1,0],[0,1,0,1],[1,1,1,1]]:\n",
    "    amz_df_train, pos_words = get_pos_words(X_train, y_train, ik, train_pos=True)\n",
    "\n",
    "    # prepping the test set \n",
    "    df_test = produce_word_df(pos_words, X_test)\n",
    "    df_train = produce_word_df(pos_words, amz_df_train.text)\n",
    "    df_train['target'] = amz_df_train.target\n",
    "    df_train = df_train.dropna()\n",
    "    \n",
    "    print(ik)\n",
    "    run_model(pos_words, df_train, df_test, y_test, X_test)"
   ]
  },
  {
   "cell_type": "markdown",
   "metadata": {},
   "source": [
    "[1, 1, 1, 0],[1, 0, 1, 0],[0, 1, 1, 0], used to train for positive (rather than negative) words, were the top three.  The common thread seems to be removeal of the negative tfidf list.  "
   ]
  },
  {
   "cell_type": "code",
   "execution_count": 97,
   "metadata": {},
   "outputs": [
    {
     "name": "stdout",
     "output_type": "stream",
     "text": [
      "[1, 1, 1, 0]\n",
      "Number of mislabeled points out of a total 250 points : 145; 42.0% success improvement over 54.4% blind\n",
      "[1, 1, 0, 1]\n",
      "Number of mislabeled points out of a total 250 points : 133; 46.8% success improvement over 54.4% blind\n",
      "[1, 0, 1, 0]\n",
      "Number of mislabeled points out of a total 250 points : 145; 42.0% success improvement over 54.4% blind\n",
      "[1, 0, 0, 1]\n",
      "Number of mislabeled points out of a total 250 points : 133; 46.8% success improvement over 54.4% blind\n",
      "[0, 1, 1, 0]\n",
      "Number of mislabeled points out of a total 250 points : 145; 42.0% success improvement over 54.4% blind\n",
      "[0, 1, 0, 1]\n",
      "Number of mislabeled points out of a total 250 points : 133; 46.8% success improvement over 54.4% blind\n",
      "[0, 0, 1, 0]\n",
      "Number of mislabeled points out of a total 250 points : 114; 54.4% success improvement over 54.4% blind\n",
      "[0, 0, 0, 1]\n",
      "Number of mislabeled points out of a total 250 points : 126; 49.6% success improvement over 54.4% blind\n",
      "[1, 1, 1, 1]\n",
      "Number of mislabeled points out of a total 250 points : 150; 40.0% success improvement over 54.4% blind\n"
     ]
    }
   ],
   "source": [
    "# train model for different versions of negative words\n",
    "for ik in [[1,1,1,0],[1,1,0,1],[1,0,1,0],[1,0,0,1],[0,1,1,0],[0,1,0,1],[0,0,1,0],[0,0,0,1],[1,1,1,1]]:\n",
    "    amz_df_train, pos_words = get_pos_words(X_train, y_train, ik, train_pos=False)\n",
    "\n",
    "    # prepping the test set \n",
    "    df_test = produce_word_df(pos_words, X_test)\n",
    "    df_train = produce_word_df(pos_words, amz_df_train.text)\n",
    "    df_train['target'] = amz_df_train.target\n",
    "    df_train = df_train.dropna()\n",
    "    \n",
    "    print(ik)\n",
    "    run_model(pos_words, df_train, df_test, y_test, X_test)"
   ]
  },
  {
   "cell_type": "markdown",
   "metadata": {},
   "source": [
    "[0, 0, 1, 0] (just using the negative tfidf list) was the best list for training with negative words, though it didn't clear the success rate of assigning positive to everything.  "
   ]
  },
  {
   "cell_type": "code",
   "execution_count": 111,
   "metadata": {},
   "outputs": [
    {
     "name": "stdout",
     "output_type": "stream",
     "text": [
      "23\n",
      "price\n",
      "Number of mislabeled points out of a total 250 points : 93; 62.8% success improvement over 54.4% blind\n",
      "works\n",
      "Number of mislabeled points out of a total 250 points : 104; 58.4% success improvement over 54.4% blind\n",
      "great product\n",
      "Number of mislabeled points out of a total 250 points : 79; 68.4% success improvement over 54.4% blind\n",
      "best\n",
      "Number of mislabeled points out of a total 250 points : 93; 62.8% success improvement over 54.4% blind\n",
      "comfortable\n",
      "Number of mislabeled points out of a total 250 points : 100; 60.0% success improvement over 54.4% blind\n",
      "just\n",
      "Number of mislabeled points out of a total 250 points : 85; 66.0% success improvement over 54.4% blind\n",
      "device\n",
      "Number of mislabeled points out of a total 250 points : 81; 67.6% success improvement over 54.4% blind\n",
      "better\n",
      "Number of mislabeled points out of a total 250 points : 78; 68.8% success improvement over 54.4% blind\n",
      "excellent\n",
      "Number of mislabeled points out of a total 250 points : 101; 59.6% success improvement over 54.4% blind\n",
      "sound quality\n",
      "Number of mislabeled points out of a total 250 points : 113; 54.8% success improvement over 54.4% blind\n",
      "pleased\n",
      "Number of mislabeled points out of a total 250 points : 80; 68.0% success improvement over 54.4% blind\n",
      "nice\n",
      "Number of mislabeled points out of a total 250 points : 93; 62.8% success improvement over 54.4% blind\n",
      "love\n",
      "Number of mislabeled points out of a total 250 points : 92; 63.2% success improvement over 54.4% blind\n",
      "works great\n",
      "Number of mislabeled points out of a total 250 points : 88; 64.8% success improvement over 54.4% blind\n",
      "great phone\n",
      "Number of mislabeled points out of a total 250 points : 86; 65.6% success improvement over 54.4% blind\n",
      "great\n",
      "Number of mislabeled points out of a total 250 points : 114; 54.4% success improvement over 54.4% blind\n",
      "pretty\n",
      "Number of mislabeled points out of a total 250 points : 85; 66.0% success improvement over 54.4% blind\n",
      "reception\n",
      "Number of mislabeled points out of a total 250 points : 90; 64.0% success improvement over 54.4% blind\n",
      "easy\n",
      "Number of mislabeled points out of a total 250 points : 94; 62.4% success improvement over 54.4% blind\n",
      "fine\n",
      "Number of mislabeled points out of a total 250 points : 81; 67.6% success improvement over 54.4% blind\n",
      "like\n",
      "Number of mislabeled points out of a total 250 points : 107; 57.2% success improvement over 54.4% blind\n",
      "happy\n",
      "Number of mislabeled points out of a total 250 points : 108; 56.8% success improvement over 54.4% blind\n",
      "far\n",
      "Number of mislabeled points out of a total 250 points : 95; 62.0% success improvement over 54.4% blind\n"
     ]
    }
   ],
   "source": [
    "# one by one removing a word to see if it affects the success rate of the model:\n",
    "amz_df_train, pos_words = get_pos_words(X_train, y_train, [1, 0, 1, 0], train_pos=True)\n",
    "\n",
    "print(len(pos_words))\n",
    "for ik in range(len(pos_words)):\n",
    "    word = pos_words.pop(0)\n",
    "\n",
    "    df_test = produce_word_df(pos_words, X_test)\n",
    "    df_train = produce_word_df(pos_words, amz_df_train.text)\n",
    "    df_train['target'] = amz_df_train.target\n",
    "    df_train = df_train.dropna()\n",
    "    print(word)\n",
    "    run_model(pos_words, df_train, df_test, y_test, X_test)\n",
    "    \n",
    "    pos_words.append(word)"
   ]
  },
  {
   "cell_type": "code",
   "execution_count": 113,
   "metadata": {},
   "outputs": [
    {
     "name": "stdout",
     "output_type": "stream",
     "text": [
      "Number of mislabeled points out of a total 250 points : 80; 68.0% success improvement over 54.4% blind\n"
     ]
    }
   ],
   "source": [
    "# one by one removing a word to see if it affects the success rate of the model:\n",
    "amz_df_train, pos_words = get_pos_words(X_train, y_train, [1, 0, 1, 0], train_pos=True)\n",
    "pos_words.remove('great product')\n",
    "\n",
    "df_test = produce_word_df(pos_words, X_test)\n",
    "df_train = produce_word_df(pos_words, amz_df_train.text)\n",
    "df_train['target'] = amz_df_train.target\n",
    "df_train = df_train.dropna()\n",
    "run_model(pos_words, df_train, df_test, y_test, X_test)\n",
    "    "
   ]
  },
  {
   "cell_type": "code",
   "execution_count": 114,
   "metadata": {},
   "outputs": [
    {
     "name": "stdout",
     "output_type": "stream",
     "text": [
      "Number of mislabeled points out of a total 250 points : 76; 69.6% success improvement over 54.4% blind\n"
     ]
    }
   ],
   "source": [
    "# one by one removing a word to see if it affects the success rate of the model:\n",
    "amz_df_train, pos_words = get_pos_words(X_train, y_train, [1, 0, 1, 0], train_pos=True)\n",
    "pos_words.remove('better')\n",
    "\n",
    "df_test = produce_word_df(pos_words, X_test)\n",
    "df_train = produce_word_df(pos_words, amz_df_train.text)\n",
    "df_train['target'] = amz_df_train.target\n",
    "df_train = df_train.dropna()\n",
    "run_model(pos_words, df_train, df_test, y_test, X_test)\n",
    "    "
   ]
  },
  {
   "cell_type": "code",
   "execution_count": 115,
   "metadata": {},
   "outputs": [
    {
     "name": "stdout",
     "output_type": "stream",
     "text": [
      "Number of mislabeled points out of a total 250 points : 79; 68.4% success improvement over 54.4% blind\n"
     ]
    }
   ],
   "source": [
    "# one by one removing a word to see if it affects the success rate of the model:\n",
    "amz_df_train, pos_words = get_pos_words(X_train, y_train, [1, 0, 1, 0], train_pos=True)\n",
    "pos_words.remove('better')\n",
    "pos_words.remove('great product')\n",
    "\n",
    "df_test = produce_word_df(pos_words, X_test)\n",
    "df_train = produce_word_df(pos_words, amz_df_train.text)\n",
    "df_train['target'] = amz_df_train.target\n",
    "df_train = df_train.dropna()\n",
    "run_model(pos_words, df_train, df_test, y_test, X_test)\n",
    "    "
   ]
  },
  {
   "cell_type": "markdown",
   "metadata": {},
   "source": [
    "Interestingly, by removing [\"great product\"] or  [\"better\" and \"great product\"] we could improve the model performance by ~4% assuming tfidf positive words with tfidf negative words removed."
   ]
  }
 ],
 "metadata": {
  "kernelspec": {
   "display_name": "Python 3",
   "language": "python",
   "name": "python3"
  },
  "language_info": {
   "codemirror_mode": {
    "name": "ipython",
    "version": 3
   },
   "file_extension": ".py",
   "mimetype": "text/x-python",
   "name": "python",
   "nbconvert_exporter": "python",
   "pygments_lexer": "ipython3",
   "version": "3.6.5"
  }
 },
 "nbformat": 4,
 "nbformat_minor": 2
}
