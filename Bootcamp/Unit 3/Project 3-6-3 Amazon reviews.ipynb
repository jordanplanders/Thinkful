{
 "cells": [
  {
   "cell_type": "markdown",
   "metadata": {},
   "source": [
    "## Project 3-6-3 Amazon Reviews\n",
    "\n",
    "Use one of the following datasets to perform sentiment analysis on the given Amazon reviews. Pick one of the \"small\" datasets that is a reasonable size for your computer. The goal is to create a model to algorithmically predict if a review is positive or negative just based on its text. Try to see how these reviews compare across categories. Does a review classification model for one category work for another?\n",
    "\n",
    "http://jmcauley.ucsd.edu/data/amazon/"
   ]
  },
  {
   "cell_type": "code",
   "execution_count": 23,
   "metadata": {},
   "outputs": [],
   "source": [
    "import json\n",
    "import pandas as pd\n",
    "import numpy as np\n",
    "import sklearn\n",
    "import seaborn as sns\n",
    "import matplotlib.pyplot as plt\n",
    "%matplotlib inline\n",
    "from sklearn.model_selection import train_test_split, GridSearchCV\n",
    "from sklearn.feature_extraction.text import CountVectorizer, TfidfVectorizer\n",
    "\n",
    "from sklearn.svm import SVC"
   ]
  },
  {
   "cell_type": "code",
   "execution_count": 2,
   "metadata": {},
   "outputs": [],
   "source": [
    "jsonfile = 'reviews_Tools_and_Home_Improvement_5.json'\n",
    "\n",
    "# read the entire file into a python array\n",
    "with open(jsonfile, 'rb') as f:\n",
    "    data = f.readlines()\n",
    "\n",
    "# remove the trailing \"\\n\" from each line\n",
    "data = map(lambda x: x.decode(\"utf-8\").rstrip('\\n'), data)\n",
    "\n",
    "# each element of 'data' is an individual JSON object.\n",
    "# i want to convert it into an *array* of JSON objects\n",
    "# which, in and of itself, is one large JSON object\n",
    "# basically... add square brackets to the beginning\n",
    "# and end, and have all the individual business JSON objects\n",
    "# separated by a comma\n",
    "data_json_str = \"[\" + ','.join(data) + \"]\"\n",
    "\n",
    "# now, load it into pandas\n",
    "orig_data_df = pd.read_json(data_json_str)"
   ]
  },
  {
   "cell_type": "code",
   "execution_count": 3,
   "metadata": {},
   "outputs": [],
   "source": [
    "orig_data_df['text'] = orig_data_df[['reviewText', 'summary']].apply(lambda x: ''.join(x), axis=1)"
   ]
  },
  {
   "cell_type": "code",
   "execution_count": 4,
   "metadata": {},
   "outputs": [],
   "source": [
    "feature_text = 'summary'\n",
    "\n",
    "X = orig_data_df[[feature_text, 'overall']]# data_df.loc[:, ~data_df.columns.isin(['asin', 'summary', 'reviewText', 'reviewerID', 'reviewerName', 'unixReviewTime', 'reviewTime', 'unixReviewTime', 'overall', 'target'])]\n",
    "Y = orig_data_df['overall']\n"
   ]
  },
  {
   "cell_type": "code",
   "execution_count": 7,
   "metadata": {},
   "outputs": [],
   "source": [
    "X_train, X_test, y_train, y_test = train_test_split(X, Y,test_size=0.2 )"
   ]
  },
  {
   "cell_type": "code",
   "execution_count": 8,
   "metadata": {},
   "outputs": [],
   "source": [
    "#resample data so that the labels are better represented\n",
    "resample_perc = len(X_train[X_train.overall <4])/len(X_train[X_train.overall >=4])\n",
    "df_resampled = X_train[X_train.overall>=4].sample(frac=resample_perc, replace=False)"
   ]
  },
  {
   "cell_type": "code",
   "execution_count": 9,
   "metadata": {},
   "outputs": [
    {
     "data": {
      "text/plain": [
       "<matplotlib.axes._subplots.AxesSubplot at 0x109c6acc0>"
      ]
     },
     "execution_count": 9,
     "metadata": {},
     "output_type": "execute_result"
    },
    {
     "data": {
      "image/png": "[encoded data removed]",
      "text/plain": [
       "<matplotlib.figure.Figure at 0x109c401d0>"
      ]
     },
     "metadata": {},
     "output_type": "display_data"
    }
   ],
   "source": [
    "data_df = pd.concat([X_train[X_train.overall <4], df_resampled])\n",
    "data_df.overall.plot.hist()"
   ]
  },
  {
   "cell_type": "code",
   "execution_count": 10,
   "metadata": {},
   "outputs": [
    {
     "data": {
      "text/plain": [
       "0.5"
      ]
     },
     "execution_count": 10,
     "metadata": {},
     "output_type": "execute_result"
    },
    {
     "data": {
      "image/png": "[encoded data removed]",
      "text/plain": [
       "<matplotlib.figure.Figure at 0x1115877b8>"
      ]
     },
     "metadata": {},
     "output_type": "display_data"
    }
   ],
   "source": [
    "data_df['target'] = [1 if overall>=4 else 0 for overall in data_df.overall]\n",
    "\n",
    "# check to see if classes in the training set are reasonably well represented\n",
    "data_df['target'].plot.hist()\n",
    "sum(data_df['target'])/len(data_df['target'])"
   ]
  },
  {
   "cell_type": "code",
   "execution_count": 27,
   "metadata": {},
   "outputs": [
    {
     "data": {
      "text/plain": [
       "(33584, 33584)"
      ]
     },
     "execution_count": 27,
     "metadata": {},
     "output_type": "execute_result"
    }
   ],
   "source": [
    "len(X_train), len(y_train)"
   ]
  },
  {
   "cell_type": "code",
   "execution_count": 11,
   "metadata": {},
   "outputs": [],
   "source": [
    "X_train = data_df[feature_text]\n",
    "y_train = data_df['target']\n",
    "\n",
    "y_test = [1 if overall>=4 else 0 for overall in X_test.overall]\n",
    "X_test = X_test[feature_text]"
   ]
  },
  {
   "cell_type": "code",
   "execution_count": 12,
   "metadata": {},
   "outputs": [],
   "source": [
    "def get_wordcounts(text, vectorizer=None):\n",
    "    \"\"\"\n",
    "    Takes a string or list of strings and returns term frequencies for each word in\n",
    "    a vectorizer's vocabulary. If no vectorizer is passed, the vocabulary will be generated\n",
    "    from the input text's unigrams and bigrams.\n",
    "    \"\"\"\n",
    "    if vectorizer is None:\n",
    "        vectorizer = CountVectorizer(stop_words='english', min_df = 2, lowercase=True, ngram_range=(1,2))\n",
    "        vectorizer.fit(text)\n",
    "    term_counts = zip(vectorizer.get_feature_names(),\n",
    "        np.asarray(vectorizer.transform(text).sum(axis=0)).ravel())\n",
    "    return sorted(term_counts, key=lambda x: x[1], reverse=True)\n",
    "\n",
    "def get_tfidf_weights(text, vectorizer=None):\n",
    "    if vectorizer is None:\n",
    "        vectorizer = TfidfVectorizer(stop_words='english', min_df = 2, lowercase=True, ngram_range=(1,2))\n",
    "        vectorizer.fit(text)\n",
    "    tfidf_weights = zip(vectorizer.get_feature_names(),\n",
    "        np.asarray(vectorizer.transform(text).sum(axis=0)).ravel())\n",
    "    return sorted(tfidf_weights, key=lambda x: x[1], reverse=True)"
   ]
  },
  {
   "cell_type": "code",
   "execution_count": 13,
   "metadata": {},
   "outputs": [],
   "source": [
    "amz_df_train = pd.DataFrame({'feature_text': X_train, 'target':y_train})\n",
    "\n",
    "amz_df_pos = amz_df_train[(amz_df_train.target == 1)]\n",
    "amz_df_neg = amz_df_train[(amz_df_train.target == 0)]"
   ]
  },
  {
   "cell_type": "code",
   "execution_count": 14,
   "metadata": {},
   "outputs": [],
   "source": [
    "num_words = 60\n",
    "\n",
    "def get_tfidf(text):\n",
    "    tfidf_vec = TfidfVectorizer(stop_words='english', min_df = 2, lowercase=True, ngram_range=(1,2))\n",
    "    tfidf_vec.fit(text)\n",
    "\n",
    "    train_tfidf = get_tfidf_weights(text, tfidf_vec)[:num_words]\n",
    "    return train_tfidf\n",
    "\n",
    "def get_counts(text):\n",
    "    count_vec = CountVectorizer(stop_words='english', min_df = 2, lowercase=True, ngram_range=(1,2))\n",
    "    \n",
    "    count_vec.fit(text)\n",
    "    train_counts = get_wordcounts(text, count_vec)[:num_words]\n",
    "    return train_counts"
   ]
  },
  {
   "cell_type": "code",
   "execution_count": 15,
   "metadata": {},
   "outputs": [
    {
     "name": "stdout",
     "output_type": "stream",
     "text": [
      "60\n",
      "60\n",
      "63\n",
      "28\n"
     ]
    }
   ],
   "source": [
    "pos_words = [word_score[0] for word_score in get_tfidf(amz_df_pos['feature_text'])]\n",
    "print(len(pos_words))\n",
    "neg_words = [word_score[0] for word_score in get_tfidf(amz_df_neg['feature_text'])]\n",
    "print(len(neg_words))\n",
    "neg_words2 = [word_score[0] for word_score in get_counts(amz_df_neg['feature_text'])]\n",
    "neg_words = list(set(neg_words + neg_words2))\n",
    "print(len(neg_words))\n",
    "\n",
    "pos_words = [word for word in pos_words if word not in neg_words]   \n",
    "print(len(pos_words))"
   ]
  },
  {
   "cell_type": "code",
   "execution_count": 16,
   "metadata": {},
   "outputs": [],
   "source": [
    "generic = ['drill', 'saw', 'flashlight', 'target','solid']\n",
    "for word in generic:\n",
    "    if word in pos_words:\n",
    "        pos_words.remove(word)\n",
    "        \n",
    "d = {word:[] for word in pos_words}\n",
    "\n",
    "for word in d.keys():\n",
    "    d[word]= [1 if word in comment.lower() else 0 for comment in amz_df_train.feature_text]\n",
    "        \n",
    "df_train = pd.DataFrame(d)\n",
    "df_train['target'] = amz_df_train.target\n",
    "df_train = df_train.dropna()"
   ]
  },
  {
   "cell_type": "code",
   "execution_count": 17,
   "metadata": {},
   "outputs": [
    {
     "data": {
      "text/plain": [
       "<matplotlib.axes._subplots.AxesSubplot at 0x109d33c88>"
      ]
     },
     "execution_count": 17,
     "metadata": {},
     "output_type": "execute_result"
    },
    {
     "data": {
      "image/png": "[encoded data removed]",
      "text/plain": [
       "<matplotlib.figure.Figure at 0x109c7b6d8>"
      ]
     },
     "metadata": {},
     "output_type": "display_data"
    }
   ],
   "source": [
    "sns.heatmap(df_train.corr())"
   ]
  },
  {
   "cell_type": "code",
   "execution_count": 18,
   "metadata": {},
   "outputs": [],
   "source": [
    "d = {word:[] for word in pos_words}\n",
    "for word in d.keys():\n",
    "    d[word]= [1 if word in comment.lower() else 0 for comment in X_test]\n",
    "    \n",
    "df_test = pd.DataFrame(d)\n",
    "df_test['target'] = y_test"
   ]
  },
  {
   "cell_type": "markdown",
   "metadata": {},
   "source": [
    "## Naive Bayes"
   ]
  },
  {
   "cell_type": "code",
   "execution_count": 19,
   "metadata": {},
   "outputs": [
    {
     "name": "stdout",
     "output_type": "stream",
     "text": [
      "Number of mislabeled points out of a total 26896 points : 5983\n"
     ]
    }
   ],
   "source": [
    "from sklearn.naive_bayes import BernoulliNB\n",
    "\n",
    "bnb = BernoulliNB()\n",
    "bnb.fit(df_train[pos_words], df_train.target)\n",
    "\n",
    "y_pred = bnb.predict(df_test[pos_words])\n",
    "\n",
    "print(\"Number of mislabeled points out of a total {} points : {}\".format(\n",
    "    df_test[pos_words].shape[0],\n",
    "    (df_test.target != y_pred).sum()\n",
    "))"
   ]
  },
  {
   "cell_type": "code",
   "execution_count": 20,
   "metadata": {},
   "outputs": [
    {
     "data": {
      "text/plain": [
       "0.7775505651397977"
      ]
     },
     "execution_count": 20,
     "metadata": {},
     "output_type": "execute_result"
    }
   ],
   "source": [
    "bnb.score(df_test[pos_words], df_test.target)"
   ]
  },
  {
   "cell_type": "code",
   "execution_count": 21,
   "metadata": {},
   "outputs": [
    {
     "data": {
      "text/plain": [
       "0.92002528256989891"
      ]
     },
     "execution_count": 21,
     "metadata": {},
     "output_type": "execute_result"
    }
   ],
   "source": [
    "# check to see if model guessed one class for the whole test set\n",
    "sum(y_pred)/len(y_pred)"
   ]
  },
  {
   "cell_type": "markdown",
   "metadata": {},
   "source": [
    "## SVM-C"
   ]
  },
  {
   "cell_type": "code",
   "execution_count": 262,
   "metadata": {},
   "outputs": [
    {
     "name": "stderr",
     "output_type": "stream",
     "text": [
      "/usr/local/lib/python3.6/site-packages/sklearn/svm/base.py:196: FutureWarning: The default value of gamma will change from 'auto' to 'scale' in version 0.22 to account better for unscaled features. Set gamma explicitly to 'auto' or 'scale' to avoid this warning.\n",
      "  \"avoid this warning.\", FutureWarning)\n"
     ]
    },
    {
     "data": {
      "text/plain": [
       "GridSearchCV(cv=5, error_score='raise-deprecating',\n",
       "       estimator=SVC(C=1.0, cache_size=200, class_weight=None, coef0=0.0,\n",
       "  decision_function_shape='ovr', degree=3, gamma='auto_deprecated',\n",
       "  kernel='rbf', max_iter=-1, probability=False, random_state=None,\n",
       "  shrinking=True, tol=0.001, verbose=False),\n",
       "       fit_params=None, iid='warn', n_jobs=-1,\n",
       "       param_grid={'C': [0.8, 0.9, 1.0], 'kernel': ['linear', 'poly', 'rbf'], 'degree': [2, 3, 4], 'gamma': ['auto_deprecated'], 'coef0': [0.0, 0.2], 'shrinking': [False, True], 'probability': [False], 'tol': [0.001], 'cache_size': [200], 'verbose': [False], 'max_iter': [-1], 'decision_function_shape': ['ovr'], 'random_state': [3]},\n",
       "       pre_dispatch='2*n_jobs', refit=True, return_train_score='warn',\n",
       "       scoring=None, verbose=0)"
      ]
     },
     "execution_count": 262,
     "metadata": {},
     "output_type": "execute_result"
    }
   ],
   "source": [
    "params_svc = {'C':[.8, .9, 1.0], \n",
    "              'kernel':['linear', 'poly', 'rbf'], \n",
    "              'degree':[2,3,4], \n",
    "              'gamma':['auto_deprecated'], \n",
    "              'coef0':[0.0, .2], \n",
    "              'shrinking':[False, True], \n",
    "              'probability':[False], \n",
    "              'tol':[0.001], \n",
    "              'cache_size':[200],  \n",
    "              'verbose':[False], \n",
    "              'max_iter':[-1], \n",
    "              'decision_function_shape':['ovr'], \n",
    "              'random_state':[3]}\n",
    "\n",
    "svc = SVC()\n",
    "svm_gs = GridSearchCV(svc, params_svc, cv=5, n_jobs=-1)\n",
    "svm_gs.fit(df_train[pos_words], df_train.target)"
   ]
  },
  {
   "cell_type": "code",
   "execution_count": 263,
   "metadata": {},
   "outputs": [],
   "source": [
    "preds = svm_gs.predict(df_test[pos_words])"
   ]
  },
  {
   "cell_type": "code",
   "execution_count": 264,
   "metadata": {},
   "outputs": [
    {
     "data": {
      "text/plain": [
       "0.84436347412254609"
      ]
     },
     "execution_count": 264,
     "metadata": {},
     "output_type": "execute_result"
    }
   ],
   "source": [
    "svm_gs.score(df_test[pos_words], y_test)"
   ]
  },
  {
   "cell_type": "code",
   "execution_count": 242,
   "metadata": {},
   "outputs": [
    {
     "data": {
      "text/plain": [
       "0.9953896490184414"
      ]
     },
     "execution_count": 242,
     "metadata": {},
     "output_type": "execute_result"
    }
   ],
   "source": [
    "# check to see if model guessed one class for the whole test set\n",
    "sum(preds)/len(preds)"
   ]
  },
  {
   "cell_type": "code",
   "execution_count": 28,
   "metadata": {},
   "outputs": [
    {
     "name": "stderr",
     "output_type": "stream",
     "text": [
      "/usr/local/lib/python3.6/site-packages/sklearn/svm/base.py:196: FutureWarning: The default value of gamma will change from 'auto' to 'scale' in version 0.22 to account better for unscaled features. Set gamma explicitly to 'auto' or 'scale' to avoid this warning.\n",
      "  \"avoid this warning.\", FutureWarning)\n"
     ]
    },
    {
     "data": {
      "text/plain": [
       "SVC(C=1.0, cache_size=200, class_weight=None, coef0=0.0,\n",
       "  decision_function_shape='ovr', degree=3, gamma='auto_deprecated',\n",
       "  kernel='rbf', max_iter=-1, probability=False, random_state=None,\n",
       "  shrinking=True, tol=0.001, verbose=False)"
      ]
     },
     "execution_count": 28,
     "metadata": {},
     "output_type": "execute_result"
    }
   ],
   "source": [
    "svc = SVC(C=1.0, cache_size=200, class_weight=None, coef0=0.0,\n",
    "  decision_function_shape='ovr', degree=3, gamma='auto_deprecated',\n",
    "  kernel='rbf', max_iter=-1, probability=False, random_state=None,\n",
    "  shrinking=True, tol=0.001, verbose=False)\n",
    "svc.fit(df_train[pos_words], df_train.target)"
   ]
  },
  {
   "cell_type": "code",
   "execution_count": 29,
   "metadata": {},
   "outputs": [
    {
     "name": "stdout",
     "output_type": "stream",
     "text": [
      "Training set accuracy:\n",
      "Percent Type I errors: 0.4936216741586684\n",
      "Percent Type II errors: 0.0010934272870854087\n",
      "\n",
      "Test set accuracy:\n",
      "Percent Type I errors: 0.1515466983938132\n",
      "Percent Type II errors: 0.004387269482450922\n"
     ]
    }
   ],
   "source": [
    "predict_train = svc.predict(df_train[pos_words])\n",
    "predict_test = svc.predict(df_test[pos_words])\n",
    "\n",
    "# Accuracy tables.\n",
    "table_train = pd.crosstab(df_train.target, predict_train, margins=True)\n",
    "table_test = pd.crosstab(df_test.target, predict_test, margins=True)\n",
    "\n",
    "train_tI_errors = table_train.loc[0.0,1.0] / table_train.loc['All','All']\n",
    "train_tII_errors = table_train.loc[1.0,0.0] / table_train.loc['All','All']\n",
    "\n",
    "test_tI_errors = table_test.loc[0.0,1.0]/table_test.loc['All','All']\n",
    "test_tII_errors = table_test.loc[1.0,0.0]/table_test.loc['All','All']\n",
    "\n",
    "print((\n",
    "    'Training set accuracy:\\n'\n",
    "    'Percent Type I errors: {}\\n'\n",
    "    'Percent Type II errors: {}\\n\\n'\n",
    "    'Test set accuracy:\\n'\n",
    "    'Percent Type I errors: {}\\n'\n",
    "    'Percent Type II errors: {}'\n",
    ").format(train_tI_errors, train_tII_errors, test_tI_errors, test_tII_errors))\n",
    "\n"
   ]
  },
  {
   "cell_type": "code",
   "execution_count": 30,
   "metadata": {},
   "outputs": [
    {
     "data": {
      "text/plain": [
       "0.84406603212373588"
      ]
     },
     "execution_count": 30,
     "metadata": {},
     "output_type": "execute_result"
    }
   ],
   "source": [
    "svc.score(df_test[pos_words], y_test)"
   ]
  },
  {
   "cell_type": "code",
   "execution_count": null,
   "metadata": {},
   "outputs": [],
   "source": []
  },
  {
   "cell_type": "code",
   "execution_count": 31,
   "metadata": {},
   "outputs": [],
   "source": [
    "jsonfile = 'reviews_Home_and_Kitchen_5.json'\n",
    "\n",
    "import pandas as pd\n",
    "\n",
    "# read the entire file into a python array\n",
    "with open(jsonfile, 'rb') as f:\n",
    "    data = f.readlines()\n",
    "\n",
    "# remove the trailing \"\\n\" from each line\n",
    "data = map(lambda x: x.decode(\"utf-8\").rstrip('\\n'), data)\n",
    "\n",
    "data_json_str = \"[\" + ','.join(data) + \"]\"\n",
    "\n",
    "# now, load it into pandas\n",
    "test_data_df = pd.read_json(data_json_str)\n",
    "\n",
    "\n",
    "feature_text = 'summary'\n",
    "\n",
    "X2 = test_data_df[feature_text]# data_df.loc[:, ~data_df.columns.isin(['asin', 'summary', 'reviewText', 'reviewerID', 'reviewerName', 'unixReviewTime', 'reviewTime', 'unixReviewTime', 'overall', 'target'])]\n",
    "Y2 = [1 if overall>=4 else 0 for overall in test_data_df.overall]\n",
    "\n",
    "d2 = {word:[] for word in pos_words}\n",
    "for word in d2.keys():\n",
    "    d2[word]= [1 if word in comment.lower() else 0 for comment in X2]\n",
    "    \n",
    "X_test2 = pd.DataFrame(d2)\n",
    "y_test2 = Y2"
   ]
  },
  {
   "cell_type": "code",
   "execution_count": 33,
   "metadata": {},
   "outputs": [
    {
     "data": {
      "text/plain": [
       "0.82227805148618227"
      ]
     },
     "execution_count": 33,
     "metadata": {},
     "output_type": "execute_result"
    }
   ],
   "source": [
    "svc.score(X_test2[pos_words], y_test2)"
   ]
  },
  {
   "cell_type": "code",
   "execution_count": 34,
   "metadata": {},
   "outputs": [
    {
     "data": {
      "text/plain": [
       "0.7676723184733234"
      ]
     },
     "execution_count": 34,
     "metadata": {},
     "output_type": "execute_result"
    }
   ],
   "source": [
    "bnb.score(X_test2[pos_words], y_test2)"
   ]
  },
  {
   "cell_type": "code",
   "execution_count": null,
   "metadata": {},
   "outputs": [],
   "source": []
  }
 ],
 "metadata": {
  "kernelspec": {
   "display_name": "please_work3",
   "language": "python",
   "name": "please_work3"
  }
 },
 "nbformat": 4,
 "nbformat_minor": 2
}
