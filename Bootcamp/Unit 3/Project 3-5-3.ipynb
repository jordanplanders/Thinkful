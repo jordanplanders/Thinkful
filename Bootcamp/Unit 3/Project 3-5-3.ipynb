{
 "cells": [
  {
   "cell_type": "code",
   "execution_count": 1,
   "metadata": {
    "run_control": {
     "frozen": false,
     "read_only": false
    }
   },
   "outputs": [],
   "source": [
    "import pandas as pd\n",
    "import numpy as np\n",
    "import scipy\n",
    "import matplotlib.pyplot as plt\n",
    "%matplotlib inline\n",
    "\n",
    "from sklearn import ensemble\n",
    "from sklearn import datasets\n",
    "from sklearn.utils import shuffle\n",
    "from sklearn.metrics import mean_squared_error"
   ]
  },
  {
   "cell_type": "markdown",
   "metadata": {},
   "source": [
    "### Gradient boost guided example\n",
    "\n",
    "Having walked through gradient boost by hand, now let's try it with SKlearn.  We'll still use the European Social Survey Data, but now with a categorical outcome: Whether or not someone lives with a partner."
   ]
  },
  {
   "cell_type": "code",
   "execution_count": 2,
   "metadata": {},
   "outputs": [],
   "source": [
    "df = pd.read_csv((\n",
    "    \"https://raw.githubusercontent.com/Thinkful-Ed/data-201-resources/\"\n",
    "    \"master/ESS_practice_data/ESSdata_Thinkful.csv\")).dropna()\n",
    "\n",
    "# Definine outcome and predictors.\n",
    "# Set our outcome to 0 and 1.\n",
    "y = df['partner'] - 1\n",
    "X = df.loc[:, ~df.columns.isin(['partner', 'cntry', 'idno'])]\n",
    "\n",
    "# Make the categorical variable 'country' into dummies.\n",
    "X = pd.concat([X, pd.get_dummies(df['cntry'])], axis=1)\n",
    "\n",
    "# Create training and test sets.\n",
    "offset = int(X.shape[0] * 0.9)\n",
    "\n",
    "# Put 90% of the data in the training set.\n",
    "X_train, y_train = X[:offset], y[:offset]\n",
    "\n",
    "# And put 10% in the test set.\n",
    "X_test, y_test = X[offset:], y[offset:]"
   ]
  },
  {
   "cell_type": "code",
   "execution_count": 69,
   "metadata": {},
   "outputs": [],
   "source": [
    "df.index = list(range(len(df2.happy)))"
   ]
  },
  {
   "cell_type": "markdown",
   "metadata": {},
   "source": [
    "Since we're now working with a binary outcome, we've switched to a classifier.  Now our loss function can't be the residuals.  Our options are \"deviance\", or \"exponential\".  Deviance is used for logistic regression, and we'll try that here."
   ]
  },
  {
   "cell_type": "code",
   "execution_count": 3,
   "metadata": {},
   "outputs": [
    {
     "name": "stdout",
     "output_type": "stream",
     "text": [
      "Training set accuracy:\n",
      "Percent Type I errors: 0.04650845608292417\n",
      "Percent Type II errors: 0.17607746863066012\n",
      "\n",
      "Test set accuracy:\n",
      "Percent Type I errors: 0.06257668711656442\n",
      "Percent Type II errors: 0.18527607361963191\n"
     ]
    }
   ],
   "source": [
    "# We'll make 500 iterations, use 2-deep trees, and set our loss function.\n",
    "params = {'n_estimators': 500,\n",
    "          'max_depth': 2,\n",
    "          'loss': 'deviance'}\n",
    "\n",
    "# Initialize and fit the model.\n",
    "clf = ensemble.GradientBoostingClassifier(**params)\n",
    "clf.fit(X_train, y_train)\n",
    "\n",
    "predict_train = clf.predict(X_train)\n",
    "predict_test = clf.predict(X_test)\n",
    "\n",
    "# Accuracy tables.\n",
    "table_train = pd.crosstab(y_train, predict_train, margins=True)\n",
    "table_test = pd.crosstab(y_test, predict_test, margins=True)\n",
    "\n",
    "train_tI_errors = table_train.loc[0.0,1.0] / table_train.loc['All','All']\n",
    "train_tII_errors = table_train.loc[1.0,0.0] / table_train.loc['All','All']\n",
    "\n",
    "test_tI_errors = table_test.loc[0.0,1.0]/table_test.loc['All','All']\n",
    "test_tII_errors = table_test.loc[1.0,0.0]/table_test.loc['All','All']\n",
    "\n",
    "print((\n",
    "    'Training set accuracy:\\n'\n",
    "    'Percent Type I errors: {}\\n'\n",
    "    'Percent Type II errors: {}\\n\\n'\n",
    "    'Test set accuracy:\\n'\n",
    "    'Percent Type I errors: {}\\n'\n",
    "    'Percent Type II errors: {}'\n",
    ").format(train_tI_errors, train_tII_errors, test_tI_errors, test_tII_errors))\n"
   ]
  },
  {
   "cell_type": "markdown",
   "metadata": {},
   "source": [
    "Unlike decision trees, gradient boost solutions are not terribly easy to interpret on the surface.  But they aren't quite a black box.  We can get a measure of how important various features are by counting how many times a feature is used over the course of many decision trees."
   ]
  },
  {
   "cell_type": "code",
   "execution_count": 4,
   "metadata": {},
   "outputs": [
    {
     "data": {
      "image/png": "[encoded data removed]",
      "text/plain": [
       "<matplotlib.figure.Figure at 0x5cac390>"
      ]
     },
     "metadata": {},
     "output_type": "display_data"
    }
   ],
   "source": [
    "feature_importance = clf.feature_importances_\n",
    "\n",
    "# Make importances relative to max importance.\n",
    "feature_importance = 100.0 * (feature_importance / feature_importance.max())\n",
    "sorted_idx = np.argsort(feature_importance)\n",
    "pos = np.arange(sorted_idx.shape[0]) + .5\n",
    "plt.subplot(1, 2, 2)\n",
    "plt.barh(pos, feature_importance[sorted_idx], align='center')\n",
    "plt.yticks(pos, X.columns[sorted_idx])\n",
    "plt.xlabel('Relative Importance')\n",
    "plt.title('Variable Importance')\n",
    "plt.show()"
   ]
  },
  {
   "cell_type": "markdown",
   "metadata": {},
   "source": [
    "It appears that age and happiness are the most important features in predicting whether or not someone lives with a partner."
   ]
  },
  {
   "cell_type": "markdown",
   "metadata": {
    "collapsed": true
   },
   "source": [
    "### DRILL: Improve this gradient boost model\n",
    "\n",
    "While this model is already doing alright, we've seen from the Type I and Type II error rates that there is definitely room for improvement.  Your task is to see how low you can get the error rates to go in the test set, based on your model in the training set.  Strategies you might use include:\n",
    "\n",
    "* Creating new features\n",
    "* Applying more overfitting-prevention strategies like subsampling\n",
    "* More iterations\n",
    "* Trying a different loss function\n",
    "* Changing the structure of the weak learner: Allowing more leaves in the tree, or other modifications\n",
    "\n",
    "Have fun!"
   ]
  },
  {
   "cell_type": "code",
   "execution_count": 51,
   "metadata": {},
   "outputs": [],
   "source": [
    "from sklearn.model_selection import train_test_split, GridSearchCV\n",
    "\n",
    "df2 = pd.concat([df, pd.get_dummies(df['cntry'])], axis=1)\n",
    "df2['scandenavian'] = [1 if ctry in ['SE', 'DE', 'NO'] else 0 for ctry in df2['cntry']]\n",
    "df2['gndr'] = df2['gndr']-1"
   ]
  },
  {
   "cell_type": "code",
   "execution_count": 139,
   "metadata": {},
   "outputs": [
    {
     "data": {
      "text/plain": [
       "<matplotlib.axes._subplots.AxesSubplot at 0x1995330>"
      ]
     },
     "execution_count": 139,
     "metadata": {},
     "output_type": "execute_result"
    },
    {
     "data": {
      "image/png": "[encoded data removed]",
      "text/plain": [
       "<matplotlib.figure.Figure at 0x132596f0>"
      ]
     },
     "metadata": {},
     "output_type": "display_data"
    }
   ],
   "source": [
    "df2.agea.plot.hist()"
   ]
  },
  {
   "cell_type": "code",
   "execution_count": 132,
   "metadata": {},
   "outputs": [],
   "source": [
    "df2['sad_tv'] = [1 if ((df2['happy'][ind]<=6) & (df2['tvtot'][ind]>=3)) else 0 for ind in range(len(df2['happy']))]\n",
    "df2['happy_older_man'] = [1 if ((df2['happy'][ind]>=6) & (df2['gndr'][ind]==1) & (df2['agea'][ind]>60)) else 0 for ind in range(len(df2['happy']))]\n",
    "df2['happy_older_woman'] = [1 if ((df2['happy'][ind]>=6) & (df2['gndr'][ind]==0) & (df2['agea'][ind]>60)) else 0 for ind in range(len(df2['happy']))]\n",
    "df2['happy_older'] = [1 if ((df2['happy'][ind]>=6) & (df2['agea'][ind]>60)) else 0 for ind in range(len(df2['happy']))]\n",
    "df2['happy_young_man'] = [1 if ((df2['happy'][ind]>=6) & (df2['gndr'][ind]==1) & (df2['agea'][ind]<30)) else 0 for ind in range(len(df2['happy']))]\n",
    "df2['happy_young_woman'] = [1 if ((df2['happy'][ind]>=6) & (df2['gndr'][ind]==0) & (df2['agea'][ind]<30)) else 0 for ind in range(len(df2['happy']))]\n",
    "df2['older_man'] = [1 if ((df2['gndr'][ind]==1) & (df2['agea'][ind]>60)) else 0 for ind in range(len(df2['happy']))]\n",
    "df2['older_woman'] = [1 if ((df2['gndr'][ind]==0) & (df2['agea'][ind]>60)) else 0 for ind in range(len(df2['happy']))]\n",
    "df2['young_woman'] = [1 if ((df2['gndr'][ind]==0) & (df2['agea'][ind]<30)) else 0 for ind in range(len(df2['happy']))]\n",
    "df2['young_man'] = [1 if ((df2['gndr'][ind]==1) & (df2['agea'][ind]<30)) else 0 for ind in range(len(df2['happy']))]\n",
    "df2['hapy_trst'] = df2['happy']*df2['ppltrst']\n",
    "df2['trst_fair'] = df2['ppltrst']*df2['pplfair']"
   ]
  },
  {
   "cell_type": "code",
   "execution_count": 133,
   "metadata": {},
   "outputs": [],
   "source": [
    "X = df2.loc[:, ~df2.columns.isin(['SE', 'DE', 'NO', 'cntry', 'idno', 'partner'])]\n",
    "Y = df2['partner']-1"
   ]
  },
  {
   "cell_type": "code",
   "execution_count": 134,
   "metadata": {},
   "outputs": [],
   "source": [
    "X_train, X_test, y_train, y_test = train_test_split(X, Y, random_state=3)"
   ]
  },
  {
   "cell_type": "code",
   "execution_count": 135,
   "metadata": {},
   "outputs": [
    {
     "data": {
      "text/plain": [
       "StandardScaler(copy=True, with_mean=True, with_std=True)"
      ]
     },
     "execution_count": 135,
     "metadata": {},
     "output_type": "execute_result"
    }
   ],
   "source": [
    "from sklearn.preprocessing import StandardScaler\n",
    "scaler = StandardScaler()\n",
    "\n",
    "scaler.fit(X_train)"
   ]
  },
  {
   "cell_type": "code",
   "execution_count": 136,
   "metadata": {},
   "outputs": [
    {
     "data": {
      "text/plain": [
       "GradientBoostingClassifier(criterion='friedman_mse', init=None,\n",
       "              learning_rate=0.1, loss='deviance', max_depth=2,\n",
       "              max_features=None, max_leaf_nodes=None,\n",
       "              min_impurity_decrease=0.0, min_impurity_split=None,\n",
       "              min_samples_leaf=1, min_samples_split=2,\n",
       "              min_weight_fraction_leaf=0, n_estimators=400, presort='auto',\n",
       "              random_state=None, subsample=0.9, verbose=0,\n",
       "              warm_start=False)"
      ]
     },
     "execution_count": 136,
     "metadata": {},
     "output_type": "execute_result"
    }
   ],
   "source": [
    "# We'll make 500 iterations, use 2-deep trees, and set our loss function.\n",
    "params = {'n_estimators': 400,\n",
    "          'max_depth': 2,\n",
    "          'min_weight_fraction_leaf': 0,\n",
    "          'loss': 'deviance',\n",
    "          'subsample': .9}\n",
    "\n",
    "#parameters = {'kernel':('linear', 'rbf'), 'C':[1, 10]}\n",
    "#>>> svc = svm.SVC(gamma=\"scale\")\n",
    "#>>> clf = GridSearchCV(svc, parameters, cv=5)\n",
    "#>>> clf.fit(iris.data, iris.target)\n",
    "#\n",
    "# GradientBoostingClassifier(loss=’deviance’, learning_rate=0.1, n_estimators=100, subsample=1.0, \n",
    "# criterion=’friedman_mse’, min_samples_split=2, min_samples_leaf=1, min_weight_fraction_leaf=0.0, \n",
    "# max_depth=3, min_impurity_decrease=0.0, min_impurity_split=None, init=None, random_state=None, \n",
    "# max_features=None, verbose=0, max_leaf_nodes=None, warm_start=False, presort=’auto’, validation_fraction=0.1, \n",
    "# n_iter_no_change=None, tol=0.0001)\n",
    "\n",
    "# Initialize and fit the model.\n",
    "clf2 = ensemble.GradientBoostingClassifier(**params)\n",
    "\n",
    "clf2.fit(scaler.transform(X_train), y_train)\n"
   ]
  },
  {
   "cell_type": "code",
   "execution_count": 137,
   "metadata": {},
   "outputs": [
    {
     "name": "stdout",
     "output_type": "stream",
     "text": [
      "Training set accuracy:\n",
      "Percent Type I errors: 0.044844517184942714\n",
      "Percent Type II errors: 0.17054009819967267\n",
      "\n",
      "Test set accuracy:\n",
      "Percent Type I errors: 0.058419243986254296\n",
      "Percent Type II errors: 0.19293078055964655\n"
     ]
    }
   ],
   "source": [
    "predict_train = clf2.predict(scaler.transform(X_train))\n",
    "predict_test = clf2.predict(scaler.transform(X_test))\n",
    "\n",
    "# Accuracy tables.\n",
    "table_train = pd.crosstab(y_train, predict_train, margins=True)\n",
    "table_test = pd.crosstab(y_test, predict_test, margins=True)\n",
    "\n",
    "train_tI_errors = table_train.loc[0.0,1.0] / table_train.loc['All','All']\n",
    "train_tII_errors = table_train.loc[1.0,0.0] / table_train.loc['All','All']\n",
    "\n",
    "test_tI_errors = table_test.loc[0.0,1.0]/table_test.loc['All','All']\n",
    "test_tII_errors = table_test.loc[1.0,0.0]/table_test.loc['All','All']\n",
    "\n",
    "print((\n",
    "    'Training set accuracy:\\n'\n",
    "    'Percent Type I errors: {}\\n'\n",
    "    'Percent Type II errors: {}\\n\\n'\n",
    "    'Test set accuracy:\\n'\n",
    "    'Percent Type I errors: {}\\n'\n",
    "    'Percent Type II errors: {}'\n",
    ").format(train_tI_errors, train_tII_errors, test_tI_errors, test_tII_errors))\n"
   ]
  },
  {
   "cell_type": "code",
   "execution_count": 138,
   "metadata": {},
   "outputs": [
    {
     "data": {
      "image/png": "[encoded data removed]",
      "text/plain": [
       "<matplotlib.figure.Figure at 0x19951b0>"
      ]
     },
     "metadata": {},
     "output_type": "display_data"
    }
   ],
   "source": [
    "feature_importance = clf2.feature_importances_\n",
    "\n",
    "# Make importances relative to max importance.\n",
    "feature_importance = 100.0 * (feature_importance / feature_importance.max())\n",
    "sorted_idx = np.argsort(feature_importance)\n",
    "pos = np.arange(sorted_idx.shape[0]) + .5\n",
    "plt.subplot(1, 2, 2)\n",
    "plt.barh(pos, feature_importance[sorted_idx], align='center')\n",
    "plt.yticks(pos, X.columns[sorted_idx])\n",
    "plt.xlabel('Relative Importance')\n",
    "plt.title('Variable Importance')\n",
    "plt.show()"
   ]
  },
  {
   "cell_type": "markdown",
   "metadata": {},
   "source": [
    " ## Run Parameter grid search to find optimal parameter set"
   ]
  },
  {
   "cell_type": "code",
   "execution_count": 38,
   "metadata": {},
   "outputs": [
    {
     "data": {
      "text/plain": [
       "GridSearchCV(cv=5, error_score='raise',\n",
       "       estimator=GradientBoostingClassifier(criterion='friedman_mse', init=None,\n",
       "              learning_rate=0.1, loss=['deviance', 'exponential'],\n",
       "              max_depth=[2, 3], max_features=None, max_leaf_nodes=None,\n",
       "              min_impurity_decrease=0.0, min_impurity_split=None,\n",
       "              min_sam...              random_state=None, subsample=[0.8, 0.9, 1], verbose=0,\n",
       "              warm_start=False),\n",
       "       fit_params=None, iid=True, n_jobs=1,\n",
       "       param_grid={'n_estimators': [400, 500, 600], 'max_depth': [2, 3], 'min_weight_fraction_leaf': [0, 0.1, 0.2, 0.5], 'loss': ['deviance', 'exponential'], 'subsample': [0.8, 0.9, 1]},\n",
       "       pre_dispatch='2*n_jobs', refit=True, return_train_score='warn',\n",
       "       scoring=None, verbose=0)"
      ]
     },
     "execution_count": 38,
     "metadata": {},
     "output_type": "execute_result"
    }
   ],
   "source": [
    "# We'll make 500 iterations, use 2-deep trees, and set our loss function.\n",
    "params = {'n_estimators': list(range(400,700,100)),\n",
    "          'max_depth': [2,3],\n",
    "          'min_weight_fraction_leaf': [0,.1,.2,.5],\n",
    "          'loss': ['deviance','exponential'],\n",
    "          'subsample': [.8, .9,1]}\n",
    "\n",
    "#parameters = {'kernel':('linear', 'rbf'), 'C':[1, 10]}\n",
    "#>>> svc = svm.SVC(gamma=\"scale\")\n",
    "#>>> clf = GridSearchCV(svc, parameters, cv=5)\n",
    "#>>> clf.fit(iris.data, iris.target)\n",
    "#\n",
    "# GradientBoostingClassifier(loss=’deviance’, learning_rate=0.1, n_estimators=100, subsample=1.0, \n",
    "# criterion=’friedman_mse’, min_samples_split=2, min_samples_leaf=1, min_weight_fraction_leaf=0.0, \n",
    "# max_depth=3, min_impurity_decrease=0.0, min_impurity_split=None, init=None, random_state=None, \n",
    "# max_features=None, verbose=0, max_leaf_nodes=None, warm_start=False, presort=’auto’, validation_fraction=0.1, \n",
    "# n_iter_no_change=None, tol=0.0001)\n",
    "\n",
    "# Initialize and fit the model.\n",
    "clf2 = ensemble.GradientBoostingClassifier(**params)\n",
    "clf = GridSearchCV(clf2, params, cv=5)\n",
    "\n",
    "clf.fit(X_train, y_train)\n"
   ]
  },
  {
   "cell_type": "code",
   "execution_count": 40,
   "metadata": {
    "scrolled": true
   },
   "outputs": [
    {
     "name": "stdout",
     "output_type": "stream",
     "text": [
      "Best parameters set found on development set:\n",
      "\n",
      "GradientBoostingClassifier(criterion='friedman_mse', init=None,\n",
      "              learning_rate=0.1, loss='exponential', max_depth=2,\n",
      "              max_features=None, max_leaf_nodes=None,\n",
      "              min_impurity_decrease=0.0, min_impurity_split=None,\n",
      "              min_samples_leaf=1, min_samples_split=2,\n",
      "              min_weight_fraction_leaf=0, n_estimators=400, presort='auto',\n",
      "              random_state=None, subsample=0.8, verbose=0,\n",
      "              warm_start=False)\n",
      "\n",
      "Grid scores on development set:\n",
      "\n",
      "0.757 (+/-0.005) for {'loss': 'deviance', 'max_depth': 2, 'min_weight_fraction_leaf': 0, 'n_estimators': 400, 'subsample': 0.8}\n",
      "0.757 (+/-0.004) for {'loss': 'deviance', 'max_depth': 2, 'min_weight_fraction_leaf': 0, 'n_estimators': 400, 'subsample': 0.9}\n",
      "0.755 (+/-0.005) for {'loss': 'deviance', 'max_depth': 2, 'min_weight_fraction_leaf': 0, 'n_estimators': 400, 'subsample': 1}\n",
      "0.753 (+/-0.005) for {'loss': 'deviance', 'max_depth': 2, 'min_weight_fraction_leaf': 0, 'n_estimators': 500, 'subsample': 0.8}\n",
      "0.758 (+/-0.005) for {'loss': 'deviance', 'max_depth': 2, 'min_weight_fraction_leaf': 0, 'n_estimators': 500, 'subsample': 0.9}\n",
      "0.754 (+/-0.004) for {'loss': 'deviance', 'max_depth': 2, 'min_weight_fraction_leaf': 0, 'n_estimators': 500, 'subsample': 1}\n",
      "0.755 (+/-0.004) for {'loss': 'deviance', 'max_depth': 2, 'min_weight_fraction_leaf': 0, 'n_estimators': 600, 'subsample': 0.8}\n",
      "0.754 (+/-0.004) for {'loss': 'deviance', 'max_depth': 2, 'min_weight_fraction_leaf': 0, 'n_estimators': 600, 'subsample': 0.9}\n",
      "0.754 (+/-0.005) for {'loss': 'deviance', 'max_depth': 2, 'min_weight_fraction_leaf': 0, 'n_estimators': 600, 'subsample': 1}\n",
      "0.756 (+/-0.006) for {'loss': 'deviance', 'max_depth': 2, 'min_weight_fraction_leaf': 0.1, 'n_estimators': 400, 'subsample': 0.8}\n",
      "0.753 (+/-0.006) for {'loss': 'deviance', 'max_depth': 2, 'min_weight_fraction_leaf': 0.1, 'n_estimators': 400, 'subsample': 0.9}\n",
      "0.751 (+/-0.006) for {'loss': 'deviance', 'max_depth': 2, 'min_weight_fraction_leaf': 0.1, 'n_estimators': 400, 'subsample': 1}\n",
      "0.755 (+/-0.005) for {'loss': 'deviance', 'max_depth': 2, 'min_weight_fraction_leaf': 0.1, 'n_estimators': 500, 'subsample': 0.8}\n",
      "0.755 (+/-0.004) for {'loss': 'deviance', 'max_depth': 2, 'min_weight_fraction_leaf': 0.1, 'n_estimators': 500, 'subsample': 0.9}\n",
      "0.753 (+/-0.006) for {'loss': 'deviance', 'max_depth': 2, 'min_weight_fraction_leaf': 0.1, 'n_estimators': 500, 'subsample': 1}\n",
      "0.755 (+/-0.005) for {'loss': 'deviance', 'max_depth': 2, 'min_weight_fraction_leaf': 0.1, 'n_estimators': 600, 'subsample': 0.8}\n",
      "0.754 (+/-0.003) for {'loss': 'deviance', 'max_depth': 2, 'min_weight_fraction_leaf': 0.1, 'n_estimators': 600, 'subsample': 0.9}\n",
      "0.754 (+/-0.006) for {'loss': 'deviance', 'max_depth': 2, 'min_weight_fraction_leaf': 0.1, 'n_estimators': 600, 'subsample': 1}\n",
      "0.738 (+/-0.005) for {'loss': 'deviance', 'max_depth': 2, 'min_weight_fraction_leaf': 0.2, 'n_estimators': 400, 'subsample': 0.8}\n",
      "0.737 (+/-0.005) for {'loss': 'deviance', 'max_depth': 2, 'min_weight_fraction_leaf': 0.2, 'n_estimators': 400, 'subsample': 0.9}\n",
      "0.739 (+/-0.004) for {'loss': 'deviance', 'max_depth': 2, 'min_weight_fraction_leaf': 0.2, 'n_estimators': 400, 'subsample': 1}\n",
      "0.739 (+/-0.004) for {'loss': 'deviance', 'max_depth': 2, 'min_weight_fraction_leaf': 0.2, 'n_estimators': 500, 'subsample': 0.8}\n",
      "0.736 (+/-0.003) for {'loss': 'deviance', 'max_depth': 2, 'min_weight_fraction_leaf': 0.2, 'n_estimators': 500, 'subsample': 0.9}\n",
      "0.739 (+/-0.004) for {'loss': 'deviance', 'max_depth': 2, 'min_weight_fraction_leaf': 0.2, 'n_estimators': 500, 'subsample': 1}\n",
      "0.734 (+/-0.006) for {'loss': 'deviance', 'max_depth': 2, 'min_weight_fraction_leaf': 0.2, 'n_estimators': 600, 'subsample': 0.8}\n",
      "0.736 (+/-0.004) for {'loss': 'deviance', 'max_depth': 2, 'min_weight_fraction_leaf': 0.2, 'n_estimators': 600, 'subsample': 0.9}\n",
      "0.738 (+/-0.004) for {'loss': 'deviance', 'max_depth': 2, 'min_weight_fraction_leaf': 0.2, 'n_estimators': 600, 'subsample': 1}\n",
      "0.619 (+/-0.000) for {'loss': 'deviance', 'max_depth': 2, 'min_weight_fraction_leaf': 0.5, 'n_estimators': 400, 'subsample': 0.8}\n",
      "0.619 (+/-0.000) for {'loss': 'deviance', 'max_depth': 2, 'min_weight_fraction_leaf': 0.5, 'n_estimators': 400, 'subsample': 0.9}\n",
      "0.619 (+/-0.000) for {'loss': 'deviance', 'max_depth': 2, 'min_weight_fraction_leaf': 0.5, 'n_estimators': 400, 'subsample': 1}\n",
      "0.619 (+/-0.000) for {'loss': 'deviance', 'max_depth': 2, 'min_weight_fraction_leaf': 0.5, 'n_estimators': 500, 'subsample': 0.8}\n",
      "0.619 (+/-0.000) for {'loss': 'deviance', 'max_depth': 2, 'min_weight_fraction_leaf': 0.5, 'n_estimators': 500, 'subsample': 0.9}\n",
      "0.619 (+/-0.000) for {'loss': 'deviance', 'max_depth': 2, 'min_weight_fraction_leaf': 0.5, 'n_estimators': 500, 'subsample': 1}\n",
      "0.619 (+/-0.000) for {'loss': 'deviance', 'max_depth': 2, 'min_weight_fraction_leaf': 0.5, 'n_estimators': 600, 'subsample': 0.8}\n",
      "0.619 (+/-0.000) for {'loss': 'deviance', 'max_depth': 2, 'min_weight_fraction_leaf': 0.5, 'n_estimators': 600, 'subsample': 0.9}\n",
      "0.619 (+/-0.000) for {'loss': 'deviance', 'max_depth': 2, 'min_weight_fraction_leaf': 0.5, 'n_estimators': 600, 'subsample': 1}\n",
      "0.749 (+/-0.005) for {'loss': 'deviance', 'max_depth': 3, 'min_weight_fraction_leaf': 0, 'n_estimators': 400, 'subsample': 0.8}\n",
      "0.749 (+/-0.004) for {'loss': 'deviance', 'max_depth': 3, 'min_weight_fraction_leaf': 0, 'n_estimators': 400, 'subsample': 0.9}\n",
      "0.754 (+/-0.004) for {'loss': 'deviance', 'max_depth': 3, 'min_weight_fraction_leaf': 0, 'n_estimators': 400, 'subsample': 1}\n",
      "0.749 (+/-0.004) for {'loss': 'deviance', 'max_depth': 3, 'min_weight_fraction_leaf': 0, 'n_estimators': 500, 'subsample': 0.8}\n",
      "0.753 (+/-0.005) for {'loss': 'deviance', 'max_depth': 3, 'min_weight_fraction_leaf': 0, 'n_estimators': 500, 'subsample': 0.9}\n",
      "0.748 (+/-0.005) for {'loss': 'deviance', 'max_depth': 3, 'min_weight_fraction_leaf': 0, 'n_estimators': 500, 'subsample': 1}\n",
      "0.746 (+/-0.006) for {'loss': 'deviance', 'max_depth': 3, 'min_weight_fraction_leaf': 0, 'n_estimators': 600, 'subsample': 0.8}\n",
      "0.750 (+/-0.004) for {'loss': 'deviance', 'max_depth': 3, 'min_weight_fraction_leaf': 0, 'n_estimators': 600, 'subsample': 0.9}\n",
      "0.745 (+/-0.003) for {'loss': 'deviance', 'max_depth': 3, 'min_weight_fraction_leaf': 0, 'n_estimators': 600, 'subsample': 1}\n",
      "0.752 (+/-0.005) for {'loss': 'deviance', 'max_depth': 3, 'min_weight_fraction_leaf': 0.1, 'n_estimators': 400, 'subsample': 0.8}\n",
      "0.754 (+/-0.003) for {'loss': 'deviance', 'max_depth': 3, 'min_weight_fraction_leaf': 0.1, 'n_estimators': 400, 'subsample': 0.9}\n",
      "0.754 (+/-0.004) for {'loss': 'deviance', 'max_depth': 3, 'min_weight_fraction_leaf': 0.1, 'n_estimators': 400, 'subsample': 1}\n",
      "0.752 (+/-0.004) for {'loss': 'deviance', 'max_depth': 3, 'min_weight_fraction_leaf': 0.1, 'n_estimators': 500, 'subsample': 0.8}\n",
      "0.754 (+/-0.004) for {'loss': 'deviance', 'max_depth': 3, 'min_weight_fraction_leaf': 0.1, 'n_estimators': 500, 'subsample': 0.9}\n",
      "0.753 (+/-0.004) for {'loss': 'deviance', 'max_depth': 3, 'min_weight_fraction_leaf': 0.1, 'n_estimators': 500, 'subsample': 1}\n",
      "0.753 (+/-0.005) for {'loss': 'deviance', 'max_depth': 3, 'min_weight_fraction_leaf': 0.1, 'n_estimators': 600, 'subsample': 0.8}\n",
      "0.750 (+/-0.004) for {'loss': 'deviance', 'max_depth': 3, 'min_weight_fraction_leaf': 0.1, 'n_estimators': 600, 'subsample': 0.9}\n",
      "0.754 (+/-0.005) for {'loss': 'deviance', 'max_depth': 3, 'min_weight_fraction_leaf': 0.1, 'n_estimators': 600, 'subsample': 1}\n",
      "0.739 (+/-0.005) for {'loss': 'deviance', 'max_depth': 3, 'min_weight_fraction_leaf': 0.2, 'n_estimators': 400, 'subsample': 0.8}\n",
      "0.737 (+/-0.004) for {'loss': 'deviance', 'max_depth': 3, 'min_weight_fraction_leaf': 0.2, 'n_estimators': 400, 'subsample': 0.9}\n",
      "0.740 (+/-0.004) for {'loss': 'deviance', 'max_depth': 3, 'min_weight_fraction_leaf': 0.2, 'n_estimators': 400, 'subsample': 1}\n",
      "0.737 (+/-0.005) for {'loss': 'deviance', 'max_depth': 3, 'min_weight_fraction_leaf': 0.2, 'n_estimators': 500, 'subsample': 0.8}\n",
      "0.737 (+/-0.004) for {'loss': 'deviance', 'max_depth': 3, 'min_weight_fraction_leaf': 0.2, 'n_estimators': 500, 'subsample': 0.9}\n",
      "0.740 (+/-0.003) for {'loss': 'deviance', 'max_depth': 3, 'min_weight_fraction_leaf': 0.2, 'n_estimators': 500, 'subsample': 1}\n",
      "0.739 (+/-0.005) for {'loss': 'deviance', 'max_depth': 3, 'min_weight_fraction_leaf': 0.2, 'n_estimators': 600, 'subsample': 0.8}\n",
      "0.736 (+/-0.005) for {'loss': 'deviance', 'max_depth': 3, 'min_weight_fraction_leaf': 0.2, 'n_estimators': 600, 'subsample': 0.9}\n",
      "0.738 (+/-0.004) for {'loss': 'deviance', 'max_depth': 3, 'min_weight_fraction_leaf': 0.2, 'n_estimators': 600, 'subsample': 1}\n",
      "0.619 (+/-0.000) for {'loss': 'deviance', 'max_depth': 3, 'min_weight_fraction_leaf': 0.5, 'n_estimators': 400, 'subsample': 0.8}\n",
      "0.619 (+/-0.000) for {'loss': 'deviance', 'max_depth': 3, 'min_weight_fraction_leaf': 0.5, 'n_estimators': 400, 'subsample': 0.9}\n",
      "0.619 (+/-0.000) for {'loss': 'deviance', 'max_depth': 3, 'min_weight_fraction_leaf': 0.5, 'n_estimators': 400, 'subsample': 1}\n",
      "0.619 (+/-0.000) for {'loss': 'deviance', 'max_depth': 3, 'min_weight_fraction_leaf': 0.5, 'n_estimators': 500, 'subsample': 0.8}\n",
      "0.619 (+/-0.000) for {'loss': 'deviance', 'max_depth': 3, 'min_weight_fraction_leaf': 0.5, 'n_estimators': 500, 'subsample': 0.9}\n",
      "0.619 (+/-0.000) for {'loss': 'deviance', 'max_depth': 3, 'min_weight_fraction_leaf': 0.5, 'n_estimators': 500, 'subsample': 1}\n",
      "0.619 (+/-0.000) for {'loss': 'deviance', 'max_depth': 3, 'min_weight_fraction_leaf': 0.5, 'n_estimators': 600, 'subsample': 0.8}\n",
      "0.619 (+/-0.000) for {'loss': 'deviance', 'max_depth': 3, 'min_weight_fraction_leaf': 0.5, 'n_estimators': 600, 'subsample': 0.9}\n",
      "0.619 (+/-0.000) for {'loss': 'deviance', 'max_depth': 3, 'min_weight_fraction_leaf': 0.5, 'n_estimators': 600, 'subsample': 1}\n",
      "0.759 (+/-0.004) for {'loss': 'exponential', 'max_depth': 2, 'min_weight_fraction_leaf': 0, 'n_estimators': 400, 'subsample': 0.8}\n",
      "0.756 (+/-0.005) for {'loss': 'exponential', 'max_depth': 2, 'min_weight_fraction_leaf': 0, 'n_estimators': 400, 'subsample': 0.9}\n",
      "0.757 (+/-0.003) for {'loss': 'exponential', 'max_depth': 2, 'min_weight_fraction_leaf': 0, 'n_estimators': 400, 'subsample': 1}\n",
      "0.756 (+/-0.005) for {'loss': 'exponential', 'max_depth': 2, 'min_weight_fraction_leaf': 0, 'n_estimators': 500, 'subsample': 0.8}\n",
      "0.756 (+/-0.004) for {'loss': 'exponential', 'max_depth': 2, 'min_weight_fraction_leaf': 0, 'n_estimators': 500, 'subsample': 0.9}\n",
      "0.756 (+/-0.004) for {'loss': 'exponential', 'max_depth': 2, 'min_weight_fraction_leaf': 0, 'n_estimators': 500, 'subsample': 1}\n",
      "0.755 (+/-0.005) for {'loss': 'exponential', 'max_depth': 2, 'min_weight_fraction_leaf': 0, 'n_estimators': 600, 'subsample': 0.8}\n",
      "0.755 (+/-0.004) for {'loss': 'exponential', 'max_depth': 2, 'min_weight_fraction_leaf': 0, 'n_estimators': 600, 'subsample': 0.9}\n",
      "0.756 (+/-0.004) for {'loss': 'exponential', 'max_depth': 2, 'min_weight_fraction_leaf': 0, 'n_estimators': 600, 'subsample': 1}\n",
      "0.753 (+/-0.005) for {'loss': 'exponential', 'max_depth': 2, 'min_weight_fraction_leaf': 0.1, 'n_estimators': 400, 'subsample': 0.8}\n",
      "0.751 (+/-0.005) for {'loss': 'exponential', 'max_depth': 2, 'min_weight_fraction_leaf': 0.1, 'n_estimators': 400, 'subsample': 0.9}\n",
      "0.751 (+/-0.005) for {'loss': 'exponential', 'max_depth': 2, 'min_weight_fraction_leaf': 0.1, 'n_estimators': 400, 'subsample': 1}\n",
      "0.752 (+/-0.004) for {'loss': 'exponential', 'max_depth': 2, 'min_weight_fraction_leaf': 0.1, 'n_estimators': 500, 'subsample': 0.8}\n",
      "0.754 (+/-0.004) for {'loss': 'exponential', 'max_depth': 2, 'min_weight_fraction_leaf': 0.1, 'n_estimators': 500, 'subsample': 0.9}\n",
      "0.750 (+/-0.005) for {'loss': 'exponential', 'max_depth': 2, 'min_weight_fraction_leaf': 0.1, 'n_estimators': 500, 'subsample': 1}\n",
      "0.752 (+/-0.004) for {'loss': 'exponential', 'max_depth': 2, 'min_weight_fraction_leaf': 0.1, 'n_estimators': 600, 'subsample': 0.8}\n",
      "0.753 (+/-0.005) for {'loss': 'exponential', 'max_depth': 2, 'min_weight_fraction_leaf': 0.1, 'n_estimators': 600, 'subsample': 0.9}\n",
      "0.750 (+/-0.006) for {'loss': 'exponential', 'max_depth': 2, 'min_weight_fraction_leaf': 0.1, 'n_estimators': 600, 'subsample': 1}\n",
      "0.739 (+/-0.005) for {'loss': 'exponential', 'max_depth': 2, 'min_weight_fraction_leaf': 0.2, 'n_estimators': 400, 'subsample': 0.8}\n",
      "0.737 (+/-0.004) for {'loss': 'exponential', 'max_depth': 2, 'min_weight_fraction_leaf': 0.2, 'n_estimators': 400, 'subsample': 0.9}\n",
      "0.740 (+/-0.004) for {'loss': 'exponential', 'max_depth': 2, 'min_weight_fraction_leaf': 0.2, 'n_estimators': 400, 'subsample': 1}\n",
      "0.737 (+/-0.006) for {'loss': 'exponential', 'max_depth': 2, 'min_weight_fraction_leaf': 0.2, 'n_estimators': 500, 'subsample': 0.8}\n",
      "0.739 (+/-0.004) for {'loss': 'exponential', 'max_depth': 2, 'min_weight_fraction_leaf': 0.2, 'n_estimators': 500, 'subsample': 0.9}\n",
      "0.739 (+/-0.004) for {'loss': 'exponential', 'max_depth': 2, 'min_weight_fraction_leaf': 0.2, 'n_estimators': 500, 'subsample': 1}\n",
      "0.737 (+/-0.005) for {'loss': 'exponential', 'max_depth': 2, 'min_weight_fraction_leaf': 0.2, 'n_estimators': 600, 'subsample': 0.8}\n",
      "0.737 (+/-0.004) for {'loss': 'exponential', 'max_depth': 2, 'min_weight_fraction_leaf': 0.2, 'n_estimators': 600, 'subsample': 0.9}\n",
      "0.738 (+/-0.004) for {'loss': 'exponential', 'max_depth': 2, 'min_weight_fraction_leaf': 0.2, 'n_estimators': 600, 'subsample': 1}\n",
      "0.619 (+/-0.000) for {'loss': 'exponential', 'max_depth': 2, 'min_weight_fraction_leaf': 0.5, 'n_estimators': 400, 'subsample': 0.8}\n",
      "0.619 (+/-0.000) for {'loss': 'exponential', 'max_depth': 2, 'min_weight_fraction_leaf': 0.5, 'n_estimators': 400, 'subsample': 0.9}\n",
      "0.619 (+/-0.000) for {'loss': 'exponential', 'max_depth': 2, 'min_weight_fraction_leaf': 0.5, 'n_estimators': 400, 'subsample': 1}\n",
      "0.619 (+/-0.000) for {'loss': 'exponential', 'max_depth': 2, 'min_weight_fraction_leaf': 0.5, 'n_estimators': 500, 'subsample': 0.8}\n",
      "0.619 (+/-0.000) for {'loss': 'exponential', 'max_depth': 2, 'min_weight_fraction_leaf': 0.5, 'n_estimators': 500, 'subsample': 0.9}\n",
      "0.619 (+/-0.000) for {'loss': 'exponential', 'max_depth': 2, 'min_weight_fraction_leaf': 0.5, 'n_estimators': 500, 'subsample': 1}\n",
      "0.619 (+/-0.000) for {'loss': 'exponential', 'max_depth': 2, 'min_weight_fraction_leaf': 0.5, 'n_estimators': 600, 'subsample': 0.8}\n",
      "0.619 (+/-0.000) for {'loss': 'exponential', 'max_depth': 2, 'min_weight_fraction_leaf': 0.5, 'n_estimators': 600, 'subsample': 0.9}\n",
      "0.619 (+/-0.000) for {'loss': 'exponential', 'max_depth': 2, 'min_weight_fraction_leaf': 0.5, 'n_estimators': 600, 'subsample': 1}\n",
      "0.751 (+/-0.005) for {'loss': 'exponential', 'max_depth': 3, 'min_weight_fraction_leaf': 0, 'n_estimators': 400, 'subsample': 0.8}\n",
      "0.753 (+/-0.005) for {'loss': 'exponential', 'max_depth': 3, 'min_weight_fraction_leaf': 0, 'n_estimators': 400, 'subsample': 0.9}\n",
      "0.750 (+/-0.004) for {'loss': 'exponential', 'max_depth': 3, 'min_weight_fraction_leaf': 0, 'n_estimators': 400, 'subsample': 1}\n",
      "0.750 (+/-0.005) for {'loss': 'exponential', 'max_depth': 3, 'min_weight_fraction_leaf': 0, 'n_estimators': 500, 'subsample': 0.8}\n",
      "0.749 (+/-0.005) for {'loss': 'exponential', 'max_depth': 3, 'min_weight_fraction_leaf': 0, 'n_estimators': 500, 'subsample': 0.9}\n",
      "0.749 (+/-0.004) for {'loss': 'exponential', 'max_depth': 3, 'min_weight_fraction_leaf': 0, 'n_estimators': 500, 'subsample': 1}\n",
      "0.745 (+/-0.005) for {'loss': 'exponential', 'max_depth': 3, 'min_weight_fraction_leaf': 0, 'n_estimators': 600, 'subsample': 0.8}\n",
      "0.748 (+/-0.003) for {'loss': 'exponential', 'max_depth': 3, 'min_weight_fraction_leaf': 0, 'n_estimators': 600, 'subsample': 0.9}\n",
      "0.751 (+/-0.004) for {'loss': 'exponential', 'max_depth': 3, 'min_weight_fraction_leaf': 0, 'n_estimators': 600, 'subsample': 1}\n",
      "0.751 (+/-0.005) for {'loss': 'exponential', 'max_depth': 3, 'min_weight_fraction_leaf': 0.1, 'n_estimators': 400, 'subsample': 0.8}\n",
      "0.753 (+/-0.004) for {'loss': 'exponential', 'max_depth': 3, 'min_weight_fraction_leaf': 0.1, 'n_estimators': 400, 'subsample': 0.9}\n",
      "0.753 (+/-0.004) for {'loss': 'exponential', 'max_depth': 3, 'min_weight_fraction_leaf': 0.1, 'n_estimators': 400, 'subsample': 1}\n",
      "0.751 (+/-0.004) for {'loss': 'exponential', 'max_depth': 3, 'min_weight_fraction_leaf': 0.1, 'n_estimators': 500, 'subsample': 0.8}\n",
      "0.752 (+/-0.003) for {'loss': 'exponential', 'max_depth': 3, 'min_weight_fraction_leaf': 0.1, 'n_estimators': 500, 'subsample': 0.9}\n",
      "0.754 (+/-0.004) for {'loss': 'exponential', 'max_depth': 3, 'min_weight_fraction_leaf': 0.1, 'n_estimators': 500, 'subsample': 1}\n",
      "0.750 (+/-0.005) for {'loss': 'exponential', 'max_depth': 3, 'min_weight_fraction_leaf': 0.1, 'n_estimators': 600, 'subsample': 0.8}\n",
      "0.751 (+/-0.005) for {'loss': 'exponential', 'max_depth': 3, 'min_weight_fraction_leaf': 0.1, 'n_estimators': 600, 'subsample': 0.9}\n",
      "0.751 (+/-0.004) for {'loss': 'exponential', 'max_depth': 3, 'min_weight_fraction_leaf': 0.1, 'n_estimators': 600, 'subsample': 1}\n",
      "0.737 (+/-0.005) for {'loss': 'exponential', 'max_depth': 3, 'min_weight_fraction_leaf': 0.2, 'n_estimators': 400, 'subsample': 0.8}\n",
      "0.739 (+/-0.005) for {'loss': 'exponential', 'max_depth': 3, 'min_weight_fraction_leaf': 0.2, 'n_estimators': 400, 'subsample': 0.9}\n",
      "0.738 (+/-0.004) for {'loss': 'exponential', 'max_depth': 3, 'min_weight_fraction_leaf': 0.2, 'n_estimators': 400, 'subsample': 1}\n",
      "0.736 (+/-0.006) for {'loss': 'exponential', 'max_depth': 3, 'min_weight_fraction_leaf': 0.2, 'n_estimators': 500, 'subsample': 0.8}\n",
      "0.739 (+/-0.005) for {'loss': 'exponential', 'max_depth': 3, 'min_weight_fraction_leaf': 0.2, 'n_estimators': 500, 'subsample': 0.9}\n",
      "0.737 (+/-0.004) for {'loss': 'exponential', 'max_depth': 3, 'min_weight_fraction_leaf': 0.2, 'n_estimators': 500, 'subsample': 1}\n",
      "0.738 (+/-0.005) for {'loss': 'exponential', 'max_depth': 3, 'min_weight_fraction_leaf': 0.2, 'n_estimators': 600, 'subsample': 0.8}\n",
      "0.737 (+/-0.005) for {'loss': 'exponential', 'max_depth': 3, 'min_weight_fraction_leaf': 0.2, 'n_estimators': 600, 'subsample': 0.9}\n",
      "0.736 (+/-0.004) for {'loss': 'exponential', 'max_depth': 3, 'min_weight_fraction_leaf': 0.2, 'n_estimators': 600, 'subsample': 1}\n",
      "0.619 (+/-0.000) for {'loss': 'exponential', 'max_depth': 3, 'min_weight_fraction_leaf': 0.5, 'n_estimators': 400, 'subsample': 0.8}\n",
      "0.619 (+/-0.000) for {'loss': 'exponential', 'max_depth': 3, 'min_weight_fraction_leaf': 0.5, 'n_estimators': 400, 'subsample': 0.9}\n",
      "0.619 (+/-0.000) for {'loss': 'exponential', 'max_depth': 3, 'min_weight_fraction_leaf': 0.5, 'n_estimators': 400, 'subsample': 1}\n",
      "0.619 (+/-0.000) for {'loss': 'exponential', 'max_depth': 3, 'min_weight_fraction_leaf': 0.5, 'n_estimators': 500, 'subsample': 0.8}\n",
      "0.619 (+/-0.000) for {'loss': 'exponential', 'max_depth': 3, 'min_weight_fraction_leaf': 0.5, 'n_estimators': 500, 'subsample': 0.9}\n",
      "0.619 (+/-0.000) for {'loss': 'exponential', 'max_depth': 3, 'min_weight_fraction_leaf': 0.5, 'n_estimators': 500, 'subsample': 1}\n",
      "0.619 (+/-0.000) for {'loss': 'exponential', 'max_depth': 3, 'min_weight_fraction_leaf': 0.5, 'n_estimators': 600, 'subsample': 0.8}\n",
      "0.619 (+/-0.000) for {'loss': 'exponential', 'max_depth': 3, 'min_weight_fraction_leaf': 0.5, 'n_estimators': 600, 'subsample': 0.9}\n",
      "0.619 (+/-0.000) for {'loss': 'exponential', 'max_depth': 3, 'min_weight_fraction_leaf': 0.5, 'n_estimators': 600, 'subsample': 1}\n",
      "\n",
      "Detailed classification report:\n",
      "\n",
      "The model is trained on the full development set.\n",
      "The scores are computed on the full evaluation set.\n",
      "\n"
     ]
    },
    {
     "name": "stderr",
     "output_type": "stream",
     "text": [
      "c:\\users\\jordan landers\\appdata\\local\\programs\\python\\python36-32\\lib\\site-packages\\sklearn\\model_selection\\_search.py:761: DeprecationWarning: The grid_scores_ attribute was deprecated in version 0.18 in favor of the more elaborate cv_results_ attribute. The grid_scores_ attribute will not be available from 0.20\n",
      "  DeprecationWarning)\n"
     ]
    }
   ],
   "source": [
    "print(\"Best parameters set found on development set:\")\n",
    "print()\n",
    "print(clf.best_estimator_)\n",
    "print()\n",
    "print(\"Grid scores on development set:\")\n",
    "print()\n",
    "for params, mean_score, scores in clf.grid_scores_:\n",
    "    print(\"%0.3f (+/-%0.03f) for %r\"\n",
    "              % (mean_score, scores.std() / 2, params))\n",
    "print()\n",
    "\n",
    "print(\"Detailed classification report:\")\n",
    "print()\n",
    "print(\"The model is trained on the full development set.\")\n",
    "print(\"The scores are computed on the full evaluation set.\")\n",
    "print()\n",
    "y_true, y_pred = y_test, clf.predict(X_test)\n",
    "#print(classification_report(y_true, y_pred))\n",
    "#print()"
   ]
  },
  {
   "cell_type": "code",
   "execution_count": 41,
   "metadata": {},
   "outputs": [
    {
     "name": "stdout",
     "output_type": "stream",
     "text": [
      "Training set accuracy:\n",
      "Percent Type I errors: 0.0469721767594108\n",
      "Percent Type II errors: 0.17201309328968903\n",
      "\n",
      "Test set accuracy:\n",
      "Percent Type I errors: 0.058419243986254296\n",
      "Percent Type II errors: 0.19145802650957292\n"
     ]
    }
   ],
   "source": [
    "predict_train = clf.predict(X_train)\n",
    "predict_test = clf.predict(X_test)\n",
    "\n",
    "# Accuracy tables.\n",
    "table_train = pd.crosstab(y_train, predict_train, margins=True)\n",
    "table_test = pd.crosstab(y_test, predict_test, margins=True)\n",
    "\n",
    "train_tI_errors = table_train.loc[0.0,1.0] / table_train.loc['All','All']\n",
    "train_tII_errors = table_train.loc[1.0,0.0] / table_train.loc['All','All']\n",
    "\n",
    "test_tI_errors = table_test.loc[0.0,1.0]/table_test.loc['All','All']\n",
    "test_tII_errors = table_test.loc[1.0,0.0]/table_test.loc['All','All']\n",
    "\n",
    "print((\n",
    "    'Training set accuracy:\\n'\n",
    "    'Percent Type I errors: {}\\n'\n",
    "    'Percent Type II errors: {}\\n\\n'\n",
    "    'Test set accuracy:\\n'\n",
    "    'Percent Type I errors: {}\\n'\n",
    "    'Percent Type II errors: {}'\n",
    ").format(train_tI_errors, train_tII_errors, test_tI_errors, test_tII_errors))\n"
   ]
  },
  {
   "cell_type": "code",
   "execution_count": null,
   "metadata": {},
   "outputs": [],
   "source": []
  }
 ],
 "metadata": {
  "hide_input": false,
  "kernelspec": {
   "display_name": "Python 3",
   "language": "python",
   "name": "python3"
  },
  "language_info": {
   "codemirror_mode": {
    "name": "ipython",
    "version": 3
   },
   "file_extension": ".py",
   "mimetype": "text/x-python",
   "name": "python",
   "nbconvert_exporter": "python",
   "pygments_lexer": "ipython3",
   "version": "3.6.3"
  },
  "toc": {
   "colors": {
    "hover_highlight": "#DAA520",
    "running_highlight": "#FF0000",
    "selected_highlight": "#FFD700"
   },
   "moveMenuLeft": true,
   "nav_menu": {
    "height": "59px",
    "width": "252px"
   },
   "navigate_menu": true,
   "number_sections": true,
   "sideBar": true,
   "threshold": 4,
   "toc_cell": false,
   "toc_section_display": "block",
   "toc_window_display": false
  }
 },
 "nbformat": 4,
 "nbformat_minor": 2
}
