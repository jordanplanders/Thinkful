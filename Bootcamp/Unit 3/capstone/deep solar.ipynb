{
 "cells": [
  {
   "cell_type": "code",
   "execution_count": 2,
   "metadata": {},
   "outputs": [],
   "source": [
    "import pandas as pd"
   ]
  },
  {
   "cell_type": "code",
   "execution_count": 5,
   "metadata": {},
   "outputs": [],
   "source": [
    "df = pd.read_csv('deepsolar_tract.csv', encoding='latin-1')"
   ]
  },
  {
   "cell_type": "code",
   "execution_count": 6,
   "metadata": {},
   "outputs": [
    {
     "data": {
      "text/plain": [
       "Index(['Unnamed: 0', 'tile_count', 'solar_system_count', 'total_panel_area',\n",
       "       'fips', 'average_household_income', 'county', 'education_bachelor',\n",
       "       'education_college', 'education_doctoral',\n",
       "       ...\n",
       "       'incentive_count_nonresidential', 'incentive_residential_state_level',\n",
       "       'incentive_nonresidential_state_level', 'net_metering', 'feedin_tariff',\n",
       "       'cooperate_tax', 'property_tax', 'sales_tax', 'rebate',\n",
       "       'avg_electricity_retail_rate'],\n",
       "      dtype='object', length=169)"
      ]
     },
     "execution_count": 6,
     "metadata": {},
     "output_type": "execute_result"
    }
   ],
   "source": [
    "df.columns"
   ]
  },
  {
   "cell_type": "code",
   "execution_count": null,
   "metadata": {},
   "outputs": [],
   "source": []
  }
 ],
 "metadata": {
  "kernelspec": {
   "display_name": "Python 3",
   "language": "python",
   "name": "python3"
  },
  "language_info": {
   "codemirror_mode": {
    "name": "ipython",
    "version": 3
   },
   "file_extension": ".py",
   "mimetype": "text/x-python",
   "name": "python",
   "nbconvert_exporter": "python",
   "pygments_lexer": "ipython3",
   "version": "3.6.5"
  }
 },
 "nbformat": 4,
 "nbformat_minor": 2
}
