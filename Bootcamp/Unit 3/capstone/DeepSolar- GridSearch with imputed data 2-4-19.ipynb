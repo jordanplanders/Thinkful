{
 "cells": [
  {
   "cell_type": "code",
   "execution_count": 12,
   "metadata": {},
   "outputs": [],
   "source": [
    "import pandas as pd\n",
    "import numpy as np\n",
    "import matplotlib.pyplot as plt\n",
    "%matplotlib inline\n",
    "import seaborn as sns\n",
    "\n",
    "from sklearn.model_selection import train_test_split,GridSearchCV, cross_val_score\n",
    "from sklearn.preprocessing import StandardScaler\n",
    "from sklearn.decomposition import PCA\n",
    "from sklearn import linear_model\n",
    "from sklearn import ensemble\n"
   ]
  },
  {
   "cell_type": "code",
   "execution_count": 2,
   "metadata": {},
   "outputs": [],
   "source": [
    "df_all = pd.read_csv('cleaned_solar_tract.csv', encoding='latin-1')"
   ]
  },
  {
   "cell_type": "code",
   "execution_count": 3,
   "metadata": {},
   "outputs": [],
   "source": [
    "df = df_all.dropna()"
   ]
  },
  {
   "cell_type": "code",
   "execution_count": 6,
   "metadata": {},
   "outputs": [],
   "source": [
    "target = 'solar_system_count_residential'\n",
    "\n",
    "misc = ['Unnamed: 0','fips', 'county', 'state']\n",
    "solar = ['total_panel_area',  'total_panel_area_residential', 'total_panel_area_nonresidential',  \n",
    "                   'solar_panel_area_divided_by_area', 'solar_panel_area_per_capita',\n",
    "                'tile_count','tile_count_residential', 'tile_count_nonresidential','number_of_solar_system_per_household', \n",
    "                   'solar_system_count','solar_system_count_nonresidential']\n",
    "non_residential = ['electricity_price_transportation','incentive_count_nonresidential',\n",
    "                   'electricity_consume_commercial','electricity_price_overall', 'electricity_consume_industrial', \n",
    "                   'electricity_consume_total','electricity_price_industrial','electricity_price_commercial']\n",
    "\n",
    "df = df.loc[:, ~(df.columns).isin(misc + solar + non_residential)]"
   ]
  },
  {
   "cell_type": "code",
   "execution_count": 7,
   "metadata": {},
   "outputs": [],
   "source": [
    "def split_scale_data(X, y):\n",
    "    X_train, X_test, y_train, y_test = train_test_split(X, y)\n",
    "    \n",
    "    sclr_X = StandardScaler()\n",
    "    sclr_X.fit(X_train[X_train.columns])\n",
    "    \n",
    "    sclr_y = StandardScaler()\n",
    "    sclr_y.fit(y_train)\n",
    "\n",
    "    X_train_scaled = pd.DataFrame(sclr_X.transform(X_train[X_train.columns]), columns = X_train.columns)\n",
    "    X_test_scaled = pd.DataFrame(sclr_X.transform(X_test[X_test.columns]), columns = X_test.columns)\n",
    "\n",
    "    y_train_scaled = sclr_y.transform(y_train)\n",
    "    y_test_scaled = sclr_y.transform(y_test)\n",
    "    \n",
    "    return X_train_scaled, X_test_scaled, y_train_scaled, y_test_scaled, X_train, X_test, y_train, y_test, sclr_X, sclr_y"
   ]
  },
  {
   "cell_type": "code",
   "execution_count": 10,
   "metadata": {},
   "outputs": [
    {
     "name": "stderr",
     "output_type": "stream",
     "text": [
      "c:\\users\\jordan landers\\appdata\\local\\programs\\python\\python36-32\\lib\\site-packages\\ipykernel_launcher.py:4: FutureWarning: reshape is deprecated and will raise in a subsequent release. Please use .values.reshape(...) instead\n",
      "  after removing the cwd from sys.path.\n"
     ]
    }
   ],
   "source": [
    "X = df.loc[:, ~(df.columns).isin([target])]\n",
    "y = df[target]\n",
    "\n",
    "X_train_scaled, X_test_scaled, y_train_scaled, y_test_scaled, X_train, X_test, y_train, y_test, sclr_X, sclr_y = split_scale_data(X, y.reshape(-1, 1))"
   ]
  },
  {
   "cell_type": "code",
   "execution_count": null,
   "metadata": {
    "scrolled": true
   },
   "outputs": [
    {
     "name": "stdout",
     "output_type": "stream",
     "text": [
      "Fitting 3 folds for each of 4 candidates, totalling 12 fits\n"
     ]
    },
    {
     "name": "stderr",
     "output_type": "stream",
     "text": [
      "[Parallel(n_jobs=-1)]: Done   1 tasks      | elapsed: 17.4min\n",
      "[Parallel(n_jobs=-1)]: Done   3 out of  12 | elapsed: 17.6min remaining: 52.9min\n",
      "[Parallel(n_jobs=-1)]: Done   5 out of  12 | elapsed: 17.9min remaining: 25.0min\n"
     ]
    }
   ],
   "source": [
    "pca = PCA(n_components=100)\n",
    "pca.fit(X_train_scaled)\n",
    "\n",
    "params = {'loss': ['ls', 'huber'], \n",
    "         'learning_rate': [.1] ,\n",
    "         'criterion': ['friedman_mse', 'mae'],\n",
    "         'max_depth': [6],\n",
    "         'n_estimators':[400]\n",
    "         }\n",
    "\n",
    "import time\n",
    "start = time.time()\n",
    "gbr = ensemble.GradientBoostingRegressor(**params)\n",
    "clf = GridSearchCV(gbr, params, cv = 3, n_jobs= -1, verbose = 10)\n",
    "clf.fit(pca.transform(X_train_scaled), y_train_scaled)\n",
    "clf.score(pca.transform(X_test_scaled), y_test_scaled)\n",
    "end = time.time()\n",
    "total_time = end-start\n",
    "print('total time:', total_time)"
   ]
  },
  {
   "cell_type": "code",
   "execution_count": null,
   "metadata": {},
   "outputs": [],
   "source": []
  }
 ],
 "metadata": {
  "kernelspec": {
   "display_name": "Python 3",
   "language": "python",
   "name": "python3"
  },
  "language_info": {
   "codemirror_mode": {
    "name": "ipython",
    "version": 3
   },
   "file_extension": ".py",
   "mimetype": "text/x-python",
   "name": "python",
   "nbconvert_exporter": "python",
   "pygments_lexer": "ipython3",
   "version": "3.6.3"
  }
 },
 "nbformat": 4,
 "nbformat_minor": 2
}
