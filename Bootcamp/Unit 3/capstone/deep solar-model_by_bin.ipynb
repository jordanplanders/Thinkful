{
 "cells": [
  {
   "cell_type": "markdown",
   "metadata": {},
   "source": [
    "Code to bin and then train models on specific bins of data.  \n",
    "\n",
    "** N.B. Investigation was done prior to data imputing scheme"
   ]
  },
  {
   "cell_type": "code",
   "execution_count": 77,
   "metadata": {},
   "outputs": [],
   "source": [
    "import pandas as pd\n",
    "import numpy as np\n",
    "import matplotlib.pyplot as plt\n",
    "%matplotlib inline\n",
    "import seaborn as sns\n",
    "\n",
    "from sklearn.model_selection import train_test_split, cross_val_score\n",
    "from sklearn.preprocessing import StandardScaler\n",
    "from sklearn import linear_model, ensemble\n"
   ]
  },
  {
   "cell_type": "code",
   "execution_count": 78,
   "metadata": {},
   "outputs": [],
   "source": [
    "def histedges_equalN(x, nbin):\n",
    "    npt = len(x)\n",
    "    return np.interp(np.linspace(0, npt, nbin + 1),\n",
    "                     np.arange(npt),\n",
    "                     np.sort(x))\n"
   ]
  },
  {
   "cell_type": "code",
   "execution_count": 79,
   "metadata": {},
   "outputs": [],
   "source": [
    "# https://www.kaggle.com/tunguz/deep-solar-dataset\n",
    "df_all = pd.read_csv('deepsolar_tract.csv', encoding='latin-1')"
   ]
  },
  {
   "cell_type": "code",
   "execution_count": 80,
   "metadata": {},
   "outputs": [
    {
     "name": "stdout",
     "output_type": "stream",
     "text": [
      "county\n",
      "state\n",
      "electricity_price_transportation\n"
     ]
    }
   ],
   "source": [
    "for col in df_all.columns:\n",
    "    try:\n",
    "        pd.to_numeric(df_all[col])\n",
    "    except:\n",
    "        print(col)"
   ]
  },
  {
   "cell_type": "code",
   "execution_count": 81,
   "metadata": {},
   "outputs": [],
   "source": [
    "df_all = df_all.dropna()"
   ]
  },
  {
   "cell_type": "code",
   "execution_count": 246,
   "metadata": {},
   "outputs": [],
   "source": [
    "df = df_all"
   ]
  },
  {
   "cell_type": "code",
   "execution_count": 247,
   "metadata": {},
   "outputs": [],
   "source": [
    "df['median_income_per_area_residential'] = df['median_household_income'].div(df.land_area)\n",
    "df['income_per_area_residential'] = df['average_household_income']*df['household_count'].div(df.land_area)\n",
    "df['household_density'] = df['household_count'].div(df.land_area)\n",
    "df['education_higher_ed_rate'] = (df['education_bachelor'] + df['education_doctoral'] + df['education_master'] + df['education_professional_school']).div(df.education_population)"
   ]
  },
  {
   "cell_type": "code",
   "execution_count": 248,
   "metadata": {},
   "outputs": [
    {
     "data": {
      "image/png": "[encoded data removed]",
      "text/plain": [
       "<matplotlib.figure.Figure at 0x10f251dd8>"
      ]
     },
     "metadata": {},
     "output_type": "display_data"
    }
   ],
   "source": [
    "x = 10\n",
    "n, bins_equl_n, patches = plt.hist(df.population_density, histedges_equalN(df.population_density, 10))\n",
    "df['population_density_bin_equaln'] = pd.cut(df['population_density'],bins_equl_n, labels = [str(n) for n in range(len(bins_equl_n)-1)])\n",
    "\n",
    "x = 10\n",
    "n, bins_equl_width, patches = plt.hist(df.population_density, 10)\n",
    "df['population_density_bin_equalwidth'] = pd.cut(df['population_density'],bins_equl_width)\n",
    "\n",
    "n, bins, patches = plt.hist(df['mortgage_with_rate'],5)\n",
    "df['mortgage_with_rate_bin'] = pd.cut(df['mortgage_with_rate'],bins, labels = [n for n in range(len(bins)-1)])\n",
    "\n",
    "df['incentive_residential_state_level_bin'] = pd.cut(df['incentive_residential_state_level'],[0,5,8,15,18])\n",
    "df['daily_solar_radiation_bin'] = pd.cut(df['daily_solar_radiation'],[0,4,5,7], labels = [n for n in range(len([0,4,5,7])-1)])\n",
    "\n",
    "n, bins, patches = plt.hist(df['median_household_income'],10)\n",
    "df['median_household_income_bin'] = pd.cut(df['median_household_income'],bins, labels = [n for n in range(len(bins)-1)])\n",
    "\n",
    "df['age_retired']= df.population*df.age_65_74_rate + df.population*df.age_75_84_rate + df.population*df.age_more_than_85_rate \n",
    "df['age_retired_rate'] = df['age_retired'].div(df.population)"
   ]
  },
  {
   "cell_type": "code",
   "execution_count": 325,
   "metadata": {},
   "outputs": [],
   "source": [
    "target = 'solar_system_count_residential'#'total_panel_area'\n",
    "\n",
    "binned_var_omit = [col for col in df.columns if '_bin' in col and col !='daily_solar_radiation_bin']\n",
    "\n",
    "omit = ['Unnamed: 0','fips','solar_system_count_nonresidential', 'total_panel_area', 'population_density_bin_equalwidth','population_density_bin_equaln','fips', 'county', 'state', 'electricity_price_transportation', 'total_panel_area_residential',\n",
    "'total_panel_area_nonresidential',  'education_population','solar_panel_area_divided_by_area', 'solar_panel_area_per_capita',\n",
    "        'tile_count','tile_count_residential', 'tile_count_nonresidential','number_of_solar_system_per_household', 'solar_system_count']\n",
    "\n",
    "edu_omit = ['education_bachelor','education_college','education_doctoral','education_high_school_graduate','education_less_than_high_school','education_master','education_professional_school']\n",
    "race_omit = ['race_asian','race_black_africa','race_indian_alaska','race_islander','race_other','race_two_more','race_white', 'race_indian_alaska_rate','race_two_more_rate']\n",
    "heat_fuel_omit = ['heating_fuel_coal_coke','heating_fuel_electricity','heating_fuel_fuel_oil_kerosene','heating_fuel_gas','heating_fuel_housing_unit_count',\n",
    "'heating_fuel_none','heating_fuel_other','heating_fuel_solar', 'heating_fuel_solar_rate']\n",
    "\n",
    "\n",
    "edu_rate_omit = ['education_bachelor_rate','education_college_rate','education_doctoral_rate','education_high_school_graduate_rate','education_less_than_high_school_rate','education_master_rate','education_professional_school_rate']\n",
    "race_rate_omit = ['race_asian_rate','race_black_africa_rate','race_indian_alaska_rate','race_islander_rate','race_other_rate','race_two_more_rate','race_white_rate','race_indian_alaska','race_two_more']\n",
    "heat_fuel_rate_omit = ['heating_fuel_coal_coke_rate','heating_fuel_electricity_rate','heating_fuel_fuel_oil_kerosene_rate','heating_fuel_gas_rate','heating_fuel_housing_unit_count_rate',\n",
    "'heating_fuel_none_rate','heating_fuel_other_rate','heating_fuel_solar_rate', 'heating_fuel_solar']\n",
    "\n",
    "nonresidential = ['incentive_count_nonresidential','electricity_consume_commercial','electricity_price_overall', 'electricity_consume_industrial', 'electricity_consume_total','electricity_price_industrial','electricity_price_commercial']\n",
    "\n",
    "regardless_omit = ['water_area', 'lon', 'heating_design_temperature']#['heating_fuel_fuel_oil_kerosene_rate','heating_fuel_fuel_oil_kerosene','race_indian_alaska_rate','race_islander_rate', 'race_indian_alaska','race_islander']"
   ]
  },
  {
   "cell_type": "code",
   "execution_count": 259,
   "metadata": {},
   "outputs": [],
   "source": [
    "X_train, X_test, y_train, y_test = train_test_split(X, Y)"
   ]
  },
  {
   "cell_type": "markdown",
   "metadata": {},
   "source": [
    "Theoretically, the data may include groups that behave differently.  On that premise, the below code bins the data based on a couple variables, and trains a linear regression and gradient boosting regression model on each bin. Code two cells down summarizes the results"
   ]
  },
  {
   "cell_type": "code",
   "execution_count": 235,
   "metadata": {},
   "outputs": [
    {
     "name": "stderr",
     "output_type": "stream",
     "text": [
      "/usr/local/lib/python3.6/site-packages/ipykernel_launcher.py:26: SettingWithCopyWarning: \n",
      "A value is trying to be set on a copy of a slice from a DataFrame.\n",
      "Try using .loc[row_indexer,col_indexer] = value instead\n",
      "\n",
      "See the caveats in the documentation: http://pandas.pydata.org/pandas-docs/stable/indexing.html#indexing-view-versus-copy\n",
      "/usr/local/lib/python3.6/site-packages/ipykernel_launcher.py:27: SettingWithCopyWarning: \n",
      "A value is trying to be set on a copy of a slice from a DataFrame.\n",
      "Try using .loc[row_indexer,col_indexer] = value instead\n",
      "\n",
      "See the caveats in the documentation: http://pandas.pydata.org/pandas-docs/stable/indexing.html#indexing-view-versus-copy\n",
      "/usr/local/lib/python3.6/site-packages/sklearn/model_selection/_split.py:1943: FutureWarning: You should specify a value for 'cv' instead of relying on the default value. The default value will change from 3 to 5 in version 0.22.\n",
      "  warnings.warn(CV_WARNING, FutureWarning)\n"
     ]
    },
    {
     "name": "stdout",
     "output_type": "stream",
     "text": [
      "daily_solar_radiation_bin 0 lin_reg [ 0.37608424  0.35581991  0.3645039 ]\n"
     ]
    },
    {
     "name": "stderr",
     "output_type": "stream",
     "text": [
      "/usr/local/lib/python3.6/site-packages/sklearn/model_selection/_split.py:1943: FutureWarning: You should specify a value for 'cv' instead of relying on the default value. The default value will change from 3 to 5 in version 0.22.\n",
      "  warnings.warn(CV_WARNING, FutureWarning)\n"
     ]
    },
    {
     "name": "stdout",
     "output_type": "stream",
     "text": [
      "daily_solar_radiation_bin 0 clf [ 0.66584717  0.65538397  0.63533909]\n"
     ]
    },
    {
     "name": "stderr",
     "output_type": "stream",
     "text": [
      "/usr/local/lib/python3.6/site-packages/sklearn/model_selection/_split.py:1943: FutureWarning: You should specify a value for 'cv' instead of relying on the default value. The default value will change from 3 to 5 in version 0.22.\n",
      "  warnings.warn(CV_WARNING, FutureWarning)\n"
     ]
    },
    {
     "name": "stdout",
     "output_type": "stream",
     "text": [
      "daily_solar_radiation_bin 1 lin_reg [ 0.50544255  0.47017455  0.52687661]\n"
     ]
    },
    {
     "name": "stderr",
     "output_type": "stream",
     "text": [
      "/usr/local/lib/python3.6/site-packages/sklearn/model_selection/_split.py:1943: FutureWarning: You should specify a value for 'cv' instead of relying on the default value. The default value will change from 3 to 5 in version 0.22.\n",
      "  warnings.warn(CV_WARNING, FutureWarning)\n"
     ]
    },
    {
     "name": "stdout",
     "output_type": "stream",
     "text": [
      "daily_solar_radiation_bin 1 clf [ 0.72347569  0.68052711  0.72131543]\n"
     ]
    },
    {
     "name": "stderr",
     "output_type": "stream",
     "text": [
      "/usr/local/lib/python3.6/site-packages/sklearn/model_selection/_split.py:1943: FutureWarning: You should specify a value for 'cv' instead of relying on the default value. The default value will change from 3 to 5 in version 0.22.\n",
      "  warnings.warn(CV_WARNING, FutureWarning)\n",
      "/usr/local/lib/python3.6/site-packages/sklearn/model_selection/_split.py:1943: FutureWarning: You should specify a value for 'cv' instead of relying on the default value. The default value will change from 3 to 5 in version 0.22.\n",
      "  warnings.warn(CV_WARNING, FutureWarning)\n",
      "/usr/local/lib/python3.6/site-packages/ipykernel_launcher.py:26: SettingWithCopyWarning: \n",
      "A value is trying to be set on a copy of a slice from a DataFrame.\n",
      "Try using .loc[row_indexer,col_indexer] = value instead\n",
      "\n",
      "See the caveats in the documentation: http://pandas.pydata.org/pandas-docs/stable/indexing.html#indexing-view-versus-copy\n",
      "/usr/local/lib/python3.6/site-packages/ipykernel_launcher.py:27: SettingWithCopyWarning: \n",
      "A value is trying to be set on a copy of a slice from a DataFrame.\n",
      "Try using .loc[row_indexer,col_indexer] = value instead\n",
      "\n",
      "See the caveats in the documentation: http://pandas.pydata.org/pandas-docs/stable/indexing.html#indexing-view-versus-copy\n",
      "/usr/local/lib/python3.6/site-packages/sklearn/model_selection/_split.py:1943: FutureWarning: You should specify a value for 'cv' instead of relying on the default value. The default value will change from 3 to 5 in version 0.22.\n",
      "  warnings.warn(CV_WARNING, FutureWarning)\n"
     ]
    },
    {
     "name": "stdout",
     "output_type": "stream",
     "text": [
      "incentive_residential_state_level_bin 0 lin_reg [ 0.29799836  0.30723321  0.28355722]\n"
     ]
    },
    {
     "name": "stderr",
     "output_type": "stream",
     "text": [
      "/usr/local/lib/python3.6/site-packages/sklearn/model_selection/_split.py:1943: FutureWarning: You should specify a value for 'cv' instead of relying on the default value. The default value will change from 3 to 5 in version 0.22.\n",
      "  warnings.warn(CV_WARNING, FutureWarning)\n"
     ]
    },
    {
     "name": "stdout",
     "output_type": "stream",
     "text": [
      "incentive_residential_state_level_bin 0 clf [ 0.46959752  0.57079385  0.50942001]\n"
     ]
    },
    {
     "name": "stderr",
     "output_type": "stream",
     "text": [
      "/usr/local/lib/python3.6/site-packages/sklearn/model_selection/_split.py:1943: FutureWarning: You should specify a value for 'cv' instead of relying on the default value. The default value will change from 3 to 5 in version 0.22.\n",
      "  warnings.warn(CV_WARNING, FutureWarning)\n"
     ]
    },
    {
     "name": "stdout",
     "output_type": "stream",
     "text": [
      "incentive_residential_state_level_bin 1 lin_reg [ 0.46366866  0.56020621  0.48062858]\n"
     ]
    },
    {
     "name": "stderr",
     "output_type": "stream",
     "text": [
      "/usr/local/lib/python3.6/site-packages/sklearn/model_selection/_split.py:1943: FutureWarning: You should specify a value for 'cv' instead of relying on the default value. The default value will change from 3 to 5 in version 0.22.\n",
      "  warnings.warn(CV_WARNING, FutureWarning)\n"
     ]
    },
    {
     "name": "stdout",
     "output_type": "stream",
     "text": [
      "incentive_residential_state_level_bin 1 clf [ 0.75516033  0.807131    0.73055744]\n"
     ]
    },
    {
     "name": "stderr",
     "output_type": "stream",
     "text": [
      "/usr/local/lib/python3.6/site-packages/sklearn/model_selection/_split.py:1943: FutureWarning: You should specify a value for 'cv' instead of relying on the default value. The default value will change from 3 to 5 in version 0.22.\n",
      "  warnings.warn(CV_WARNING, FutureWarning)\n"
     ]
    },
    {
     "name": "stdout",
     "output_type": "stream",
     "text": [
      "incentive_residential_state_level_bin 2 lin_reg [ 0.37300572  0.39687571  0.35036457]\n"
     ]
    },
    {
     "name": "stderr",
     "output_type": "stream",
     "text": [
      "/usr/local/lib/python3.6/site-packages/sklearn/model_selection/_split.py:1943: FutureWarning: You should specify a value for 'cv' instead of relying on the default value. The default value will change from 3 to 5 in version 0.22.\n",
      "  warnings.warn(CV_WARNING, FutureWarning)\n"
     ]
    },
    {
     "name": "stdout",
     "output_type": "stream",
     "text": [
      "incentive_residential_state_level_bin 2 clf [ 0.64261933  0.61556827  0.52614204]\n"
     ]
    },
    {
     "name": "stderr",
     "output_type": "stream",
     "text": [
      "/usr/local/lib/python3.6/site-packages/sklearn/model_selection/_split.py:1943: FutureWarning: You should specify a value for 'cv' instead of relying on the default value. The default value will change from 3 to 5 in version 0.22.\n",
      "  warnings.warn(CV_WARNING, FutureWarning)\n"
     ]
    },
    {
     "name": "stdout",
     "output_type": "stream",
     "text": [
      "incentive_residential_state_level_bin 3 lin_reg [ 0.57547952  0.54886201  0.58962017]\n"
     ]
    },
    {
     "name": "stderr",
     "output_type": "stream",
     "text": [
      "/usr/local/lib/python3.6/site-packages/sklearn/model_selection/_split.py:1943: FutureWarning: You should specify a value for 'cv' instead of relying on the default value. The default value will change from 3 to 5 in version 0.22.\n",
      "  warnings.warn(CV_WARNING, FutureWarning)\n"
     ]
    },
    {
     "name": "stdout",
     "output_type": "stream",
     "text": [
      "incentive_residential_state_level_bin 3 clf [ 0.74203812  0.70653631  0.73303592]\n"
     ]
    },
    {
     "name": "stderr",
     "output_type": "stream",
     "text": [
      "/usr/local/lib/python3.6/site-packages/sklearn/model_selection/_split.py:1943: FutureWarning: You should specify a value for 'cv' instead of relying on the default value. The default value will change from 3 to 5 in version 0.22.\n",
      "  warnings.warn(CV_WARNING, FutureWarning)\n",
      "/usr/local/lib/python3.6/site-packages/sklearn/model_selection/_split.py:1943: FutureWarning: You should specify a value for 'cv' instead of relying on the default value. The default value will change from 3 to 5 in version 0.22.\n",
      "  warnings.warn(CV_WARNING, FutureWarning)\n"
     ]
    },
    {
     "data": {
      "image/png": "[encoded data removed]",
      "text/plain": [
       "<matplotlib.figure.Figure at 0x11fd3cbe0>"
      ]
     },
     "metadata": {},
     "output_type": "display_data"
    }
   ],
   "source": [
    "x = 5\n",
    "n, bins_equl_n, patches = plt.hist(X_train.population_density, histedges_equalN(X_train.population_density, x))\n",
    "# df['population_density_bin_equaln'] = pd.cut(df['population_density'],bins_equl_n, labels = [str(n) for n in range(len(bins_equl_n)-1)])\n",
    "n, incentive_bins_equl_n, patches = plt.hist(X_train.incentive_residential_state_level, histedges_equalN(X_train.incentive_residential_state_level, 4))\n",
    "incentive_bins_equl_n[0]=0\n",
    "df['incentive_residential_state_level_bin'] = pd.cut(df['incentive_residential_state_level'],incentive_bins_equl_n, labels = [n for n in range(len(incentive_bins_equl_n)-1)])\n",
    "\n",
    "d= {'daily_solar_radiation_bin':{'feature':'daily_solar_radiation', 'splits':[0,4.5,9], 'labels':[n for n in range(len([0,4,7])-1)]},\n",
    "'incentive_residential_state_level_bin':{'feature':'incentive_residential_state_level','splits':incentive_bins_equl_n, 'labels':[n for n in range(len(incentive_bins_equl_n)-1)]}}\n",
    "\n",
    "params = {'n_estimators': 400, 'max_depth': 6, 'min_samples_split': 2,\n",
    "          'learning_rate': 0.01, 'loss': 'ls'}\n",
    "\n",
    "model_results = {}\n",
    "models = {'lin_reg':linear_model.LinearRegression(), 'clf':ensemble.GradientBoostingRegressor(**params)}\n",
    "for key in d.keys():\n",
    "    # split the training and test sets according to bins\n",
    "    X_train[key] = pd.cut(X_train[d[key]['feature']],d[key]['splits'], labels = d[key]['labels'])\n",
    "    X_test[key] = pd.cut(X_test[d[key]['feature']],d[key]['splits'], labels = d[key]['labels'])\n",
    "    model_results[key]={}\n",
    "    \n",
    "    # for each bin, train two models and store outputs\n",
    "    for slce in list(set(X_train[key])):\n",
    "        binned_var_omit = [col for col in X_train.columns if '_bin' in col]\n",
    "\n",
    "        X_train_tmp = X_train[X_train[key]==slce]\n",
    "        y_train_tmp = X_train_tmp[target]\n",
    "        X_train_tmp = X_train_tmp.loc[:, ~(X_train_tmp.columns).isin([target]+binned_var_omit)]\n",
    "                                      \n",
    "        X_test_tmp = X_test[X_test[key]==slce]\n",
    "        y_test_tmp = X_test_tmp[target]\n",
    "        X_test_tmp = X_test_tmp.loc[:, ~(X_test_tmp.columns).isin([target]+binned_var_omit)]\n",
    "        if len(X_train_tmp)>0:\n",
    "            model_results[key][slce] = {}\n",
    "            for model_key in models.keys():\n",
    "                try:\n",
    "                    model = models[model_key].fit(X_train_tmp, y_train_tmp)\n",
    "                    model_results[key][slce][model_key]= {'model':model, 'score':model.score(X_test_tmp, y_test_tmp), 'cv':cross_val_score(model,X_train_tmp, y_train_tmp), \n",
    "                                      'y_pred': model.predict(X_test_tmp), 'y_test':y_test_tmp }\n",
    "                    print(key,slce,model_key, model_results[key][slce][model_key]['cv'])\n",
    "                except:\n",
    "                    continue\n",
    "    y_train_tmp = X_train[target]\n",
    "    X_train_tmp = X_train.loc[:, ~(X_train.columns).isin([target]+binned_var_omit)]\n",
    "    y_test_tmp = X_test[target]\n",
    "    X_test_tmp = X_test.loc[:, ~(X_test.columns).isin([target]+binned_var_omit)]\n",
    "    model_results[key]['all'] = {}\n",
    "    \n",
    "    # train and test model on full train/test data sets (no bins) for comparison\n",
    "    for model_key in models.keys():\n",
    "        model = models[model_key].fit(X_train_tmp, y_train_tmp)\n",
    "        model_results[key]['all'][model_key]= {'model':model, 'score':model.score(X_test_tmp, y_test_tmp), 'cv':cross_val_score(model,X_train_tmp, y_train_tmp), \n",
    "                                      'y_pred': model.predict(X_test_tmp), 'y_test':y_test_tmp }\n",
    "\n",
    "        \n"
   ]
  },
  {
   "cell_type": "code",
   "execution_count": 236,
   "metadata": {},
   "outputs": [
    {
     "name": "stdout",
     "output_type": "stream",
     "text": [
      "daily_solar_radiation_bin 0 lin_reg 0.368866844216\n",
      "daily_solar_radiation_bin 1 lin_reg 0.488322744142\n",
      "MSE: 1250.8710\n",
      "MSE: 1639.9171\n",
      "incentive_residential_state_level_bin 0 lin_reg 0.279397819265\n",
      "incentive_residential_state_level_bin 1 lin_reg 0.514495259852\n",
      "incentive_residential_state_level_bin 2 lin_reg 0.333611443228\n",
      "incentive_residential_state_level_bin 3 lin_reg 0.563433228855\n",
      "MSE: 1159.4881\n",
      "MSE: 1639.9171\n",
      "daily_solar_radiation_bin 0 clf 0.696266870669\n",
      "daily_solar_radiation_bin 1 clf 0.702734202855\n",
      "MSE: 716.5006\n",
      "MSE: 779.4780\n",
      "incentive_residential_state_level_bin 0 clf 0.474014216365\n",
      "incentive_residential_state_level_bin 1 clf 0.80770829021\n",
      "incentive_residential_state_level_bin 2 clf 0.469936281826\n",
      "incentive_residential_state_level_bin 3 clf 0.716698355297\n",
      "MSE: 775.1136\n",
      "MSE: 777.0925\n"
     ]
    }
   ],
   "source": [
    "# Summarizing scores per model and cumulative error for model sets\n",
    "from sklearn.metrics import mean_squared_error\n",
    "\n",
    "for model in models.keys():\n",
    "    for cat in model_results.keys():\n",
    "        y_preds = []\n",
    "        y_tests = []\n",
    "        for bn in model_results[cat]:\n",
    "            if bn != 'all':\n",
    "                print(cat, bn, model, model_results[cat][bn][model]['score'])\n",
    "                y_preds = y_preds + model_results[cat][bn][model]['y_pred'].tolist()\n",
    "                y_tests = y_tests + model_results[cat][bn][model]['y_test'].tolist()\n",
    "        mse = mean_squared_error(y_tests, y_preds)\n",
    "        mse_all = mean_squared_error(model_results[cat]['all'][model]['y_test'], model_results[cat]['all'][model]['y_pred'])\n",
    "        print(\"MSE: %.4f\" % mse)\n",
    "        print(\"MSE: %.4f\" % mse_all)"
   ]
  }
 ],
 "metadata": {
  "kernelspec": {
   "display_name": "Python 3",
   "language": "python",
   "name": "python3"
  },
  "language_info": {
   "codemirror_mode": {
    "name": "ipython",
    "version": 3
   },
   "file_extension": ".py",
   "mimetype": "text/x-python",
   "name": "python",
   "nbconvert_exporter": "python",
   "pygments_lexer": "ipython3",
   "version": "3.6.5"
  }
 },
 "nbformat": 4,
 "nbformat_minor": 2
}
