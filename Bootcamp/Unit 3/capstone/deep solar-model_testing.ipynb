{
 "cells": [
  {
   "cell_type": "code",
   "execution_count": 77,
   "metadata": {},
   "outputs": [],
   "source": [
    "import pandas as pd\n",
    "import numpy as np\n",
    "import matplotlib.pyplot as plt\n",
    "%matplotlib inline\n",
    "import seaborn as sns\n",
    "\n",
    "from sklearn.model_selection import train_test_split, cross_val_score\n",
    "from sklearn.preprocessing import StandardScaler\n",
    "from sklearn import linear_model, ensemble\n"
   ]
  },
  {
   "cell_type": "code",
   "execution_count": 78,
   "metadata": {},
   "outputs": [],
   "source": [
    "def histedges_equalN(x, nbin):\n",
    "    npt = len(x)\n",
    "    return np.interp(np.linspace(0, npt, nbin + 1),\n",
    "                     np.arange(npt),\n",
    "                     np.sort(x))\n"
   ]
  },
  {
   "cell_type": "code",
   "execution_count": 79,
   "metadata": {},
   "outputs": [],
   "source": [
    "# https://www.kaggle.com/tunguz/deep-solar-dataset\n",
    "df_all = pd.read_csv('deepsolar_tract.csv', encoding='latin-1')"
   ]
  },
  {
   "cell_type": "code",
   "execution_count": 80,
   "metadata": {},
   "outputs": [
    {
     "name": "stdout",
     "output_type": "stream",
     "text": [
      "county\n",
      "state\n",
      "electricity_price_transportation\n"
     ]
    }
   ],
   "source": [
    "for col in df_all.columns:\n",
    "    try:\n",
    "        pd.to_numeric(df_all[col])\n",
    "    except:\n",
    "        print(col)"
   ]
  },
  {
   "cell_type": "code",
   "execution_count": 81,
   "metadata": {},
   "outputs": [],
   "source": [
    "df_all = df_all.dropna()"
   ]
  },
  {
   "cell_type": "code",
   "execution_count": 246,
   "metadata": {},
   "outputs": [],
   "source": [
    "# df = df_all[df_all['total_panel_area_residential']>0]\n",
    "df = df_all\n",
    "# df = df[df.state != 'ca']\n",
    "# df = df[df.state == 'ca']"
   ]
  },
  {
   "cell_type": "code",
   "execution_count": 247,
   "metadata": {},
   "outputs": [],
   "source": [
    "df['median_income_per_area_residential'] = df['median_household_income'].div(df.land_area)\n",
    "df['income_per_area_residential'] = df['average_household_income']*df['household_count'].div(df.land_area)\n",
    "df['household_density'] = df['household_count'].div(df.land_area)\n",
    "df['education_higher_ed_rate'] = (df['education_bachelor'] + df['education_doctoral'] + df['education_master'] + df['education_professional_school']).div(df.education_population)"
   ]
  },
  {
   "cell_type": "code",
   "execution_count": 248,
   "metadata": {},
   "outputs": [
    {
     "data": {
      "image/png": "[encoded data removed]",
      "text/plain": [
       "<matplotlib.figure.Figure at 0x10f251dd8>"
      ]
     },
     "metadata": {},
     "output_type": "display_data"
    }
   ],
   "source": [
    "x = 10\n",
    "n, bins_equl_n, patches = plt.hist(df.population_density, histedges_equalN(df.population_density, 10))\n",
    "df['population_density_bin_equaln'] = pd.cut(df['population_density'],bins_equl_n, labels = [str(n) for n in range(len(bins_equl_n)-1)])\n",
    "\n",
    "x = 10\n",
    "n, bins_equl_width, patches = plt.hist(df.population_density, 10)\n",
    "df['population_density_bin_equalwidth'] = pd.cut(df['population_density'],bins_equl_width)\n",
    "\n",
    "n, bins, patches = plt.hist(df['mortgage_with_rate'],5)\n",
    "df['mortgage_with_rate_bin'] = pd.cut(df['mortgage_with_rate'],bins, labels = [n for n in range(len(bins)-1)])\n",
    "\n",
    "df['incentive_residential_state_level_bin'] = pd.cut(df['incentive_residential_state_level'],[0,5,8,15,18])\n",
    "df['daily_solar_radiation_bin'] = pd.cut(df['daily_solar_radiation'],[0,4,5,7], labels = [n for n in range(len([0,4,5,7])-1)])\n",
    "\n",
    "n, bins, patches = plt.hist(df['median_household_income'],10)\n",
    "df['median_household_income_bin'] = pd.cut(df['median_household_income'],bins, labels = [n for n in range(len(bins)-1)])\n",
    "\n",
    "df['age_retired']= df.population*df.age_65_74_rate + df.population*df.age_75_84_rate + df.population*df.age_more_than_85_rate \n",
    "df['age_retired_rate'] = df['age_retired'].div(df.population)"
   ]
  },
  {
   "cell_type": "code",
   "execution_count": 253,
   "metadata": {},
   "outputs": [],
   "source": [
    "target = 'solar_system_count_residential'#'total_panel_area'\n",
    "\n",
    "binned_var_omit = [col for col in df.columns if '_bin' in col and col !='daily_solar_radiation_bin']\n",
    "\n",
    "omit = ['Unnamed: 0','fips','solar_system_count_nonresidential', 'total_panel_area', 'population_density_bin_equalwidth','population_density_bin_equaln','fips', 'county', 'state', 'electricity_price_transportation', 'total_panel_area_residential',\n",
    "'total_panel_area_nonresidential',  'education_population','solar_panel_area_divided_by_area', 'solar_panel_area_per_capita',\n",
    "        'tile_count','tile_count_residential', 'tile_count_nonresidential','number_of_solar_system_per_household', 'solar_system_count']\n",
    "\n",
    "edu_omit = ['education_bachelor','education_college','education_doctoral','education_high_school_graduate','education_less_than_high_school','education_master','education_professional_school']\n",
    "race_omit = ['race_asian','race_black_africa','race_indian_alaska','race_islander','race_other','race_two_more','race_white', 'race_indian_alaska_rate','race_two_more_rate']\n",
    "heat_fuel_omit = ['heating_fuel_coal_coke','heating_fuel_electricity','heating_fuel_fuel_oil_kerosene','heating_fuel_gas','heating_fuel_housing_unit_count',\n",
    "'heating_fuel_none','heating_fuel_other','heating_fuel_solar', 'heating_fuel_solar_rate']\n",
    "\n",
    "\n",
    "edu_rate_omit = ['education_bachelor_rate','education_college_rate','education_doctoral_rate','education_high_school_graduate_rate','education_less_than_high_school_rate','education_master_rate','education_professional_school_rate']\n",
    "race_rate_omit = ['race_asian_rate','race_black_africa_rate','race_indian_alaska_rate','race_islander_rate','race_other_rate','race_two_more_rate','race_white_rate','race_indian_alaska','race_two_more']\n",
    "heat_fuel_rate_omit = ['heating_fuel_coal_coke_rate','heating_fuel_electricity_rate','heating_fuel_fuel_oil_kerosene_rate','heating_fuel_gas_rate','heating_fuel_housing_unit_count_rate',\n",
    "'heating_fuel_none_rate','heating_fuel_other_rate','heating_fuel_solar_rate', 'heating_fuel_solar']\n",
    "\n",
    "nonresidential = ['electricity_price_overall', 'electricity_consume_industrial', 'electricity_consume_total','electricity_price_industrial','electricity_price_commercial']\n",
    "\n",
    "regardless_omit = ['water_area', 'lon', 'heating_design_temperature']#['heating_fuel_fuel_oil_kerosene_rate','heating_fuel_fuel_oil_kerosene','race_indian_alaska_rate','race_islander_rate', 'race_indian_alaska','race_islander']"
   ]
  },
  {
   "cell_type": "code",
   "execution_count": 254,
   "metadata": {},
   "outputs": [],
   "source": [
    "df = df_all"
   ]
  },
  {
   "cell_type": "code",
   "execution_count": 258,
   "metadata": {},
   "outputs": [],
   "source": [
    "X = df.loc[:, ~(df.columns).isin(omit+binned_var_omit+ regardless_omit+edu_omit+race_omit+heat_fuel_omit+ regardless_omit+ nonresidential)]#+binned_var_omit)]\n",
    "# X = df.loc[:, ~(df.columns).isin([target]+ omit+edu_rate_omit+race_rate_omit+heat_fuel_rate_omit+regardless_omit+ nonresidential)]\n",
    "# features = ['median_household_income', 'education_bachelor_rate','population','race_white_rate', 'electricity_price_residential', \n",
    "#            'electricity_consume_residential', 'household_count','housing_unit_median_value','occupancy_owner_rate',\n",
    "#            'mortgage_with_rate', 'age_35_44_rate', 'age_median','incentive_residential_state_level', 'voting_2016_dem_win']\n",
    "\n",
    "\n",
    "# X = df[features]\n",
    "Y = df[target]"
   ]
  },
  {
   "cell_type": "code",
   "execution_count": 259,
   "metadata": {},
   "outputs": [],
   "source": [
    "X_train, X_test, y_train, y_test = train_test_split(X, Y)"
   ]
  },
  {
   "cell_type": "code",
   "execution_count": 235,
   "metadata": {},
   "outputs": [
    {
     "name": "stderr",
     "output_type": "stream",
     "text": [
      "/usr/local/lib/python3.6/site-packages/ipykernel_launcher.py:26: SettingWithCopyWarning: \n",
      "A value is trying to be set on a copy of a slice from a DataFrame.\n",
      "Try using .loc[row_indexer,col_indexer] = value instead\n",
      "\n",
      "See the caveats in the documentation: http://pandas.pydata.org/pandas-docs/stable/indexing.html#indexing-view-versus-copy\n",
      "/usr/local/lib/python3.6/site-packages/ipykernel_launcher.py:27: SettingWithCopyWarning: \n",
      "A value is trying to be set on a copy of a slice from a DataFrame.\n",
      "Try using .loc[row_indexer,col_indexer] = value instead\n",
      "\n",
      "See the caveats in the documentation: http://pandas.pydata.org/pandas-docs/stable/indexing.html#indexing-view-versus-copy\n",
      "/usr/local/lib/python3.6/site-packages/sklearn/model_selection/_split.py:1943: FutureWarning: You should specify a value for 'cv' instead of relying on the default value. The default value will change from 3 to 5 in version 0.22.\n",
      "  warnings.warn(CV_WARNING, FutureWarning)\n"
     ]
    },
    {
     "name": "stdout",
     "output_type": "stream",
     "text": [
      "daily_solar_radiation_bin 0 lin_reg [ 0.37608424  0.35581991  0.3645039 ]\n"
     ]
    },
    {
     "name": "stderr",
     "output_type": "stream",
     "text": [
      "/usr/local/lib/python3.6/site-packages/sklearn/model_selection/_split.py:1943: FutureWarning: You should specify a value for 'cv' instead of relying on the default value. The default value will change from 3 to 5 in version 0.22.\n",
      "  warnings.warn(CV_WARNING, FutureWarning)\n"
     ]
    },
    {
     "name": "stdout",
     "output_type": "stream",
     "text": [
      "daily_solar_radiation_bin 0 clf [ 0.66584717  0.65538397  0.63533909]\n"
     ]
    },
    {
     "name": "stderr",
     "output_type": "stream",
     "text": [
      "/usr/local/lib/python3.6/site-packages/sklearn/model_selection/_split.py:1943: FutureWarning: You should specify a value for 'cv' instead of relying on the default value. The default value will change from 3 to 5 in version 0.22.\n",
      "  warnings.warn(CV_WARNING, FutureWarning)\n"
     ]
    },
    {
     "name": "stdout",
     "output_type": "stream",
     "text": [
      "daily_solar_radiation_bin 1 lin_reg [ 0.50544255  0.47017455  0.52687661]\n"
     ]
    },
    {
     "name": "stderr",
     "output_type": "stream",
     "text": [
      "/usr/local/lib/python3.6/site-packages/sklearn/model_selection/_split.py:1943: FutureWarning: You should specify a value for 'cv' instead of relying on the default value. The default value will change from 3 to 5 in version 0.22.\n",
      "  warnings.warn(CV_WARNING, FutureWarning)\n"
     ]
    },
    {
     "name": "stdout",
     "output_type": "stream",
     "text": [
      "daily_solar_radiation_bin 1 clf [ 0.72347569  0.68052711  0.72131543]\n"
     ]
    },
    {
     "name": "stderr",
     "output_type": "stream",
     "text": [
      "/usr/local/lib/python3.6/site-packages/sklearn/model_selection/_split.py:1943: FutureWarning: You should specify a value for 'cv' instead of relying on the default value. The default value will change from 3 to 5 in version 0.22.\n",
      "  warnings.warn(CV_WARNING, FutureWarning)\n",
      "/usr/local/lib/python3.6/site-packages/sklearn/model_selection/_split.py:1943: FutureWarning: You should specify a value for 'cv' instead of relying on the default value. The default value will change from 3 to 5 in version 0.22.\n",
      "  warnings.warn(CV_WARNING, FutureWarning)\n",
      "/usr/local/lib/python3.6/site-packages/ipykernel_launcher.py:26: SettingWithCopyWarning: \n",
      "A value is trying to be set on a copy of a slice from a DataFrame.\n",
      "Try using .loc[row_indexer,col_indexer] = value instead\n",
      "\n",
      "See the caveats in the documentation: http://pandas.pydata.org/pandas-docs/stable/indexing.html#indexing-view-versus-copy\n",
      "/usr/local/lib/python3.6/site-packages/ipykernel_launcher.py:27: SettingWithCopyWarning: \n",
      "A value is trying to be set on a copy of a slice from a DataFrame.\n",
      "Try using .loc[row_indexer,col_indexer] = value instead\n",
      "\n",
      "See the caveats in the documentation: http://pandas.pydata.org/pandas-docs/stable/indexing.html#indexing-view-versus-copy\n",
      "/usr/local/lib/python3.6/site-packages/sklearn/model_selection/_split.py:1943: FutureWarning: You should specify a value for 'cv' instead of relying on the default value. The default value will change from 3 to 5 in version 0.22.\n",
      "  warnings.warn(CV_WARNING, FutureWarning)\n"
     ]
    },
    {
     "name": "stdout",
     "output_type": "stream",
     "text": [
      "incentive_residential_state_level_bin 0 lin_reg [ 0.29799836  0.30723321  0.28355722]\n"
     ]
    },
    {
     "name": "stderr",
     "output_type": "stream",
     "text": [
      "/usr/local/lib/python3.6/site-packages/sklearn/model_selection/_split.py:1943: FutureWarning: You should specify a value for 'cv' instead of relying on the default value. The default value will change from 3 to 5 in version 0.22.\n",
      "  warnings.warn(CV_WARNING, FutureWarning)\n"
     ]
    },
    {
     "name": "stdout",
     "output_type": "stream",
     "text": [
      "incentive_residential_state_level_bin 0 clf [ 0.46959752  0.57079385  0.50942001]\n"
     ]
    },
    {
     "name": "stderr",
     "output_type": "stream",
     "text": [
      "/usr/local/lib/python3.6/site-packages/sklearn/model_selection/_split.py:1943: FutureWarning: You should specify a value for 'cv' instead of relying on the default value. The default value will change from 3 to 5 in version 0.22.\n",
      "  warnings.warn(CV_WARNING, FutureWarning)\n"
     ]
    },
    {
     "name": "stdout",
     "output_type": "stream",
     "text": [
      "incentive_residential_state_level_bin 1 lin_reg [ 0.46366866  0.56020621  0.48062858]\n"
     ]
    },
    {
     "name": "stderr",
     "output_type": "stream",
     "text": [
      "/usr/local/lib/python3.6/site-packages/sklearn/model_selection/_split.py:1943: FutureWarning: You should specify a value for 'cv' instead of relying on the default value. The default value will change from 3 to 5 in version 0.22.\n",
      "  warnings.warn(CV_WARNING, FutureWarning)\n"
     ]
    },
    {
     "name": "stdout",
     "output_type": "stream",
     "text": [
      "incentive_residential_state_level_bin 1 clf [ 0.75516033  0.807131    0.73055744]\n"
     ]
    },
    {
     "name": "stderr",
     "output_type": "stream",
     "text": [
      "/usr/local/lib/python3.6/site-packages/sklearn/model_selection/_split.py:1943: FutureWarning: You should specify a value for 'cv' instead of relying on the default value. The default value will change from 3 to 5 in version 0.22.\n",
      "  warnings.warn(CV_WARNING, FutureWarning)\n"
     ]
    },
    {
     "name": "stdout",
     "output_type": "stream",
     "text": [
      "incentive_residential_state_level_bin 2 lin_reg [ 0.37300572  0.39687571  0.35036457]\n"
     ]
    },
    {
     "name": "stderr",
     "output_type": "stream",
     "text": [
      "/usr/local/lib/python3.6/site-packages/sklearn/model_selection/_split.py:1943: FutureWarning: You should specify a value for 'cv' instead of relying on the default value. The default value will change from 3 to 5 in version 0.22.\n",
      "  warnings.warn(CV_WARNING, FutureWarning)\n"
     ]
    },
    {
     "name": "stdout",
     "output_type": "stream",
     "text": [
      "incentive_residential_state_level_bin 2 clf [ 0.64261933  0.61556827  0.52614204]\n"
     ]
    },
    {
     "name": "stderr",
     "output_type": "stream",
     "text": [
      "/usr/local/lib/python3.6/site-packages/sklearn/model_selection/_split.py:1943: FutureWarning: You should specify a value for 'cv' instead of relying on the default value. The default value will change from 3 to 5 in version 0.22.\n",
      "  warnings.warn(CV_WARNING, FutureWarning)\n"
     ]
    },
    {
     "name": "stdout",
     "output_type": "stream",
     "text": [
      "incentive_residential_state_level_bin 3 lin_reg [ 0.57547952  0.54886201  0.58962017]\n"
     ]
    },
    {
     "name": "stderr",
     "output_type": "stream",
     "text": [
      "/usr/local/lib/python3.6/site-packages/sklearn/model_selection/_split.py:1943: FutureWarning: You should specify a value for 'cv' instead of relying on the default value. The default value will change from 3 to 5 in version 0.22.\n",
      "  warnings.warn(CV_WARNING, FutureWarning)\n"
     ]
    },
    {
     "name": "stdout",
     "output_type": "stream",
     "text": [
      "incentive_residential_state_level_bin 3 clf [ 0.74203812  0.70653631  0.73303592]\n"
     ]
    },
    {
     "name": "stderr",
     "output_type": "stream",
     "text": [
      "/usr/local/lib/python3.6/site-packages/sklearn/model_selection/_split.py:1943: FutureWarning: You should specify a value for 'cv' instead of relying on the default value. The default value will change from 3 to 5 in version 0.22.\n",
      "  warnings.warn(CV_WARNING, FutureWarning)\n",
      "/usr/local/lib/python3.6/site-packages/sklearn/model_selection/_split.py:1943: FutureWarning: You should specify a value for 'cv' instead of relying on the default value. The default value will change from 3 to 5 in version 0.22.\n",
      "  warnings.warn(CV_WARNING, FutureWarning)\n"
     ]
    },
    {
     "data": {
      "image/png": "[encoded data removed]",
      "text/plain": [
       "<matplotlib.figure.Figure at 0x11fd3cbe0>"
      ]
     },
     "metadata": {},
     "output_type": "display_data"
    }
   ],
   "source": [
    "x = 5\n",
    "n, bins_equl_n, patches = plt.hist(X_train.population_density, histedges_equalN(X_train.population_density, x))\n",
    "# df['population_density_bin_equaln'] = pd.cut(df['population_density'],bins_equl_n, labels = [str(n) for n in range(len(bins_equl_n)-1)])\n",
    "n, incentive_bins_equl_n, patches = plt.hist(X_train.incentive_residential_state_level, histedges_equalN(X_train.incentive_residential_state_level, 4))\n",
    "incentive_bins_equl_n[0]=0\n",
    "df['incentive_residential_state_level_bin'] = pd.cut(df['incentive_residential_state_level'],incentive_bins_equl_n, labels = [n for n in range(len(incentive_bins_equl_n)-1)])\n",
    "\n",
    "# n, ssc_bins_equln, patches = plt.hist(X_train.solar_system_count_residential, 3)\n",
    "# ssc_bins_equln[0] = -1\n",
    "# df['solar_system_count_residential_bin'] = pd.cut(df['solar_system_count_residential'],ssc_bins_equln)\n",
    "\n",
    "\n",
    "\n",
    "d= {'daily_solar_radiation_bin':{'feature':'daily_solar_radiation', 'splits':[0,4.5,9], 'labels':[n for n in range(len([0,4,7])-1)]},\n",
    "'incentive_residential_state_level_bin':{'feature':'incentive_residential_state_level','splits':incentive_bins_equl_n, 'labels':[n for n in range(len(incentive_bins_equl_n)-1)]}}\n",
    "   #'solar_system_count_residential_bin': {'feature':'solar_system_count_residential', 'splits':ssc_bins_equln, 'labels':[n for n in range(len(ssc_bins_equln))]}}\n",
    "#    'population_density_bin_equaln': {'feature':'population_density', 'splits': bins_equl_n, 'labels': [str(n) for n in range(len(bins_equl_n)-1)]}\n",
    "#    }\n",
    "\n",
    "params = {'n_estimators': 400, 'max_depth': 6, 'min_samples_split': 2,\n",
    "          'learning_rate': 0.01, 'loss': 'ls'}\n",
    "\n",
    "model_results = {}\n",
    "models = {'lin_reg':linear_model.LinearRegression(), 'clf':ensemble.GradientBoostingRegressor(**params)}\n",
    "for key in d.keys():\n",
    "    X_train[key] = pd.cut(X_train[d[key]['feature']],d[key]['splits'], labels = d[key]['labels'])\n",
    "    X_test[key] = pd.cut(X_test[d[key]['feature']],d[key]['splits'], labels = d[key]['labels'])\n",
    "    model_results[key]={}\n",
    "    for slce in list(set(X_train[key])):\n",
    "        binned_var_omit = [col for col in X_train.columns if '_bin' in col]\n",
    "\n",
    "        X_train_tmp = X_train[X_train[key]==slce]\n",
    "        y_train_tmp = X_train_tmp[target]\n",
    "        X_train_tmp = X_train_tmp.loc[:, ~(X_train_tmp.columns).isin([target]+binned_var_omit)]\n",
    "                                      \n",
    "        X_test_tmp = X_test[X_test[key]==slce]\n",
    "        y_test_tmp = X_test_tmp[target]\n",
    "        X_test_tmp = X_test_tmp.loc[:, ~(X_test_tmp.columns).isin([target]+binned_var_omit)]\n",
    "        if len(X_train_tmp)>0:\n",
    "            model_results[key][slce] = {}\n",
    "            for model_key in models.keys():\n",
    "                try:\n",
    "                    model = models[model_key].fit(X_train_tmp, y_train_tmp)\n",
    "                    model_results[key][slce][model_key]= {'model':model, 'score':model.score(X_test_tmp, y_test_tmp), 'cv':cross_val_score(model,X_train_tmp, y_train_tmp), \n",
    "                                      'y_pred': model.predict(X_test_tmp), 'y_test':y_test_tmp }\n",
    "                    print(key,slce,model_key, model_results[key][slce][model_key]['cv'])\n",
    "                except:\n",
    "                    continue\n",
    "    y_train_tmp = X_train[target]\n",
    "    X_train_tmp = X_train.loc[:, ~(X_train.columns).isin([target]+binned_var_omit)]\n",
    "    y_test_tmp = X_test[target]\n",
    "    X_test_tmp = X_test.loc[:, ~(X_test.columns).isin([target]+binned_var_omit)]\n",
    "    model_results[key]['all'] = {}\n",
    "    for model_key in models.keys():\n",
    "        model = models[model_key].fit(X_train_tmp, y_train_tmp)\n",
    "        model_results[key]['all'][model_key]= {'model':model, 'score':model.score(X_test_tmp, y_test_tmp), 'cv':cross_val_score(model,X_train_tmp, y_train_tmp), \n",
    "                                      'y_pred': model.predict(X_test_tmp), 'y_test':y_test_tmp }\n",
    "\n",
    "        \n"
   ]
  },
  {
   "cell_type": "code",
   "execution_count": 236,
   "metadata": {},
   "outputs": [
    {
     "name": "stdout",
     "output_type": "stream",
     "text": [
      "daily_solar_radiation_bin 0 lin_reg 0.368866844216\n",
      "daily_solar_radiation_bin 1 lin_reg 0.488322744142\n",
      "MSE: 1250.8710\n",
      "MSE: 1639.9171\n",
      "incentive_residential_state_level_bin 0 lin_reg 0.279397819265\n",
      "incentive_residential_state_level_bin 1 lin_reg 0.514495259852\n",
      "incentive_residential_state_level_bin 2 lin_reg 0.333611443228\n",
      "incentive_residential_state_level_bin 3 lin_reg 0.563433228855\n",
      "MSE: 1159.4881\n",
      "MSE: 1639.9171\n",
      "daily_solar_radiation_bin 0 clf 0.696266870669\n",
      "daily_solar_radiation_bin 1 clf 0.702734202855\n",
      "MSE: 716.5006\n",
      "MSE: 779.4780\n",
      "incentive_residential_state_level_bin 0 clf 0.474014216365\n",
      "incentive_residential_state_level_bin 1 clf 0.80770829021\n",
      "incentive_residential_state_level_bin 2 clf 0.469936281826\n",
      "incentive_residential_state_level_bin 3 clf 0.716698355297\n",
      "MSE: 775.1136\n",
      "MSE: 777.0925\n"
     ]
    }
   ],
   "source": [
    "from sklearn.metrics import mean_squared_error\n",
    "\n",
    "for model in models.keys():\n",
    "    for cat in model_results.keys():\n",
    "        y_preds = []\n",
    "        y_tests = []\n",
    "        for bn in model_results[cat]:\n",
    "            if bn != 'all':\n",
    "                print(cat, bn, model, model_results[cat][bn][model]['score'])\n",
    "                y_preds = y_preds + model_results[cat][bn][model]['y_pred'].tolist()\n",
    "                y_tests = y_tests + model_results[cat][bn][model]['y_test'].tolist()\n",
    "        mse = mean_squared_error(y_tests, y_preds)\n",
    "        mse_all = mean_squared_error(model_results[cat]['all'][model]['y_test'], model_results[cat]['all'][model]['y_pred'])\n",
    "        print(\"MSE: %.4f\" % mse)\n",
    "        print(\"MSE: %.4f\" % mse_all)"
   ]
  },
  {
   "cell_type": "markdown",
   "metadata": {},
   "source": [
    "## Linear Regression"
   ]
  },
  {
   "cell_type": "code",
   "execution_count": 146,
   "metadata": {},
   "outputs": [
    {
     "name": "stdout",
     "output_type": "stream",
     "text": [
      "health_insurance_none_rate 0.246023194378\n",
      "incentive_residential_state_level 0.289003075864\n",
      "feedin_tariff 0.323509848638\n",
      "poverty_family_count 0.335863417105\n",
      "occupancy_owner_rate 0.353514526026\n",
      "transportation_car_alone_rate 0.358961033025\n",
      "education_bachelor 0.363415353305\n",
      "housing_unit_median_gross_rent 0.365937690494\n",
      "travel_time_30_39_rate 0.382676752589\n"
     ]
    }
   ],
   "source": [
    "### Build a feature set by brute force one term at a time\n",
    "X = df.loc[:, ~(df.columns).isin([target]+ omit+edu_rate_omit+race_rate_omit+heat_fuel_rate_omit+ nonresidential+regardless_omit)]\n",
    "# features = ['median_household_income', 'education_bachelor_rate','population','race_white_rate', 'electricity_price_residential', \n",
    "#            'electricity_consume_residential', 'household_count','housing_unit_median_value','occupancy_owner_rate',\n",
    "#            'mortgage_with_rate', 'age_35_44_rate', 'age_median','incentive_residential_state_level', 'voting_2016_dem_win']\n",
    "\n",
    "\n",
    "# X = df[features]\n",
    "Y = df[target]\n",
    "\n",
    "all_features = list(X.columns)\n",
    "existing_features= ['daily_solar_radiation']\n",
    "prev_score= 0\n",
    "\n",
    "for ik in range(len(all_features)):\n",
    "    feature_scores = []\n",
    "    for feature in all_features:\n",
    "        X = df[existing_features + [feature]]\n",
    "        X_train, X_test, y_train, y_test = train_test_split(X, Y)\n",
    "        lin_reg = linear_model.LinearRegression()\n",
    "        lin_reg.fit(X_train, y_train)\n",
    "        new_score = lin_reg.score(X_test, y_test)\n",
    "        feature_scores.append(new_score)\n",
    "    feature_scores =np.array(feature_scores)\n",
    "    new_score = feature_scores[feature_scores.argmax()]\n",
    "    new_feature = all_features.pop(feature_scores.argmax())\n",
    "    if new_score>prev_score:\n",
    "        print(new_feature, new_score)\n",
    "        existing_features.append(new_feature)\n",
    "        prev_score = new_score\n",
    "#         if new_score>prev_score:\n",
    "#             prev_score = new_score\n",
    "#             existing_features.append(feature)\n",
    "#             print(feature, new_score)\n",
    "\n",
    "\n",
    "            "
   ]
  },
  {
   "cell_type": "code",
   "execution_count": 179,
   "metadata": {},
   "outputs": [
    {
     "name": "stdout",
     "output_type": "stream",
     "text": [
      "education_master 0.473348413398 0.456745041452\n"
     ]
    }
   ],
   "source": [
    "### Build a feature set by brute force subtracting one term at a time\n",
    "X = df.loc[:, ~(df.columns).isin([target]+ omit+edu_rate_omit+race_rate_omit+heat_fuel_rate_omit+ nonresidential+regardless_omit)]\n",
    "# features = ['median_household_income', 'education_bachelor_rate','population','race_white_rate', 'electricity_price_residential', \n",
    "#            'electricity_consume_residential', 'household_count','housing_unit_median_value','occupancy_owner_rate',\n",
    "#            'mortgage_with_rate', 'age_35_44_rate', 'age_median','incentive_residential_state_level', 'voting_2016_dem_win']\n",
    "\n",
    "\n",
    "# X = df[features]\n",
    "Y = df[target]\n",
    "\n",
    "X_train, X_test, y_train, y_test = train_test_split(X, Y)\n",
    "\n",
    "lin_reg = linear_model.LinearRegression()\n",
    "lin_reg.fit(X_train, y_train)\n",
    "prev_score = lin_reg.score(X_test, y_test)\n",
    "\n",
    "all_features = list(X.columns)\n",
    "existing_features= []\n",
    "\n",
    "for ik in range(len(all_features)):\n",
    "    feature_scores = []\n",
    "    features = []\n",
    "    for feature in all_features:\n",
    "        all_features2 = all_features\n",
    "        all_features2.remove(feature)\n",
    "        X = df[all_features2]\n",
    "        X_train, X_test, y_train, y_test = train_test_split(X, Y)\n",
    "        lin_reg = linear_model.LinearRegression()\n",
    "        lin_reg.fit(X_train, y_train)\n",
    "        new_score = lin_reg.score(X_test, y_test)\n",
    "        feature_scores.append(new_score)\n",
    "        features.append(feature)\n",
    "    feature_scores =np.array(feature_scores)\n",
    "    max_score = feature_scores[feature_scores.argmax()]\n",
    "    if max_score>prev_score:\n",
    "        new_feature = features.pop(feature_scores.argmax())\n",
    "        print(new_feature, max_score, prev_score)\n",
    "        prev_score = max_score\n",
    "    else:\n",
    "        break\n",
    "        \n",
    "#         if new_score>prev_score:\n",
    "#             prev_score = new_score\n",
    "#             existing_features.append(feature)\n",
    "#             print(feature, new_score)\n",
    "\n",
    "\n",
    "            "
   ]
  },
  {
   "cell_type": "code",
   "execution_count": 261,
   "metadata": {},
   "outputs": [
    {
     "name": "stdout",
     "output_type": "stream",
     "text": [
      "Index(['average_household_income', 'employed', 'land_area',\n",
      "       'per_capita_income', 'population', 'population_density',\n",
      "       'poverty_family_below_poverty_level', 'poverty_family_count',\n",
      "       'total_area', 'unemployed', 'median_household_income',\n",
      "       'electricity_price_residential', 'electricity_consume_residential',\n",
      "       'electricity_consume_commercial', 'household_count',\n",
      "       'housing_unit_count', 'housing_unit_occupied_count',\n",
      "       'housing_unit_median_value', 'housing_unit_median_gross_rent',\n",
      "       'elevation', 'frost_days', 'air_temperature', 'earth_temperature',\n",
      "       'heating_degree_days', 'cooling_degree_days',\n",
      "       'incentive_count_residential', 'incentive_count_nonresidential',\n",
      "       'incentive_residential_state_level',\n",
      "       'incentive_nonresidential_state_level', 'net_metering', 'feedin_tariff',\n",
      "       'property_tax', 'sales_tax', 'rebate', 'avg_electricity_retail_rate',\n",
      "       'median_income_per_area_residential', 'income_per_area_residential',\n",
      "       'household_density', 'daily_solar_radiation_bin', 'age_retired'],\n",
      "      dtype='object')\n"
     ]
    }
   ],
   "source": [
    "from sklearn.feature_selection import SelectKBest, chi2\n",
    "selected = SelectKBest(chi2, k=40).fit(X_train.loc[:, ~X_train.columns.isin(['solar_system_count_residential'])], y_train)\n",
    "\n",
    "kbestcols = X_train.loc[:, ~X_train.columns.isin(['solar_system_count_residential'])].columns[selected.get_support()]\n",
    "print(kbestcols)"
   ]
  },
  {
   "cell_type": "code",
   "execution_count": 262,
   "metadata": {},
   "outputs": [
    {
     "data": {
      "text/plain": [
       "0.39903895342565532"
      ]
     },
     "execution_count": 262,
     "metadata": {},
     "output_type": "execute_result"
    }
   ],
   "source": [
    "# X = df.loc[:, ~(df.columns).isin([target]+ omit+edu_rate_omit+race_rate_omit+heat_fuel_rate_omit+ nonresidential+regardless_omit)]\n",
    "# X = df[kbestcols] # underperformed the full culled feature set\n",
    "# Y = df[target]\n",
    "# X_train, X_test, y_train, y_test = train_test_split(X[kbestcols], Y)\n",
    "\n",
    "lin_reg = linear_model.LinearRegression()\n",
    "lin_reg.fit(X_train[kbestcols], y_train)\n",
    "lin_reg.score(X_test[kbestcols], y_test)"
   ]
  },
  {
   "cell_type": "code",
   "execution_count": 221,
   "metadata": {},
   "outputs": [],
   "source": [
    "X = df.loc[:, ~(df.columns).isin([target]+ omit+edu_rate_omit+race_rate_omit+heat_fuel_rate_omit+ nonresidential+regardless_omit)]\n",
    "# X = df[kbestcols] # underperformed the full culled feature set\n",
    "Y = df[target]\n",
    "X_train, X_test, y_train, y_test = train_test_split(X, Y)\n",
    "\n",
    "lin_reg = linear_model.LinearRegression()\n",
    "lin_reg.fit(X_train, y_train)\n",
    "prev_score = lin_reg.score(X_test, y_test)"
   ]
  },
  {
   "cell_type": "code",
   "execution_count": 222,
   "metadata": {},
   "outputs": [],
   "source": [
    "pred = lin_reg.predict(X_test)"
   ]
  },
  {
   "cell_type": "code",
   "execution_count": 223,
   "metadata": {},
   "outputs": [
    {
     "data": {
      "text/plain": [
       "0.46999702488633643"
      ]
     },
     "execution_count": 223,
     "metadata": {},
     "output_type": "execute_result"
    }
   ],
   "source": [
    "lin_reg.score(X_test, y_test)"
   ]
  },
  {
   "cell_type": "code",
   "execution_count": 164,
   "metadata": {
    "scrolled": true
   },
   "outputs": [
    {
     "data": {
      "text/plain": [
       "Index(['age_more_than_85_rate', 'household_type_family_rate', 'age_45_54_rate',\n",
       "       'age_35_44_rate', 'occupation_information_rate',\n",
       "       'travel_time_60_89_rate', 'age_55_64_rate', 'air_temperature',\n",
       "       'travel_time_30_39_rate', 'travel_time_less_than_10_rate',\n",
       "       ...\n",
       "       'gini_index', 'occupation_education_rate', 'occupation_retail_rate',\n",
       "       'occupancy_vacant_rate', 'occupation_construction_rate',\n",
       "       'occupation_public_rate', 'employ_rate', 'voting_2016_gop_percentage',\n",
       "       'voting_2016_dem_percentage', 'transportation_motorcycle_rate'],\n",
       "      dtype='object', length=126)"
      ]
     },
     "execution_count": 164,
     "metadata": {},
     "output_type": "execute_result"
    }
   ],
   "source": [
    "X.columns[lin_reg.coef_.argsort()]"
   ]
  },
  {
   "cell_type": "code",
   "execution_count": 165,
   "metadata": {},
   "outputs": [
    {
     "data": {
      "text/plain": [
       "<matplotlib.collections.PathCollection at 0x11f1f63c8>"
      ]
     },
     "execution_count": 165,
     "metadata": {},
     "output_type": "execute_result"
    },
    {
     "data": {
      "image/png": "[encoded data removed]",
      "text/plain": [
       "<matplotlib.figure.Figure at 0x1191636a0>"
      ]
     },
     "metadata": {},
     "output_type": "display_data"
    }
   ],
   "source": [
    "plt.scatter(y_test,pred)"
   ]
  },
  {
   "cell_type": "code",
   "execution_count": 166,
   "metadata": {},
   "outputs": [
    {
     "name": "stderr",
     "output_type": "stream",
     "text": [
      "/usr/local/lib/python3.6/site-packages/sklearn/linear_model/coordinate_descent.py:491: ConvergenceWarning: Objective did not converge. You might want to increase the number of iterations. Fitting data with very small alpha may cause precision problems.\n",
      "  ConvergenceWarning)\n"
     ]
    },
    {
     "data": {
      "text/plain": [
       "0.40495337704912271"
      ]
     },
     "execution_count": 166,
     "metadata": {},
     "output_type": "execute_result"
    }
   ],
   "source": [
    "lasso = linear_model.Lasso()\n",
    "lasso.fit(X_train, y_train)\n",
    "lasso.score(X_test, y_test)"
   ]
  },
  {
   "cell_type": "code",
   "execution_count": 167,
   "metadata": {},
   "outputs": [
    {
     "name": "stderr",
     "output_type": "stream",
     "text": [
      "/usr/local/lib/python3.6/site-packages/sklearn/linear_model/ridge.py:125: LinAlgWarning: scipy.linalg.solve\n",
      "Ill-conditioned matrix detected. Result is not guaranteed to be accurate.\n",
      "Reciprocal condition number8.299907e-23\n",
      "  overwrite_a=True).T\n"
     ]
    },
    {
     "data": {
      "text/plain": [
       "0.47492195004576493"
      ]
     },
     "execution_count": 167,
     "metadata": {},
     "output_type": "execute_result"
    }
   ],
   "source": [
    "ridge = linear_model.Ridge()\n",
    "ridge.fit(X_train, y_train)\n",
    "ridge.score(X_test, y_test)"
   ]
  },
  {
   "cell_type": "markdown",
   "metadata": {},
   "source": [
    "## Support Vector Machines (Regression)"
   ]
  },
  {
   "cell_type": "code",
   "execution_count": 100,
   "metadata": {},
   "outputs": [
    {
     "name": "stderr",
     "output_type": "stream",
     "text": [
      "/usr/local/lib/python3.6/site-packages/sklearn/preprocessing/data.py:617: DataConversionWarning: Data with input dtype bool, int64, float64 were all converted to float64 by StandardScaler.\n",
      "  return self.partial_fit(X, y)\n"
     ]
    },
    {
     "data": {
      "text/plain": [
       "StandardScaler(copy=True, with_mean=True, with_std=True)"
      ]
     },
     "execution_count": 100,
     "metadata": {},
     "output_type": "execute_result"
    }
   ],
   "source": [
    "scaler = StandardScaler()\n",
    "scaler.fit(X_train)"
   ]
  },
  {
   "cell_type": "code",
   "execution_count": 55,
   "metadata": {},
   "outputs": [
    {
     "name": "stderr",
     "output_type": "stream",
     "text": [
      "/usr/local/lib/python3.6/site-packages/ipykernel_launcher.py:4: DataConversionWarning: Data with input dtype bool, int64, float64 were all converted to float64 by StandardScaler.\n",
      "  after removing the cwd from sys.path.\n"
     ]
    },
    {
     "data": {
      "text/plain": [
       "SVR(C=1.0, cache_size=200, coef0=0.0, degree=3, epsilon=0.1,\n",
       "  gamma='auto_deprecated', kernel='linear', max_iter=-1, shrinking=True,\n",
       "  tol=0.001, verbose=False)"
      ]
     },
     "execution_count": 55,
     "metadata": {},
     "output_type": "execute_result"
    }
   ],
   "source": [
    "from sklearn.svm import SVR\n",
    "params = {'kernel' :'linear'}\n",
    "svr = SVR(**params)\n",
    "svr.fit(scaler.transform(X_train), y_train)"
   ]
  },
  {
   "cell_type": "code",
   "execution_count": 56,
   "metadata": {},
   "outputs": [
    {
     "name": "stderr",
     "output_type": "stream",
     "text": [
      "/usr/local/lib/python3.6/site-packages/ipykernel_launcher.py:1: DataConversionWarning: Data with input dtype bool, int64, float64 were all converted to float64 by StandardScaler.\n",
      "  \"\"\"Entry point for launching an IPython kernel.\n",
      "/usr/local/lib/python3.6/site-packages/ipykernel_launcher.py:2: DataConversionWarning: Data with input dtype bool, int64, float64 were all converted to float64 by StandardScaler.\n",
      "  \n"
     ]
    },
    {
     "data": {
      "text/plain": [
       "0.45637167901002962"
      ]
     },
     "execution_count": 56,
     "metadata": {},
     "output_type": "execute_result"
    }
   ],
   "source": [
    "preds = svr.predict(scaler.transform(X_test))\n",
    "svr.score(scaler.transform(X_test), y_test)"
   ]
  },
  {
   "cell_type": "markdown",
   "metadata": {},
   "source": [
    "## Ensemble Methods"
   ]
  },
  {
   "cell_type": "code",
   "execution_count": 101,
   "metadata": {},
   "outputs": [
    {
     "data": {
      "text/plain": [
       "GradientBoostingRegressor(alpha=0.9, criterion='friedman_mse', init=None,\n",
       "             learning_rate=0.01, loss='ls', max_depth=6, max_features=None,\n",
       "             max_leaf_nodes=None, min_impurity_decrease=0.0,\n",
       "             min_impurity_split=None, min_samples_leaf=1,\n",
       "             min_samples_split=2, min_weight_fraction_leaf=0.0,\n",
       "             n_estimators=500, n_iter_no_change=None, presort='auto',\n",
       "             random_state=None, subsample=1.0, tol=0.0001,\n",
       "             validation_fraction=0.1, verbose=0, warm_start=False)"
      ]
     },
     "execution_count": 101,
     "metadata": {},
     "output_type": "execute_result"
    }
   ],
   "source": [
    "from sklearn import ensemble\n",
    "\n",
    "# Fit regression model\n",
    "params = {'n_estimators': 500, 'max_depth': 6, 'min_samples_split': 2,\n",
    "          'learning_rate': 0.01, 'loss': 'ls'}\n",
    "\n",
    "clf = ensemble.GradientBoostingRegressor(**params)\n",
    "\n",
    "clf.fit(X_train, y_train)\n"
   ]
  },
  {
   "cell_type": "code",
   "execution_count": 102,
   "metadata": {},
   "outputs": [
    {
     "data": {
      "text/plain": [
       "0.76989257352532736"
      ]
     },
     "execution_count": 102,
     "metadata": {},
     "output_type": "execute_result"
    }
   ],
   "source": [
    "clf.score(X_test, y_test)"
   ]
  },
  {
   "cell_type": "code",
   "execution_count": 103,
   "metadata": {},
   "outputs": [
    {
     "name": "stdout",
     "output_type": "stream",
     "text": [
      "MSE: 2428.8544\n"
     ]
    },
    {
     "data": {
      "text/plain": [
       "<matplotlib.text.Text at 0x125fe82b0>"
      ]
     },
     "execution_count": 103,
     "metadata": {},
     "output_type": "execute_result"
    },
    {
     "data": {
      "image/png": "[encoded data removed]",
      "text/plain": [
       "<matplotlib.figure.Figure at 0x1260174a8>"
      ]
     },
     "metadata": {},
     "output_type": "display_data"
    }
   ],
   "source": [
    "# https://scikit-learn.org/stable/auto_examples/ensemble/plot_gradient_boosting_regression.html#sphx-glr-auto-examples-ensemble-plot-gradient-boosting-regression-py\n",
    "from sklearn.metrics import mean_squared_error\n",
    "mse = mean_squared_error(y_test, clf.predict(X_test))\n",
    "print(\"MSE: %.4f\" % mse)\n",
    "\n",
    "# #############################################################################\n",
    "# Plot training deviance\n",
    "\n",
    "# compute test set deviance\n",
    "test_score = np.zeros((params['n_estimators'],), dtype=np.float64)\n",
    "\n",
    "for i, y_pred in enumerate(clf.staged_predict(X_test)):\n",
    "    test_score[i] = clf.loss_(y_test, y_pred)\n",
    "\n",
    "plt.figure(figsize=(12, 6))\n",
    "plt.subplot(1, 2, 1)\n",
    "plt.title('Deviance')\n",
    "plt.plot(np.arange(params['n_estimators']) + 1, clf.train_score_, 'b-',\n",
    "         label='Training Set Deviance')\n",
    "plt.plot(np.arange(params['n_estimators']) + 1, test_score, 'r-',\n",
    "         label='Test Set Deviance')\n",
    "plt.legend(loc='upper right')\n",
    "plt.xlabel('Boosting Iterations')\n",
    "plt.ylabel('Deviance')\n",
    "\n",
    "# #############################################################################\n",
    "# Plot feature importance\n",
    "feature_importance = clf.feature_importances_\n",
    "# make importances relative to max importance\n",
    "feature_importance = 100.0 * (feature_importance / feature_importance.max())\n",
    "sorted_idx = np.argsort(feature_importance)\n",
    "pos = np.arange(sorted_idx.shape[0]) + .5\n",
    "plt.subplot(1, 2, 2)\n",
    "plt.barh(pos[:30], feature_importance[sorted_idx][:30], align='center')\n",
    "plt.yticks(pos[:30], X_test.columns[sorted_idx][:30])\n",
    "plt.xlabel('Relative Importance')\n",
    "plt.title('Variable Importance')"
   ]
  },
  {
   "cell_type": "code",
   "execution_count": 168,
   "metadata": {},
   "outputs": [
    {
     "name": "stderr",
     "output_type": "stream",
     "text": [
      "/usr/local/lib/python3.6/site-packages/ipykernel_launcher.py:3: SettingWithCopyWarning: \n",
      "A value is trying to be set on a copy of a slice from a DataFrame.\n",
      "Try using .loc[row_indexer,col_indexer] = value instead\n",
      "\n",
      "See the caveats in the documentation: http://pandas.pydata.org/pandas-docs/stable/indexing.html#indexing-view-versus-copy\n",
      "  This is separate from the ipykernel package so we can avoid doing imports until\n",
      "/usr/local/lib/python3.6/site-packages/sklearn/model_selection/_split.py:1943: FutureWarning: You should specify a value for 'cv' instead of relying on the default value. The default value will change from 3 to 5 in version 0.22.\n",
      "  warnings.warn(CV_WARNING, FutureWarning)\n"
     ]
    },
    {
     "name": "stdout",
     "output_type": "stream",
     "text": [
      "[ 0.63735404  0.65167631  0.68222693]\n"
     ]
    }
   ],
   "source": [
    "## Random Forests\n",
    "\n",
    "X_train['target'] = y_train\n",
    "X_train = X_train.dropna()\n",
    "y_train = X_train['target']\n",
    "X_train = X_train.loc[:, ~(X_train.columns).isin(['target', target])]\n",
    "\n",
    "rfr = ensemble.RandomForestRegressor(max_depth=6, random_state=0, n_estimators=100)\n",
    "rfr.fit(X_train, y_train)\n",
    "print(cross_val_score(rfr, X_train, y_train))\n"
   ]
  },
  {
   "cell_type": "code",
   "execution_count": 169,
   "metadata": {},
   "outputs": [
    {
     "name": "stdout",
     "output_type": "stream",
     "text": [
      "0.664070299232\n"
     ]
    }
   ],
   "source": [
    "X_test = X_test.loc[:, ~(X_test.columns).isin(['target', target])]\n",
    "print(rfr.score(X_test, y_test))"
   ]
  },
  {
   "cell_type": "code",
   "execution_count": null,
   "metadata": {},
   "outputs": [],
   "source": []
  }
 ],
 "metadata": {
  "kernelspec": {
   "display_name": "Python 3",
   "language": "python",
   "name": "python3"
  },
  "language_info": {
   "codemirror_mode": {
    "name": "ipython",
    "version": 3
   },
   "file_extension": ".py",
   "mimetype": "text/x-python",
   "name": "python",
   "nbconvert_exporter": "python",
   "pygments_lexer": "ipython3",
   "version": "3.6.5"
  }
 },
 "nbformat": 4,
 "nbformat_minor": 2
}
