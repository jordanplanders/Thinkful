{
 "cells": [
  {
   "cell_type": "markdown",
   "metadata": {},
   "source": [
    "Code to test if a data can be classified into a particular bin of residential solar usage on the theory that regression models trained per bin might capture nuance of the subgroups more effectively"
   ]
  },
  {
   "cell_type": "code",
   "execution_count": 55,
   "metadata": {},
   "outputs": [],
   "source": [
    "import pandas as pd\n",
    "import numpy as np\n",
    "import matplotlib.pyplot as plt\n",
    "%matplotlib inline\n",
    "import seaborn as sns\n",
    "\n",
    "from sklearn.model_selection import train_test_split, cross_val_score\n",
    "from sklearn.preprocessing import StandardScaler\n",
    "from sklearn import linear_model, ensemble, svm"
   ]
  },
  {
   "cell_type": "code",
   "execution_count": 3,
   "metadata": {},
   "outputs": [],
   "source": [
    "def histedges_equalN(x, nbin):\n",
    "    npt = len(x)\n",
    "    return np.interp(np.linspace(0, npt, nbin + 1),\n",
    "                     np.arange(npt),\n",
    "                     np.sort(x))"
   ]
  },
  {
   "cell_type": "code",
   "execution_count": 46,
   "metadata": {},
   "outputs": [],
   "source": [
    "# https://www.kaggle.com/tunguz/deep-solar-dataset\n",
    "df_all = pd.read_csv('deepsolar_tract.csv', encoding='latin-1')\n",
    "df = df_all.dropna()\n",
    "#df = df[df['solar_system_count_residential']>0]"
   ]
  },
  {
   "cell_type": "code",
   "execution_count": 47,
   "metadata": {},
   "outputs": [
    {
     "name": "stdout",
     "output_type": "stream",
     "text": [
      "county\n",
      "state\n",
      "electricity_price_transportation\n"
     ]
    }
   ],
   "source": [
    "for col in df_all.columns:\n",
    "    try:\n",
    "        pd.to_numeric(df_all[col])\n",
    "    except:\n",
    "        print(col)"
   ]
  },
  {
   "cell_type": "code",
   "execution_count": 48,
   "metadata": {},
   "outputs": [
    {
     "name": "stderr",
     "output_type": "stream",
     "text": [
      "/usr/local/lib/python3.6/site-packages/ipykernel_launcher.py:1: SettingWithCopyWarning: \n",
      "A value is trying to be set on a copy of a slice from a DataFrame.\n",
      "Try using .loc[row_indexer,col_indexer] = value instead\n",
      "\n",
      "See the caveats in the documentation: http://pandas.pydata.org/pandas-docs/stable/indexing.html#indexing-view-versus-copy\n",
      "  \"\"\"Entry point for launching an IPython kernel.\n",
      "/usr/local/lib/python3.6/site-packages/ipykernel_launcher.py:2: SettingWithCopyWarning: \n",
      "A value is trying to be set on a copy of a slice from a DataFrame.\n",
      "Try using .loc[row_indexer,col_indexer] = value instead\n",
      "\n",
      "See the caveats in the documentation: http://pandas.pydata.org/pandas-docs/stable/indexing.html#indexing-view-versus-copy\n",
      "  \n",
      "/usr/local/lib/python3.6/site-packages/ipykernel_launcher.py:3: SettingWithCopyWarning: \n",
      "A value is trying to be set on a copy of a slice from a DataFrame.\n",
      "Try using .loc[row_indexer,col_indexer] = value instead\n",
      "\n",
      "See the caveats in the documentation: http://pandas.pydata.org/pandas-docs/stable/indexing.html#indexing-view-versus-copy\n",
      "  This is separate from the ipykernel package so we can avoid doing imports until\n",
      "/usr/local/lib/python3.6/site-packages/ipykernel_launcher.py:4: SettingWithCopyWarning: \n",
      "A value is trying to be set on a copy of a slice from a DataFrame.\n",
      "Try using .loc[row_indexer,col_indexer] = value instead\n",
      "\n",
      "See the caveats in the documentation: http://pandas.pydata.org/pandas-docs/stable/indexing.html#indexing-view-versus-copy\n",
      "  after removing the cwd from sys.path.\n",
      "/usr/local/lib/python3.6/site-packages/ipykernel_launcher.py:5: SettingWithCopyWarning: \n",
      "A value is trying to be set on a copy of a slice from a DataFrame.\n",
      "Try using .loc[row_indexer,col_indexer] = value instead\n",
      "\n",
      "See the caveats in the documentation: http://pandas.pydata.org/pandas-docs/stable/indexing.html#indexing-view-versus-copy\n",
      "  \"\"\"\n"
     ]
    }
   ],
   "source": [
    "df['median_income_per_area_residential'] = df['median_household_income'].div(df.land_area)\n",
    "df['income_per_area_residential'] = df['average_household_income']*df['household_count'].div(df.land_area)\n",
    "df['household_density'] = df['household_count'].div(df.land_area)\n",
    "df['education_higher_ed_rate'] = (df['education_bachelor'] + df['education_doctoral'] + df['education_master'] + df['education_professional_school']).div(df.education_population)\n",
    "df['age_retired']= df.population*df.age_65_74_rate + df.population*df.age_75_84_rate + df.population*df.age_more_than_85_rate \n",
    "\n"
   ]
  },
  {
   "cell_type": "code",
   "execution_count": 107,
   "metadata": {},
   "outputs": [],
   "source": [
    "target = 'solar_system_count_residential'#'total_panel_area'\n",
    "\n",
    "# binned_var_omit = [col for col in df.columns if '_bin' in col]\n",
    "\n",
    "omit = ['Unnamed: 0','fips','solar_system_count_nonresidential', 'total_panel_area', 'population_density_bin_equalwidth','population_density_bin_equaln','fips', 'county', 'electricity_price_transportation', 'total_panel_area_residential',\n",
    "'total_panel_area_nonresidential',  'education_population','solar_panel_area_divided_by_area', 'solar_panel_area_per_capita',\n",
    "        'tile_count','tile_count_residential', 'tile_count_nonresidential','number_of_solar_system_per_household', 'solar_system_count']\n",
    "\n",
    "edu_omit = ['education_bachelor','education_college','education_doctoral','education_high_school_graduate','education_less_than_high_school','education_master','education_professional_school']\n",
    "race_omit = ['race_asian','race_black_africa','race_indian_alaska','race_islander','race_other','race_two_more','race_white', 'race_indian_alaska_rate','race_two_more_rate']\n",
    "heat_fuel_omit = ['heating_fuel_coal_coke','heating_fuel_electricity','heating_fuel_fuel_oil_kerosene','heating_fuel_gas','heating_fuel_housing_unit_count',\n",
    "'heating_fuel_none','heating_fuel_other','heating_fuel_solar', 'heating_fuel_solar_rate']\n",
    "\n",
    "\n",
    "edu_rate_omit = ['education_bachelor_rate','education_college_rate','education_doctoral_rate','education_high_school_graduate_rate','education_less_than_high_school_rate','education_master_rate','education_professional_school_rate']\n",
    "race_rate_omit = ['race_asian_rate','race_black_africa_rate','race_indian_alaska_rate','race_islander_rate','race_other_rate','race_two_more_rate','race_white_rate','race_indian_alaska','race_two_more']\n",
    "heat_fuel_rate_omit = ['heating_fuel_coal_coke_rate','heating_fuel_electricity_rate','heating_fuel_fuel_oil_kerosene_rate','heating_fuel_gas_rate','heating_fuel_housing_unit_count_rate',\n",
    "'heating_fuel_none_rate','heating_fuel_other_rate','heating_fuel_solar_rate', 'heating_fuel_solar']\n",
    "\n",
    "nonresidential = ['electricity_price_overall', 'electricity_consume_industrial', 'electricity_consume_total','electricity_price_industrial','electricity_price_commercial']\n",
    "\n",
    "regardless_omit =['water_area', 'lon', 'heating_design_temperature']#['heating_fuel_fuel_oil_kerosene_rate','heating_fuel_fuel_oil_kerosene','race_indian_alaska_rate','race_islander_rate', 'race_indian_alaska','race_islander']"
   ]
  },
  {
   "cell_type": "markdown",
   "metadata": {},
   "source": [
    "Testing a classifier followed by a regression model"
   ]
  },
  {
   "cell_type": "code",
   "execution_count": 64,
   "metadata": {},
   "outputs": [
    {
     "data": {
      "image/png": "[encoded data removed]",
      "text/plain": [
       "<matplotlib.figure.Figure at 0x112749908>"
      ]
     },
     "metadata": {},
     "output_type": "display_data"
    }
   ],
   "source": [
    "# Set up the training set and test set for splitting solar_system_count_residetial\n",
    "# into n bins which will then be used to train a classifier\n",
    "\n",
    "X = df.loc[:, ~(df.columns).isin(omit+regardless_omit+edu_omit+race_omit+heat_fuel_omit+ nonresidential)]#+binned_var_omit)]\n",
    "Y = df[target]\n",
    "\n",
    "X_train, X_test, y_train, y_test = train_test_split(X, Y)\n",
    "\n",
    "n, ssc_bins_equln, patches = plt.hist(X_train.solar_system_count_residential, histedges_equalN(X_train.solar_system_count_residential, 6))\n",
    "ssc_bins_equln[0] = -1\n",
    "y_train_bins = pd.cut(X_train['solar_system_count_residential'],ssc_bins_equln, labels = [n for n in range(len(ssc_bins_equln)-1)])\n",
    "y_test_bins  = pd.cut(X_test['solar_system_count_residential'], ssc_bins_equln, labels = [n for n in range(len(ssc_bins_equln)-1)])\n",
    "\n",
    "X_train_bins = X_train.loc[:, ~(X_train.columns).isin([target])]\n",
    "X_test_bins = X_test.loc[:, ~(X_test.columns).isin([target])]\n",
    "\n"
   ]
  },
  {
   "cell_type": "code",
   "execution_count": 110,
   "metadata": {},
   "outputs": [],
   "source": [
    "# Set up the training set and test set for solar/no solar classification\n",
    "\n",
    "X = df.loc[:, ~(df.columns).isin(omit+regardless_omit+edu_omit+race_omit+heat_fuel_omit+ nonresidential)]#+binned_var_omit)]\n",
    "# X = df.loc[:, ~(df.columns).isin([target]+ omit+edu_rate_omit+race_rate_omit+heat_fuel_rate_omit+regardless_omit+ nonresidential)]\n",
    "# features = ['median_household_income', 'education_bachelor_rate','population','race_white_rate', 'electricity_price_residential', \n",
    "#            'electricity_consume_residential', 'household_count','housing_unit_median_value','occupancy_owner_rate',\n",
    "#            'mortgage_with_rate', 'age_35_44_rate', 'age_median','incentive_residential_state_level', 'voting_2016_dem_win']\n",
    "\n",
    "\n",
    "# X = df[features]\n",
    "Y = df[target]\n",
    "\n",
    "X_train, X_test, y_train, y_test = train_test_split(X, Y)\n",
    "\n",
    "y_train_bins = [1 if cts > 0 else 0 for cts in X_train['solar_system_count_residential']]\n",
    "y_test_bins= [1 if cts > 0 else 0 for cts in X_test['solar_system_count_residential']]\n",
    "\n",
    "X_train_bins = X_train.loc[:, ~(X_train.columns).isin([target]+['state'])]\n",
    "X_test_bins = X_test.loc[:, ~(X_test.columns).isin([target]+ ['state'])]\n",
    "\n"
   ]
  },
  {
   "cell_type": "code",
   "execution_count": null,
   "metadata": {},
   "outputs": [],
   "source": [
    "import time\n",
    "start = time.time()\n",
    "params = {'loss' : 'deviance',\n",
    "         'learning_rate':.01 ,\n",
    "         'n_estimators':400 ,\n",
    "          'criterion': 'friedman_mse',\n",
    "          'min_samples_split':3, \n",
    "          'min_samples_leaf':1,\n",
    "          'max_depth':4, \n",
    "         }\n",
    "gbc = ensemble.GradientBoostingClassifier(**params)\n",
    "gbc.fit(X_train_bins, y_train_bins)\n",
    "print(gbc.score(X_test_bins, y_test_bins))\n",
    "end = time.time()\n",
    "total_time = end-start\n",
    "print('total time:', total_time)"
   ]
  },
  {
   "cell_type": "code",
   "execution_count": 112,
   "metadata": {},
   "outputs": [],
   "source": [
    "preds = gbc.predict(X_test_bins)"
   ]
  },
  {
   "cell_type": "code",
   "execution_count": null,
   "metadata": {},
   "outputs": [],
   "source": [
    "X_test['preds'] = preds\n",
    "X_test['y_test'] = y_test_bins\n",
    "X_test[target] = y_test\n",
    "\n",
    "df_fp = X_test[(X_test.preds==1) & (X_test.y_test==0)]\n",
    "df_fn = X_test[(X_test.preds==0) & (X_test.y_test==1)]"
   ]
  },
  {
   "cell_type": "code",
   "execution_count": 131,
   "metadata": {},
   "outputs": [
    {
     "data": {
      "text/plain": [
       "(1728, 792, 13525)"
      ]
     },
     "execution_count": 131,
     "metadata": {},
     "output_type": "execute_result"
    }
   ],
   "source": [
    "len(df_fp), len(df_fn), len(X_test)"
   ]
  },
  {
   "cell_type": "code",
   "execution_count": 133,
   "metadata": {},
   "outputs": [
    {
     "data": {
      "text/plain": [
       "(40, 39)"
      ]
     },
     "execution_count": 133,
     "metadata": {},
     "output_type": "execute_result"
    }
   ],
   "source": [
    "len(fp_grps), len(fn_grps)"
   ]
  },
  {
   "cell_type": "code",
   "execution_count": 118,
   "metadata": {},
   "outputs": [
    {
     "name": "stdout",
     "output_type": "stream",
     "text": [
      "al 47\n",
      "ar 29\n",
      "az 13\n",
      "ca 36\n",
      "de 3\n",
      "ia 30\n",
      "id 3\n",
      "il 162\n",
      "in 69\n",
      "ks 17\n",
      "ky 47\n",
      "la 13\n",
      "ma 9\n",
      "md 38\n",
      "me 16\n",
      "mi 80\n",
      "mn 52\n",
      "mo 34\n",
      "ms 22\n",
      "mt 11\n",
      "nc 90\n",
      "nd 7\n",
      "ne 13\n",
      "nh 6\n",
      "nj 23\n",
      "nm 10\n",
      "nv 3\n",
      "ny 134\n",
      "oh 107\n",
      "ok 31\n",
      "or 6\n",
      "pa 92\n",
      "ri 8\n",
      "sd 11\n",
      "tn 63\n",
      "tx 217\n",
      "va 100\n",
      "wa 20\n",
      "wi 42\n",
      "wv 14\n",
      "False Negatives\n",
      "al 35\n",
      "ar 11\n",
      "az 6\n",
      "ca 4\n",
      "ia 8\n",
      "id 4\n",
      "il 78\n",
      "in 33\n",
      "ks 14\n",
      "ky 16\n",
      "la 7\n",
      "ma 2\n",
      "md 6\n",
      "me 2\n",
      "mi 77\n",
      "mn 15\n",
      "mo 24\n",
      "ms 24\n",
      "mt 4\n",
      "nc 20\n",
      "nd 7\n",
      "ne 12\n",
      "nh 2\n",
      "nj 2\n",
      "nm 1\n",
      "nv 2\n",
      "ny 92\n",
      "oh 44\n",
      "ok 21\n",
      "or 6\n",
      "pa 55\n",
      "sd 5\n",
      "tn 31\n",
      "tx 47\n",
      "va 24\n",
      "vt 3\n",
      "wa 7\n",
      "wi 25\n",
      "wv 16\n"
     ]
    }
   ],
   "source": [
    "fp_grps = df_fp.groupby('state')\n",
    "for grp in fp_grps:\n",
    "    print(grp[0], len(grp[1]))\n",
    "    \n",
    "print('False Negatives')\n",
    "fn_grps = df_fn.groupby('state')\n",
    "for grp in fn_grps:\n",
    "    print(grp[0], len(grp[1]))"
   ]
  },
  {
   "cell_type": "code",
   "execution_count": 130,
   "metadata": {},
   "outputs": [
    {
     "data": {
      "text/plain": [
       "<matplotlib.text.Text at 0x121824fd0>"
      ]
     },
     "execution_count": 130,
     "metadata": {},
     "output_type": "execute_result"
    },
    {
     "data": {
      "image/png": "[encoded data removed]",
      "text/plain": [
       "<matplotlib.figure.Figure at 0x11d361c18>"
      ]
     },
     "metadata": {},
     "output_type": "display_data"
    }
   ],
   "source": [
    "variables = ['median_household_income','population_density', \n",
    "             'population','race_white_rate','electricity_consume_residential',\n",
    "             'electricity_price_residential','daily_solar_radiation', \n",
    "             'voting_2016_dem_win', 'household_count',\n",
    "             'cooling_design_temperature','education_bachelor_rate','education_higher_ed_rate',\n",
    "            'land_area','occupancy_owner_rate', 'incentive_residential_state_level']\n",
    "\n",
    "fig, ax = plt.subplots(ncols = 2, nrows = len(variables), sharey=True,figsize = [6, 24])\n",
    "for ind, var in enumerate(variables):\n",
    "    ax[ind][0].hist(df_fp[var])\n",
    "    ax[ind][1].hist(df_fn[var])\n",
    "    ax[ind][0].set_ylabel(var)\n",
    "\n",
    "\n",
    "ax[0][0].set_title(\"False Positives\")\n",
    "ax[0][1].set_title('False Negatives')"
   ]
  },
  {
   "cell_type": "code",
   "execution_count": 67,
   "metadata": {},
   "outputs": [
    {
     "name": "stderr",
     "output_type": "stream",
     "text": [
      "/usr/local/lib/python3.6/site-packages/ipykernel_launcher.py:20: SettingWithCopyWarning: \n",
      "A value is trying to be set on a copy of a slice from a DataFrame.\n",
      "Try using .loc[row_indexer,col_indexer] = value instead\n",
      "\n",
      "See the caveats in the documentation: http://pandas.pydata.org/pandas-docs/stable/indexing.html#indexing-view-versus-copy\n",
      "/usr/local/lib/python3.6/site-packages/ipykernel_launcher.py:21: SettingWithCopyWarning: \n",
      "A value is trying to be set on a copy of a slice from a DataFrame.\n",
      "Try using .loc[row_indexer,col_indexer] = value instead\n",
      "\n",
      "See the caveats in the documentation: http://pandas.pydata.org/pandas-docs/stable/indexing.html#indexing-view-versus-copy\n",
      "/usr/local/lib/python3.6/site-packages/sklearn/model_selection/_split.py:1943: FutureWarning: You should specify a value for 'cv' instead of relying on the default value. The default value will change from 3 to 5 in version 0.22.\n",
      "  warnings.warn(CV_WARNING, FutureWarning)\n"
     ]
    },
    {
     "name": "stdout",
     "output_type": "stream",
     "text": [
      "bins 0 lin_reg [ 1.  1.  1.]\n"
     ]
    },
    {
     "name": "stderr",
     "output_type": "stream",
     "text": [
      "/usr/local/lib/python3.6/site-packages/sklearn/model_selection/_split.py:1943: FutureWarning: You should specify a value for 'cv' instead of relying on the default value. The default value will change from 3 to 5 in version 0.22.\n",
      "  warnings.warn(CV_WARNING, FutureWarning)\n"
     ]
    },
    {
     "name": "stdout",
     "output_type": "stream",
     "text": [
      "bins 0 clf [ 1.  1.  1.]\n"
     ]
    },
    {
     "name": "stderr",
     "output_type": "stream",
     "text": [
      "/usr/local/lib/python3.6/site-packages/sklearn/model_selection/_split.py:1943: FutureWarning: You should specify a value for 'cv' instead of relying on the default value. The default value will change from 3 to 5 in version 0.22.\n",
      "  warnings.warn(CV_WARNING, FutureWarning)\n"
     ]
    },
    {
     "name": "stdout",
     "output_type": "stream",
     "text": [
      "bins 1 lin_reg [ 1.  1.  1.]\n"
     ]
    },
    {
     "name": "stderr",
     "output_type": "stream",
     "text": [
      "/usr/local/lib/python3.6/site-packages/sklearn/model_selection/_split.py:1943: FutureWarning: You should specify a value for 'cv' instead of relying on the default value. The default value will change from 3 to 5 in version 0.22.\n",
      "  warnings.warn(CV_WARNING, FutureWarning)\n"
     ]
    },
    {
     "name": "stdout",
     "output_type": "stream",
     "text": [
      "bins 1 clf [ 1.  1.  1.]\n",
      "bins 2 "
     ]
    },
    {
     "name": "stderr",
     "output_type": "stream",
     "text": [
      "/usr/local/lib/python3.6/site-packages/sklearn/model_selection/_split.py:1943: FutureWarning: You should specify a value for 'cv' instead of relying on the default value. The default value will change from 3 to 5 in version 0.22.\n",
      "  warnings.warn(CV_WARNING, FutureWarning)\n"
     ]
    },
    {
     "name": "stdout",
     "output_type": "stream",
     "text": [
      "lin_reg [ 1.  1.  1.]\n"
     ]
    },
    {
     "name": "stderr",
     "output_type": "stream",
     "text": [
      "/usr/local/lib/python3.6/site-packages/sklearn/model_selection/_split.py:1943: FutureWarning: You should specify a value for 'cv' instead of relying on the default value. The default value will change from 3 to 5 in version 0.22.\n",
      "  warnings.warn(CV_WARNING, FutureWarning)\n"
     ]
    },
    {
     "name": "stdout",
     "output_type": "stream",
     "text": [
      "bins 2 clf [ 1.  1.  1.]\n"
     ]
    },
    {
     "name": "stderr",
     "output_type": "stream",
     "text": [
      "/usr/local/lib/python3.6/site-packages/sklearn/model_selection/_split.py:1943: FutureWarning: You should specify a value for 'cv' instead of relying on the default value. The default value will change from 3 to 5 in version 0.22.\n",
      "  warnings.warn(CV_WARNING, FutureWarning)\n"
     ]
    },
    {
     "name": "stdout",
     "output_type": "stream",
     "text": [
      "bins 3 lin_reg [ 0.02106009  0.02224904  0.01168114]\n"
     ]
    },
    {
     "name": "stderr",
     "output_type": "stream",
     "text": [
      "/usr/local/lib/python3.6/site-packages/sklearn/model_selection/_split.py:1943: FutureWarning: You should specify a value for 'cv' instead of relying on the default value. The default value will change from 3 to 5 in version 0.22.\n",
      "  warnings.warn(CV_WARNING, FutureWarning)\n"
     ]
    },
    {
     "name": "stdout",
     "output_type": "stream",
     "text": [
      "bins 3 clf [ 0.03025955  0.03569591  0.02163066]\n"
     ]
    },
    {
     "name": "stderr",
     "output_type": "stream",
     "text": [
      "/usr/local/lib/python3.6/site-packages/sklearn/model_selection/_split.py:1943: FutureWarning: You should specify a value for 'cv' instead of relying on the default value. The default value will change from 3 to 5 in version 0.22.\n",
      "  warnings.warn(CV_WARNING, FutureWarning)\n"
     ]
    },
    {
     "name": "stdout",
     "output_type": "stream",
     "text": [
      "bins 4 lin_reg [ 0.1593981   0.18243601  0.171757  ]\n"
     ]
    },
    {
     "name": "stderr",
     "output_type": "stream",
     "text": [
      "/usr/local/lib/python3.6/site-packages/sklearn/model_selection/_split.py:1943: FutureWarning: You should specify a value for 'cv' instead of relying on the default value. The default value will change from 3 to 5 in version 0.22.\n",
      "  warnings.warn(CV_WARNING, FutureWarning)\n"
     ]
    },
    {
     "name": "stdout",
     "output_type": "stream",
     "text": [
      "bins 4 clf [ 0.1914463   0.20911643  0.19469943]\n"
     ]
    },
    {
     "name": "stderr",
     "output_type": "stream",
     "text": [
      "/usr/local/lib/python3.6/site-packages/sklearn/model_selection/_split.py:1943: FutureWarning: You should specify a value for 'cv' instead of relying on the default value. The default value will change from 3 to 5 in version 0.22.\n",
      "  warnings.warn(CV_WARNING, FutureWarning)\n"
     ]
    },
    {
     "name": "stdout",
     "output_type": "stream",
     "text": [
      "bins 5 lin_reg [ 0.46511655  0.40940333  0.47148954]\n"
     ]
    },
    {
     "name": "stderr",
     "output_type": "stream",
     "text": [
      "/usr/local/lib/python3.6/site-packages/sklearn/model_selection/_split.py:1943: FutureWarning: You should specify a value for 'cv' instead of relying on the default value. The default value will change from 3 to 5 in version 0.22.\n",
      "  warnings.warn(CV_WARNING, FutureWarning)\n"
     ]
    },
    {
     "name": "stdout",
     "output_type": "stream",
     "text": [
      "bins 5 clf [ 0.59023499  0.56874652  0.6125097 ]\n"
     ]
    }
   ],
   "source": [
    "# Train and score the classifier\n",
    "# log_reg = linear_model.LogisticRegression()\n",
    "# log_reg.fit(X_train_bins, y_train_bins)\n",
    "# print(log_reg.score(X_test_bins, y_test_bins))\n",
    "# preds = log_reg.predict(X_test_bins)\n",
    "# score: 0.731534195933\n",
    "\n",
    "\n",
    "\n",
    "# rf = ensemble.RandomForestClassifier()\n",
    "# rf.fit(X_train_bins, y_train_bins)\n",
    "# print(rf.score(X_test_bins, y_test_bins))\n",
    "# score: 0.789426987061\n",
    "\n",
    "# svc = svm.SVC()\n",
    "# svc.fit(X_train_bins, y_train_bins)\n",
    "# print(svc.score(X_test_bins, y_test_bins))\n",
    "# score: 0.728946395564\n",
    "\n",
    "X_train['bins'] = y_train_bins\n",
    "X_test['bins'] = y_test_bins\n",
    "key = 'bins'\n",
    "\n",
    "models = {'lin_reg':linear_model.LinearRegression(), 'clf':ensemble.GradientBoostingRegressor()}#**params)}\n",
    "\n",
    "model_results = {}\n",
    "model_results[key]={}\n",
    "for slce in list(set(X_train[key])):\n",
    "        binned_var_omit = [col for col in X_train.columns if '_bin' in col]\n",
    "\n",
    "        X_train_tmp = X_train[X_train[key]==slce]\n",
    "        y_train_tmp = X_train_tmp[target]\n",
    "        X_train_tmp = X_train_tmp.loc[:, ~(X_train_tmp.columns).isin([target]+['bins']+binned_var_omit)]\n",
    "                                      \n",
    "        X_test_tmp = X_test[X_test[key]==slce]\n",
    "        y_test_tmp = X_test_tmp[target]\n",
    "        X_test_tmp = X_test_tmp.loc[:, ~(X_test_tmp.columns).isin([target]+['bins']+binned_var_omit)]\n",
    "        if len(X_train_tmp)>0:\n",
    "            model_results[key][slce] = {}\n",
    "            for model_key in models.keys():\n",
    "                try:\n",
    "                    model = models[model_key].fit(X_train_tmp, y_train_tmp)\n",
    "                    model_results[key][slce][model_key]= {'model':model, 'score':model.score(X_test_tmp, y_test_tmp), 'cv':cross_val_score(model,X_train_tmp, y_train_tmp), \n",
    "                                      'y_pred': model.predict(X_test_tmp), 'y_test':y_test_tmp }\n",
    "                    print(key,slce,model_key, model_results[key][slce][model_key]['cv'])\n",
    "                except:\n",
    "                    continue\n",
    "    "
   ]
  },
  {
   "cell_type": "code",
   "execution_count": null,
   "metadata": {},
   "outputs": [],
   "source": []
  }
 ],
 "metadata": {
  "kernelspec": {
   "display_name": "please_work3",
   "language": "python",
   "name": "please_work3"
  },
  "language_info": {
   "codemirror_mode": {
    "name": "ipython",
    "version": 3
   },
   "file_extension": ".py",
   "mimetype": "text/x-python",
   "name": "python",
   "nbconvert_exporter": "python",
   "pygments_lexer": "ipython3",
   "version": "3.6.5"
  }
 },
 "nbformat": 4,
 "nbformat_minor": 2
}
