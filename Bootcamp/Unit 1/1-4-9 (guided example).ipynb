{
 "cells": [
  {
   "cell_type": "code",
   "execution_count": 28,
   "metadata": {},
   "outputs": [],
   "source": [
    "import pandas as pd\n",
    "import scipy.stats as stats"
   ]
  },
  {
   "cell_type": "code",
   "execution_count": 53,
   "metadata": {},
   "outputs": [],
   "source": [
    "exp_file = 'experiment_data_2_wks.csv'\n",
    "df_exp = pd.read_csv(exp_file)"
   ]
  },
  {
   "cell_type": "code",
   "execution_count": 54,
   "metadata": {},
   "outputs": [],
   "source": [
    "df_exp['treatment_date'] = pd.to_datetime(df_exp['treatment_date'])\n",
    "df_exp['signup_date'] = pd.to_datetime(df_exp['signup_date'])"
   ]
  },
  {
   "cell_type": "code",
   "execution_count": 55,
   "metadata": {},
   "outputs": [],
   "source": [
    "df_exp['delta_t'] = df_exp['signup_date']-df_exp['treatment_date']"
   ]
  },
  {
   "cell_type": "code",
   "execution_count": 56,
   "metadata": {},
   "outputs": [
    {
     "data": {
      "text/html": [
       "<div>\n",
       "<style scoped>\n",
       "    .dataframe tbody tr th:only-of-type {\n",
       "        vertical-align: middle;\n",
       "    }\n",
       "\n",
       "    .dataframe tbody tr th {\n",
       "        vertical-align: top;\n",
       "    }\n",
       "\n",
       "    .dataframe thead th {\n",
       "        text-align: right;\n",
       "    }\n",
       "</style>\n",
       "<table border=\"1\" class=\"dataframe\">\n",
       "  <thead>\n",
       "    <tr style=\"text-align: right;\">\n",
       "      <th></th>\n",
       "      <th>treatment_date</th>\n",
       "      <th>test</th>\n",
       "      <th>is_signed_up</th>\n",
       "      <th>signup_date</th>\n",
       "      <th>delta_t</th>\n",
       "    </tr>\n",
       "  </thead>\n",
       "  <tbody>\n",
       "    <tr>\n",
       "      <th>0</th>\n",
       "      <td>2016-04-01</td>\n",
       "      <td>0</td>\n",
       "      <td>0</td>\n",
       "      <td>NaT</td>\n",
       "      <td>NaT</td>\n",
       "    </tr>\n",
       "    <tr>\n",
       "      <th>1</th>\n",
       "      <td>2016-04-01</td>\n",
       "      <td>0</td>\n",
       "      <td>0</td>\n",
       "      <td>NaT</td>\n",
       "      <td>NaT</td>\n",
       "    </tr>\n",
       "    <tr>\n",
       "      <th>2</th>\n",
       "      <td>2016-04-01</td>\n",
       "      <td>0</td>\n",
       "      <td>0</td>\n",
       "      <td>NaT</td>\n",
       "      <td>NaT</td>\n",
       "    </tr>\n",
       "    <tr>\n",
       "      <th>3</th>\n",
       "      <td>2016-04-01</td>\n",
       "      <td>0</td>\n",
       "      <td>0</td>\n",
       "      <td>NaT</td>\n",
       "      <td>NaT</td>\n",
       "    </tr>\n",
       "    <tr>\n",
       "      <th>4</th>\n",
       "      <td>2016-04-01</td>\n",
       "      <td>0</td>\n",
       "      <td>0</td>\n",
       "      <td>NaT</td>\n",
       "      <td>NaT</td>\n",
       "    </tr>\n",
       "  </tbody>\n",
       "</table>\n",
       "</div>"
      ],
      "text/plain": [
       "  treatment_date  test  is_signed_up signup_date delta_t\n",
       "0     2016-04-01     0             0         NaT     NaT\n",
       "1     2016-04-01     0             0         NaT     NaT\n",
       "2     2016-04-01     0             0         NaT     NaT\n",
       "3     2016-04-01     0             0         NaT     NaT\n",
       "4     2016-04-01     0             0         NaT     NaT"
      ]
     },
     "execution_count": 56,
     "metadata": {},
     "output_type": "execute_result"
    }
   ],
   "source": [
    "df_exp.head()"
   ]
  },
  {
   "cell_type": "code",
   "execution_count": 57,
   "metadata": {},
   "outputs": [
    {
     "name": "stdout",
     "output_type": "stream",
     "text": [
      "30241 control subjects,  3372 test subjects\n",
      "28703 not signed up,  4910 sign ups\n"
     ]
    }
   ],
   "source": [
    "# How large is each group?\n",
    "test_subj = df_exp.test.value_counts()\n",
    "print(test_subj[0], 'control subjects, ', test_subj[1], 'test subjects')\n",
    "sign_ups = df_exp.is_signed_up.value_counts()\n",
    "print(sign_ups[0], 'not signed up, ', sign_ups[1], 'sign ups')\n"
   ]
  },
  {
   "cell_type": "code",
   "execution_count": 58,
   "metadata": {},
   "outputs": [
    {
     "name": "stdout",
     "output_type": "stream",
     "text": [
      "4448 sign ups from the  30241 control subjects:  0.147085083165\n",
      "462 sign ups from the  3372 test subjects:  0.137010676157\n"
     ]
    }
   ],
   "source": [
    "# What is the sign up rate of test and control?\n",
    "control = df_exp[(df_exp.test == 0) & (df_exp.is_signed_up)]\n",
    "print(len(control), 'sign ups from the ', test_subj[0], 'control subjects: ', len(control)/test_subj[0])\n",
    "\n",
    "test = df_exp[(df_exp.test == 1) & (df_exp.is_signed_up)]\n",
    "print(len(test), 'sign ups from the ', test_subj[1], 'test subjects: ', len(test)/test_subj[1])\n",
    "\n"
   ]
  },
  {
   "cell_type": "code",
   "execution_count": 59,
   "metadata": {},
   "outputs": [
    {
     "data": {
      "text/plain": [
       "(-1.6085876233862411, 0.10778154054220876)"
      ]
     },
     "execution_count": 59,
     "metadata": {},
     "output_type": "execute_result"
    }
   ],
   "source": [
    "# Is the experiment already significant?\n",
    "tval,pval=stats.ttest_ind(df_exp[df_exp.test == 1].is_signed_up, \n",
    "                          df_exp[df_exp.test == 0].is_signed_up,\n",
    "                          equal_var=False)\n",
    "\n",
    "tval,pval"
   ]
  },
  {
   "cell_type": "code",
   "execution_count": 60,
   "metadata": {},
   "outputs": [],
   "source": [
    "# The test signup rate seems lower than the old message. \n",
    "# Can you see any reason why?"
   ]
  },
  {
   "cell_type": "code",
   "execution_count": 61,
   "metadata": {},
   "outputs": [
    {
     "data": {
      "text/plain": [
       "Index(['treatment_date', 'test', 'is_signed_up', 'signup_date', 'delta_t'], dtype='object')"
      ]
     },
     "execution_count": 61,
     "metadata": {},
     "output_type": "execute_result"
    }
   ],
   "source": [
    "df_exp.columns"
   ]
  },
  {
   "cell_type": "code",
   "execution_count": 84,
   "metadata": {},
   "outputs": [
    {
     "data": {
      "text/plain": [
       "3 days     0.181818\n",
       "4 days     0.151515\n",
       "2 days     0.149351\n",
       "6 days     0.108225\n",
       "1 days     0.097403\n",
       "5 days     0.097403\n",
       "7 days     0.086580\n",
       "9 days     0.032468\n",
       "8 days     0.030303\n",
       "10 days    0.025974\n",
       "0 days     0.021645\n",
       "11 days    0.010823\n",
       "12 days    0.004329\n",
       "13 days    0.002165\n",
       "Name: delta_t, dtype: float64"
      ]
     },
     "execution_count": 84,
     "metadata": {},
     "output_type": "execute_result"
    }
   ],
   "source": [
    "test.delta_t.value_counts()/len(test)"
   ]
  },
  {
   "cell_type": "code",
   "execution_count": 85,
   "metadata": {},
   "outputs": [
    {
     "data": {
      "text/plain": [
       "2 days     0.224820\n",
       "1 days     0.198291\n",
       "3 days     0.176259\n",
       "4 days     0.142086\n",
       "5 days     0.088354\n",
       "6 days     0.059128\n",
       "7 days     0.034622\n",
       "0 days     0.031025\n",
       "8 days     0.022257\n",
       "9 days     0.012365\n",
       "10 days    0.006745\n",
       "11 days    0.002248\n",
       "12 days    0.001574\n",
       "13 days    0.000225\n",
       "Name: delta_t, dtype: float64"
      ]
     },
     "execution_count": 85,
     "metadata": {},
     "output_type": "execute_result"
    }
   ],
   "source": [
    "control.delta_t.value_counts()/len(control)"
   ]
  },
  {
   "cell_type": "code",
   "execution_count": 78,
   "metadata": {},
   "outputs": [
    {
     "data": {
      "text/plain": [
       "<matplotlib.text.Text at 0x115e46a58>"
      ]
     },
     "execution_count": 78,
     "metadata": {},
     "output_type": "execute_result"
    },
    {
     "data": {
      "image/png": "[encoded data removed]",
      "text/plain": [
       "<matplotlib.figure.Figure at 0x11607e240>"
      ]
     },
     "metadata": {},
     "output_type": "display_data"
    }
   ],
   "source": [
    "import matplotlib.pyplot as plt\n",
    "# this represents the number of people per treatment day who ended up signing up\n",
    "\n",
    "fig = df_exp[df_exp.test==1][\n",
    "    ['treatment_date', 'is_signed_up']].groupby('treatment_date').mean().plot()\n",
    "df_exp[df_exp.test==0][\n",
    "    ['treatment_date', 'is_signed_up']].groupby('treatment_date').mean().plot(ax=fig)\n",
    "plt.legend(['test','control'])\n",
    "plt.title('Comparing Signup Rates by Treatment Date')"
   ]
  },
  {
   "cell_type": "markdown",
   "metadata": {},
   "source": [
    "Looking at the above plot and the time between email and sign-up, it seems that people are signing up more slowly after receiving the test email.  Given that the time between email and sign-up appears to be longer for the test subjects, the testing window may need to be extended another week to get a better sense of the cumulative effect of each strategy. "
   ]
  },
  {
   "cell_type": "code",
   "execution_count": 88,
   "metadata": {},
   "outputs": [],
   "source": [
    "PATH = 'https://raw.githubusercontent.com/Thinkful-Ed/data-201-resources/master/1.4.11_experimentation_guided_example/experiment_data_final.csv'\n",
    "df_exp2 = pd.read_csv(PATH)"
   ]
  },
  {
   "cell_type": "code",
   "execution_count": 97,
   "metadata": {},
   "outputs": [],
   "source": [
    "df_exp2['treatment_date'] = pd.to_datetime(df_exp2['treatment_date'])\n",
    "df_exp2['signup_date'] = pd.to_datetime(df_exp2['signup_date'])\n",
    "\n",
    "df_exp2['delta_t'] = df_exp2['signup_date']-df_exp2['treatment_date']"
   ]
  },
  {
   "cell_type": "code",
   "execution_count": 98,
   "metadata": {},
   "outputs": [
    {
     "name": "stdout",
     "output_type": "stream",
     "text": [
      "46867 control subjects,  19861 test subjects\n",
      "52575 not signed up,  14153 sign ups\n",
      "9344 sign ups from the  46867 control subjects:  0.19937269294\n",
      "4809 sign ups from the  19861 test subjects:  0.242132823121\n"
     ]
    },
    {
     "data": {
      "text/plain": [
       "(12.024441836968931, 3.0722075714128591e-33)"
      ]
     },
     "execution_count": 98,
     "metadata": {},
     "output_type": "execute_result"
    }
   ],
   "source": [
    "# How large is each group?\n",
    "test_subj = df_exp2.test.value_counts()\n",
    "print(test_subj[0], 'control subjects, ', test_subj[1], 'test subjects')\n",
    "sign_ups = df_exp2.is_signed_up.value_counts()\n",
    "print(sign_ups[0], 'not signed up, ', sign_ups[1], 'sign ups')\n",
    "\n",
    "\n",
    "# What is the sign up rate of test and control?\n",
    "control = df_exp2[(df_exp2.test == 0) & (df_exp2.is_signed_up)]\n",
    "print(len(control), 'sign ups from the ', test_subj[0], 'control subjects: ', len(control)/test_subj[0])\n",
    "\n",
    "test = df_exp2[(df_exp2.test == 1) & (df_exp2.is_signed_up)]\n",
    "print(len(test), 'sign ups from the ', test_subj[1], 'test subjects: ', len(test)/test_subj[1])\n",
    "\n",
    "\n",
    "tval,pval=stats.ttest_ind(df_exp2[df_exp2.test == 1].is_signed_up, \n",
    "                          df_exp2[df_exp2.test == 0].is_signed_up,\n",
    "                          equal_var=False)\n",
    "\n",
    "tval,pval"
   ]
  },
  {
   "cell_type": "code",
   "execution_count": 99,
   "metadata": {},
   "outputs": [
    {
     "data": {
      "text/plain": [
       "(0, 0.3)"
      ]
     },
     "execution_count": 99,
     "metadata": {},
     "output_type": "execute_result"
    },
    {
     "data": {
      "image/png": "[encoded data removed]",
      "text/plain": [
       "<matplotlib.figure.Figure at 0x1167a19e8>"
      ]
     },
     "metadata": {},
     "output_type": "display_data"
    }
   ],
   "source": [
    "fig = df_exp2[df_exp2.test==1][\n",
    "    ['treatment_date', 'is_signed_up']].groupby('treatment_date').mean().plot()\n",
    "df_exp2[df_exp2.test==0][\n",
    "    ['treatment_date', 'is_signed_up']].groupby('treatment_date').mean().plot(ax=fig)\n",
    "plt.legend(['test','control'])\n",
    "plt.title('Comparing Signup Rates by Treatment Date')\n",
    "\n",
    "plt.ylim([0, .3])"
   ]
  },
  {
   "cell_type": "markdown",
   "metadata": {},
   "source": [
    "Sure enough, once the window was extended, the longer sign-up window of the test set compensated for the lower rate seen when the testing period was small. Put another way, more people seem to end up signing up when they see the test email, but on average it takes them longer to act. "
   ]
  },
  {
   "cell_type": "code",
   "execution_count": 100,
   "metadata": {},
   "outputs": [
    {
     "data": {
      "text/plain": [
       "3 days     0.127885\n",
       "4 days     0.120191\n",
       "5 days     0.116864\n",
       "2 days     0.102932\n",
       "6 days     0.098981\n",
       "7 days     0.080266\n",
       "8 days     0.060719\n",
       "1 days     0.056769\n",
       "9 days     0.054897\n",
       "10 days    0.042628\n",
       "11 days    0.034311\n",
       "12 days    0.027033\n",
       "14 days    0.016012\n",
       "13 days    0.014140\n",
       "15 days    0.013100\n",
       "0 days     0.008110\n",
       "16 days    0.007694\n",
       "18 days    0.004783\n",
       "17 days    0.003951\n",
       "19 days    0.003327\n",
       "20 days    0.001871\n",
       "24 days    0.000832\n",
       "21 days    0.000624\n",
       "22 days    0.000624\n",
       "26 days    0.000416\n",
       "38 days    0.000208\n",
       "23 days    0.000208\n",
       "25 days    0.000208\n",
       "27 days    0.000208\n",
       "30 days    0.000208\n",
       "Name: delta_t, dtype: float64"
      ]
     },
     "execution_count": 100,
     "metadata": {},
     "output_type": "execute_result"
    }
   ],
   "source": [
    "test.delta_t.value_counts()/len(test)"
   ]
  },
  {
   "cell_type": "code",
   "execution_count": 101,
   "metadata": {},
   "outputs": [
    {
     "data": {
      "text/plain": [
       "2 days     0.362861\n",
       "3 days     0.311291\n",
       "1 days     0.295904\n",
       "4 days     0.264504\n",
       "5 days     0.192348\n",
       "6 days     0.143897\n",
       "7 days     0.102724\n",
       "8 days     0.076939\n",
       "9 days     0.053857\n",
       "0 days     0.044292\n",
       "10 days    0.033479\n",
       "11 days    0.017883\n",
       "12 days    0.014556\n",
       "13 days    0.010397\n",
       "14 days    0.005407\n",
       "15 days    0.004783\n",
       "16 days    0.002495\n",
       "17 days    0.001871\n",
       "18 days    0.001040\n",
       "19 days    0.000624\n",
       "20 days    0.000624\n",
       "23 days    0.000624\n",
       "21 days    0.000416\n",
       "22 days    0.000208\n",
       "Name: delta_t, dtype: float64"
      ]
     },
     "execution_count": 101,
     "metadata": {},
     "output_type": "execute_result"
    }
   ],
   "source": [
    "control.delta_t.value_counts()/len(test)"
   ]
  },
  {
   "cell_type": "code",
   "execution_count": null,
   "metadata": {},
   "outputs": [],
   "source": []
  }
 ],
 "metadata": {
  "kernelspec": {
   "display_name": "please_work3",
   "language": "python",
   "name": "please_work3"
  },
  "language_info": {
   "codemirror_mode": {
    "name": "ipython",
    "version": 3
   },
   "file_extension": ".py",
   "mimetype": "text/x-python",
   "name": "python",
   "nbconvert_exporter": "python",
   "pygments_lexer": "ipython3",
   "version": "3.6.5"
  }
 },
 "nbformat": 4,
 "nbformat_minor": 2
}
