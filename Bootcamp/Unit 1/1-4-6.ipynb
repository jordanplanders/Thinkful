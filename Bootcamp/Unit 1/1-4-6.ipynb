{
 "cells": [
  {
   "cell_type": "code",
   "execution_count": 4,
   "metadata": {},
   "outputs": [],
   "source": [
    "y_mean = [[5, 8],[1090, 999], [45, 40]]\n",
    "std = [[1, 3],[400, 30],[45, 40]]\n",
    "N = [[200,500], [900, 100], [2000, 2000]]"
   ]
  },
  {
   "cell_type": "code",
   "execution_count": 5,
   "metadata": {},
   "outputs": [],
   "source": [
    "import  scipy.stats as stats\n",
    "import numpy as np"
   ]
  },
  {
   "cell_type": "code",
   "execution_count": 23,
   "metadata": {},
   "outputs": [
    {
     "name": "stdout",
     "output_type": "stream",
     "text": [
      "18.1991259141 1.82813712144e-60\n",
      "-6.94008790084 7.16653001975e-12\n",
      "-3.79278579178 0.0001512102174\n"
     ]
    }
   ],
   "source": [
    "\n",
    "for ik in range(len(y_mean)):\n",
    "    a = np.random.normal(y_mean[ik][0], std[ik][0], N[ik][0])\n",
    "    b = np.random.normal(y_mean[ik][1], std[ik][1], N[ik][1])\n",
    "    tval,pval=stats.ttest_ind(b, a,equal_var=False)\n",
    "\n",
    "    print(tval,pval)"
   ]
  },
  {
   "cell_type": "code",
   "execution_count": null,
   "metadata": {},
   "outputs": [],
   "source": []
  }
 ],
 "metadata": {
  "kernelspec": {
   "display_name": "please_work3",
   "language": "python",
   "name": "please_work3"
  },
  "language_info": {
   "codemirror_mode": {
    "name": "ipython",
    "version": 3
   },
   "file_extension": ".py",
   "mimetype": "text/x-python",
   "name": "python",
   "nbconvert_exporter": "python",
   "pygments_lexer": "ipython3",
   "version": "3.6.5"
  }
 },
 "nbformat": 4,
 "nbformat_minor": 2
}
