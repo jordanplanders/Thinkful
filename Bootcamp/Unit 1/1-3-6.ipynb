{
 "cells": [
  {
   "cell_type": "markdown",
   "metadata": {},
   "source": [
    "# Data Cleaning and Validation"
   ]
  },
  {
   "cell_type": "code",
   "execution_count": 35,
   "metadata": {},
   "outputs": [],
   "source": [
    "import pandas as pd"
   ]
  },
  {
   "cell_type": "code",
   "execution_count": 36,
   "metadata": {},
   "outputs": [],
   "source": [
    "df = pd.read_csv('WELLCOME/WELLCOME_APCspend2013_forThinkful.csv', encoding = \"ISO-8859-1\")"
   ]
  },
  {
   "cell_type": "code",
   "execution_count": 37,
   "metadata": {},
   "outputs": [],
   "source": [
    "df.columns = ['PMID', 'Publisher', 'Journal', 'Article', 'Cost']"
   ]
  },
  {
   "cell_type": "markdown",
   "metadata": {},
   "source": [
    "## five most common journals and the total articles for each"
   ]
  },
  {
   "cell_type": "code",
   "execution_count": 79,
   "metadata": {},
   "outputs": [],
   "source": [
    "df['Journal_clean'] = df.Journal.apply(lambda x: str(x).lower().strip('\\n').rstrip().lstrip().replace('&', 'and'))"
   ]
  },
  {
   "cell_type": "markdown",
   "metadata": {},
   "source": [
    "The following code was done both series-wise, and entry-wise.  The entry-wise version returns better results.  It's a mystery."
   ]
  },
  {
   "cell_type": "code",
   "execution_count": 80,
   "metadata": {
    "scrolled": true
   },
   "outputs": [
    {
     "data": {
      "text/plain": [
       "0                                  psychological medicine\n",
       "1                                       biomacromolecules\n",
       "2                                              j med chem\n",
       "3                                              j med chem\n",
       "4                                              j org chem\n",
       "5                          journal of medicinal chemistry\n",
       "6                            journal of proteome research\n",
       "7                                               mol pharm\n",
       "8                                    acs chemical biology\n",
       "9                                    acs chemical biology\n",
       "10           journal of chemical information and modeling\n",
       "11                         journal of medicinal chemistry\n",
       "12                         journal of medicinal chemistry\n",
       "13                                           biochemistry\n",
       "14                         journal of medicinal chemistry\n",
       "15                                       gastroenterology\n",
       "16                        journal of biological chemistry\n",
       "17                                  journal of immunology\n",
       "18                                  journal of immunology\n",
       "19                                   acs chemical biology\n",
       "20                                   acs chemical biology\n",
       "21                                   acs chemical biology\n",
       "22                              acs chemical neuroscience\n",
       "23                                               acs nano\n",
       "24                              american chemical society\n",
       "25                                   analytical chemistry\n",
       "26                                   analytical chemistry\n",
       "27                                   analytical chemistry\n",
       "28                                 bioconjugate chemistry\n",
       "29                         journal of medicinal chemistry\n",
       "                              ...                        \n",
       "2097                               molecular microbiology\n",
       "2098                                      obesity reviews\n",
       "2099                                      obesity reviews\n",
       "2100                               statistics in medicine\n",
       "2101                                           stem cells\n",
       "2102                                              synapse\n",
       "2103                 the european journal of neuroscience\n",
       "2104                                              traffic\n",
       "2105                                              traffic\n",
       "2106                           zoonoses and public health\n",
       "2107                  american journal of transplantation\n",
       "2108                                   angew chems int ed\n",
       "2109                                          chembiochem\n",
       "2110                                          chemmedchem\n",
       "2111                                          chemmedchem\n",
       "2112                                          chemmedchem\n",
       "2113                                            protemics\n",
       "2114                     journal of small animal practice\n",
       "2115                                                 aids\n",
       "2116                                         aids journal\n",
       "2117                                              aids uk\n",
       "2118                                              aids uk\n",
       "2119    jaids journal of acquired immune deficiency sy...\n",
       "2120    journal of acquired immune deficiency syndroms...\n",
       "2121                                      journal of aids\n",
       "2122                                 circulation research\n",
       "2123                                                 aids\n",
       "2124                           pediatr infect dis journal\n",
       "2125                                                 aids\n",
       "2126      journal of acquired immune deficiency syndromes\n",
       "Name: Journal_clean, Length: 2127, dtype: object"
      ]
     },
     "execution_count": 80,
     "metadata": {},
     "output_type": "execute_result"
    }
   ],
   "source": [
    "df['Journal_clean'].str.replace('the ', '')\n",
    "df['Journal_clean'].str.replace('bmj', 'biomedical journal')\n",
    "df['Journal_clean'].str.replace('  ', ' ')\n",
    "df['Journal_clean'].str.replace('.', '')\n",
    "df['Journal_clean'].str.replace(' 1', ' one')\n",
    "df['Journal_clean'].str.replace('j ', 'journal ')\n",
    "df['Journal_clean'].str.replace('jnl ', 'journal ')\n",
    "df['Journal_clean'].str.replace('am ', 'american')\n",
    "df['Journal_clean'].str.replace('eur ', 'european')\n",
    "df['Journal_clean'].str.replace('int ', 'international ')\n",
    "df['Journal_clean'].str.replace('asn ', 'asian ')\n",
    "df['Journal_clean'].str.replace('brt ', 'british ')\n",
    "df['Journal_clean'].str.replace('trop ', 'tropical ') \n",
    "df['Journal_clean'].str.replace('bba ', 'biochimica et bioohysica acta')\n",
    "df['Journal_clean'].str.replace('biochem ', 'biochemical ')\n",
    "df['Journal_clean'].str.replace('mol ', 'molecular ')\n",
    "df['Journal_clean'].str.replace('soc ', 'society ')\n",
    "df['Journal_clean'].str.replace('trans ', 'transactions ')\n",
    "# df['Journal_clean'].apply(lambda x: x.replace(' j', ' journal') if x[-2:] ==' j')\n",
    "# df['Journal_clean'].apply(lambda x: 'proceedings of national academy of sciences' if all(word in x for word in ['proc', 'nat', 'acad', 'sci']) or ('pnas' in x))\n",
    "# df['Journal_clean'].apply(lambda x: 'journal of biological chemistry' if all(word in journal for word in ['journal', 'biol',  'chem']) and (len(journal_words)<5))\n",
    "# df['Journal_clean'].apply(lambda x: 'plos one' if all(word in journal for word in ['plos', 'one']))\n",
    "# df['Journal_clean'].apply(lambda x: 'nucleic acids research' if all(word in journal for word in ['nucl', 'acid', 'res']))\n",
    "\n",
    "for ik in range(len(df['Journal_clean'])):\n",
    "    journal = df['Journal_clean'][ik]\n",
    "    journal_words = journal.split()\n",
    "    if df['Journal_clean'][ik][-2:] == ' j':\n",
    "        df['Journal_clean'][ik] = df['Journal_clean'][ik].replace(' j', ' journal')\n",
    "    if all(word in journal for word in ['proc', 'nat', 'acad', 'sci']) or ('pnas' in journal):\n",
    "        df['Journal_clean'][ik] = 'proceedings of national academy of sciences'\n",
    "    if all(word in journal for word in ['journal', 'biol',  'chem']) and (len(journal_words)<5) :\n",
    "        df['Journal_clean'][ik] = 'journal of biological chemistry'\n",
    "    if all(word in journal for word in ['plos', 'one']):\n",
    "        df['Journal_clean'][ik] = 'plos one'\n",
    "    if all(word in journal for word in ['nucl', 'acid', 'res']):\n",
    "        df['Journal_clean'][ik] = 'nucleic acids research'\n",
    "    df['Journal_clean'][ik] = df['Journal_clean'][ik].rstrip()\n",
    "\n",
    "\n",
    "df['Journal_clean'].str.strip()\n",
    "\n"
   ]
  },
  {
   "cell_type": "code",
   "execution_count": 81,
   "metadata": {},
   "outputs": [
    {
     "name": "stdout",
     "output_type": "stream",
     "text": [
      "plos one                                       200\n",
      "journal of biological chemistry                 55\n",
      "proceedings of national academy of sciences     37\n",
      "nucleic acids research                          29\n",
      "neuroimage                                      29\n",
      "Name: Journal_clean, dtype: int64\n"
     ]
    }
   ],
   "source": [
    "top_five = df['Journal_clean'].value_counts()[0:5]\n",
    "print(top_five)"
   ]
  },
  {
   "cell_type": "code",
   "execution_count": 82,
   "metadata": {},
   "outputs": [],
   "source": [
    "# for reasons I can't tease out, the entry-wise version resolves more errors\n",
    "\n",
    "for ik in range(len(df['Journal_clean'])):\n",
    "    journal = df['Journal_clean'][ik]\n",
    "    journal_words = journal.split()\n",
    "    df['Journal_clean'][ik] = df['Journal_clean'][ik].replace('the ', '')\n",
    "    df['Journal_clean'][ik] = df['Journal_clean'][ik].replace('bmj', 'biomedical journal')\n",
    "    df['Journal_clean'][ik] = df['Journal_clean'][ik].replace('  ', ' ').replace('.', '')\n",
    "    df['Journal_clean'][ik] = df['Journal_clean'][ik].replace(' 1', ' one')\n",
    "    df['Journal_clean'][ik] = df['Journal_clean'][ik].replace('j ', 'journal ').replace('jnl ', 'journal ')\n",
    "    df['Journal_clean'][ik] = df['Journal_clean'][ik].replace('am ', 'american').replace('eur ', 'european').replace('int ', 'international ').replace('asn ', 'asian ').replace('brt ', 'british ').replace('trop ', 'tropical ') \n",
    "    df['Journal_clean'][ik] = df['Journal_clean'][ik].replace('bba ', 'biochimica et bioohysica acta')\n",
    "    df['Journal_clean'][ik] = df['Journal_clean'][ik].replace('biochem ', 'biochemical ').replace('mol ', 'molecular ').replace('soc ', 'society ').replace('trans ', 'transactions ')\n",
    "    \n",
    "    if df['Journal_clean'][ik][-2:] == ' j':\n",
    "        df['Journal_clean'][ik] = df['Journal_clean'][ik].replace(' j', ' journal')\n",
    "    if all(word in journal for word in ['proc', 'nat', 'acad', 'sci']) or ('pnas' in journal):\n",
    "        df['Journal_clean'][ik] = 'proceedings of national academy of sciences'\n",
    "    if all(word in journal for word in ['journal', 'biol',  'chem']) and (len(journal_words)<5) :\n",
    "        df['Journal_clean'][ik] = 'journal of biological chemistry'\n",
    "    if all(word in journal for word in ['plos', 'one']):\n",
    "        df['Journal_clean'][ik] = 'plos one'\n",
    "    if all(word in journal for word in ['nucl', 'acid', 'res']):\n",
    "        df['Journal_clean'][ik] = 'nucleic acids research'\n",
    "    df['Journal_clean'][ik] = df['Journal_clean'][ik].rstrip()\n",
    "\n"
   ]
  },
  {
   "cell_type": "code",
   "execution_count": 83,
   "metadata": {},
   "outputs": [
    {
     "name": "stdout",
     "output_type": "stream",
     "text": [
      "plos one                                       207\n",
      "journal of biological chemistry                 62\n",
      "proceedings of national academy of sciences     37\n",
      "nucleic acids research                          29\n",
      "neuroimage                                      29\n",
      "Name: Journal_clean, dtype: int64\n"
     ]
    }
   ],
   "source": [
    "top_five = df['Journal_clean'].value_counts()[0:5]\n",
    "print(top_five)"
   ]
  },
  {
   "cell_type": "markdown",
   "metadata": {},
   "source": [
    "## calculate the mean, median, and standard deviation of the open-access cost per article for each journal "
   ]
  },
  {
   "cell_type": "code",
   "execution_count": 10,
   "metadata": {},
   "outputs": [],
   "source": [
    "def parse_cost(x):\n",
    "    try:\n",
    "        return x.split('£')[1]\n",
    "    except:\n",
    "        try: \n",
    "            return x.strip('$')\n",
    "        except:\n",
    "            print(x)"
   ]
  },
  {
   "cell_type": "code",
   "execution_count": 32,
   "metadata": {},
   "outputs": [],
   "source": [
    "def parse_cost(x):\n",
    "    if '£' in x:\n",
    "        cost = float(x.split('£')[1])\n",
    "    elif '$' in x:\n",
    "        cost = float(x.strip('$'))\n",
    "    else:\n",
    "        try:\n",
    "            cost = float(x)\n",
    "        except:\n",
    "            print(x)\n",
    "    if cost< 100000:\n",
    "        return cost\n",
    "    else:\n",
    "        return np.nan"
   ]
  },
  {
   "cell_type": "code",
   "execution_count": 33,
   "metadata": {},
   "outputs": [],
   "source": [
    "import numpy as np\n",
    "df['Cost_clean'] = df.Cost.apply(parse_cost)#.apply(lambda x: float(x) if x != '999999.00' else np.nan ).apply(replace_extrema) "
   ]
  },
  {
   "cell_type": "code",
   "execution_count": 20,
   "metadata": {},
   "outputs": [],
   "source": [
    "def replace_extrema(x):\n",
    "    if x > 100000:\n",
    "        return np.nan\n",
    "    else:\n",
    "        return x"
   ]
  },
  {
   "cell_type": "code",
   "execution_count": 34,
   "metadata": {},
   "outputs": [
    {
     "name": "stdout",
     "output_type": "stream",
     "text": [
      "plos one \n",
      "         Cost_clean\n",
      "count   198.000000\n",
      "mean    934.982121\n",
      "std     194.966229\n",
      "min     122.310000\n",
      "25%     850.595000\n",
      "50%     896.975000\n",
      "75%    1040.125000\n",
      "max    1785.360000 \n",
      "\n",
      "journal of biological chemistry \n",
      "         Cost_clean\n",
      "count    61.000000\n",
      "mean   1402.140492\n",
      "std     390.360651\n",
      "min     265.670000\n",
      "25%    1152.720000\n",
      "50%    1311.730000\n",
      "75%    1586.360000\n",
      "max    2501.070000 \n",
      "\n",
      "proceedings of national academy of sciences \n",
      "         Cost_clean\n",
      "count    36.000000\n",
      "mean    772.919167\n",
      "std     370.191932\n",
      "min     206.320000\n",
      "25%     623.707500\n",
      "50%     732.010000\n",
      "75%     792.255000\n",
      "max    2691.680000 \n",
      "\n",
      "nucleic acids research \n",
      "         Cost_clean\n",
      "count    29.000000\n",
      "mean   1162.344828\n",
      "std     442.150934\n",
      "min     710.000000\n",
      "25%     852.000000\n",
      "50%     852.000000\n",
      "75%    1704.000000\n",
      "max    2184.000000 \n",
      "\n",
      "neuroimage \n",
      "         Cost_clean\n",
      "count    29.000000\n",
      "mean   2215.168276\n",
      "std     266.653947\n",
      "min    1747.160000\n",
      "25%    2100.540000\n",
      "50%    2326.430000\n",
      "75%    2396.570000\n",
      "max    2503.340000 \n",
      "\n"
     ]
    }
   ],
   "source": [
    "for ik in range(len(top_five)):\n",
    "    sub_df = df[(df.Journal_clean == top_five.index[ik])]\n",
    "    print(top_five.index[ik],'\\n', sub_df.describe(), '\\n')"
   ]
  },
  {
   "cell_type": "code",
   "execution_count": null,
   "metadata": {},
   "outputs": [],
   "source": []
  }
 ],
 "metadata": {
  "kernelspec": {
   "display_name": "please_work3",
   "language": "python",
   "name": "please_work3"
  },
  "language_info": {
   "codemirror_mode": {
    "name": "ipython",
    "version": 3
   },
   "file_extension": ".py",
   "mimetype": "text/x-python",
   "name": "python",
   "nbconvert_exporter": "python",
   "pygments_lexer": "ipython3",
   "version": "3.6.5"
  }
 },
 "nbformat": 4,
 "nbformat_minor": 2
}
