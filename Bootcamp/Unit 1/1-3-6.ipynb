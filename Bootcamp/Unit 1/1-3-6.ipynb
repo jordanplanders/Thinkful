{
 "cells": [
  {
   "cell_type": "markdown",
   "metadata": {},
   "source": [
    "# Data Cleaning and Validation"
   ]
  },
  {
   "cell_type": "code",
   "execution_count": 1,
   "metadata": {},
   "outputs": [],
   "source": [
    "import pandas as pd"
   ]
  },
  {
   "cell_type": "code",
   "execution_count": 2,
   "metadata": {},
   "outputs": [],
   "source": [
    "df = pd.read_csv('WELLCOME/WELLCOME_APCspend2013_forThinkful.csv', encoding = \"ISO-8859-1\")"
   ]
  },
  {
   "cell_type": "code",
   "execution_count": 3,
   "metadata": {},
   "outputs": [],
   "source": [
    "df.columns = ['PMID', 'Publisher', 'Journal', 'Article', 'Cost']"
   ]
  },
  {
   "cell_type": "markdown",
   "metadata": {},
   "source": [
    "## five most common journals and the total articles for each"
   ]
  },
  {
   "cell_type": "code",
   "execution_count": 4,
   "metadata": {},
   "outputs": [],
   "source": [
    "df['Journal_clean'] = df.Journal.apply(lambda x: str(x).lower().strip('\\n').rstrip().lstrip().replace('&', 'and'))\n"
   ]
  },
  {
   "cell_type": "code",
   "execution_count": 5,
   "metadata": {},
   "outputs": [],
   "source": [
    "for ik in range(len(df['Journal_clean'])):\n",
    "    journal = df['Journal_clean'][ik]\n",
    "    journal_words = journal.split()\n",
    "    df['Journal_clean'][ik] = df['Journal_clean'][ik].replace('the ', '')\n",
    "    df['Journal_clean'][ik] = df['Journal_clean'][ik].replace('bmj', 'biomedical journal')\n",
    "    df['Journal_clean'][ik] = df['Journal_clean'][ik].replace('  ', ' ').replace('.', '')\n",
    "    df['Journal_clean'][ik] = df['Journal_clean'][ik].replace(' 1', ' one')\n",
    "    df['Journal_clean'][ik] = df['Journal_clean'][ik].replace('j ', 'journal ').replace('jnl ', 'journal ')\n",
    "    if df['Journal_clean'][ik][-2:] == ' j':\n",
    "        df['Journal_clean'][ik] = df['Journal_clean'][ik].replace(' j', ' journal')\n",
    "    df['Journal_clean'][ik] = df['Journal_clean'][ik].replace('am ', 'american').replace('eur ', 'european').replace('int ', 'international ').replace('asn ', 'asian ').replace('brt ', 'british ').replace('trop ', 'tropical ') \n",
    "    df['Journal_clean'][ik] = df['Journal_clean'][ik].replace('bba ', 'biochimica et bioohysica acta')\n",
    "    df['Journal_clean'][ik] = df['Journal_clean'][ik].replace('biochem ', 'biochemical ').replace('mol ', 'molecular ').replace('soc ', 'society ').replace('trans ', 'transactions ')\n",
    "    if all(word in journal for word in ['proc', 'nat', 'acad', 'sci']) or ('pnas' in journal):\n",
    "        df['Journal_clean'][ik] = 'proceedings of national academy of sciences'\n",
    "    if all(word in journal for word in ['journal', 'biol',  'chem']) and (len(journal_words)<5) :\n",
    "        df['Journal_clean'][ik] = 'journal of biological chemistry'\n",
    "    if all(word in journal for word in ['plos', 'one']):\n",
    "        df['Journal_clean'][ik] = 'plos one'\n",
    "    if all(word in journal for word in ['nucl', 'acid', 'res']):\n",
    "        df['Journal_clean'][ik] = 'nucleic acids research'\n",
    "    df['Journal_clean'][ik] = df['Journal_clean'][ik].rstrip()\n",
    "\n"
   ]
  },
  {
   "cell_type": "code",
   "execution_count": 6,
   "metadata": {},
   "outputs": [
    {
     "name": "stdout",
     "output_type": "stream",
     "text": [
      "plos one                                       207\n",
      "journal of biological chemistry                 62\n",
      "proceedings of national academy of sciences     37\n",
      "nucleic acids research                          29\n",
      "neuroimage                                      29\n",
      "Name: Journal_clean, dtype: int64\n"
     ]
    }
   ],
   "source": [
    "top_five = df['Journal_clean'].value_counts()[0:5]\n",
    "print(top_five)"
   ]
  },
  {
   "cell_type": "markdown",
   "metadata": {},
   "source": [
    "## calculate the mean, median, and standard deviation of the open-access cost per article for each journal "
   ]
  },
  {
   "cell_type": "code",
   "execution_count": 10,
   "metadata": {},
   "outputs": [],
   "source": [
    "def parse_cost(x):\n",
    "    try:\n",
    "        return x.split('£')[1]\n",
    "    except:\n",
    "        try: \n",
    "            return x.strip('$')\n",
    "        except:\n",
    "            print(x)"
   ]
  },
  {
   "cell_type": "code",
   "execution_count": 32,
   "metadata": {},
   "outputs": [],
   "source": [
    "def parse_cost(x):\n",
    "    if '£' in x:\n",
    "        cost = float(x.split('£')[1])\n",
    "    elif '$' in x:\n",
    "        cost = float(x.strip('$'))\n",
    "    else:\n",
    "        try:\n",
    "            cost = float(x)\n",
    "        except:\n",
    "            print(x)\n",
    "    if cost< 100000:\n",
    "        return cost\n",
    "    else:\n",
    "        return np.nan"
   ]
  },
  {
   "cell_type": "code",
   "execution_count": 33,
   "metadata": {},
   "outputs": [],
   "source": [
    "import numpy as np\n",
    "df['Cost_clean'] = df.Cost.apply(parse_cost)#.apply(lambda x: float(x) if x != '999999.00' else np.nan ).apply(replace_extrema) "
   ]
  },
  {
   "cell_type": "code",
   "execution_count": 20,
   "metadata": {},
   "outputs": [],
   "source": [
    "def replace_extrema(x):\n",
    "    if x > 100000:\n",
    "        return np.nan\n",
    "    else:\n",
    "        return x"
   ]
  },
  {
   "cell_type": "code",
   "execution_count": 34,
   "metadata": {},
   "outputs": [
    {
     "name": "stdout",
     "output_type": "stream",
     "text": [
      "plos one \n",
      "         Cost_clean\n",
      "count   198.000000\n",
      "mean    934.982121\n",
      "std     194.966229\n",
      "min     122.310000\n",
      "25%     850.595000\n",
      "50%     896.975000\n",
      "75%    1040.125000\n",
      "max    1785.360000 \n",
      "\n",
      "journal of biological chemistry \n",
      "         Cost_clean\n",
      "count    61.000000\n",
      "mean   1402.140492\n",
      "std     390.360651\n",
      "min     265.670000\n",
      "25%    1152.720000\n",
      "50%    1311.730000\n",
      "75%    1586.360000\n",
      "max    2501.070000 \n",
      "\n",
      "proceedings of national academy of sciences \n",
      "         Cost_clean\n",
      "count    36.000000\n",
      "mean    772.919167\n",
      "std     370.191932\n",
      "min     206.320000\n",
      "25%     623.707500\n",
      "50%     732.010000\n",
      "75%     792.255000\n",
      "max    2691.680000 \n",
      "\n",
      "nucleic acids research \n",
      "         Cost_clean\n",
      "count    29.000000\n",
      "mean   1162.344828\n",
      "std     442.150934\n",
      "min     710.000000\n",
      "25%     852.000000\n",
      "50%     852.000000\n",
      "75%    1704.000000\n",
      "max    2184.000000 \n",
      "\n",
      "neuroimage \n",
      "         Cost_clean\n",
      "count    29.000000\n",
      "mean   2215.168276\n",
      "std     266.653947\n",
      "min    1747.160000\n",
      "25%    2100.540000\n",
      "50%    2326.430000\n",
      "75%    2396.570000\n",
      "max    2503.340000 \n",
      "\n"
     ]
    }
   ],
   "source": [
    "for ik in range(len(top_five)):\n",
    "    sub_df = df[(df.Journal_clean == top_five.index[ik])]\n",
    "    print(top_five.index[ik],'\\n', sub_df.describe(), '\\n')"
   ]
  },
  {
   "cell_type": "code",
   "execution_count": null,
   "metadata": {},
   "outputs": [],
   "source": []
  }
 ],
 "metadata": {
  "kernelspec": {
   "display_name": "please_work3",
   "language": "python",
   "name": "please_work3"
  },
  "language_info": {
   "codemirror_mode": {
    "name": "ipython",
    "version": 3
   },
   "file_extension": ".py",
   "mimetype": "text/x-python",
   "name": "python",
   "nbconvert_exporter": "python",
   "pygments_lexer": "ipython3",
   "version": "3.6.5"
  }
 },
 "nbformat": 4,
 "nbformat_minor": 2
}
